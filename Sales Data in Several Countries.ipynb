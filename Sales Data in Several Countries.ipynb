{
 "cells": [
  {
   "cell_type": "code",
   "execution_count": 1,
   "id": "8f7fd343-c27d-419c-8eb5-57afda2fb6a9",
   "metadata": {
    "tags": []
   },
   "outputs": [],
   "source": [
    "import pandas as pd\n",
    "import numpy as np\n",
    "import matplotlib.pyplot as plt\n",
    "import seaborn as sns \n",
    "import datetime as dt\n",
    "from operator import attrgetter\n",
    "import matplotlib.colors as mcolors"
   ]
  },
  {
   "cell_type": "code",
   "execution_count": 2,
   "id": "9d8d1b63-269b-4fb6-afa4-a11184477be0",
   "metadata": {
    "tags": []
   },
   "outputs": [],
   "source": [
    "df_sales = pd.read_csv('Sales_Transaction_v4a.csv')"
   ]
  },
  {
   "cell_type": "markdown",
   "id": "f0413454-cef5-46fd-8c08-b33d91a71979",
   "metadata": {},
   "source": [
    "# Data Cleansing\n",
    "Eksekusi 2 code dibawah ini"
   ]
  },
  {
   "cell_type": "code",
   "execution_count": 3,
   "id": "3e472776-4da4-4611-b0aa-65be8ca991c3",
   "metadata": {
    "tags": []
   },
   "outputs": [],
   "source": [
    "# 1. Ubah kolom Date menjadi tipe datetime\n",
    "df_sales['Date']= pd.to_datetime(df_sales['Date'])\n",
    "\n",
    "# 2. Buang semua transaksi yang memiliki quantity negative atau yang TransactionNo diawali dengan C\n",
    "df_sales = df_sales[df_sales['TransactionNo'].str[0]!='C']"
   ]
  },
  {
   "cell_type": "markdown",
   "id": "e0eca217-684d-4f54-9c61-a9c9e985e844",
   "metadata": {},
   "source": [
    "# Top Contributing products<a href=\"#Top-Contributing-products\" class=\"anchor-link\">¶</a>\n",
    "\n",
    "Pada retail store, ada banyak jenis barang yang dijual. Memahami\n",
    "karakteristik penjualan di setiap barang sangatlah penting.  \n",
    "Barang-barang dengan minat tinggi dari customer menjadi kunci bisnis\n",
    "untuk meraih untung. Barang-barang dengan minat rendah dari masyarakat\n",
    "akan menjadi beban dari usaha apabila bisnis menyetok terlalu banyak.\n",
    "\n",
    "Salah satu metode segmentasi yang digunakan adalah menggunakan\n",
    "segmentasi berdasarkan :\n",
    "\n",
    "-   Volume transaksi : Berapa banyak transaksi yang melibatkan suatu\n",
    "    produk (Tidak mempedulikan banyaknya barang dalam 1 transaksi)\n",
    "-   Revenue total : Berapa dolar revenue yang dihasilkan dari penjualan\n",
    "    produk ini.\n",
    "\n",
    "Buatlah segmentasi produk berdasarkan volume dan revenue total dengan\n",
    "aturan sebagai berikut :\n",
    "\n",
    "1.  total_revenue didefinisikan sebagai perkalian harga barang dengan\n",
    "    banyaknya pembelian"
   ]
  },
  {
   "cell_type": "code",
   "execution_count": 110,
   "id": "48932f20-27f5-43ed-ba95-fbc50a35cd63",
   "metadata": {
    "tags": []
   },
   "outputs": [],
   "source": [
    "df_sales['total_revenue']= df_sales['Price'] * df_sales['Quantity'].sort_values(ascending = True)"
   ]
  },
  {
   "cell_type": "markdown",
   "id": "d25b75a4-0e4e-47eb-8cd4-6b3e933e78d2",
   "metadata": {},
   "source": [
    "2.  20% produk dengan volume  transaksi tertinggi masuk\n",
    "    kategori \"Popular\". 20 - 80% Masuk kategori \"Normal\" dan sisanya\n",
    "    masuk ke kategori \"Low\""
   ]
  },
  {
   "cell_type": "code",
   "execution_count": 111,
   "id": "605aff1f-c3f4-40cd-8258-470594ca48b3",
   "metadata": {
    "tags": []
   },
   "outputs": [
    {
     "data": {
      "text/plain": [
       "Populer    527765\n",
       "Name: quantity_category, dtype: int64"
      ]
     },
     "execution_count": 111,
     "metadata": {},
     "output_type": "execute_result"
    }
   ],
   "source": [
    "populer_quantity = df_sales['Quantity'].quantile(0.20)\n",
    "normal_quantity = df_sales['Quantity'].quantile(0.80)\n",
    "def categorize(revenue):\n",
    "    if revenue >= populer_quantity:\n",
    "        return 'Populer'\n",
    "    elif revenue >= normal_quantity:\n",
    "        return 'Normal'\n",
    "    else:\n",
    "        return 'Rendah'\n",
    "\n",
    "df_sales['quantity_category'] = df_sales['Quantity'].apply(categorize)\n",
    "df_sales['quantity_category'].value_counts()"
   ]
  },
  {
   "cell_type": "markdown",
   "id": "8c915d5b-47ed-45e3-8d73-25a2acc84e6e",
   "metadata": {},
   "source": [
    "3.  20% produk dengan total revenue tertinggi masuk kategori \"Popular\".\n",
    "    20 - 80% Masuk kategori \"Normal\" dan sisanya masuk ke kategori \"Low\""
   ]
  },
  {
   "cell_type": "code",
   "execution_count": 112,
   "id": "2ba0bcd6-df33-4641-b823-1edbb5d48281",
   "metadata": {
    "tags": []
   },
   "outputs": [
    {
     "data": {
      "text/plain": [
       "Populer    423443\n",
       "Low        104322\n",
       "Name: total_revenue_category, dtype: int64"
      ]
     },
     "execution_count": 112,
     "metadata": {},
     "output_type": "execute_result"
    }
   ],
   "source": [
    "populer_total_revenue = df_sales['total_revenue'].quantile(0.20)\n",
    "normal_total_revenue = df_sales['total_revenue'].quantile(0.80)\n",
    "def categorize(revenue):\n",
    "    if revenue >= populer_total_revenue:\n",
    "        return 'Populer'\n",
    "    elif revenue >= normal_total_revenue:\n",
    "        return 'Normal'\n",
    "    else:\n",
    "        return 'Low'\n",
    "\n",
    "df_sales['total_revenue_category'] = df_sales['total_revenue'].apply(categorize)\n",
    "df_sales['total_revenue_category'].value_counts()"
   ]
  },
  {
   "cell_type": "markdown",
   "id": "8330d4b7-6af8-4ed9-8b0e-11c60158caad",
   "metadata": {},
   "source": [
    "4. Berdasarkan penggabungan segmentasi no.2 dan no.3, apabila suatu produk Popular dari segi volume transaksi dan total revenue, maka segmentasi final dari produk tersebut adalah \"Super Popular\". Apabila salah satu atribut populer sementara atribut lainnya normal, maka segmentasi finalnya adalah \"Popular\". Apabila kedua atributnya \"Low\", maka segmentasi finalnya adalah \"Low\". Semua kombinasi lain selain yang disebutkan masuk ke kategori \"Normal\""
   ]
  },
  {
   "cell_type": "code",
   "execution_count": 113,
   "id": "3349910e-95db-424a-87ec-1b7ba8245a54",
   "metadata": {
    "tags": []
   },
   "outputs": [
    {
     "data": {
      "text/plain": [
       "Super Populer    423443\n",
       "Low              104322\n",
       "Name: final_segmentation, dtype: int64"
      ]
     },
     "execution_count": 113,
     "metadata": {},
     "output_type": "execute_result"
    }
   ],
   "source": [
    "def categorize(row):\n",
    "    if row['quantity_category'] == 'Populer' and row['total_revenue_category'] == 'Populer':\n",
    "        return 'Super Populer'\n",
    "    elif row['quantity_category'] == 'Populer' and row['total_revenue_category'] == 'Normal':\n",
    "        return 'Populer'\n",
    "    else:\n",
    "        return 'Low'\n",
    "df_sales['final_segmentation'] = df_sales.apply(categorize, axis=1)\n",
    "df_sales['final_segmentation'].value_counts()"
   ]
  },
  {
   "cell_type": "code",
   "execution_count": 8,
   "id": "fa3042d4-1603-41e4-96c9-66550f4a7b6a",
   "metadata": {
    "tags": []
   },
   "outputs": [
    {
     "data": {
      "text/html": [
       "<div>\n",
       "<style scoped>\n",
       "    .dataframe tbody tr th:only-of-type {\n",
       "        vertical-align: middle;\n",
       "    }\n",
       "\n",
       "    .dataframe tbody tr th {\n",
       "        vertical-align: top;\n",
       "    }\n",
       "\n",
       "    .dataframe thead th {\n",
       "        text-align: right;\n",
       "    }\n",
       "</style>\n",
       "<table border=\"1\" class=\"dataframe\">\n",
       "  <thead>\n",
       "    <tr style=\"text-align: right;\">\n",
       "      <th></th>\n",
       "      <th>TransactionNo</th>\n",
       "      <th>Date</th>\n",
       "      <th>ProductNo</th>\n",
       "      <th>ProductName</th>\n",
       "      <th>Price</th>\n",
       "      <th>Quantity</th>\n",
       "      <th>CustomerNo</th>\n",
       "      <th>Country</th>\n",
       "      <th>total_revenue</th>\n",
       "      <th>quantity_category</th>\n",
       "      <th>total_revenue_category</th>\n",
       "      <th>final_segmentation</th>\n",
       "    </tr>\n",
       "  </thead>\n",
       "  <tbody>\n",
       "    <tr>\n",
       "      <th>536324</th>\n",
       "      <td>536597</td>\n",
       "      <td>2018-12-01</td>\n",
       "      <td>22220</td>\n",
       "      <td>Cake Stand Lovebird 2 Tier White</td>\n",
       "      <td>20.45</td>\n",
       "      <td>1</td>\n",
       "      <td>18011.0</td>\n",
       "      <td>United Kingdom</td>\n",
       "      <td>20.45</td>\n",
       "      <td>Populer</td>\n",
       "      <td>Populer</td>\n",
       "      <td>Super Populer</td>\n",
       "    </tr>\n",
       "  </tbody>\n",
       "</table>\n",
       "</div>"
      ],
      "text/plain": [
       "       TransactionNo       Date ProductNo                       ProductName  \\\n",
       "536324        536597 2018-12-01     22220  Cake Stand Lovebird 2 Tier White   \n",
       "\n",
       "        Price  Quantity  CustomerNo         Country  total_revenue  \\\n",
       "536324  20.45         1     18011.0  United Kingdom          20.45   \n",
       "\n",
       "       quantity_category total_revenue_category final_segmentation  \n",
       "536324           Populer                Populer      Super Populer  "
      ]
     },
     "execution_count": 8,
     "metadata": {},
     "output_type": "execute_result"
    }
   ],
   "source": [
    "df_sales.tail(1)"
   ]
  },
  {
   "cell_type": "markdown",
   "id": "ed0ef5c5-efc5-47d6-8a57-62a208a17ca0",
   "metadata": {},
   "source": [
    "## Pertanyaan<a href=\"#Pertanyaan\" class=\"anchor-link\">¶</a>\n",
    "\n",
    "1.  Barang tipe apa yang masuk ke kategori super populer pada bulan\n",
    "    November 2019?"
   ]
  },
  {
   "cell_type": "code",
   "execution_count": 9,
   "id": "6ad9c95b-676b-480b-816b-1abf60a99a87",
   "metadata": {
    "tags": []
   },
   "outputs": [
    {
     "data": {
      "text/plain": [
       "ProductName\n",
       "Rabbit Night Light                   444\n",
       "Paper Chain Kit 50'S Christmas       334\n",
       "Hot Water Bottle Keep Calm           271\n",
       "Popcorn Holder                       238\n",
       "Paper Chain Kit Vintage Christmas    233\n",
       "                                    ... \n",
       "Rose Scent Candle In Jewelled Box      1\n",
       "Green Murano Twist Necklace            1\n",
       "Carousel Design Washbag                1\n",
       "Ubo-Light Triobase Purple              1\n",
       "Painted Yellow Wooden Daisy            1\n",
       "Name: CustomerNo, Length: 2671, dtype: int64"
      ]
     },
     "execution_count": 9,
     "metadata": {},
     "output_type": "execute_result"
    }
   ],
   "source": [
    "#Category super populer November 2019\n",
    "df_filter_date = df_sales[(df_sales['Date'] > '2019-11-01') & (df_sales['Date'] <= '2019-11-30')]\n",
    "df_filter_segmentation = df_filter_date[df_filter_date['final_segmentation']=='Super Populer']\n",
    "df_tipe_product_november_2019_super_populer = df_filter_segmentation.groupby('ProductName')['CustomerNo'].count().sort_values(ascending=False)\n",
    "df_tipe_product_november_2019_super_populer"
   ]
  },
  {
   "cell_type": "markdown",
   "id": "4a692f59-f5f6-48cd-88b6-a281c563afc4",
   "metadata": {},
   "source": [
    "2.  Apakah barang yang populer di November 2019 sama dengan barang yang\n",
    "    populer di July 2019?\n",
    "    \n",
    "    Tidak ada barang dengan kategori populer, karena jumlah final segmentation hanya terdiri dari Super Populer    423443 dan Low              104322"
   ]
  },
  {
   "cell_type": "markdown",
   "id": "fb93b0da-8b50-4c2d-a910-1a3f466dda5f",
   "metadata": {},
   "source": [
    "3.  Apakah barang yang masuk kategori super populer di november 2019 sama\n",
    "    dengan barang super populer di July 2019 ?\n",
    "    \n",
    "    Berbeda, karena jumlah super populer di : \n",
    "    \n",
    "    -November 2019 = 2671\n",
    "    \n",
    "    -Juli 2019 = 2449"
   ]
  },
  {
   "cell_type": "code",
   "execution_count": 10,
   "id": "cd9df2c5-77e5-412f-aee2-93773a8fd0ca",
   "metadata": {
    "tags": []
   },
   "outputs": [
    {
     "data": {
      "text/plain": [
       "ProductName\n",
       "Party Bunting                         183\n",
       "Spotty Bunting                        173\n",
       "Cream Hanging Heart T-Light Holder    157\n",
       "Jumbo Bag Red Retrospot               148\n",
       "Set Of 3 Regency Cake Tins            143\n",
       "                                     ... \n",
       "Blue Rose Fabric Mirror                 1\n",
       "Hardman Mug 3 Assorted                  1\n",
       "Magic Drawing Slate Go To The Fair      1\n",
       "Stripes Design Teddy                    1\n",
       "Zinc Wire Sweetheart Letter Tray        1\n",
       "Name: CustomerNo, Length: 2449, dtype: int64"
      ]
     },
     "execution_count": 10,
     "metadata": {},
     "output_type": "execute_result"
    }
   ],
   "source": [
    "#Category super populer July 2019\n",
    "df_filter_date = df_sales[(df_sales['Date'] > '2019-07-01') & (df_sales['Date'] <= '2019-07-31')]\n",
    "df_filter_segmentation = df_filter_date[df_filter_date['final_segmentation']=='Super Populer']\n",
    "df_tipe_product_july_2019_super_populer = df_filter_segmentation.groupby('ProductName')['CustomerNo'].count().sort_values(ascending=False)\n",
    "df_tipe_product_july_2019_super_populer"
   ]
  },
  {
   "cell_type": "markdown",
   "id": "37038523-c083-4dfd-a6d6-bba6d12cb15d",
   "metadata": {},
   "source": [
    "# Retention Cohort Analysis<a href=\"#Retention-Cohort-Analysis\" class=\"anchor-link\">¶</a>\n",
    "\n",
    "Analisis kohort adalah metode analisis yang digunakan untuk mempelajari\n",
    "perilaku konsumen atau pengguna dari kelompok yang sama dalam periode\n",
    "waktu tertentu.  \n",
    "Contoh Kohort : Kohort kustomer yang bergabung pada bulan mei\n",
    "\n",
    "Analisis retensi adalah analisis untuk melihat seberapa besar persentase\n",
    "pengguna atau pelanggan yang kembali menggunakan produk atau layanan\n",
    "dalam periode waktu tertentu.\n",
    "\n",
    "Dengan menganalisis kohort dan retensi, perusahaan atau organisasi dapat\n",
    "mengidentifikasi tren dan pola dalam perilaku pengguna atau pelanggan.\n",
    "\n",
    "Berikut cuplikan matriks retensi yang akan kalian hasilkan pada bagian\n",
    "ini :\n",
    "\n",
    "\n",
    "\n",
    "![image.png](data:image/png;base64,iVBORw0KGgoAAAANSUhEUgAAA1QAAAEWCAYAAABhbtYTAAAMP2lDQ1BJQ0MgUHJvZmlsZQAASImVVwdYU8kWnltSIbQAAlJCb4JIDSAlhBZ6RxCVkAQIJcZAULGjiwquXSxgQ1dFFKyAWFDEzqLY+2JBRVkXC3blTQrouq98b75v7vz3nzP/OXPuzL13AFA/zhWL81ANAPJFhZK4kADGmJRUBukpwAAZUIEjoHF5BWJWTEwEgGWw/Xt5dx0gsvaKg0zrn/3/tWjyBQU8AJAYiDP4Bbx8iA8AgFfxxJJCAIgy3nxyoViGYQXaEhggxAtkOEuBq2Q4Q4H3yG0S4tgQtwFAVuVyJVkAqF2CPKOIlwU11PogdhLxhSIA1BkQ++bnT+RDnA6xDbQRQyzTZ2b8oJP1N82MIU0uN2sIK+YiL+RAYYE4jzv1/0zH/y75edJBH1awqmZLQuNkc4Z5u5k7MVyGVSHuFWVERUOsBfEHIV9uDzFKzZaGJirsUUNeARvmDOhC7MTnBoZDbAhxsCgvKkLJZ2QKgzkQwxWCThEWchIg1oN4gaAgKF5ps0kyMU7pC23IlLBZSv4sVyL3K/N1X5qbyFLqv84WcJT6mFpxdkIyxFSILYqESVEQq0HsWJAbH660GV2czY4atJFI42TxW0AcJxCFBCj0saJMSXCc0r4sv2BwvtimbCEnSon3FWYnhCryg7XxuPL44VywSwIRK3FQR1AwJmJwLnxBYJBi7tgzgSgxXqnzQVwYEKcYi1PFeTFKe9xMkBci480gdi0oileOxZMK4YJU6OOZ4sKYBEWceHEONyxGEQ++FEQANggEDCCFNQNMBDlA2NHb2AvvFD3BgAskIAsIgIOSGRyRLO8RwWs8KAZ/QiQABUPjAuS9AlAE+a9DrOLqADLlvUXyEbngCcT5IBzkwXupfJRoyFsSeAwZ4T+8c2HlwXjzYJX1/3t+kP3OsCAToWSkgx4Z6oOWxCBiIDGUGEy0xQ1wX9wbj4BXf1idcSbuOTiP7/aEJ4ROwkPCNUIX4dYEYYnkpygjQRfUD1bmIuPHXOBWUNMND8B9oDpUxnVxA+CAu0I/LNwPenaDLFsZtywrjJ+0/zaDH56G0o7iREEpwyj+FJufR6rZqbkNqchy/WN+FLFmDOWbPdTzs3/2D9nnwzb8Z0tsAbYfO4OdwM5hR7BGwMBasCasHTsqw0Or67F8dQ16i5PHkwt1hP/wN/hkZZkscKp16nH6ougrFEyRvaMBe6J4qkSYlV3IYMEvgoDBEfEcRzCcnZxdAJB9XxSvrzex8u8Gotv+nZv7BwA+LQMDA4e/c2EtAOz1gNv/0HfOhgk/HSoAnD3Ek0qKFBwuuxDgW0Id7jR9YAzMgQ2cjzNwB97AHwSBMBANEkAKGA+jz4brXAImg+lgDigF5WApWAXWgY1gC9gBdoN9oBEcASfAaXABXALXwB24errBC9AH3oHPCIKQEBpCR/QRE8QSsUecESbiiwQhEUgckoKkI1mICJEi05G5SDmyHFmHbEZqkL3IIeQEcg7pRG4hD5Ae5DXyCcVQVVQbNUKt0JEoE2Wh4WgCOg7NQiehxeg8dDG6Bq1Gd6EN6An0AnoN7UJfoP0YwFQwXcwUc8CYGBuLxlKxTEyCzcTKsAqsGqvDmuFzvoJ1Yb3YR5yI03EG7gBXcCieiPPwSfhMfBG+Dt+BN+Bt+BX8Ad6HfyPQCIYEe4IXgUMYQ8giTCaUEioI2wgHCafgXuomvCMSibpEa6IH3IspxBziNOIi4npiPfE4sZP4iNhPIpH0SfYkH1I0iUsqJJWS1pJ2kVpIl0ndpA9kFbIJ2ZkcTE4li8gl5AryTvIx8mXyU/JnigbFkuJFiabwKVMpSyhbKc2Ui5RuymeqJtWa6kNNoOZQ51DXUOuop6h3qW9UVFTMVDxVYlWEKrNV1qjsUTmr8kDlo6qWqp0qWzVNVaq6WHW76nHVW6pvaDSaFc2flkorpC2m1dBO0u7TPqjR1RzVOGp8tVlqlWoNapfVXqpT1C3VWerj1YvVK9T3q19U79WgaFhpsDW4GjM1KjUOadzQ6Neka47SjNbM11ykuVPznOYzLZKWlVaQFl9rntYWrZNaj+gY3ZzOpvPoc+lb6afo3dpEbWttjnaOdrn2bu0O7T4dLR1XnSSdKTqVOkd1unQxXStdjm6e7hLdfbrXdT8NMxrGGiYYtnBY3bDLw97rDdfz1xPolenV613T+6TP0A/Sz9Vfpt+of88AN7AziDWYbLDB4JRB73Dt4d7DecPLhu8bftsQNbQzjDOcZrjFsN2w38jYKMRIbLTW6KRRr7Gusb9xjvFK42PGPSZ0E18ToclKkxaT5wwdBouRx1jDaGP0mRqahppKTTebdph+NrM2SzQrMas3u2dONWeaZ5qvNG8177MwsYi0mG5Ra3HbkmLJtMy2XG15xvK9lbVVstV8q0arZ9Z61hzrYuta67s2NBs/m0k21TZXbYm2TNtc2/W2l+xQOze7bLtKu4v2qL27vdB+vX3nCMIIzxGiEdUjbjioOrAcihxqHR446jpGOJY4Njq+HGkxMnXkspFnRn5zcnPKc9rqdGeU1qiwUSWjmke9drZz5jlXOl91obkEu8xyaXJ55WrvKnDd4HrTje4W6TbfrdXtq7uHu8S9zr3Hw8Ij3aPK4wZTmxnDXMQ860nwDPCc5XnE86OXu1eh1z6vv7wdvHO9d3o/G209WjB66+hHPmY+XJ/NPl2+DN90302+XX6mfly/ar+H/ub+fP9t/k9Ztqwc1i7WywCnAEnAwYD3bC/2DPbxQCwwJLAssCNIKygxaF3Q/WCz4Kzg2uC+ELeQaSHHQwmh4aHLQm9wjDg8Tg2nL8wjbEZYW7hqeHz4uvCHEXYRkojmSDQyLHJF5N0oyyhRVGM0iOZEr4i+F2MdMynmcCwxNia2MvZJ3Ki46XFn4unxE+J3xr9LCEhYknAn0SZRmtiapJ6UllST9D45MHl5cteYkWNmjLmQYpAiTGlKJaUmpW5L7R8bNHbV2O40t7TStOvjrMdNGXduvMH4vPFHJ6hP4E7Yn05IT07fmf6FG82t5vZncDKqMvp4bN5q3gu+P38lv0fgI1gueJrpk7k881mWT9aKrJ5sv+yK7F4hW7hO+ConNGdjzvvc6NztuQN5yXn1+eT89PxDIi1RrqhtovHEKRM7xfbiUnHXJK9Jqyb1ScIl2wqQgnEFTYXa8Ee+XWoj/UX6oMi3qLLow+SkyfunaE4RTWmfajd14dSnxcHFv03Dp/GmtU43nT5n+oMZrBmbZyIzM2a2zjKfNW9W9+yQ2TvmUOfkzvm9xKlkecnbuclzm+cZzZs979EvIb/UlqqVSkpvzPeev3EBvkC4oGOhy8K1C7+V8cvOlzuVV5R/WcRbdP7XUb+u+XVgcebijiXuSzYsJS4VLb2+zG/ZjuWay4uXP1oRuaJhJWNl2cq3qyasOlfhWrFxNXW1dHXXmog1TWst1i5d+2Vd9rprlQGV9VWGVQur3q/nr7+8wX9D3UajjeUbP20Sbrq5OWRzQ7VVdcUW4paiLU+2Jm098xvzt5ptBtvKt33dLtretSNuR1uNR03NTsOdS2rRWmltz660XZd2B+5uqnOo21yvW1++B+yR7nm+N33v9X3h+1r3M/fXHbA8UHWQfrCsAWmY2tDXmN3Y1ZTS1Hko7FBrs3fzwcOOh7cfMT1SeVTn6JJj1GPzjg20FLf0Hxcf7z2RdeJR64TWOyfHnLzaFtvWcSr81NnTwadPnmGdaTnrc/bIOa9zh84zzzdecL/Q0O7WfvB3t98Pdrh3NFz0uNh0yfNSc+fozmOX/S6fuBJ45fRVztUL16KudV5PvH7zRtqNrpv8m89u5d16dbvo9uc7s+8S7pbd07hXcd/wfvUftn/Ud7l3HX0Q+KD9YfzDO494j148Lnj8pXveE9qTiqcmT2ueOT870hPcc+n52OfdL8QvPveW/qn5Z9VLm5cH/vL/q71vTF/3K8mrgdeL3ui/2f7W9W1rf0z//Xf57z6/L/ug/2HHR+bHM5+SPz39PPkL6cuar7Zfm7+Ff7s7kD8wIOZKuPJfAQxWNDMTgNfbAaClAECH5zPqWMX5T14QxZlVjsB/woozory4A1AH/99je+HfzQ0A9myFxy+or54GQAwNgARPgLq4DNXBs5r8XCkrRHgO2BT1NSM/A/ybojhz/hD3zy2QqbqCn9t/AVUzfFhykpDfAAAAimVYSWZNTQAqAAAACAAEARoABQAAAAEAAAA+ARsABQAAAAEAAABGASgAAwAAAAEAAgAAh2kABAAAAAEAAABOAAAAAAAAAJAAAAABAAAAkAAAAAEAA5KGAAcAAAASAAAAeKACAAQAAAABAAADVKADAAQAAAABAAABFgAAAABBU0NJSQAAAFNjcmVlbnNob3T36zLZAAAACXBIWXMAABYlAAAWJQFJUiTwAAAB1mlUWHRYTUw6Y29tLmFkb2JlLnhtcAAAAAAAPHg6eG1wbWV0YSB4bWxuczp4PSJhZG9iZTpuczptZXRhLyIgeDp4bXB0az0iWE1QIENvcmUgNi4wLjAiPgogICA8cmRmOlJERiB4bWxuczpyZGY9Imh0dHA6Ly93d3cudzMub3JnLzE5OTkvMDIvMjItcmRmLXN5bnRheC1ucyMiPgogICAgICA8cmRmOkRlc2NyaXB0aW9uIHJkZjphYm91dD0iIgogICAgICAgICAgICB4bWxuczpleGlmPSJodHRwOi8vbnMuYWRvYmUuY29tL2V4aWYvMS4wLyI+CiAgICAgICAgIDxleGlmOlBpeGVsWURpbWVuc2lvbj4yNzg8L2V4aWY6UGl4ZWxZRGltZW5zaW9uPgogICAgICAgICA8ZXhpZjpQaXhlbFhEaW1lbnNpb24+ODUyPC9leGlmOlBpeGVsWERpbWVuc2lvbj4KICAgICAgICAgPGV4aWY6VXNlckNvbW1lbnQ+U2NyZWVuc2hvdDwvZXhpZjpVc2VyQ29tbWVudD4KICAgICAgPC9yZGY6RGVzY3JpcHRpb24+CiAgIDwvcmRmOlJERj4KPC94OnhtcG1ldGE+Ck4bZasAAAAcaURPVAAAAAIAAAAAAAAAiwAAACgAAACLAAAAiwAAMlsH9Kv7AAAyJ0lEQVR4AeydB7gVxRmGBzUgFrCLDVtUrMQWMWosiAUjFqwR7FjQKNgbdtQYNEiIBXvvJaBYUaIo1mDDGkWxYAm22NvNfPM4m9k5e+45Z++5l72X93+ee3d22s6+M7tn/pl/Zts1WDEIBCAAAQhAAAIQgAAEIAABCNRMoB0KVc3MSAABCEAAAhCAAAQgAAEIQMARQKGiIUAAAhCAAAQgAAEIQAACEMhJAIUqJziSQQACEIAABCAAAQhAAAIQQKGiDUAAAhCAAAQgAAEIQAACEMhJAIUqJziSQQACEIAABCAAAQhAAAIQQKGiDUAAAhCAAAQgAAEIQAACEMhJAIUqJziSQQACEIAABCAAAQhAAAIQQKGiDUAAAhCAAAQgAAEIQAACEMhJAIUqJziSQQACEIAABCAAAQhAAAIQQKGiDUAAAhCAAAQgAAEIQAACEMhJAIUqJziSQQACEIAABCAAAQhAAAIQQKGiDUAAAhCAAAQgAAEIQAACEMhJAIUqJziSQQACEIAABCAAAQhAAAIQQKGiDUAAAhCAAAQgAAEIQAACEMhJAIUqJziSQQACEIAABCAAAQhAAAIQQKGiDUAAAhCAAAQgAAEIQAACEMhJAIUqJziSQQACEIAABCAAAQhAAAIQQKGiDUAAAhCAAAQgAAEIQAACEMhJAIUqJziSQQACEIAABGoh8NNPP5kJEyaYt99+2/Tu3dsssMACtSQnLgQgAAEIFJQAClVBK4ZiQQACEIBA2yIwdOhQc+mllyY39eyzz5pOnTol563d8cMPPxj9zTHHHK39Vig/BCDQygk0NDSYr776ysw111wtcicoVC2CmYtAAAIQgMDMTEA/7ssuu2wKwbBhw8z222+f8mttJ9OmTTMXX3yxefDBB83UqVNd8eecc07To0cPc8ABB5g111yztd0S5S0IgTfffNNcffXVRjO7Xvr372+WW245f8oRAikCajP33nuv0WDVY4895hSqLl26uPdQ9+7dza677mr0fmoOQaFqDqrkCQEIQAACEIgIDBgwwIwbNy7x1Q9/a+4cPvDAA2a//fZL7ifLsfvuu5sTTzzRzDLLLFnB+EGghIAGH6677jozZMiQkrDLLrvMbLTRRiX+eEBAClS/fv0aBdGtWzczatQos/jiizcaL08gClUeaqSBAAQgAAEI1EhAMzjnn3++m8nZaaedzLbbbltjDsWJ/uijjxrNFlQjUrqOOeaYaqISZyYn8OGHH5pjjz3WjB8/PpMEClUmlpnec8yYMebQQw+tioNmqO666y7TtWvXquJXGwmFqlpSxIMABCAAAQhAwK2T6tWrV2LiJyTqpMicRuY1V111VSpM4WPHjjUaHUYgUI7AxIkT3Yyn1r2UExSqcmRmXv+vv/7arLPOOs68z1NYbbXVjGbH55tvPqPBn3DtquIo7OSTT/bR63JEoaoLRjKBAAQgAAEINE7glVdeMZ999lkSST/6rXEDh9tuu80cccQRyX3IMXr0aLPKKqs4P21MseGGG5oPPvggibPFFlu42bnEAwcEIgLDhw83I0aMSHz1fLz33ntm+vTpiR8KVYICxy8EYtNjDdzccsstqXfreeedZ/TnRabWMrmup6BQ1ZMmeUEAAhCAAATKENh5553NU089lYTecccdRp3G1iYDBw4099xzT1LsLGXp9ttvN4cffngSR46XX37ZdOjQIeXHCQQ8gVChGjx4sFE769u3r3n++ed9FINClaDA8QsBtYnTTz894XH00Ueb/fffPzmX44UXXjDbbLNN4qcZdfnVU1Co6kmTvCAAAQhAAAJlCLQFhUo7rsUbaWgntvXWWy9111nxtNGAdv9DIJBFQAqV1sLouOqqq7ooWmeIQpVFCz9PQDOYfhZTG5osuuiiZu655/bB7qhdSPfdd9/Eb9111zXXXnttcl4PBwpVPSiSBwQgAAEIQKACgbagUGnTAHVGQlFnZamllgq9nLtnz55mypQpif/ZZ59tdthhh+QcBwRCAq+//rrbfa1jx46JNwpVggJHTgLfffed2W677YxMrr0MGjTIHHLIIf60LkcUqrpgJBMIQAACEIBA4wTagkL12muvGZn4hfLiiy+m1iv4sD333NM8/PDD/tTt9Fdpm/UkMg4IWAIoVDSDphD4+eefzXHHHWduuummJJv555/fPPTQQ3X/4C8KVYIYBwQgAAEIQKD5CLQFherpp5822vI9FH1MM0u0luHmm29OgvSh36OOOio5xwGBSgRQqCoRIrwcAZn/nXLKKW7X0TDOJZdcYjbZZJPQqy5uFKq6YCQTCEAAAhCAQOME2oJCpdmoPn36pG5Uplqzzjpryk8nBx54YGonrcMOO8wcfPDBJfHwgEA5AihU5cjg3xgBKVNDhw51m5iE8U499dSKH/8N49fiRqGqhRZxIQABCEAAAjkJtAWF6p133nFboocIHnvsMff9qdBPbileUsC8nHbaaWa33XbzpxwhUJEAClVFRESICEiZ0rvmiiuuSIWccMIJZu+990751fMEhaqeNMkLAhCAAAQgUIZAW1Co9BFN/70pf5vaIr179+7+NDlqp7bwI60XXHCB2XzzzZNwHBCoRACFqhIhwkMCWjOlWSh9XDwUraMKd/kLw+rlRqGqF0nygQAEIAABCDRCoC0oVLq9uJOr700ddNBBqTufPHmy2XrrrVN+TzzxhFlwwQVTfpxAoDECcVvjO1SN0Zq5w6RMnXTSSSXboZ9xxhlml112aXY4KFTNjpgLQAACEIAABIxpKwrViBEj3LeCfJ3qI5kTJkwwnTt39l7uw5r3339/ct6tWzczduzY5BwHBKohgEJVDSXi6Lt3Q4YMMTfccEMKxsiRI03v3r1Tfs11gkLVXGTJFwIQgAAEIBAQaCsK1bRp00o+5NurVy8zePBgs9BCCxl9wPfcc88N7tyYYcOGme233z7lxwkEKhFAoapEiHApUzLpC3cUFRV9gHzgwIFlAW288camU6dOZcNrDUChqpUY8SEAAQhAAAI5CLQVhUq3Pnz4cKOZqmpEs1NjxozJ3AmwmvTEmXkJoFDNvHVf7Z1rU5x+/fpVGz2Jp3fSyiuvnJw31YFC1VSCpIcABCAAAQhUQaAtKVQaFdY26OqUNCZdu3Y1119/vVlkkUUai0YYBDIJoFBlYsEzIPDoo4+a/v37Bz7VOVGoquNELAhAAAIQgEChCLQlhUpgpVRpkwDNVIW7+XnoWgg+aNAgZwbo/ThCoBYCffv2NZMmTUqSXH755SXb9ieBOGZKAhMnTsz1OQat6dTseb2EGap6kSQfCEAAAhCAQBkCUj569Ohhpk+fnsQYPXp0yRbkSWArcmgr9ZdfftlMnTrVKVkLL7ywWX755Y2OCAQgAIGZgQAK1cxQy9wjBCAAAQjMEAL6yOSdd95pxo8fb/S9plCeeeYZM++884ZeuCEAAQhAoBUSQKFqhZVGkSEAAQhAoHUQ0MyUdpuKZe211zY33nhj7M05BCAAAQi0QgIoVK2w0igyBCAAAQi0DgJZClWXLl3c91K0YQMCAQhAAAKtnwAKVeuvQ+4AAhCAAAQKSkAK1YABA8zss89upEittNJKpk+fPqZ9+/YFLTHFggAEIACBWgmgUNVKjPgQgAAEIAABCEAAAhCAAAR+IYBCRVOAAAQgAAEIQAACEIAABCCQkwAKVU5wJIMABCAAAQhAAAIQgAAEIIBCRRuAAAQgAAEIQAACEIAABCCQkwAKVU5wJIMABCAAAQhAAAIQgAAEIIBCRRuAAAQgAAEIQAACEIAABCCQkwAKVU5wJIMABCAAAQhAAAIQgAAEIIBCRRuAAAQgAAEIQAACEIAABCCQkwAKVU5wJIMABCAAAQhAAAIQgAAEIIBCRRuAAAQgAAEIQAACEIAABCCQkwAKVU5wJIMABCAAAQhAAAIQgAAEIIBCRRuAAAQgAAEIQAACEIAABCCQkwAKVU5wJIMABCAAAQhAAAIQgAAEIIBCRRuAAAQgAAEIQAACEIAABCCQkwAKVU5wJIMABCAAAQhAAAIQgAAEIIBCRRuAAAQgAAEIQAACEIAABCCQkwAKVU5wJIMABCAAAQhAAAIQgAAEIIBCRRuAAAQgAAEIQAACEIAABCCQkwAKVU5wJIMABCAAAQhAAAIQgAAEIIBCRRuAAAQgAAEIQAACEIAABCCQkwAKVU5wJIMABCAAAQhAAAIQgAAEIIBCRRuAAAQgAAEIQAACEIAABCCQkwAKVU5wJIMABCAAAQhAAAIQgAAEIIBCRRuAAAQgAAEIQAACEIAABCCQkwAKVU5wJIMABCAAAQhAAAIQgAAEIIBCRRuAAAQgAAEIQAACEIAABCCQkwAKVU5wJIMABCAAAQhAAAIQgAAEIIBCRRuAAAQgAAEIQAACEIAABCCQkwAKVU5wJIMABCAAAQhAAAIQgAAEIIBCRRuAAAQgAAEIQAACEIAABCCQkwAKVU5wJIMABCAAAQhAAAIQgAAEIJBbofrkk0/MX//614TgIossYgYOHJicN6fjlltuMc8991xyid12281069YtOW+LjiLc89lnn23++9//JniPO+4407Fjx+QcBwQgAAEIQAACEIAABGY2ArkVqjfffNNsuummCS8pNGPHjk3Om9Nx+OGHm9tvvz25xKhRo1JlSQLakKMI97z22mub6dOnJ1SfeeYZM++88ybnOCAAAQhAAAIQgAAEIDCzEUChaoEa/+mnn8xpp51mfv75Z3e1WWaZxZx44olGx2oFhapaUsRrTgJXXnmleeONN5JL7LPPPmbJJZdMznFAwBMYP368efDBB/2p6dmzp9lwww2TcxwQgAAEIACBtkIAhaoFavLHH380yy+/fOpKr7/+upl11llTfo2doFA1RoewliLwxz/+0Tz++OPJ5W644Qbz29/+NjnHAQFP4G9/+1vKLPywww4zBx98sA/mCAEIQAACEGgzBFCoWqAqUahaADKXaBECKFQtgrlNXASFqk1UIzcBAQhAAAJVEGhWheq1114z2rzCy+yzz25+85vf+FN3/Oabb8yECRPMO++8Y/7zn/+4NTmLLbaYWW+99Uznzp1Tcf1Judmajz76yDz55JPm3//+t1lhhRXM6quvbrp06eKTZR5ljvf0008bzRgpfYcOHczCCy9s1llnHbPEEktkpnn33XeN/rwsvfTSLo3SP/HEEy4frTdSGSZNmmR++OEHs8cee/jo7nj11Ve7GSpdT+WsJI3dszbomDp1qmOna6688sol2X333XeuLD5grrnmMqussoo/dcfvv//e/Otf/0r85pxzTrPqqqsm59WuodI6K5mF6e+9995zHJdbbjnz61//2nTq1CnJzzu++OIL89JLL/lTM//88xvF//bbb93mI0899ZRR21l22WVNjx49CrMRhtqsr2/VsWYhV1ppJXe/lcw5P/74Y/PYY4+ZadOmuY0+1OZkOqd2P9tssyUsvKMe9Td58uTUpiLdu3d3LNWWNeuk+1EZVlttNVdX/to6qh2rDCeddJJ7VnyYNibx7WiNNdYw7du390G5jw0NDe451lGiPJW3nlW9U1TWL7/80pVxrbXWMgsuuGCj11Lchx9+2D2zn3/+uXtWfVuKZ4n1HL3//vtJfksttVTqHaL3VbghzjzzzFOyIY7CFc+Lnpv4Oj6s1uPzzz9vVI/+XbXiiisa/S200EIlWamNheaZiy66qOnatWsqnt65el960eZCWSacX3/9tcvr1Vdfde8aXU/tXc9pvI5S19S1b7755tRa1+22287suOOO7lJ6FyywwAL+ssmx1ueisbby4osvJrOpWuO7/vrrJ/WgdGpHL7/8smtLavN6D5f7zfEF1Pts4sSJ7rlVe9Rzq7RZ71ylqfa3QnkgEIAABCDQegk0m0KljvkOO+yQInPkkUeaAw88MPGTudDQoUPNV199lfiFjkGDBplDDjkk9HLuLOVCGyRcdNFFJXF33313c/LJJ5f4y0OdxIMOOsh88MEHmeGbb765Offcc0s68NrdUKOvXpT/W2+9Za644grvZfbee2+z6667ml69eiV+WQ4pD1IYKknWPWtjkLPOOqskqToOF154oZljjjmSsGo2EVFncqONNkrSSFEcN25ccl5JoVInUlx07XKitWTalTGURx991PTv3z/xEvcDDjjAqAMWi8o0cuRI14mMw1rqXPcp86V7770385KqU7WFrE6WOmFqL9dee21mWimxw4cPd+tNwgj1qL++ffumlOrRo0e7Z+auu+4KL+Xcek51j14RkGJd7jn1iR966KHMzrgPr/YovjE7Pd96n0yZMiWVjXj9+c9/Nr179075+5PLL7/crV/05+FRgy1///vfUwMaeocoPy/777+/Ofroo/2p0bogPdtelIcUYy+qXykZoUgBaupumG+//bbZb7/9UspseA0NNOheQuXmpptuMsccc0wSbd999zVSgEO57bbbzBFHHJF47bnnnm59Z+JhHWPGjDGHHnpo6JVyq60MHjw4GQjQe1ttqzHRjqHh70Pe56JcW9lqq61K3ut6f+ndpIEBte3QdNWXVWsEN9hgA3+aHGVlcOyxx5pbb7018Qsda665pstbz34o1f5WnHDCCWEy3BCAAAQg0MoINItCpZFudXDCDlj8Q61twI866qiKuLKUqli5+P3vf+9GoMtlpuuogx6KRiZ32mmnVBnDcO+WgqEf4XDkPf6R1I+pOnyhNLdCpXKpc1dO+vTp49YvtGvXzkWpR4e8MYVKHaKtt97avPLKK+WKlPjHndRYodJoskaqwx0Fk8TWoVH2+++/3/zqV78KvVvErZkotSUpD5Xk0ksvNRtvvHESTZuSqEOrjm4l0QymZqu81KP+YoWq0nMzbNgws/3227sizGiFat1113UzA55HfHzggQfMMsssk/KOFYpU4C8nUsg0k+I/u6AZoG233TaJqjZ/4403Judicv755yfncjzyyCNGs+oSzXRrQMCLBjeuuuoqf5rrqAEf1UO5gR+fqZ4LKQR+him+/zwKlZT7ESNG+EuUPUqh0yCB3je1KlRNeS6yFKrG2oqUOD8jW+5mpAz6WVfFUfk0GBjuLJuVVmnEYO65506Cq/2tQKFKkOGAAAQg0CoJ1F2h0neK9KOljoUXdbQ10+NHuzWyH85U+Xj6IVSHJlTEFCYzo9BkLlaofHp1juK0CpP/Cy+84KMZdU632WabkrhSjGTSEXdctthiCzcr4s244h/JJOPAIYVKf/o2l36QZX4Sin58lZ9GNNXxriTl7rmxdCG3enTIG1OoNJM1YMCAVHHUmdSIuXb6iutFJn4y45PEClWYSbk6VXsKO75hmuZ0a6ReI/ahqA7VmY9nGuWvUXDf7k8//XRz2WWXhUkT88as0XKNhntz0HrUX6xQ+YKUYxzOvqgty3xXz2co6sTL7E2i2R2ZQDVVsjrJPs9yZdXgSDhbK4Vbinsoer418yWz4FDxVz3dcccdTinSwIDMksP2Gm4gk8XwvPPOc4MJutY//vEPN1vjr6sZIs0s5RWZw2qmNp6ZkwKosobvWV1DAylSgiRNVaiyWIiz2qRm3a655hp3Hf/Pt1fx0ICDTP9Cjqo7mVpK9Bz5wYamPBeNtRXVa7lBGZWhXLg2ztAMlpczzjjDXHLJJf7UHWV5oHeb3nvhNfSOFBc/2FPtbwUKVQovJxCAAARaHwFrS55L7I9lgzW/Sv623HLLBmsW0bDXXnslfgq3plwN1sQiuYZVLhqs4pSKY3+kG6yNvotj1/E02B/bVLjy8eGKZH/sSsLtqKK7vv1xa7Cd7ZJwqyglZbAmPKlwq9w02Fk1F67y2RHlVLiub9dZJemz8tf927VgDbbT2fDZZ581qBxe7KxGSX5iVYtk3bOdKWmwpobuvm0nscGuJ0ldZ5NNNkkukVVfSeAvDmtWVDa9osT561692A6BC1cc/dk1Kz6oQfcf17ldh5CEi1vYluS2CneDVc7dvVmFrEF1FMaxZllJ+pZyqE7DMshtlYgGtRmJeGy22WapOP4+rTllyl9prdmTuz+f1m4pnYqjZ8dLPerPznKk8lcZrDLrym/XDTXY2bOScLvmyBfBHa0ZayqOXUOWCq/HiZ71mLPY+GfUDo402EGbVBw7aJNcOusdo3ryovD4eQrbkzUDTuVt1225pFY5SPn7Mqrte7Emrak4VgH1QbmOdvAplZ+uaRX3JC87MFESbteMuXA7s5YKs+bVSTrvsEpQKs4pp5zig9x1/D3qqPdNKPfcc49r72rz+rOzY2Fwg53ZSuVtzYFT4Tpp6nOR1VbUNvQOlqh9hvfg3XrnSPTbZBXeVBy1cS9qcz6NP4b89XzoPevDdNT7ykutvxU+HUcIQAACEGhdBEze4mZ18OzakNQPizo56hSHos5Q+OMjd6jsKK5+DOMOtB1xTrKJO0PWpC8Jk8OOWpZcw46YujhSZOLr2zUkLsz/U4fLzoil4tlRVB9corBJWYg7nklk62gOhUodTN9x8teSUhXfm1dEs+rLp/PHpihUPo9yx7hjYU3akqhZCpUvt49k1y+k7k2d3paWuJxSUOwofqoY1gzTKY9qE/pTp1JiZyFT5VcHVO0iFGs2moqjuvSKeT3qL1ao4g6uNYUqub41jQ2L2DCjFKpYcbMzSqmy6n3hJX7HiHUsenbCZ0V15eX6669PhVlTLxdk10ol/uHggp5FLyFjlanWgROfjz/Gz81f/vIXH5Qc7YxQqs35wYymKlSxMqJ7tjOpJW0+KUjkqEahaupzkaVQxW02Vpg0cBCKXe+b1KvahO7Ti51RToVJYY5FvMO2pHeVl7j+Kv1W+HQcIQABCECgdRGom8lf1tycTGvinZzGjh2b+haJFnBnLe7XB0PDdSrHH3+8kZ8kNn+TqY9MUUKRiVK4xkjrHmS69+GHHxr7oxZGdeufwsXcCpQZnjbM8CLzFG+aF5txaJMFbbZQTmynqu7fodI6nqw1aLFZnszTZOZUD5OxOG+tG4u5yUxIu4bJNEzroLTDmsxA400Y7Eh4shFFbPInk6J48XfcbsL6KMe93v5aS6fF9F5kzhku6Pf+WUd9yDk0kVL7jM18xC7e0ECmaNoBrB71F5urxeu0VG6tzdPmJF789f15S2ybnmXGJZPZcJOVrOdYjCRxW5GfNy+T20v4fpGfN+3TBhBhfL/+Uxuu6NmXqO5kquZFO7/NN998bmdP76eNEZSmKaJra4dCL+U2TfDh4bGpJn9Z9aD8ZbqnjRv0nFplsuTd5ssQ8pKfHQhLvfvl19TnIquMvh6VvyQ22Ys3xtGOiVoD5kWmgN58Ny6f4oRtQ+faqTM0IdXvi3/f1fpbofwQCEAAAhBohQTy6n/xiHk4Qufd9kemJHu7+1lqNM/aq5fEkYfMU3w+OlqlKYkXz1CFs1c+kmatwvR33323C7Ids5R/OLLt0+poF7mn4oUmRfGoo+6pMWmOGSo/ah5fNza5lCmkJK4vmSjG0tQZKpUpnlkM6yB0y6zSSzzzE5sWKZ5M58L0ViHxyVvsqLYalsFuZlD1teNRcqtcZaZVvYTX8OZD9ai/cPZE19CzEIvMb8Pr2y3AU1Fm1AxVqhD2RKbBYTnl9iLTszismnO7hbjPImWiatdbOn+rTCb52u3DG+wmD8m53i/xu8XuYprkl9cRP08y8a1WmjpDpevo/VGJnWYA/axYWLZqZqia+lxkzVCFZZD7zDPPTN1DXC+q9/AewxkqvYvCsGrc4Yxorb8Vcdk5hwAEIACB1kGgWWeoNNquRdp+8wHpmxq5GzJkSKJ69uzZ01x88cXJuXfEI4PhQuF4hmrUqFFm00039UndUVsda/cuL36GSt+x0UxVKJpR8RtOeP94lDucNYlHHbUNtrZnLyfNMUOl2TPbuS255M4775yMrirQs6lmhiMembedh6q3TbcdB7dxR0mByng0NkOlXdIuuOCCVEpt2qDZES8zYobqT3/6kwm3GA/vwZer3DFOqxkOzVLFEs8Q+RmJetRfPEPlZy/DMsTtpygzVH72yZfVDlKkZoPk7+PE7xiFZX2PTpvPaDbCbyCguvUzrnpH+VkGpde3pfTdLolmaHSuuvEz06pLbRQRzhprBszvuOcS5vgX766o95LfkbBSdtXMUMW7rfrZuDBvfafvuuuucxt3hP6xWxuuqP16qWaGqqnPRdYMlW8HvhyyYNB70ItVsIzauRdrVms0++4lnKGKy6c45dqS99c3tvzOjrX+VvgycIQABCAAgVZGIK/eF4+Ya+ROawniEbzY5jxeZB2uXQjLEo+EhzMaTZmhytpYIF7DpXLEo6vaJMFLPOqoEfHGpDlmqOwOfiWX1NqvciPaWfVVaQ1PuKmFLhauG1E9+00ptE4kvq7tTDVohtJfI+YZ1mdrmaFSWw7bt9YMxqI1VZ9++qljIz7248QuSpw2XsehSFogH+Yvt18PUo/6m1lmqOJ3jP2WXVxNFc+t4pKqi3Atjc8vnJHSrIQ2p/D1V+69VvHCUQTl6/PU0c+0h9HUbsI259dtxTNUmr2OxQ5cpPIPN6WI42rdmdZQWeWkIW5LKptmm0KJn3m9E2Jp6nPR3DNUcfmsYhnfQqPntf5WNJoZgRCAAAQgUFgCdduUQj+o6kxq57KwAyC3Fup7ic3KFK4f6VC0q1acR7izUlMUqqwdwPTDH4p284p3brIfzUyi1PojmaVQiUMtEt+z+KiTHUpsTqk4vnOlzn3MVJsghKKdzsI41SpU8SYAoXmkzz80l9I1WqNCJRO/kI8UTL+bmL9PmfKFcXy7sR9QTflLAQ1NzJQ+zl/5+M056lF/cSe4HiZ/2iWu3lJNJ7kxk7/4HaN60jMdi5RVbUigP6+4+jhZZmC+XrVphSQeSAgHHKRc1UPi516mrnqHhRKbovp35X333Zdqcyq/lC8vykfmjP6+dAwVKjGQiaH/823Rp4/bq+4/lFihst9yCoOdu6nPRTVtpSkmf3H5ssyR1Q58O9LR70apG6z1t6IEEB4QgAAEINAqCNTN5E9mKDJHscqDkWmR7awlc3UykdEGETKlkOj7QeH3bORvf3zdImd9n0jmUOEiX4XL5Mt/z6cpJn+6ftbHOeWnb4toIwWVRR93DCX8cGitZhy242JkBhKKvi0jM6EFF1zQLLTQQmFQpju+Z0XSN4DsqLBZYokl3MYaKnco+u5OaPYYbyqhOlMZbOfe/POf/zRWoQqTG9vBqsrkLzZHUybenMx2fJ35nr5NE0poLhdvSlFUkz+r1BjbaQxvw8hkVWZe+rCrNmGRiVD47R3bqXV1b3eBTL4p5TPQh3X1nSLVoxjE301SGznnnHN8dGeWJPMkL7XWXz1M/vStMX17x4vaju5hqaWWcqZQsemsj1fLsRozLr1nVlhhhVS2oalXfK8yEbU75LmNI7T5h8z5ZKrrRfcRP/P6OHn4HvJx9Y0r/z0lmSLrvRfLyJEj3cfNY/9az/Xe0TMeitqYzF9nm202d207W50Eh+9KbS4SmuApktqrNtHR98Jkohdv/hKa/Ol9oG+LeVFabczi38MyB7UKnw828SYcyj/cuEO/A8pTm6yonB07djRNfS6qaStNMfnLKp8+XKznQOXXhjt2FsvIdNJLuGFQrb8VPg+OEIAABCDQugjUXaHS7duZE6echCj0Yyw79nbt2rld4NRZDDueYdzYLaVAyoGXWLnw64R8uI7l1lApTNfVmqdJkybptKLE613y/Ejqg5uhkukvqo6F31HK+2Ud43vOihP7qbOktV9e9DHlrB0VfXh8rFahUrpYWZOf7i1UAOTnpTUqVCp7vC7F30/WUR1HdTq9qOOtDng1IiVL7V4Kt5em1l+sZHil1+evY6U1VNrlUJ3qLKnHmiHlW00nuZJCpXeQBm7id4y4hrsY+vvQmj0p8qFk3avatBRnvcckWeu15K9nWnGbKhqM0bssVnzK5as2YmeCXHDWQE65dN4/VKiyBkqkFGlHPH1wOH5v2dlYYzdV8Vm5XVr9zqyJ5y8OsdUH4CVNeS6qaStNUagaK5/ej1OmTHH3EP7TroyLL76488rzWxHmhRsCEIAABFoHgWZRqHTrWsQsRSQUjeRpdFQyefJks8suu5R0eML4cvtF+aF/rFzUqlApL408alOHrBHo8FoajbRrJkIvt3WyFlx70Uh3Y5tSKJ46r/aDxT5JcsyrUKmj4rdxTzILHCFr760OkjXxKctcPKw5k49e9QyVEsSL25NMfnFI4Qo7YK1VodLtXHLJJW4r5vgew3PNHineoosuGnpX5KTIWtwunnHaptZfPRQqa/5lrClo6p78SZEUKpWp2ndM1jOu9PHMqfziWUNt0R0rYn62XvHrIZpRkyJeaTBEgzbacEEzJ17smitjv9nmT0uO+tyEBgm8hAqV/DTTZs3WfHDZo/LRM92hQ4ckjjUvdLyy3rGhQqUEld4fipP1XLSEQqVra3BDim0liT9FgEJViRjhEIAABNoGgdwKVbwjXGwyYw0enalKaB4kZOqkLLLIIo6eZmxkChbHUaBGQdWJ+N3vfufihv9kYhWaWEixiL8NYhf9G7s9bpJMo+p2gXdyLoddI+CUo1CJ8BE0+ihzOK8Aen8dVebQhO3UU081/fr1C6NkumX2aBeKpzpG8SxQZkLrmXXPc801lzM3CWe+pKBJAezfv39mVpqVU8cnNLlURPGSyWPIMf5GWDwLpbw6d+6cXEfmbcOHD08pqepc6hti6txqpNhLqPDpGz4hZ5laqSMXipSxcGculTU0RwrjtoRb9ShFPh6hVqdPs7H2456p7yaFZdKIvNpjWG8+XJ3iwYMHl90drin1t+OOOzrTUH8tlUP1E4rqQfXhRWZwerZDsVuGO8VbsybhDJDMRmV+2lSxG3mYlVZaKclGsyJ2nV5yLoddt1Ly/aPQ5M9HVjq1SSl7sag9azYnNuP08bI667EioPecZiJDDqHJl8+rqUcpJ3rnqMMeXkv5qg6l6Nlt3JOZs/B6aquagQtn5tROtVOoBpZCsz298+KBMLU5fctJ352LRW1D96tnNktkQi1lREpbeH3di11rmUqS57mopq3EM40yO9Sz4MVu6JGygBAb+xFnH5wcNSgmjlkKovhLMY/bf97fiuSiOCAAAQhAoFUQyK1Q1fPu9KOujyPqI7AaXdXIvN++uJ7XKZeXfpTff/99YzcYcNuna32BflS9WU+5dE3x16izTHL8ls1NyUvmN+q4qOMpEzG/xqGxPNUp03bx4q2tncOR5cbSVROmvP2W1PPMM081SVptHN2nPgyqutQ6olruVx+nVVqtM+vUqZNbhxV+vLYxKM1Zf41dNw5TO5ZSofU8Eik6YpFX1Harab+15u/fMeKmd4tMstq3b19rNjXFFxv95RWtR/NcfR7iq3eVTGlV/mWWWSY1I+XjZR31jrAbJriPrWvNX62cdS/vvvuue9foI8Z6b9SSh9qJTDV1T42ttWvKc5F13/X2U/n0Jx76rdBfLRzqXR7ygwAEIACBGU+gEArVjMdACSAAgXoQ0IyylMy8kjU7mTevGZ1Om3WE5nS1lidrZq7WPIgPAQhAAAIQgEDzE0Chan7GXAECMw2B2Cy01hvP2uGx1jyKEj/eGCdPubLMGPPkQxoIQAACEIAABJqPAApV87ElZwjMdARQqP5f5ShU/2eBCwIQgAAEINCWCaBQteXa5d4g0MIEtAhfaxHzijajCDcMyJtPEdJpEwP7odfcRdH6Rm1Gg0AAAhCAAAQgUGwCKFTFrh9KBwEIQAACEIAABCAAAQgUmAAKVYErh6JBAAIQgAAEIAABCEAAAsUmgEJV7PqhdBCAAAQgAAEIQAACEIBAgQmgUBW4cigaBCAAAQhAAAIQgAAEIFBsAihUxa4fSgcBCEAAAhCAAAQgAAEIFJgAClWBK4eiQQACEIAABCAAAQhAAALFJoBCVez6oXQQgAAEIAABCEAAAhCAQIEJoFAVuHIoGgQgAAEIQAACEIAABCBQbAIoVMWuH0oHAQhAAAIQgAAEIAABCBSYAApVgSuHokEAAhCAAAQgAAEIQAACxSaAQlXs+qF0EIAABCAAAQhAAAIQgECBCaBQFbhyKBoEIAABCEAAAhCAAAQgUGwCKFTFrh9KBwEIQAACEIAABCAAAQgUmEC7cePGNRS4fBQNAhCAAAQgAAEIQAACEIBAYQmgUBW2aigYBCAAAQhAAAIQgAAEIFB0Apj8Fb2GKB8EIAABCEAAAhCAAAQgUFgCKFSFrRoKBgEIQAACEIAABCAAAQgUnQAKVdFriPJBAAIQgAAEIAABCEAAAoUlgEJV2KqhYBCAAAQgAAEIQAACEIBA0QmgUBW9higfBCAAAQhAAAIQgAAEIFBYAihUha0aCgYBCEAAAhCAAAQgAAEIFJ0AClXRa4jyQQACEIAABCAAAQhAAAKFJYBCVdiqoWAQgAAEIAABCEAAAhCAQNEJoFAVvYYoHwQgAAEIQAACEIAABCBQWAIoVIWtGgoGAQhAAAIQgAAEIAABCBSdAApV0WuI8kEAAhCAAAQgAAEIQAAChSWAQlXYqqFgEIAABCAAAQhAAAIQgEDRCaBQFb2GKB8EIAABCEAAAhCAAAQgUFgCKFSFrRoKBgEIQAACEIAABCAAAQgUnQAKVdFriPJBAAIQgAAEIAABCEAAAoUlgEJV2KqhYBCAAAQgAAEIQAACEIBA0QmgUBW9higfBCAAAQhAAAIQgAAEIFBYAihUha0aCgYBCEAAAhCAAAQgAAEIFJ0AClXRa4jyQQACEIBALgINDQ0uXbt27XKlV6KffvrJfP/996Zjx46585iZEoqXZNZZZy30bf/8889Gf7PNNluhyzkjCvfjjz+6+mvKc1OPcuu5a9++fT2ymiF50MZmCPbURfU+UjueZZZZUv7NcYJC1RxUybNuBN58801z9dVXu06Nz7R///5mueWW86ccIQABCDgC+vEcO3asee6558wLL7xgXnrpJfPVV1+ZNddc06y66qpmtdVWM1tvvXXFzv7jjz9uHnnkETNp0iQjt0TvnNVXX9306NHDbLPNNu5H2gX88u+WW25x1w39KrlXWGEF069fv0rRmjX8s88+M6NGjTJffvmlmX322c1xxx1X8/WU9tJLLzWjR482U6ZMcem7detmdt55Z7PrrrsWplOs9nH77beba665xjz//POunF27djWbbrqpGThwoJlvvvlqvncl+O6778w999zj2pzazLRp00z37t1dm1t//fVdu6uUsdrbM888Y5599lkzefJks+KKK7r0anM9e/YsaW+V8lN9vP322y6aOpNDhgxptN0/+eST7rdW7X369OlmzjnndM/Nxhtv7NpoHgW51jKoftSGrrvuOvPKK6+4Z3fppZd25dhss81cPVW67xkd3lxtLL6vb7/91gwbNswN9ihsySWXNPvss08cLXWusl155ZXmrbfecv4HHXSQWXjhhVNxGjupVJ+ffPKJGT58eGNZlIQNGDDALLHEEom/r/vEo4xjscUWM/vvv39m6BtvvGHuvvtu8/TTT5uHH37YtWW9t9daay2zyy67mM6dO2ema6onClVTCZK+WQhoZFkPln4EYrnsssvMRhttFHtzDgEIzMQEPvzwQ3PkkUeaCRMmNEpBP6znnnuu6dKlS2Y8KRdnnXVWZpj3lFKmOOGs1aBBg1xn0Mep5qjOqjopM0rUiVanSh1oLxrEqkXef/99p2CGeYTpV1llFafAdOrUKfRucbdmO/bdd9+y7UMKxM0332ykCNYiH3/8sVPGpAyVk5NPPtnsvvvumcE//PCDOfXUU821116bGS7P7bbbzgwdOtQpvGUjBQHjx483e++9d+BjnJIWttcwUPd99NFHh14ptwYkzjnnHCPls1qptQxffPGFY+QV3azriKEU/qLOWjVXG8ticfbZZ5sLL7wwCVIdqR7LyXvvvWf0jgrb6ZgxY8zKK69cLknKv5r61LtDgxO1iAai1lhjjSSJBmGeeuqp5LycQ+8VKd+xSInaa6+9nDIeh+lcA2NSKsu9/7PSVOuHQlUtKeK1GAF1jI499lijBzhLUKiyqOAHgZmXgGYENIKt2ahqRJ3nO++8043qhvHV8b3qqqtCr7JuzXbdeuutyah/a1KoZNI1cuRIM2LEiJL7q0Wh0ij5VlttlcxKSUHs27evGzWXZYFmaySapVEnZkaakElh8B1OzXoceOCBZu655zb33Xefm7VSOeeff34306RjNfL555+7DqRXJqWsr7vuum6m69VXX3X5+jZ50kknmT322KMkW43Qjxs3zvmrXJtvvrkbsX/nnXfcbOvUqVNdWK9evcxFF11Ukj72kGKiGS1fJh+uWa8sher66683xx9/vI/mlDfdg9I/8MADSQdcHdCHHnrIdOjQIYlbzlFrGTRzopkD39lXp3e33XYzCyywgNFsg55Jfz9SqvScFlGao41l3adm4KVkh9KYQqVZe5XNt0WfrlqFqtr6/Oijj1JtyV8nPr7++uvGt2u9QzUL60WD5QrTwIZmocqJnpV4Nl2KmBQyLxpAUd6aORODiRMnuiC1ZT1zWc+DT5vniEKVhxppmo2AGvx+++1X8uCHF0ShCmnghgAEshShI444wqgTKnOnBx980Jx55pkpUDvssIPRKK8Xdf6lDITSp08fs+WWWxrNmOuH33d8fRwpJb1793anmmny5oE+PD6qU/vBBx8k3tV2kpMEdXC8++675tBDD02UHc06SIHwyk8tCpVM50488URXKnXwNIvhJe4kz8j3tszHfD3pfmUOFHamZDp1/vnnu6IfcMAB5qijjvK30egxnNmRUqJZoVBpfO2111ybUkdWCvgdd9yRyi8c0c+a9ZTCpk6hVzRUR5XMlWTV4We7dM/qSEqyFCp1XNWB9aL7Ucfci9q9Zs+kDEt0j5XMyhSvljIovmYpPHMplHquQhPDTz/91CmjL774oqK7jnEtpmouUTP/a642FhdbM5p/+MMfjJQSKQZSOtQ+shSqb775xpxyyinmpptuSrIR33vvvdedV6tQ1VqfycUyHGpTMplWXepZlNIermNcZpllXKoLLrjADS5kZFHWKxzUime+9D46/PDDk1kttekNNtigbF55Av4HAAD//6UafV0AAEAASURBVO2dBZztttG3dUMNY9NQ3zBTw2kahhtsoGFo8A0zMzO0YWbGhpnTNMwNMzMzJ/vp0feO7xyv7UO7Z/du/vP77drHlmT5sWzPaEZy6JKIQD8icNRRR3VNNtlk2d/yyy/fNcccc2S/2XfnnXf2oxqrKiIgAn1NYKmllqp5RhxzzDHdqnTqqafWpFlwwQVr0hx44IE1+3ffffeuX3/9NUvz888/d62xxho1aQ444IBsf70V8i+yyCI1+a+//vp62Xp8/2mnnZbVYeedd+765ptvuvbcc89sWzMHnGeeebJ877zzTresjz32WLZ/zTXX7La/Uxt22WWXrB433HBDt8N++eWXXTPOOGOW5ttvv+2WpmjDqquumvIsvvjiRbvTNs/2o48+qklHO7X3XX6fJbzmmmuyNDfddJNtLlw++OCDWdojjzyy64wzzsh+F53Tsccem+2/8sorC8v85ZdfsnYPo08//bQwnW1stg6UX68dUfYTTzyRdAH0gfPOO88O12+WvdXG8id43HHHZdfs7rvv7tpwww3T75VXXjmfNDGz9oUu9cYbb3T59vT00093y5Pf0Oz1zOfP/77llluy+l9xxRU1u3kWWX15djQjPF/tHt5nn30Ks77++utZ+QcddFBhmnY2hnYyK68I9DQBb1DxsOcm4UFgNxlLGVQ9TV3licDQTQCFtt4zwisGpEWJ82KKiZVT9EL3CirpttlmG19E5ToKq5XNkjrzfOu0YFCheFx77bXZob3Sn22ss/L5559n53PooYeWpt5ss81SOo7ZV7LsssumOrD0RrKvz7nnnpudz/PPP+93la6j2NMmaFtlcvTRR2flfvzxxzXJbr/99pS/zJgh8b333pvlrzKovvvuuy46CWhbGO7ff/99XYNq6623zsquMpR8u0chL5NW6vDCCy9kdTjxxBPLiu7323urjfkTf/nllzNWdIYg9tyqMqiOOOKIrp9++imlb8agauV6poOU/MN4ts4v2mr++ffmm29m54fx14xgLNHu+bvtttsKs3Lv2zN44403LkzTzkYZVO3QU94eJ4BBxQ3x5JNPZmXLoMpQaEUERKCAwG677Za9KHlh7rffft1SHXbYYTVp8sYQL3OUO/5QqPMvewo85JBDaso44YQTuh2naMOPP/5Y0wtPHYs8JUV5e3rbo48+2sW5emnFoOIZbcrJHXfc4YurWT///POzdHmDoiZhL/1AibN60gbKhGtu6aoMl7L8RdtpQ6Zo815rRfCCWr3KvFiU6w23Rx55JB3KG0JFHqp11103lV3P2L344ouzOuy7776lp9FKHTBK7fy49xC4oVDjgUFR7u/SiTbGMcwjyvX67LPPEpYqg+r999/vuu+++2rwNWNQtXI9aw6W+8Ezz651UScCXkjbb+31vffe66I9F3nAc8XX/fnhhx9m5ePB7WmRQdXTRFVeWwRefPHFLruRrCAZVEZCSxEQgSIC7777bhbuYS9kQvbujOHBd911VxchILbdls0qaj5cxMq4//77i6rTbdtFF11Uc3y8UyhI/UVaMai8Ylbl0cHYMl4Yc50W2oYdH+OuTLzH7aSTTipL1vB2FN5NN900O3azRhoeJgx2q3tVeCnvTUu31157ZXWsZ1D5iJAqhRUPh5WPAl8krdYBA83K5t2P8YbBYNtYEuZHp8knn3xSdOg+39aJNnbZZZdlTHyocJVBVQTG37dVIX+tXs+iY7INI5lOBa5nkXeKNHhs2c/1p8NmxRVXzM7Z8vEsxzBqRXyH2D333NNKEZV5ZFBV4tHO/kBABlV/uAqqgwj0bwKELHnljBdw0R/joJ566qmmTgZl2zwNVmajISOEzeTHgTarXDdV2RYSt2JQ+fE/8CmT5557LrsOKIWdFnro7ZpVedKolynyO+20U9PVRDlFueXPFEeOS5kosfUEA4o2Rf68Inn44YeXGuCEMZnngnb2xRdfZIeqZ1ChVBqb448/PsvnVxjX4kNqi0LL2qkDnmLqADPfDq1efkm4WFVooq93J9d7u41hSFrb3GCDDWpOrTcMqnauZ03l3A9vyF111VVuz5DVSy+9NGuPdr7++ts67bHZdvDwww9nZecZDqlBe2syqNrjp9wdICCDqgOQdQgRGMoJoHTY+CB78RYtzz777KZexl999VU3BZeXPaEojQjH8/Xob94pzsErso2cE2m233777Lyq8qD42PkTQtRp8T37VT3y1MsMhyKjoV698YTaefolk53Q219Pvv7668L8jHMi9K1MGNhvx8uHkdYzqPwkAJTBODLvOcXLBgsrnyUdC3lppw4WduiPQb0J/8M45NzXX3/9rA4c/4cffshXoU9/93YbY7yU8XnrrbdqzrU3DKp2rmdN5f7vB94pvFKcA4Yzv4vEe2RJy0RCr732WvJMEm1Ah4NxoB3QWdWIvPLKK5lByrO72eiERo5BGhlUjZJSuj4jIIOqz9DrwCIwVBAg5MbPFGYv3bIlPfmNDHpGyc0rlJT5+OOPN8SF/Pme1v7mneJEWjGo/KyIVQounO06nHPOOQ1x68lEt956a3b8eiGa5kkkVK9ZYVwaoYL8MUmHV/44/6pwQ47FpAGWn1C87bbbrqbt7LjjjjXGDnkweKx9YXTkpZ5BRXrfc089KY+JRLyXjHvLPLRrr712zWHarQPlWftgWWQ80r7wKlg6GyNWU5E+/NGbbcxfn1NOOaXbWfa0QdXu9exWwbjh8ssvz65dlbfWjxcs6oTAENtiiy2ysqomg7F6EB5oxhztp94zwPK1spRB1Qo15ekoARlUHcWtg4nAUEUAZcuHWPHSRDHGY4BBQy88M6XlDS5+s69MmEq7yJhqRplDQTYlkCUhS94DUHbsTm9vxaC68MILs3OrMk5RYIwB16TT4seCoNiVCe3I6kmIXU8IXMzrRdnNhprSBi0kjvx4kLwwXsrqXNTr3ohBRXn+Gll5tsSQgqEZm1tuuaWvQle7daA8OxbKcpngZbB0/W02wN5qYxjZ1n54xjG5TV562qBq93rm6+cn5KnyTpHvgw8+6CJEOD9pji/TTyxRb1IgQpFtVkHajp/Z1JfZU+syqHqKpMrpNQIyqHoNrQoWgaGeAAaOKVq2LFLwCdGz/bYs6g0HCKFGvofe0j/wwAMN8+Jlbt4Dy3/zzTc3nL+TCVsxqPy4kSouvne6SOnv7fMkLMj48ymOMvGetJ4c6+VnD2zl2zdM1GDGDMqhCeGLdl58A4n2nf/zk0mg9BMuVjbejTFcDz30UBeMMHLwkuFNxSvA/WDH8ufQE3XwE8awXiaM67H7iTDB/iS91cbw6Bp32mT++vLbvo1H2+D68pef2Muz8mOZ8iGwPXE9/bFY9zNEVnmn8vmqflsHWlU7gIHvEOuEd3wQlQ4SEejHBFZYYYUQZ3zJanjmmWeGhRZaKPutFREQgd8ugZNPPjlEj0IGICogIc4Wlf32K8stt1yISkO2KY5PCdtuu232m5WoPIb4oq555owyyighhmyFP/3pTzVpq37E8UIhKqdZkmmnnTZcd911YZhhhsm29ZeV2CsdLrjgglSdV199taFqRWUuzDvvvCltVLJDVOwK83FtuEbISy+9FIYddtjCdL25kfdF7PUO0dsS4mQahYeK3rMQw8rSvn/9619httlmK0xnG6NHK8Qe9fRzookmqjyvmWaaKURvaFhggQVCHFNnRaQ68WOcccYJtLEy2WqrrUKc2S3tNobUMY6tKctSuj1OYBFiSGLp/qId0YMV1lprrbSLaxm9Jmm9J+rgy9h///3D3//+96Iq0PkfZp555sRxzjnnDJdccklhur7a2BttbIcddghxevGmTylOCR7Qm4okemlC9HqmXazPMMMMWTJ/LbKNDayUtSnukfnmmy/E8a2B53L8qG/lfcL9FA34MOqoo4Yxxhij9MhLLLFEepbMPvvsIRqa3dJRxiabbBLiuKu0j/skhvF2S9fTG2RQ9TRRldfjBGRQ9ThSFSgCA4ZAHFcQ4veFas6HDhheyl5iD3yYfvrp/aakWJhywY7Yex/WWWedGqMLZTeGt4WpppqqJm/VDxQIlD4v1HPw4MF+U79Zb8Wgih6DMOWUU6ZzmHjiiUMcRxKGH374mnOK4zGSEYExAb/ooavZ36kfG220UWZkx49+hsknn7zboVdbbbUQx6uk7Sy57lUSP/wcYg94ShJDj0L0EBQmx0CfddZZ0z6uP+0A8e2RNhdnqEzbi/75d2AMfQuDBg0KPaH8xmnsQ5zpLx1yzTXXDOOOO263w8cQ1bDSSitlHQzkGWussVK6nqhD9AyGhRdeOJVXZfBiSKJII9Qnet/Sen/51xttbGg3qOiE2nvvvdMlirNIhqWXXrrycplRihEWw1sL0/JMwZBC6CCj48oLz6U4S2dmiNJhRsdZJ0QGVSco6xhtEfAvEwqSh6otnMosAgOKQBwfFeLA9ppziuOjAi9wU/ziWJQQB/lnPZaWOM4iFRZbbLH0kxc1vfAxRMt2pyUG16STTlqzzX6MMMIIhYo0HgDKNunP3inqWGVQ4RmIIX3J2Fx00UUD52wSv/UVYkhP+lnkXTj44IPD6aefnvZ3qpfY6uaXV199dbr+bEOpo214waOJQozklbmy88fQmH/++UP8eGoymOIHasPII4/si03r3oOKghzHCWVpYIJRguAhwzDNizfcaNfmSaRNx8lY8slrfuPFiaFOaVsMvQwjjTRSuifGG2+8tA1vLUopUmak4AGIIYWFaXqiDhS86667hjhldjpGHPeVGVhpQ/yH8YmHIYbopk1xDFVYcsklbXe/WLbTxjg/DH0M2rnmmisZzJwUbYtOniqBHR1IdFiY9xWP6WijjVaYrcpD1VPXkwPHMMjUmdKod4o8xx13XIihpqyGONNgmGWWWdK6/eNexECze4DzxQj3wnPIvMC0mVa8uL68ptZjBSUi0K8JaAxVv748qpwI9CkBxlb4WHkbc8CScQX8+W22znbGh5gwpbfta2Zp+W3JuIZ8/qgs2e5+uawaQ8XYDTsf0nnx444Y38IYMZgymN5/zJh9UVnzWTu6Tp38TF8MZo9KbBdthwkZbIwS55n/+HDV+fs2Q/mcPwPqmWo/GkI1syfC4OOPP645bz8OjWMzEyBjnZgshcH5flIJ9jf7MVKmnbZrVzauxs+ex1T4jHNj4hTGTUUjMctPOUVjE2tOqOBHI3WIhkPNceDAh4aZKIRxXYyVsfNgbGPR5AwFh+7opnbaGDM42vk1O87IppTnGdiIVI2haiR/I9eTcmLHd3ZO/kPEVcdginTjwJJ776OPPkrPFCZ04ePOtp/nd37adP9tPNLxGYEbb7yx8M/GB1bVp9l98lA1ZX4qcV8QkIeqL6jrmCIw9BAgpIyeSXrTGxF65Uk/+uijZ8npGaWHtFnJjzmiB5VQF5OoSAd6rwnT6q9S5aHy+4rC9nzPfNn54cWi570vhZCxqIynMThl9cATw9gLL1XnH5XoNB6JqIkqicpdiqyYZJJJuiVjjAyeq3pS5Lmplyd+ly0ccsghKdkzzzyTPFT5PLRfxo4xxqxK8DTGyQCqkhTua6QOZGykHRHqddZZZ3UL5y08cB9sbLWNWagbVeZaxI6LhmtPerybZeOJ8gVVeajyaYt+N3I9o/Ee5p577nSv8cyIhk3l2Cl/HNLGSVH8pm7rPFPxvFoEAgmKwqy7ZcxtwENb5FXOJWv4pwyqhlEpYV8RIBQhfvclOzwP1NgbmP3WigiIgAhAgEkfCLXzE094MryI11tvvaRY++2sEz5iITP5fWW/mUgg9pxmu2NvalIksg1xpVVF1JfR2+uM32HMQv58OC4sYy94UljKBrszNmq//fZLIUq+roQ6YrhGD5Df3GfrhHPGmeSysVJWEcZLERq0yiqr2KZs2cj5YwxgRDO+yAshfIQFRg9E5SB7jgFbxm7ROWBCvWDHOJBpppnGNje8xNCL3wtL6Z999tkw4ogjFuaNHrUU9hm9F932M/6LsLL8mMBuCUs2NFoHsr/88ssheskK7186QQgh7UkFuKTKbW1upY3REYQxz/UmdJT7plGxsVuNTtThDRbWmzkWdWrkehKSR0cE0kp4JvreHnvs0S38mucT4xC5h/OTVsQPiDf9nCnrZEgVb+GfDKoWoCmLCIiACIhA/yXA+JY4fXCg9z2GbaQZpvAO9MUMc/2XUuM1wxMDx/ykE76EGIaVFKC33347eeMYdzb11FP3S+Z4EmgbMTQxTDjhhEmprFLUGzl/WNDuYthSwEBh4ou80ud5la0zLoqxMxNMMEH6K0vXG9sZyxNDDpNhM+aYY6YxXTbxSG8cr6xMZnvDMGH80Nhjj52uT9GEGWX5+8P2ZtsY9w/PJz2jhlw97iM6GxjfyrNkiimm6NeefhlUQ66d1kRABERABERABERABERABESgKQIyqJrCpcQiIAIiIAIiIAIiIAIiIAIiMISADKohLLQmAiIgAiIgAiIgAiIgAiIgAk0RkEHVFC4lFgEREAEREAEREAEREAEREIEhBGRQDWGhNREQAREQAREQAREQAREQARFoioAMqqZwKbEIiIAIiIAIiIAIiIAIiIAIDCEgg2oIC62JgAiIgAiIgAiIgAiIgAiIQFMEZFA1hUuJRUAEREAEREAEREAEREAERGAIARlUQ1hoTQREQAREQAREQAREQAREQASaIiCDqilcSiwCIiACIiACIiACIiACIiACQwjIoBrCQmsiIAIiIAIiIAIiIAIiIAIi0BQBGVRN4VJiERABERABERABERABERABERhCQAbVEBZaEwEREAEREAEREAEREAEREIGmCMigagqXEouACIiACIiACIiACIiACIjAEAIyqIaw0JoIiIAIiIAIiIAIiIAIiIAINEVABlVTuJRYBERABERABERABERABERABIYQkEE1hIXWREAEREAEREAEREAEREAERKApAoO++eabrqZyKLEIiIAIiIAIiIAIiIAIiIAIiEAiIINKDUEEREAEREAEREAEREAEREAEWiQgg6pFcMomAiIgAiIgAiIgAiIgAiIgAjKo1AZEQAREQAREQAREQAREQAREoEUCMqhaBKdsIiACIiACIiACIiACIiACIiCDSm1ABERABERABERABERABERABFokIIOqRXDKJgIiIAIiIAIiIAIiIAIiIAIyqNQGREAEREAEREAEREAEREAERKBFAjKoWgSnbCIgAiIgAiIgAiIgAiIgAiIgg0ptQAREQAREQAREQAREQAREQARaJCCDqkVwyiYCIiACIiACIiACIiACIiACMqjUBkRABERABERABERABERABESgRQIyqFoEp2wiIAIiIAIiIAIiIAIiIAIiIINKbUAEREAEREAEREAEREAEREAEWiQgg6pFcMomAiIgAiIgAiIgAiIgAiIgAjKo1AZEQAREQAREQAREQAREQAREoEUCMqhaBKdsIiACIiACIiACIiACIiACIiCDSm1ABERABERABERABERABERABFokIIOqRXDK1vsEfvnll/DTTz+FEUccsfcPpiOIgAiIgCPw/fffh+GGGy79uc1NrfZEGU0dsB8k5rmNDDvssP2gNvWr8Ouvvwb+uNY9KV1dXQEWrZbLu2/44YfvySo1VVZfH5/K/vjjj2GEEUZoqt79JXFv3QeUO2jQoDDMMMP0l1PtaD36c5uQQdXRpqCD1SPw0EMPhfvuuy888cQT4eGHH07Jp5hiijDLLLOEOeecM/z1r39ND5N65Wi/CIjAwCfwwAMPhFtvvbXhE11zzTUDz5My4flzzjnnhCeffDJ8+umnKdmss84aZpppprD44osH1qsEZefaa68NV111Vfb8Iv2MM86Y/uodv6rs3tr3xRdfhDPOOCN88803qfNqp512avpQX3/9deJ2/fXXhzfeeCPln3rqqcPKK68cVllllX6nFNt1uuiii8LTTz+d6vvHP/4xLLLIImGjjTYKY489dtMMyADL6667Ljz66KPhnnvuSUxpM7y7lltuuTDZZJNVlvvggw+mfLRD6kU95p133jD33HOH5ZdfviklGmP+mGOOSUYJB5144onDuuuuW3p8mHD9rrjiivDss8+muo833njp3UvdF1poodK87DjssMOyY1Ul5HzgXCRWh0svvTS8+OKLqQ6TTDJJuu8WW2yxsPDCCxdl6zfbeus+eO2118LNN98cHnvssXDvvfeGUUYZJbWp2WabLd1fo48+eiUDWNIeaVPoVuOOO26YeeaZwwwzzBCWXHLJ0k5r2iHHbUR23nnn8Lvf/a4mabv5rbC33347nHTSSeH+++8PH3zwQTr/6aefPqy//vphwQUXtGSVy5dffjlccsklqfNkuummS8+mygwt7JRB1QI0ZekdAmeeeWb45z//WVn4UkstFQ488MDSB0BlZu0UAREYUAR4yR5//PENn9PJJ58c5p9//m7p6Y3fddddw0033dRtn9+w7bbbhg022KDQ+0LP6W677Va3jH333TcpQb7cvlp/5JFHwnbbbZcZj9TjmWeeaao67733Xlh11VVryvAFoPjwbB9ttNH85j5b5zptvvnmSTkrqgTK6vnnnx8wCJuRDz/8MGy44YbhlVdeKcxGubTX2WefvXD/BRdcEA4++ODCfWxcZpll0ruvUY/NUUcdFU4//fSsPAw7zqtIMGRolxhTZYJhjNI88sgjd0sC03qdDZbpf//3f8P2229vP7PlV199lfiZgZvtcCt0SGDwN8rAZe311d66DzCiNt1002RcFp0EHUSnnXZawPgtEq7pXnvtVbQrbeP+PO6448L444/fLU0zz1c6t/L3eLv5qRAG5MYbb9ytbrZhpZVWCvvtt19pRzueYgz0/fff37KERRddNBx77LHZ755akUHVUyRVTlsEDjrooHDhhRc2VAa9vaQdWkJKGjopJRIBEWiaQDPPDQovMqh44W699dbhjjvuaOj4vMD9y5lM3333XTJM/vOf/zRUBgr9Flts0VDa3kj0888/JxYoPHlpxqDCC7LiiitmXqkFFlggrLDCCslTgffnv//9byp+nnnmSUofoUp9LSiXZjjg/cAjNeqoo4bbb789eRepH56hq6++umFP1SeffJKMZHrPkWWXXTb8+c9/Tu8oeunteOz717/+Fegh93LWWWeFf/zjH2kTnjIYYtDhmSCvef3wJtTrdKSQp556Kqy++ur+EMngKTKoMKb22GOPmnMnEgSv7PPPP588FHgIEM7r0EMPrSmXH5y3eZ3wxmE8lskSSyyRvHV+P3XAe/b444+nzRgJ1H+cccYJr776anrfm8cYo4r69ifprfsAT+c666yTnep6660X/vSnP6XOi1tuuSXg0UQwpm644YZuHc142w8//PCUhmvC9ZtqqqnCZ599ljoUKB+hvePpzw+vOOCAA8LFF1+c9uPRKhPCD4844ogez0/nBN5RE1jQvmhvJ554YtaJs8022xQaXZzn3nvv3e3ZLoPKiGo54Ajw0uUh6YXeOEJsUHYIn7nrrrv87nDkkUcGHswSERCB3y6BHXbYocYjhEJfJVtttVWgR9YLigleGi8odBgKY401VrjyyitrwvdIh/KCMm6CMnH22Wfbz7Tk+USY1LfffpvCwExZtEQo8EW9wra/t5bvvPNO6uU3YwcFHsXVfjdjUGE0ETGA5JXtvJJcZMz21jmWlUvo09/+9re0m/PGaPJKJCFyp556atpf5kkpKhsjaZ999km79txzz7DGGmvUJPOcNtlkk2TAWwLGbxG2hMFAu8Ob9/vf/952p+1///vfM6OqyBOQJY4reFsx+lFGUbQnnHDCZKiUeaiuueaa5FmlDNo0SjghYSaEgmJ0WvtAwcbY8vLcc89lIVR0KjQbMsk73owklF28a77DFMUYLwWhiMidd94Z/vCHP/gq9Om6v749eR/gESQME8EY9l5A7i884rafdks4pQn7ef5Yu6LzZKKJJrLdaXwfxrF1ZBfdn3Q08Zxae+21kwc/y9zgSrv58WRayCGdWLRrk48//jgsvfTSmefu7rvvTs8x209HBu8HM8R5N2BA0p5lUBklLQccAXpQeIibEFrAy8l6M3kw8HKzMVWko6dil112sSxaioAI/AYJEH5nvbT0XOaNmnpI6LDh5WqeBdLnPVAovDvuuGP2YifNaqutlno+Wad3mpc1L2oTlD96TU0IiUK58B4svBB42DotMMIARDAaUcrwjjC+AGnGoMIrYexuu+22MMEEE6Qy7J/vLGMcEMZCXwq91ZdffnmqAko7nXZeCDujPdi1RAHzBpdP69dN8cMgwdguEkJNUe7wPGGkm3gjr6hOpPMGxwknnJAUZcufX6IYE8KFoGSjMNMhWWZQ4fWwdyudC17ptrK//PLLgJcRKSrHh2Ux/tAbQ1ZG2ZL7i/FRVe2IvHjd8OwiLPNGa9rRR/964z5A74E5bbHMK/fmm28GhkEgXEc//hGDgjFGCO3BPIhpw//9g7ltLzKaOC73MO0bHaxZaSc/XlHrNKejgXsm3678MJG8l2qzzTYLGFnI7rvvnhji4aVcGVTNXkmlH2oIEPrCA9+EFwBubS/edc12PFjmyvbptC4CIvDbIUA4iI1ZQbGwsKlGCXhlljyExTCOKt/D/vnnn9cYGmOOOWYa0E0eQpLolfaCNyo/zsP34ltalJ6q8ChL15NLDCrCZRh3YMoYvb/NGlReycawpTe4SBh3RjgR58n59qXQWYeXAy8l4yqs087XyXsbUOIaGUuF4kgbgSde0CLx7zlvtN54442ZAcS1KfK8kJ5xagjK4VprrVV0iBQiSLgegrFMyJYdt8gQIt1cc82VlPa8occ+L1YO2/LGMxOxMAaR+8Z3Gvj8ZesvvfRSCnFkP20Fb9jQJL11H2AsMXYKwVOFtykvdAgxBALBMDJDmt88b+x+w/jMP49IQ2eQjekr6qQ2Q/GQQw6pCb0jbyPSTv5///vfmQHN86po8gnqP3jw4NRRgfFF5JIJBhWhsoTIWogtaWRQGSEtByQBGjhjEBAeEPRG5HsiuCl872a+N2JAgtFJiYAIVBKwXn8SWQ8rM21h5DDjGrNY5Y0jX6Afu8J26+Wl15xB5q+//noahI8Cnp/Bysqhd598JqS97LLL7Ge2JBSL2Uq9NKqw+zztrmPsEdJFyJtJKwaVV/LLFB7KJ0QMxR5pJRwsZeyBf1xTC1WrCufzRjYhgHhPekIIT0LBo7PQwqwaLReDFGMDYaIJ8xb5/Jwf7RCvGsYrecYYY4xKgwoviI2NqddJafXnmEcffXRSZO345vW0c6NcQksJy5pyyilD1Sx03oDFE8cYH/K/++67AaPif/7nf9IMhXas/rbsy/sAvmZoYHyVGfNlzBg3anny19Qba9bmeKa+9dZbyTjjulZN3d5uft+JXhXmat5h9EbCV00w+gmBHGmkkWxT8njJoMpwaOW3SMC7te38UYToWZOIgAj8Ngl4BRkCKAZ4HPKzN/Gipdeenu+8R8KHgFEGIXiMO2HGM168XghZQxH34xTY/9FHH3XrPS4KFSvyUDFDYX+YCroVg4rQNgsxqjIMfU9zfhyI59vb6++//34K9eE4TEyRn7TBju89DoytY+a+doUIDDw8SLOKL8YFHjCb/Y7wOjykeeEaMH4L8WOMzbNU5qFifBZGNu2+amIWOidMCLf3kyVYhyceAAxQPMUWwkcevCh4WAiFzXeWMrMhMxwi3DdMO0/0iYVdsp1OEbwddKRWdZCQttPSl/eBceeczehp5Px5dhIOZ22StkF+H97q7wNCRxlvaOO1OAZGO9eUjizrqPDHbje/PZPqebY9g3rhpvJQ+Suk9d8cAW5KlBgbjAqAvGv7NwdFJywCIhD8CxscvHi9EpZHRJgU44W8UWXKpqUldM17wm27X55yyilhvvnm85vS4GibiY0djLFCubUeXOrFsWysimXOK6a2vdNLU144rg9Hq6qHnxKZ78OUeSG8xweDlbFjfSF+TEmVR426WRhcT4xzYwZAymH8FMYACnh+eukqHii6jK1CMGC9N9TyUTbjQ2hnjOfzszdaGy8zqDDqLf25556bhYBZ2SyZbdBCCflNmTaeid+E+xH2V+8eJDSWNuCNKpt4gfFneN7waJYJYYl0phYZlGV5ent7X90HTKeOMYPkr3nROWN44LknGgjj3J6V5OUbYvn711/zeteVcGELPbRjt5sfgx0Du8zjb8fxHk7CZ/neWpnIoCojo+0DngChO/Ro2exCnDA3Ng9uetMkIiACv10ChJ6gROaFUDaUA98JY2mYGIJZ1kxs0LT99kuU3x9++CFTPPw+Qvp40ZugJObDuAh/IiSRWf4Y7J/3eJG3auyRld2JZSsGlSnR1K/KCGOGNjNA+3K6eO/BKZq63HO2sXllRohPW7XOGA+mAzfvUtmkE2VlMMMZIU0IxgTjvoYffvhuyf1U8PmJJeoZVCit3tuU9yJiENOpabOlcfB8yKSfHIZ3Mx0FhLfiCcH7hdFmHQ7cczajH2Xxjsfr5gUj6y9/+UuaBROvw3nnnZeNzeK+w6NVNCbIl9Gp9b64DzBW6LTBKEInoj1XGRKwIL21Q2MDSzqaMHS9kct+b7Dxm490c+2YeIZxq3gzrfOJOmBU+Q9Xt5vfwrnrdaD7sEU+UM7nCspEBlUZGW0f0AR4UKD48DD2Qm+ExXz77VoXARH4bRFAOUBJMOGlTi8sL2KEZwjKjg9jwtiyaXhJQzgX3hUvpMGDQagg4Vb33XdfNjjc0uXDthr5KCl56cX1Ss2WW24ZGDzd19KKQeVnZ+U5XabgesMXRRqlrC+EqbbhjdQLGTdlrp3ZwGg7jHuy9tfshAteIcVIwXNTNGGFT8fEIBg3XuoZVKT141X4zT1AGBedEmYIEd5lk0flz8UMUIw+jB++6+WFsT4YbVaWD4nN34P56b8ph1kyCfezWdvyRp8/VqfXO30fwBIjyDpo6rVl48H4Ij4+zVhOwl8Zl2RlYFgxOySfTzBhDBLMkbJJKfBo4t1CCLm2STT43W5+Pm+AMc+kGRynTAhFZKIWpF5HiQyqMoraPmAJoJygZOSNqf70EB2w8HViIjCUEGCMhv9gKj2TeBS8oDzwEvXjOVBwzcNd5FliMD/f7vHix0mwvchzURSe7MtAOcHrTi+qSdVYHkvTiWUrBhVeOsaaIcyMyOQBReJD7YrCJYvy9MY2/5FQxu0sv/zyhYdBebd2xLg7mwyiMHHJRjwzfPrD2mfeK1OSLdv8wgsvpHAu80Dke/8tIR9oZjY/zo2QOZTLvAerEYOK8miXfpY0OwZLPMGEGtq4M87NZh1kP+Oc8cbx/ayyMU5+Yg2Mrtlmm42saXZI2g/CvVpWBx9CljfoUuY++tfJ+4BnDB5PDA2EsWo2U2ezp4/Bj05lsyXnOw9oe0wsgmAol4lNVpL/LEK7+flUBSF8tKeqmSN9yCXPGjrWykQGVRkZbR+QBDCm8Ez5MD9OlFmE+M6MRAREQASaIZCfeMLPZpXvmafcovA1psTOT0ZR5JVBkX755ZdTuMwjjzySZgZEGWGcAuEw/tsoHIsJNFBk+lpaMai8oVT1fPY9yPXGOPQmBz9FdJVn0HvUWh3z5T/0jBLH73xIVdm5YpwQXoVCihR9RsTyso86IiyLZv8j/I6xe7RDQu8QPBF+AoK0Mf5DYcfjxbfdCNVkxj2MS4wfP7lIvW9hWXl+iXfEJmDxk334To0qw5NZ41Da4cK9iCerP0in7gPaL94862juKW+vzZIHS7zxzAzZjPjr98QTT3Qz6OuVVZbfG0pV5cKB2SHrGV7UQwZVvauh/QOGAA9zegR9SAy9DfScFc0iM2BOXCciAiLQNAHCkfiGjQlKFj3kebGeTtvuP3Lp4+/ZX/ZS9h/AtHLqzShl6WzpJw6wbffcc08Ya6yx7GefLVsxqPyseXiq+MZTkTBuiIkVkGaZFZXXzjZTqKq+WUZvuIUutRIV4SeRIEwOAz7vNSo7B4wOvEDmUa0XzuXH75SVWbT90EMP7fbttKJ0fptXcP3093g6rL7cP0WGGuXQ/i0cl44FC7/0Y9uYyKXsg73eoKoXBubr3dvrnbgP8EQSUmchj94gLTs/Zh9lDOjII49c6jUkL95P7n/Et3emSMd4JZS36LmaMsR/tCU8jogP5Ww3v48KIFyREOwisbFhdCbYc6YoHdvs/s9748rSN7t9UATW1WwmpReBnibAzUfvix9IzsOZFwrfO5CIgAiIgCfAAH0+TmvCGA16473Qy85L1Hr72efj7IumPPdKhZWFBwYvgwnhVbzwEbxSKOgcy4QXe36sJ2FSHNvEvtljv/ty2YpBxXlbRxdjbpjuOm844NlbfPHFE//8d2L64nwt/I1jU18/iN7qY7OL8dsbDra/asn15TojGPgY72XfL8uXwzuQWdvsQ9VFY4nyeXrCoGKSJ7xi1JPxVzYzpT+W9y7h6cIIMvH7qhR9P3U89y1eOMR/FqXK0MXza2GaLAnb7A/S2/cB5TNGiOuEVHlXPQ8bm8aziunO/eymPp3v8PDPRr4dx7g9OrXxTvrvOfn8NtaJdHjrTNrN77/vVTbbJp5UGzNo3yG04xctZVAVUdG2AUWAl+7666+fxQXbyfHyK5u5hl4TXtQSERCB3yYB3+NtBHhm0MPNLH/PP/98mrrcxhuQBsUfQ8iHXxG+xCQUJigGTG7B1Nn08KJ4E5biJT8AGy/EaaedliVhjBaDtQmV4uPAlJEPUerJj8ZmB25xpcqgwjNAyBjPaTwufvIJbyQWeRd86FuVst1itZvOxnUwoxvlKj9exyv9+R7vKg5UhNn1OEeE0DTaVJm3JiVy/5gJEgXYQt0bDanDM4QhViWM0yPqA4OWMTcIM7XZ1O3MmGfGCe28aFp7b7gVpWF8FW2Edn/55Zd387rmJ23Jz0Tow3KLprQn3I0ZOm02QB+2W3XundrXzn3Ac4x2R2hlkYHPhBB08iC0EWtj9c6NMDibTbFsdkk6lPDwmIeRa4hHC2Gd64rg5UdHy4v3IuGhtjGVpGs3P55PxmfZxBkY8X4sF4YmdbdO+KKOsHx9ZVDliej3gCOQV2gaPcGisQ6N5lU6ERCBoZ8Aho3NotbI2RQpYkwUwdS83otVVRY9voxd8d/CKfJ0VZWRH8BdlbYT+6oMKq+YocCg/Jr48UYYoih/GF0YH+Qzbw37br/99kyJt/ydXuaVNCYKYZA/RiIKILPkoeAieQWtigMzRaLsmhx44IHdZrqzfSwJWSMCA2ESDLwOZiww4xpTiZcJ7a6Z8cSEL+JpK5pIhWPwXaIFF1wwa/8o7BhVjLPC+8TU2KbQ0/bxlPgOCcrwbDCqMLrwwOLtIsyTsYI29iffhsjvvVz8po0x7pA6PPXUU4HJTIwP5TL2Me8NJV9fSav3Ae1x8ODBmUGTnxDHh1lybhhGZZ4m9vMcs2uDEeunEMeTQyc0RhudI+hPtFNr73RG+W+LUTfuZdtPfowmJp/ByGHWTJvhj/sbb9bkk09ONZK0m59CfAcIHQJ00EwzzTSBc+NZbt8sy3d+/P8adP8vg6o7E20ZYAQIi2DKzmZFBlWzxJReBAYWAV6sfLPGxhZUnR0D8m1QfD4dyh494KY85Pfbb6Y9R7nzxpTtQ6lGQa9nmFEG3qpmB3/bcXpjWWVQ+X1FYXte6SmrGwrwHHPMUba7o9sJHWPyg6rrxEB9vrXkpYqDTRvu01et+3A+P710VR7b12yoaD2DinLxkKBQVwkGIB0JRbM5ojyj4Np3icrKYUZCvBim9Pt0jbQjjEJ0hfy07L6cvlpvpP75+8CPv6Le3mvNs8jGnDV6TkyE40Pz0JG4/vWeaxj0pMsba3j32W4erKJ6YEwxNGOGGWbotrvd/HTMEDrIOK8ywYBn/7jjjluWJNsugypDoZWBSgAXP16qZoSb2MfrNpNXaUVABAYOAZQ5jCXi/4sUB3rVUeII4asSJsVhbIdN4ZxPu8wyy6Se8yplDsUDrwwegSLB84CiXlVGUb7e3oZHAWW56LnqlbKyyQwwCggbyytehOgQcmZTZPf2eTRaPooevfMMoveC0YCHBsU/L1UcmjWo/AdI8dxhzDcqZZ6msvwYShhM9SZyYFpyQvv8pFBWJm2fOhIyWyXcg7zP8+2AfH/961+TB6TImLIyX3311RSSaWFctp0ldeA+tpA0v6+/rLdyH1i4IB0tGFwWJtqKQeUnhTAmlEMIMx0++euCp5wQabxkZYL3nXu46JmGZwiv7nTTTVeWPbSbn+c7hjoGe16oNx1q+c9c5NPZb5vivSjc19K0s9SkFO3QU14REAEREIF+QwCF4bnnngt8/BIPEMaUj7tvpKKM12D2QBRMvmPFx1RRdpqZjY8wLjwhKIj0sk400URpCmobt9JIPfpTGmYZ4zyqwqw4ZwwVvl1DTzfsmVCoSoHu63PkGjHGjes8/vjjh2mnnbamhz9fv0Y45PMMbb/pWGD84bvvvpvGRBHGhRegGSGED6OINoPnouiDxFXlkZ+2RGga9x1hXlUzzVWV1el9rdwHhF16z1Jv1ZnxdrR3OnQmnXTSpu5NzovnIh9nxkDGiKp6HuTPod38tEvaBG2Djh9CF8vG2OeP3anfMqg6RVrHEQEREAEREAEREAEREAERGHAEZFANuEuqExIBERABERABERABERABEegUARlUnSKt44iACIiACIiACIiACIiACAw4AjKoBtwl1QmJgAiIgAiIgAiIgAiIgAh0ioAMqk6R1nFEQAREQAREQAREQAREQAQGHAEZVAPukuqEREAEREAEREAEREAEREAEOkVABlWnSOs4IiACIiACIiACIiACIiACA46ADKoBd0l1QiIgAiIgAiIgAiIgAiIgAp0iIIOqU6R1HBEQAREQAREQAREQAREQgQFHQAbVgLukOiEREAEREAEREAEREAEREIFOEZBB1SnSOo4IiIAIiIAIiIAIiIAIiMCAIyCDasBdUp2QCIiACIiACIiACIiACIhApwjIoOoUaR1HBERABERABERABERABERgwBGQQTXgLqlOSAREQAREQAREQAREQAREoFMEZFB1irSOIwIiIAIiIAIiIAIiIAIiMOAIyKAacJdUJyQCIiACIiACIiACIiACItApAjKoOkVaxxEBERABERABERABERABERhwBAZ1RRlwZ6UTEgEREAEREAEREAEREAEREIEOEJBB1QHIOoQIiIAIiIAIiIAIiIAIiMDAJCCDamBeV52VCIiACIiACIiACIiACIhABwjIoOoAZB1CBERABERABERABERABERgYBKQQTUwr6vOSgREQAREQAREQAREQAREoAMEZFB1ALIOIQIiIAIiIAIiIAIiIAIiMDAJyKAamNdVZyUCIiACIiACIiACIiACItABAjKoOgBZhxABERABERABERABERABERiYBGRQDczrqrMSAREQAREQAREQAREQARHoAAEZVB2ArEOIgAiIgAiIgAiIgAiIgAgMTAIyqAbmddVZiYAIiIAIiIAIiIAIiIAIdICADKoOQNYhREAEREAEREAEREAEREAEBiYBGVQD87rqrERABERABERABERABERABDpAQAZVByDrECIgAiIgAiIgAiIgAiIgAgOTgAyqgXlddVYiIAIiIAIiIAIiIAIiIAIdICCDqgOQdQgREAEREAEREAEREAEREIGBSUAG1cC8rjorERABERABERABERABERCBDhCQQdUByDqECIiACIiACIiACIiACIjAwCQgg2pgXtcBcVa//PJLGHbYYQfEuegkREAE+o7A119/HUYZZZQwaNCgjlbip59+CvyNPPLIHT1uXx6M5zYyND67f/3118DfcMMN15cI07F//PHHMMIII7Rcj3bz9wcW7Z5Dy/BayNhbdeX5Mfzww7dQo57J0lvn1Wjt2j3/TtZfBlWjV1Xpep3ADz/8EK6++urw1FNPhf/+97/h6aefDuOMM06YZZZZwgwzzBAGDx6clr1eER1ABERgqCbAS/i6664LF154YXj++efDN998kwyqOeecM8w888xh1VVXDRNOOGHdc3z11VfDeeedF8xIIMPaa68dpppqqtK87733XjjttNPCHXfcEd58882UDmPuz3/+c9h0003D7LPPXpq3L3Z8/vnn4dRTTw0YnSOOOGLYfffdm64Gec8444xwzTXXhNdeey3ln3baacNqq60W1lhjjbYMg6Yr02QGru2VV14Zzj///PDkk0+m3BNPPHFYbLHFwuabbx7GHnvsJksckrxZtg899FBqO0888UT45JNP0vtvjjnmCPPMM09Ya6216hqpDz/8cDjhhBPCo48+mto878+55547bLXVVmGaaaYZUrGStS+//DKcc8454cYbb0z3Dcm4X2adddZ0LbmmZXLggQcGlNd6Mv/886d3eVE6rgVtyN+3k002WbpnFl988XRNivL11Tbu7+OPPz7cc8894f3330/PmJlmmilstNFGYeGFF265Wvfff3/497//HR544IHUJrmOCyywQGoHK664YhhmmGEKyzZuhTvdxokmmihssskmbkvtarvtiGcuTNDj0OfGHHPMpMfNOOOMYYkllgijjTZa7QFzv1o9fyum3fpbOc0uZVA1S0zpe4XABx98kF5ejz/+eGX5++23X1JoKhNppwiIwG+WAM+SddZZJ7z00kulDDBwjj322FKlp6urKyl1e+21V7cyzjzzzLDQQgt1286G2267LWy88caF+2wjddt7771LlSJL14klCvwWW2yRlHc7HkZkM/Luu++G5ZdfvqYMnx8lCmNl9NFH95v7xToGwIYbbpiUv6IK0U4uu+yyUGVIFOVjWzNs8Qbts88+4YILLigrLtAZQJsdb7zxCtMcc8wxgb8y+cc//hFQxssEJXiVVVZJhlhZmsMOOyylye+HY6OM6FTYeeed80UEjDnuDTNquyWIG9iPwd+O566o3Fa2/ec//wnrrrtuaVY6bQ455JCmveIYtOg5ZbLccsuFww8/vJABHRgYE/WEexLDtUjabUcYdXvuuWdR0WkbBjIdTpNPPnlhmnbOnwLbrX9hpRrcKIOqQVBK1nsE3nnnnbDCCiuUvpDzR95pp53CZpttlt+s3yIgAr9xAp999llYZpllUm9xIyiOPPLI9OzxaTHIdtttt3DXXXf5zdl6mUF17733NtzZg9G16667ZmV2euXnn39OPeso6HlpxqD6/vvvE2/zStErv9JKKyVPBZ496yCbb775kuej0yGX+XPL/95ll12SwcR2FD3eK/Se33LLLclrxXa8AzfddFNa8ruetMIWBfnkk09ORWPE4T1A4cTrcdVVV6VoDXbiGcV7lPdQ4GHbYYcdsvxbb711Oh+iPPw1vuiii5LHKiV0/3gHL7nkkpkxRTQIHjpCzSiDNm+CB2yppZayn2lJPf/yl7+kdTyxnEOZLL300uFvf/tbzW48U6uvvnryrLGD88Qj9/vf/z688sor4dxzz830A4yqfffdtyZ/p3/QWYOnxWSDDTZIXOEAb7yLyI477pg6ii1dvSWGBkYYgpeUewnPIvckhr3dZzzjjjvuuG7F0dGD1wzjFi9UmdDWizzR7bajk046KRxxxBHZYfFOTz/99OGLL75I3ja8Vgjt49prrw2TTjpp+m3/2j3/dutv9Wh5GXviJCLQpwSiy7wr3uDZX+w96Yovl64777yzKz5EuqKrP9tHugUXXLBP66uDi4AI9E8CsZe/5lnB8yL2IqfnSFTwu2LoVM1+fkcFODuZ++67r4vnj38e5dd5LuUl9tCn55JPSzkHHXRQVwyF67aPdM8991y+mI78fuutt7qipyI7R56n/nczlYCpnfP2229fkxWuK6+8cra/iFtNhg7/gL/VHQbffvttTQ2iYpjtj56Zmn1lP1phGw2G7DgxvK/r008/rSk+hq92RcMvSxONvZr93333XRf57FxefPHFmv133313ti96EruiN6xmPz9iJ2WWJiq13fY/++yz2f5oTHUrIxpd2f6PP/64W/56G3jPW/2jB6vmniQvTJZddtksTTRc6hXZq/ujVzeryyWXXFJzrA8//LDmGfLRRx/V7C/7EY3K7Dqi81COF7gussgi2XGjR8/vTuvGMHYAdNtXb0O77Yh2Ze2Q5QsvvNDtkKeffnpW/xNPPLFmf7vn3279ayrT4o/QYj5lE4EeI+AfEjwQ8i8EHhx5Jefll1/useOrIBEQgaGfwBtvvJG9rE2xiD2WNSfGsyRvVMXQlyzNUUcdVVMGCqgpCVZmkWFw+eWX1+QjbRw7kJWLwZU/bvSGZPs7uYLCbOcSQ6+64viyrhiik21rpi7+nKKXo1vWxx57LCt3zTXX7La/Lzd4I+WGG27oVpX8eydvcHXLEDe0wpZrYNejTBH+6quvkjJNW9xmm21qDk0bt/x0KBTJ+uuvn6WJIWE1SV5//fVsH8aS72DwCc8+++x0L1AH37ZJ4422svy+LL+OIl2vHZE+jivLjo8h31cSPUAZLwyfovM95ZRTsjTRo9dQVb2BX9QeKcQbnjG8uKZc7mNrB9x3zUq77cgb1Zx/mdi1xkD20u75t1t/X5dW12VQtUpO+XqEAL0uPJTsj5dckfgXAg8Nbl6JCIiACBiBGBaUKRQ8I+IYhm496aSNYTNJAUQJ5A9DzMQbVDF0JylLGFWmqLAsMqgwjnyaImPpiiuuqElD+hgyZ4fu2BKlnw6qGHKTHbMVgypOuJCdz6GHHpqVlV8xNhyzP4l5PFgWeW2oq29TcYxR3eo3yxZjwjoL42QndcsvSgB7a3t5r4al98pqHM9mm9OS35b/kUceqdnX6A9TZjG2mhU8GXb8vNei2bI6kT5ONpPVl/Uiwfi2jhi8WY0I9yOdy/yVeeDi+LLs2Bi4Xryh559pPk3VervtKIY8Z3XznVT5Y8YwwJQOw8pLu+ffbv19XVpdl0HVKjnl6xgBel7spcODl/WiXqGOVUgHEgER6HcE8p0u1oOLdwivN79RLKueHRhUKDQoLib1DCrKM4XQlnGsgGXPlkXp4mxW2f5OrcQZ4LpQvry0YlB55a5MseQYXmFvJRzM17On1jFk7FpVhfNhRFm6Mu+Rr1OzbMsMnTiOr4vwUzxBVe2VY8dJNVId8z3+vl6s2zv0gAMOqNll4WvsN4kz7nZx7nQ4NHLNzDNH6ChCnfF84Q3D8K4SHzZqYWLkxyjg+JTTn4QQXmsTcWxQadWMK53FPSVx/Fx27PwzBg+e1cu8qXHG0S6M5CLvcb5O7bYjjHk7Pude1ElBu/Zp8nWo97vq/Nutf71jN7JfBlUjlJSmowQItSBmmgcq8eI8kOwmZFnlTu5oRXUwERCBfkPAQknsWcHYFO9hsO0ojrzwi3pxMbxMGbETq2dQ0ZtsZdsSL1iR5MObCeHpD9KKQUUvtJ1vlffG9+hjcPQHiTMTZnXPe2x8/bwXLg6497saXq9i6xVEjOsHH3wwGfTGlSXtlXFFcQrqwmMy/ot0tOkqMY9c3hNmbRKPbpz+vitOf56xsXoQCnj00UeXGndxIoWsDrSL/L3IPWQe33wd4wQT2fG49y6++OLM+LPj4+2JE8V0xcke8tk7/tuupzdAiyrhPSb1jOKi/PltlOGfRfmxdrfffnviSL3o7PDjIuFIOyEktMyL2W47or5+3CFjKnnGYlhxXekg8O2CzoRmpN7590T9m6lPUVrN8tfydB7K2FsEmD2naMpjZoZh9iK+8SARAREQAU8gPw3veuutF2JYjE9Ssz7++OOHSy+9NPzxj3+s2Z7/wQykUUHJNudn+YtGWJohLUsQV5gZrehjvtQp9rpnSZnpr95Ys10mAAAOsUlEQVQ061niXlxhenibsrvRWf6YzSwq2alWzOY3xhhjFNYwGluBmd0QZrOLE1UUpuvkRr5zwyxyCN/PqvpmEN8V4jtm1Jv6NytVbOOEBmlGScpkZkmb4a3oGLz/mKUvKszZbr7dON1006XfzAzIrIVlsuWWW4Y4NifNVuin1vbnR7vlepUJs85FQ6Hb97CYYTCG/aXZ22BVJtxLzALnP/q87bbbpim8o9KfZgq0dlhUBrPXsX+sscYq2t2RbTY1OdchGo+lx4yGevo8AglimHCYZJJJStM2soNZIK39MUMf0/17iZ0z2fWnrZRdB2ZQjEZrDcOeaEdWF2bEZCbmsuPDjc9GRCPZsjS0rDr/nqx/Q5UpS1RkZWmbCPQlgbxHynqp6BnqLz2cfclHxxYBEaglEF/eWS+3PS/80nov/TbW6TGlV75KfK8weaJyVJOcsKZ8uTUJ3A8/AQF5qsLNXLZeX7Ved+rUqNADbeddlYeedEuHl6M/iB/cX288rr2PmLGwFalii9fL2NgyGmDpPUe7ZHIBQvRsH94H7/1k3fblx9Tk6+rLYUY0xIc+WjncE3iZ8OLhfb3++uu7/P1TNPEFE474/OQh3IxQM8oyLxhp8vmZhdPy2pKwOsL/CKkj7M+H8+JpIySxr8TGRsWOkMoqEF1j58P4onYEnlYW3kLCmPPC5BeWhmX8WHdqK3j1eGZRX9sPQ2sDlNNuO7K60J44FnW0Y+WXtMNGQhCtTJb1zr+n6u+P2cq6Qv5aoaY8vUqA0ANeHPkb0X7zQC6Kz+3VSqlwERCBfkuAcBB7PvglSoSFxqBAFCmw+bEI+ZOsZ1AxzsUfk/WyEB9Ct3za+C2Z/OH65HeV0l9WIR8aVqXgEvZj5xw/2llWXEe333rrrVmd6o1jMwWaa9eKVLHNt0fC4orEf1rET9zgjdX4QdOirNk2PzW6vT/zBhXG1Ntvv53lsRWMKx+ulZ9MxYxOFGlmJMwLYWbeqPLKPCGI1j5YYkDlhfYVv/WUpWt18ox8ua38NmMBPaVK/Myf9Yz2qnJ8hw3XoGzCCm8w52dKpnyeSTauC86El5q0246sHB/yhw7HNWNcKjpb/jnaaMhfI+ffU/W382h1KYOqVXLK1+sEeOjysotu7uxBag/eGPrQ68fXAURABIYeAl5hs+cE3/DJSwyXqXme1POa5BUBemC9+Nm17Lj0zheJjWOxdFXjd4ry99a2KqW/7JgXXnhhxrFoPJrl4xlu5xs/lmyb+3SJwml1QvEtExR5S8d7qBWpYusn7OA4VWKGXX4MlHU+YjBVCQYAx6A9e7H87Ksa0xfDYzMWeYOGiSNQkKvGOPnxYijJJjEUMSu3ahyY/16XNyqtnE4t47CDVF+uR5Vg4FrbqecFLyuH73/Z9WFZ9bkYJnzgGuQnnPFl+4kj8tO523FabUf++tLGip6B3tOEcVhkfPv6NnP+7dbfH7fVdRlUrZJTvo4S8A8nHlKthl90tNI6mAiIQMcI2CxPpsSwLBIfikOaet9HqmdQFYUbMuNWkdhL3+rYyMxxReX09LYqpb/sWAwyt/N44IEHypJ1+Z76/jJjG511VvcyrxAn5L1rVcZG6cnHHVVsvYJJfaqE709ZnX3IlxlKTEddJWaQ5RVm3xFRdX1Q5u34rUzQ4Sdv8fnxXli5rJcJXjW7fwgT7Cvxuoi/Dvn6mEewnuGVz2e/uRZ2vvBp5dtSVpZf2vXOM2y3HXnve9XMjn6ioHznlK9ns+ffbv39sVtdl0HVKjnl6xEChNv885//zP7Kxkj5maJ4uPCgkYiACIiAEfAhLzwjyr5px5gOU+BY5hULK8+W9Qwq0uXTEKKVF8J+/HFZL5txK5+3t39XKf1lx/Yz5eGtKhPGidl5l4VCluXtze02LgiPQ5mg8Fndy95NZXltexVbP/aDDoEqMc8I9fEhd1Y+insZX2bOtfPwxgzH82PhikLFrE7eq+fDCzkmYYL8+VA+y2dLvFdWB8LATPx4tqoP9nqDCuW5r8Q/P6p42TMh71FspN4Ynz7Esl5YKmWSh2tQZcyQzsIz853S7bYjM/7qGfa+zft2QN1MWjn/dutvx25nKYOqHXrK2zaBfA8dD0qL7/aF27Ss9kDmZSgRAREQASNg0wbbMwIF08ZPWRrGjOQ9WVW94uQzxcjKLepV9b3WpEO5yCs2flA4aRiL0V/ElBHq1aj48Tc8j4t66+FvihaKXH8S3w4IJysS6/WGSyPfYyoqo4ot7zpTnOEE0yJhu3HMezz8d5HKvGiEtXIO/OW9ot6DWGUYx9n1sjL8cco8T/nz4DtwVgemRjfBE2Hbq4xbb9DtuOOOlr3jS//9tby3zyrjvbd09DQjn332WWb0wKVoTFlRedZBUGXA+bFGeDy9tNuOfPss0uHsWJyPXe+icOtWz7/d+lv92lnKoGqHnvK2TYDvE9jNZUtedAz0JpSG3gz/MrA02223XdvHVgEiIAIDhwAvcXpd7RnBkjFLxOGjkNJ7m59ljzR+cHYRjUYMKu+tseNjQNm4EiafsO22rBq7U1SP3txWT+lHQYxTbnebXY1vA9n5FHkXDjrooGx/3jPSm+fTSNlXXXVVVreisTveAMgrqbS1Mib5Y1exJW2cbjyrB4P6i8S/A/lukxcfloixlf+Omjd4UHrz41YYZ2hhYOQvGg/31ltvdbHPrjVlesErwT6Mw3wnBunwkPn7iPK84E22sos+Eo3nC0+ypWG8Tl8JHjkzXqhPfnIFnjV+rGTes4lhzni0IiMencd/P4pOokaF0FXjEz9j0C0bbda3RTxtXtptR34mRs6vSDg/7iWrZ964b+f8261/UX2b3SaDqlliSt/jBJgm1m6wRpf5h1iPV0oFioAIDHUEGGfQ6DOEdAyIrydeESTPnTEMrEgIX2n02HinysKzisru7W1e0cofy4dkkc6LV2JQ1m+++eZ0XijpTBxkPNiHUt2fJK8YM0ifUDoUT0KsvAGRV4qrmOTPsYotafMKOB4N3m/Uj6WfTRGORQaPN2wxDj/66KNUDdJ6L1uZUeuNR4wixhniYeWPGRHNi8b15IO1efE8SEsoP8qxfdDVd3Tk2xBleaOPYzBZB1NrMynIQw89VGNMYXAUeUPzderN394Yx/NKpw1CG/f6TN4Q55p6lnTymHCu3mjEKMNwLPvLj1t8zU2hD0OuCe2AY9JB7dsIz5+i8Eyfptl2RMeU3e8suc7UEQObdojxZOGG7MeIp24m7Z4/5bRTf6tHO8tBZC77RpW2i0AnCMSXb4hx9oEPZtaTccYZJ5x22mlhlllmqZdU+0VABH6DBPhoJR++rCerr756iMprzUdGi/LU+7Cv5YmKcYjjUcK1115rmwqXE088cfpA6wQTTFC4vy82Vn181u/jo6DRaKqp4tVXXx1ixEDNtvwPrslcc82V39znv/mAfFTQSz9CSgX5WC4fzfVSj0lZ2rKPJj/zzDOBjz7HcUY+a8067z4+7DvllFPWbOdHnEUuxMlV0gelu+38vw2LLrpo4OOo/qO6Pu1+++0X4rT2flO39TgNdthjjz3CoEGDavbR9vlgb/z2Uc32/I9VVlklHHzwwYV1aKQdzT777OGss84Ko446ar7ojv5GbebjtFUfIebD4dHwCn/4wx+yusWZ78K8886b/Y4GblhiiSXSb+6rzTbbLNtXb2XWWWcN0ctdk4wPN/MB5yqJRnm6zkUfR263HcWOiPSh8mhMV1UhLLDAAiF2QNV8XLgnzr/d+ldWuoGdMqgagKQknSGAIoKxxNfa88LLhAcRLzLWJSIgAiJQRgBFeYcddih8lowyyijppY/ikVcMi8pbaaWVQgyhyXah0MWQn+y3X0GxpGMoht8UKukYcdtuu22NkuXz99V6DCMLcfatAJvYm11TDZ7HMZwnKftHHnlkwMDMC8oQCnn0NNTsmnbaacP+++8forenZnt/+vH888+HOI4uxKm8a6rFeyaGiAaMgLw0wsTyVLG1NCzjR2wTQ5TwvKA8Y7BMPvnk+V3Z7+gJCHFq9xDDrbJtthJnYAtbbbVVGGmkkWxT4TJ6X9M55w072gVlbL755pX3DIYzbT/fDuhEiJ7eEMdIFRpTVpk4k2DqlCjSAZZbbrlkjI088siWvE+X3OsYkFyXvCy55JLJ8Jxooonyu1JnD5xmnnnmZCDbNYlewcS4W4aSDRiX0QvVbS/PKoxe2rUXruHgwYNTWx9jjDH8rpr1dttR9CyGONFYiN6pbu2Ac4bNRhtt1K0d9NT5t1v/GhhN/pBB1SQwJe99AtGdH+jJi27iMProo4epp55aRlTvY9cRRGDAEYgDnJNiEb/NEkYYYYRAr/Fss80Wfve73/XqucZQpxDDtQLHRfEab7zx0nOM5dAoMTSH4QFh+OGHL60+z22UuBjGlJTuSSedNJ1zmUektKA+2oERznuHiIkJJ5wwYAxWKe+NMGnlVGLYWIgTMAQUUzwxMTyq0pDKHwMvCPljuF4y3Jt9f9Je4xin8MILLwSuKR4WFGFT/PPHK/odv4mUOjNoMzPNNFNq/0XpyraRn7bEOYw99tjpWow77rhlyft0O4YwrKgz1wujd5JJJqmsE8+HqrZVmbnBnXGsXLoGPANpA1NMMUWlMZwvtt12RHmwiaGIqe1w/OGGGy5/mF773RP1b7ZyMqiaJab0IiACIiACIiACIiACIiACIvB/BGRQqSmIgAiIgAiIgAiIgAiIgAiIQIsEZFC1CE7ZREAEREAEREAEREAEREAEREAGldqACIiACIiACIiACIiACIiACLRIQAZVi+CUTQREQAREQAREQAREQAREQARkUKkNiIAIiIAIiIAIiIAIiIAIiECLBGRQtQhO2URABERABERABERABERABERABpXagAiIgAiIgAiIgAiIgAiIgAi0SEAGVYvglE0EREAEREAEREAEREAEREAEZFCpDYiACIiACIiACIiACIiACIhAiwRkULUITtlEQAREQAREQAREQAREQARE4P8BB206bREnyEYAAAAASUVORK5CYII=)\n",
    "\n",
    "Cara baca :  \n",
    "Pada bulan januari, ada 827 customer baru.  \n",
    "33% dari 827 customer melakukan transaksi 1 bulan kemudian.  \n",
    "41.4% dari 827 customer melakukan transasksi 2 bulan kemduain.\n",
    "\n",
    "Hal ini menunjukkan bahwa sekitar sepertiga customer yang melanjutkan\n",
    "transaksi setelah mendaftar pada bulan januari.\n",
    "\n",
    "Sedangkan pada kohort bulan februari, ada 569 customer baru dan hanya\n",
    "22% customer yang kembali bertransaksi sebulan setelahnya\n",
    "\n",
    "Buatlah matriks kohort retensi per bulan menggunakan data dari 1 januari\n",
    "2019 hingga 30 november 2019 Petunjuk :\n",
    "\n",
    "1.  Hitung tanggal berapa transaksi pertama customer. Disini kita\n",
    "    menggunakna asumsi bahwa transaksi pertama pada tahun 2019 adalah\n",
    "    transaksi pertama customer."
   ]
  },
  {
   "cell_type": "code",
   "execution_count": 11,
   "id": "c59d41c4-36a6-44e8-82f6-574be7e3435f",
   "metadata": {
    "tags": []
   },
   "outputs": [],
   "source": [
    "#Filtering year 2019 only\n",
    "df_sales_2019 = df_sales[(df_sales['Date'] > '2019-01-01') & (df_sales['Date'] < '2019-12-09')]"
   ]
  },
  {
   "cell_type": "code",
   "execution_count": 12,
   "id": "2f1229c8-25bb-4107-bd65-df5a4ddfe3cb",
   "metadata": {
    "tags": []
   },
   "outputs": [
    {
     "name": "stderr",
     "output_type": "stream",
     "text": [
      "C:\\Users\\User\\AppData\\Local\\Temp\\ipykernel_180\\3276824710.py:5: SettingWithCopyWarning: \n",
      "A value is trying to be set on a copy of a slice from a DataFrame.\n",
      "Try using .loc[row_indexer,col_indexer] = value instead\n",
      "\n",
      "See the caveats in the documentation: https://pandas.pydata.org/pandas-docs/stable/user_guide/indexing.html#returning-a-view-versus-a-copy\n",
      "  df_sales_2019['TransactionMonth'] = df_sales_2019['Date'].apply(get_month)\n",
      "C:\\Users\\User\\AppData\\Local\\Temp\\ipykernel_180\\3276824710.py:11: SettingWithCopyWarning: \n",
      "A value is trying to be set on a copy of a slice from a DataFrame.\n",
      "Try using .loc[row_indexer,col_indexer] = value instead\n",
      "\n",
      "See the caveats in the documentation: https://pandas.pydata.org/pandas-docs/stable/user_guide/indexing.html#returning-a-view-versus-a-copy\n",
      "  df_sales_2019['CohortMonth'] = grouping.transform('min')\n"
     ]
    },
    {
     "data": {
      "text/html": [
       "<div>\n",
       "<style scoped>\n",
       "    .dataframe tbody tr th:only-of-type {\n",
       "        vertical-align: middle;\n",
       "    }\n",
       "\n",
       "    .dataframe tbody tr th {\n",
       "        vertical-align: top;\n",
       "    }\n",
       "\n",
       "    .dataframe thead th {\n",
       "        text-align: right;\n",
       "    }\n",
       "</style>\n",
       "<table border=\"1\" class=\"dataframe\">\n",
       "  <thead>\n",
       "    <tr style=\"text-align: right;\">\n",
       "      <th></th>\n",
       "      <th>TransactionNo</th>\n",
       "      <th>Date</th>\n",
       "      <th>ProductNo</th>\n",
       "      <th>ProductName</th>\n",
       "      <th>Price</th>\n",
       "      <th>Quantity</th>\n",
       "      <th>CustomerNo</th>\n",
       "      <th>Country</th>\n",
       "      <th>total_revenue</th>\n",
       "      <th>quantity_category</th>\n",
       "      <th>total_revenue_category</th>\n",
       "      <th>final_segmentation</th>\n",
       "      <th>TransactionMonth</th>\n",
       "      <th>CohortMonth</th>\n",
       "    </tr>\n",
       "  </thead>\n",
       "  <tbody>\n",
       "    <tr>\n",
       "      <th>494247</th>\n",
       "      <td>540098</td>\n",
       "      <td>2019-01-04</td>\n",
       "      <td>21623</td>\n",
       "      <td>Vintage Union Jack Memoboard</td>\n",
       "      <td>20.45</td>\n",
       "      <td>1</td>\n",
       "      <td>16241.0</td>\n",
       "      <td>United Kingdom</td>\n",
       "      <td>20.45</td>\n",
       "      <td>Populer</td>\n",
       "      <td>Populer</td>\n",
       "      <td>Super Populer</td>\n",
       "      <td>2019-01-01</td>\n",
       "      <td>2019-01-01</td>\n",
       "    </tr>\n",
       "  </tbody>\n",
       "</table>\n",
       "</div>"
      ],
      "text/plain": [
       "       TransactionNo       Date ProductNo                   ProductName  \\\n",
       "494247        540098 2019-01-04     21623  Vintage Union Jack Memoboard   \n",
       "\n",
       "        Price  Quantity  CustomerNo         Country  total_revenue  \\\n",
       "494247  20.45         1     16241.0  United Kingdom          20.45   \n",
       "\n",
       "       quantity_category total_revenue_category final_segmentation  \\\n",
       "494247           Populer                Populer      Super Populer   \n",
       "\n",
       "       TransactionMonth CohortMonth  \n",
       "494247       2019-01-01  2019-01-01  "
      ]
     },
     "execution_count": 12,
     "metadata": {},
     "output_type": "execute_result"
    }
   ],
   "source": [
    "# A function that will parse the date Time based cohort:  1 day of month\n",
    "def get_month(x): return dt.datetime(x.year, x.month, 1) \n",
    "\n",
    "# Create transaction_date column based on month and store in TransactionMonth\n",
    "df_sales_2019['TransactionMonth'] = df_sales_2019['Date'].apply(get_month) \n",
    "\n",
    "# Grouping by customer_id and select the InvoiceMonth value\n",
    "grouping = df_sales_2019.groupby('CustomerNo')['TransactionMonth'] \n",
    "\n",
    "# Assigning a minimum InvoiceMonth value to the dataset\n",
    "df_sales_2019['CohortMonth'] = grouping.transform('min')\n",
    "\n",
    "# printing\n",
    "df_sales_2019.tail(1)"
   ]
  },
  {
   "cell_type": "markdown",
   "id": "4a46f99d-4a4c-43e4-9f39-4bd1b23b5088",
   "metadata": {},
   "source": [
    "2.  Lakukan iterasi untuk setiap bulan. Ambil berapa banyak customer\n",
    "    yang mendaftar dan berapa banyak customer yang sama yang melakukan\n",
    "    transaksi di bulan bulan berikutnya."
   ]
  },
  {
   "cell_type": "code",
   "execution_count": 13,
   "id": "689b05ac-1ad7-4f2a-a7db-66e91d445975",
   "metadata": {
    "tags": []
   },
   "outputs": [],
   "source": [
    "df_sales_2019 = df_sales_2019[(df_sales_2019['Quantity'] > 0) & (df_sales_2019['Price'] > 0)]"
   ]
  },
  {
   "cell_type": "code",
   "execution_count": 14,
   "id": "2949c703-72e6-449f-bd52-37488f923d89",
   "metadata": {
    "tags": []
   },
   "outputs": [],
   "source": [
    "df_sales_2019['Date'] = pd.to_datetime(df_sales_2019['Date'], format='%m/%d/%Y %H:%M')"
   ]
  },
  {
   "cell_type": "code",
   "execution_count": 15,
   "id": "d33b8554-2db0-4063-aca6-7254cca39269",
   "metadata": {
    "tags": []
   },
   "outputs": [],
   "source": [
    "df_sales_2019['order_month'] = df_sales_2019['Date'].dt.to_period('M')"
   ]
  },
  {
   "cell_type": "code",
   "execution_count": 16,
   "id": "680e4172-d3d8-4c2d-9ce3-e55124c32222",
   "metadata": {
    "tags": []
   },
   "outputs": [],
   "source": [
    "df_sales_2019['cohort'] = df_sales_2019.groupby('CustomerNo')['Date'].transform('min').dt.to_period('M')"
   ]
  },
  {
   "cell_type": "code",
   "execution_count": 17,
   "id": "a96b06bc-d6da-4cd5-9ca5-136b4b4a4bc6",
   "metadata": {
    "tags": []
   },
   "outputs": [],
   "source": [
    "df_cohort = df_sales_2019.groupby(['cohort', 'order_month']).agg(n_customers=('CustomerNo', 'nunique')).reset_index(drop=False)"
   ]
  },
  {
   "cell_type": "code",
   "execution_count": 18,
   "id": "bec4c1d3-e47b-47fb-ab5a-6f549f0c9542",
   "metadata": {
    "tags": []
   },
   "outputs": [],
   "source": [
    "df_cohort['kohort_bulan'] = (df_cohort.order_month - df_cohort.cohort).apply(attrgetter('n'))"
   ]
  },
  {
   "cell_type": "code",
   "execution_count": 19,
   "id": "1935a9f1-0e3f-4f01-9901-d59e769e11ab",
   "metadata": {
    "tags": []
   },
   "outputs": [
    {
     "data": {
      "text/html": [
       "<div>\n",
       "<style scoped>\n",
       "    .dataframe tbody tr th:only-of-type {\n",
       "        vertical-align: middle;\n",
       "    }\n",
       "\n",
       "    .dataframe tbody tr th {\n",
       "        vertical-align: top;\n",
       "    }\n",
       "\n",
       "    .dataframe thead th {\n",
       "        text-align: right;\n",
       "    }\n",
       "</style>\n",
       "<table border=\"1\" class=\"dataframe\">\n",
       "  <thead>\n",
       "    <tr style=\"text-align: right;\">\n",
       "      <th>kohort_bulan</th>\n",
       "      <th>0</th>\n",
       "      <th>1</th>\n",
       "      <th>2</th>\n",
       "      <th>3</th>\n",
       "      <th>4</th>\n",
       "      <th>5</th>\n",
       "      <th>6</th>\n",
       "      <th>7</th>\n",
       "      <th>8</th>\n",
       "      <th>9</th>\n",
       "      <th>10</th>\n",
       "      <th>11</th>\n",
       "    </tr>\n",
       "    <tr>\n",
       "      <th>cohort</th>\n",
       "      <th></th>\n",
       "      <th></th>\n",
       "      <th></th>\n",
       "      <th></th>\n",
       "      <th></th>\n",
       "      <th></th>\n",
       "      <th></th>\n",
       "      <th></th>\n",
       "      <th></th>\n",
       "      <th></th>\n",
       "      <th></th>\n",
       "      <th></th>\n",
       "    </tr>\n",
       "  </thead>\n",
       "  <tbody>\n",
       "    <tr>\n",
       "      <th>2019-01</th>\n",
       "      <td>827.0</td>\n",
       "      <td>277.0</td>\n",
       "      <td>343.0</td>\n",
       "      <td>309.0</td>\n",
       "      <td>361.0</td>\n",
       "      <td>336.0</td>\n",
       "      <td>310.0</td>\n",
       "      <td>305.0</td>\n",
       "      <td>341.0</td>\n",
       "      <td>337.0</td>\n",
       "      <td>409.0</td>\n",
       "      <td>194.0</td>\n",
       "    </tr>\n",
       "    <tr>\n",
       "      <th>2019-02</th>\n",
       "      <td>569.0</td>\n",
       "      <td>128.0</td>\n",
       "      <td>134.0</td>\n",
       "      <td>182.0</td>\n",
       "      <td>171.0</td>\n",
       "      <td>146.0</td>\n",
       "      <td>161.0</td>\n",
       "      <td>178.0</td>\n",
       "      <td>170.0</td>\n",
       "      <td>202.0</td>\n",
       "      <td>64.0</td>\n",
       "      <td>NaN</td>\n",
       "    </tr>\n",
       "    <tr>\n",
       "      <th>2019-03</th>\n",
       "      <td>610.0</td>\n",
       "      <td>98.0</td>\n",
       "      <td>153.0</td>\n",
       "      <td>134.0</td>\n",
       "      <td>148.0</td>\n",
       "      <td>109.0</td>\n",
       "      <td>168.0</td>\n",
       "      <td>149.0</td>\n",
       "      <td>182.0</td>\n",
       "      <td>64.0</td>\n",
       "      <td>NaN</td>\n",
       "      <td>NaN</td>\n",
       "    </tr>\n",
       "    <tr>\n",
       "      <th>2019-04</th>\n",
       "      <td>397.0</td>\n",
       "      <td>89.0</td>\n",
       "      <td>82.0</td>\n",
       "      <td>87.0</td>\n",
       "      <td>80.0</td>\n",
       "      <td>98.0</td>\n",
       "      <td>98.0</td>\n",
       "      <td>117.0</td>\n",
       "      <td>37.0</td>\n",
       "      <td>NaN</td>\n",
       "      <td>NaN</td>\n",
       "      <td>NaN</td>\n",
       "    </tr>\n",
       "    <tr>\n",
       "      <th>2019-05</th>\n",
       "      <td>374.0</td>\n",
       "      <td>69.0</td>\n",
       "      <td>67.0</td>\n",
       "      <td>67.0</td>\n",
       "      <td>80.0</td>\n",
       "      <td>85.0</td>\n",
       "      <td>102.0</td>\n",
       "      <td>30.0</td>\n",
       "      <td>NaN</td>\n",
       "      <td>NaN</td>\n",
       "      <td>NaN</td>\n",
       "      <td>NaN</td>\n",
       "    </tr>\n",
       "    <tr>\n",
       "      <th>2019-06</th>\n",
       "      <td>309.0</td>\n",
       "      <td>57.0</td>\n",
       "      <td>46.0</td>\n",
       "      <td>66.0</td>\n",
       "      <td>67.0</td>\n",
       "      <td>91.0</td>\n",
       "      <td>31.0</td>\n",
       "      <td>NaN</td>\n",
       "      <td>NaN</td>\n",
       "      <td>NaN</td>\n",
       "      <td>NaN</td>\n",
       "      <td>NaN</td>\n",
       "    </tr>\n",
       "    <tr>\n",
       "      <th>2019-07</th>\n",
       "      <td>242.0</td>\n",
       "      <td>37.0</td>\n",
       "      <td>46.0</td>\n",
       "      <td>53.0</td>\n",
       "      <td>73.0</td>\n",
       "      <td>29.0</td>\n",
       "      <td>NaN</td>\n",
       "      <td>NaN</td>\n",
       "      <td>NaN</td>\n",
       "      <td>NaN</td>\n",
       "      <td>NaN</td>\n",
       "      <td>NaN</td>\n",
       "    </tr>\n",
       "    <tr>\n",
       "      <th>2019-08</th>\n",
       "      <td>192.0</td>\n",
       "      <td>38.0</td>\n",
       "      <td>45.0</td>\n",
       "      <td>45.0</td>\n",
       "      <td>21.0</td>\n",
       "      <td>NaN</td>\n",
       "      <td>NaN</td>\n",
       "      <td>NaN</td>\n",
       "      <td>NaN</td>\n",
       "      <td>NaN</td>\n",
       "      <td>NaN</td>\n",
       "      <td>NaN</td>\n",
       "    </tr>\n",
       "    <tr>\n",
       "      <th>2019-09</th>\n",
       "      <td>312.0</td>\n",
       "      <td>77.0</td>\n",
       "      <td>106.0</td>\n",
       "      <td>35.0</td>\n",
       "      <td>NaN</td>\n",
       "      <td>NaN</td>\n",
       "      <td>NaN</td>\n",
       "      <td>NaN</td>\n",
       "      <td>NaN</td>\n",
       "      <td>NaN</td>\n",
       "      <td>NaN</td>\n",
       "      <td>NaN</td>\n",
       "    </tr>\n",
       "    <tr>\n",
       "      <th>2019-10</th>\n",
       "      <td>353.0</td>\n",
       "      <td>82.0</td>\n",
       "      <td>35.0</td>\n",
       "      <td>NaN</td>\n",
       "      <td>NaN</td>\n",
       "      <td>NaN</td>\n",
       "      <td>NaN</td>\n",
       "      <td>NaN</td>\n",
       "      <td>NaN</td>\n",
       "      <td>NaN</td>\n",
       "      <td>NaN</td>\n",
       "      <td>NaN</td>\n",
       "    </tr>\n",
       "    <tr>\n",
       "      <th>2019-11</th>\n",
       "      <td>334.0</td>\n",
       "      <td>34.0</td>\n",
       "      <td>NaN</td>\n",
       "      <td>NaN</td>\n",
       "      <td>NaN</td>\n",
       "      <td>NaN</td>\n",
       "      <td>NaN</td>\n",
       "      <td>NaN</td>\n",
       "      <td>NaN</td>\n",
       "      <td>NaN</td>\n",
       "      <td>NaN</td>\n",
       "      <td>NaN</td>\n",
       "    </tr>\n",
       "    <tr>\n",
       "      <th>2019-12</th>\n",
       "      <td>52.0</td>\n",
       "      <td>NaN</td>\n",
       "      <td>NaN</td>\n",
       "      <td>NaN</td>\n",
       "      <td>NaN</td>\n",
       "      <td>NaN</td>\n",
       "      <td>NaN</td>\n",
       "      <td>NaN</td>\n",
       "      <td>NaN</td>\n",
       "      <td>NaN</td>\n",
       "      <td>NaN</td>\n",
       "      <td>NaN</td>\n",
       "    </tr>\n",
       "  </tbody>\n",
       "</table>\n",
       "</div>"
      ],
      "text/plain": [
       "kohort_bulan     0      1      2      3      4      5      6      7      8   \\\n",
       "cohort                                                                        \n",
       "2019-01       827.0  277.0  343.0  309.0  361.0  336.0  310.0  305.0  341.0   \n",
       "2019-02       569.0  128.0  134.0  182.0  171.0  146.0  161.0  178.0  170.0   \n",
       "2019-03       610.0   98.0  153.0  134.0  148.0  109.0  168.0  149.0  182.0   \n",
       "2019-04       397.0   89.0   82.0   87.0   80.0   98.0   98.0  117.0   37.0   \n",
       "2019-05       374.0   69.0   67.0   67.0   80.0   85.0  102.0   30.0    NaN   \n",
       "2019-06       309.0   57.0   46.0   66.0   67.0   91.0   31.0    NaN    NaN   \n",
       "2019-07       242.0   37.0   46.0   53.0   73.0   29.0    NaN    NaN    NaN   \n",
       "2019-08       192.0   38.0   45.0   45.0   21.0    NaN    NaN    NaN    NaN   \n",
       "2019-09       312.0   77.0  106.0   35.0    NaN    NaN    NaN    NaN    NaN   \n",
       "2019-10       353.0   82.0   35.0    NaN    NaN    NaN    NaN    NaN    NaN   \n",
       "2019-11       334.0   34.0    NaN    NaN    NaN    NaN    NaN    NaN    NaN   \n",
       "2019-12        52.0    NaN    NaN    NaN    NaN    NaN    NaN    NaN    NaN   \n",
       "\n",
       "kohort_bulan     9      10     11  \n",
       "cohort                             \n",
       "2019-01       337.0  409.0  194.0  \n",
       "2019-02       202.0   64.0    NaN  \n",
       "2019-03        64.0    NaN    NaN  \n",
       "2019-04         NaN    NaN    NaN  \n",
       "2019-05         NaN    NaN    NaN  \n",
       "2019-06         NaN    NaN    NaN  \n",
       "2019-07         NaN    NaN    NaN  \n",
       "2019-08         NaN    NaN    NaN  \n",
       "2019-09         NaN    NaN    NaN  \n",
       "2019-10         NaN    NaN    NaN  \n",
       "2019-11         NaN    NaN    NaN  \n",
       "2019-12         NaN    NaN    NaN  "
      ]
     },
     "execution_count": 19,
     "metadata": {},
     "output_type": "execute_result"
    }
   ],
   "source": [
    "count_new_customers = df_cohort.pivot_table(index='cohort', columns='kohort_bulan', values='n_customers')\n",
    "count_new_customers"
   ]
  },
  {
   "cell_type": "code",
   "execution_count": 20,
   "id": "2b6e6324-3181-4ed5-9ed9-7a4909866224",
   "metadata": {
    "tags": []
   },
   "outputs": [
    {
     "data": {
      "text/html": [
       "<div>\n",
       "<style scoped>\n",
       "    .dataframe tbody tr th:only-of-type {\n",
       "        vertical-align: middle;\n",
       "    }\n",
       "\n",
       "    .dataframe tbody tr th {\n",
       "        vertical-align: top;\n",
       "    }\n",
       "\n",
       "    .dataframe thead th {\n",
       "        text-align: right;\n",
       "    }\n",
       "</style>\n",
       "<table border=\"1\" class=\"dataframe\">\n",
       "  <thead>\n",
       "    <tr style=\"text-align: right;\">\n",
       "      <th>kohort_bulan</th>\n",
       "      <th>0</th>\n",
       "      <th>1</th>\n",
       "      <th>2</th>\n",
       "      <th>3</th>\n",
       "      <th>4</th>\n",
       "      <th>5</th>\n",
       "      <th>6</th>\n",
       "      <th>7</th>\n",
       "      <th>8</th>\n",
       "      <th>9</th>\n",
       "      <th>10</th>\n",
       "      <th>11</th>\n",
       "    </tr>\n",
       "    <tr>\n",
       "      <th>cohort</th>\n",
       "      <th></th>\n",
       "      <th></th>\n",
       "      <th></th>\n",
       "      <th></th>\n",
       "      <th></th>\n",
       "      <th></th>\n",
       "      <th></th>\n",
       "      <th></th>\n",
       "      <th></th>\n",
       "      <th></th>\n",
       "      <th></th>\n",
       "      <th></th>\n",
       "    </tr>\n",
       "  </thead>\n",
       "  <tbody>\n",
       "    <tr>\n",
       "      <th>2019-01</th>\n",
       "      <td>100.0</td>\n",
       "      <td>33.5</td>\n",
       "      <td>41.5</td>\n",
       "      <td>37.4</td>\n",
       "      <td>43.7</td>\n",
       "      <td>40.6</td>\n",
       "      <td>37.5</td>\n",
       "      <td>36.9</td>\n",
       "      <td>41.2</td>\n",
       "      <td>40.7</td>\n",
       "      <td>49.5</td>\n",
       "      <td>23.5</td>\n",
       "    </tr>\n",
       "    <tr>\n",
       "      <th>2019-02</th>\n",
       "      <td>100.0</td>\n",
       "      <td>22.5</td>\n",
       "      <td>23.6</td>\n",
       "      <td>32.0</td>\n",
       "      <td>30.1</td>\n",
       "      <td>25.7</td>\n",
       "      <td>28.3</td>\n",
       "      <td>31.3</td>\n",
       "      <td>29.9</td>\n",
       "      <td>35.5</td>\n",
       "      <td>11.2</td>\n",
       "      <td>NaN</td>\n",
       "    </tr>\n",
       "    <tr>\n",
       "      <th>2019-03</th>\n",
       "      <td>100.0</td>\n",
       "      <td>16.1</td>\n",
       "      <td>25.1</td>\n",
       "      <td>22.0</td>\n",
       "      <td>24.3</td>\n",
       "      <td>17.9</td>\n",
       "      <td>27.5</td>\n",
       "      <td>24.4</td>\n",
       "      <td>29.8</td>\n",
       "      <td>10.5</td>\n",
       "      <td>NaN</td>\n",
       "      <td>NaN</td>\n",
       "    </tr>\n",
       "    <tr>\n",
       "      <th>2019-04</th>\n",
       "      <td>100.0</td>\n",
       "      <td>22.4</td>\n",
       "      <td>20.7</td>\n",
       "      <td>21.9</td>\n",
       "      <td>20.2</td>\n",
       "      <td>24.7</td>\n",
       "      <td>24.7</td>\n",
       "      <td>29.5</td>\n",
       "      <td>9.3</td>\n",
       "      <td>NaN</td>\n",
       "      <td>NaN</td>\n",
       "      <td>NaN</td>\n",
       "    </tr>\n",
       "    <tr>\n",
       "      <th>2019-05</th>\n",
       "      <td>100.0</td>\n",
       "      <td>18.4</td>\n",
       "      <td>17.9</td>\n",
       "      <td>17.9</td>\n",
       "      <td>21.4</td>\n",
       "      <td>22.7</td>\n",
       "      <td>27.3</td>\n",
       "      <td>8.0</td>\n",
       "      <td>NaN</td>\n",
       "      <td>NaN</td>\n",
       "      <td>NaN</td>\n",
       "      <td>NaN</td>\n",
       "    </tr>\n",
       "    <tr>\n",
       "      <th>2019-06</th>\n",
       "      <td>100.0</td>\n",
       "      <td>18.4</td>\n",
       "      <td>14.9</td>\n",
       "      <td>21.4</td>\n",
       "      <td>21.7</td>\n",
       "      <td>29.4</td>\n",
       "      <td>10.0</td>\n",
       "      <td>NaN</td>\n",
       "      <td>NaN</td>\n",
       "      <td>NaN</td>\n",
       "      <td>NaN</td>\n",
       "      <td>NaN</td>\n",
       "    </tr>\n",
       "    <tr>\n",
       "      <th>2019-07</th>\n",
       "      <td>100.0</td>\n",
       "      <td>15.3</td>\n",
       "      <td>19.0</td>\n",
       "      <td>21.9</td>\n",
       "      <td>30.2</td>\n",
       "      <td>12.0</td>\n",
       "      <td>NaN</td>\n",
       "      <td>NaN</td>\n",
       "      <td>NaN</td>\n",
       "      <td>NaN</td>\n",
       "      <td>NaN</td>\n",
       "      <td>NaN</td>\n",
       "    </tr>\n",
       "    <tr>\n",
       "      <th>2019-08</th>\n",
       "      <td>100.0</td>\n",
       "      <td>19.8</td>\n",
       "      <td>23.4</td>\n",
       "      <td>23.4</td>\n",
       "      <td>10.9</td>\n",
       "      <td>NaN</td>\n",
       "      <td>NaN</td>\n",
       "      <td>NaN</td>\n",
       "      <td>NaN</td>\n",
       "      <td>NaN</td>\n",
       "      <td>NaN</td>\n",
       "      <td>NaN</td>\n",
       "    </tr>\n",
       "    <tr>\n",
       "      <th>2019-09</th>\n",
       "      <td>100.0</td>\n",
       "      <td>24.7</td>\n",
       "      <td>34.0</td>\n",
       "      <td>11.2</td>\n",
       "      <td>NaN</td>\n",
       "      <td>NaN</td>\n",
       "      <td>NaN</td>\n",
       "      <td>NaN</td>\n",
       "      <td>NaN</td>\n",
       "      <td>NaN</td>\n",
       "      <td>NaN</td>\n",
       "      <td>NaN</td>\n",
       "    </tr>\n",
       "    <tr>\n",
       "      <th>2019-10</th>\n",
       "      <td>100.0</td>\n",
       "      <td>23.2</td>\n",
       "      <td>9.9</td>\n",
       "      <td>NaN</td>\n",
       "      <td>NaN</td>\n",
       "      <td>NaN</td>\n",
       "      <td>NaN</td>\n",
       "      <td>NaN</td>\n",
       "      <td>NaN</td>\n",
       "      <td>NaN</td>\n",
       "      <td>NaN</td>\n",
       "      <td>NaN</td>\n",
       "    </tr>\n",
       "    <tr>\n",
       "      <th>2019-11</th>\n",
       "      <td>100.0</td>\n",
       "      <td>10.2</td>\n",
       "      <td>NaN</td>\n",
       "      <td>NaN</td>\n",
       "      <td>NaN</td>\n",
       "      <td>NaN</td>\n",
       "      <td>NaN</td>\n",
       "      <td>NaN</td>\n",
       "      <td>NaN</td>\n",
       "      <td>NaN</td>\n",
       "      <td>NaN</td>\n",
       "      <td>NaN</td>\n",
       "    </tr>\n",
       "    <tr>\n",
       "      <th>2019-12</th>\n",
       "      <td>100.0</td>\n",
       "      <td>NaN</td>\n",
       "      <td>NaN</td>\n",
       "      <td>NaN</td>\n",
       "      <td>NaN</td>\n",
       "      <td>NaN</td>\n",
       "      <td>NaN</td>\n",
       "      <td>NaN</td>\n",
       "      <td>NaN</td>\n",
       "      <td>NaN</td>\n",
       "      <td>NaN</td>\n",
       "      <td>NaN</td>\n",
       "    </tr>\n",
       "  </tbody>\n",
       "</table>\n",
       "</div>"
      ],
      "text/plain": [
       "kohort_bulan     0     1     2     3     4     5     6     7     8     9   \\\n",
       "cohort                                                                      \n",
       "2019-01       100.0  33.5  41.5  37.4  43.7  40.6  37.5  36.9  41.2  40.7   \n",
       "2019-02       100.0  22.5  23.6  32.0  30.1  25.7  28.3  31.3  29.9  35.5   \n",
       "2019-03       100.0  16.1  25.1  22.0  24.3  17.9  27.5  24.4  29.8  10.5   \n",
       "2019-04       100.0  22.4  20.7  21.9  20.2  24.7  24.7  29.5   9.3   NaN   \n",
       "2019-05       100.0  18.4  17.9  17.9  21.4  22.7  27.3   8.0   NaN   NaN   \n",
       "2019-06       100.0  18.4  14.9  21.4  21.7  29.4  10.0   NaN   NaN   NaN   \n",
       "2019-07       100.0  15.3  19.0  21.9  30.2  12.0   NaN   NaN   NaN   NaN   \n",
       "2019-08       100.0  19.8  23.4  23.4  10.9   NaN   NaN   NaN   NaN   NaN   \n",
       "2019-09       100.0  24.7  34.0  11.2   NaN   NaN   NaN   NaN   NaN   NaN   \n",
       "2019-10       100.0  23.2   9.9   NaN   NaN   NaN   NaN   NaN   NaN   NaN   \n",
       "2019-11       100.0  10.2   NaN   NaN   NaN   NaN   NaN   NaN   NaN   NaN   \n",
       "2019-12       100.0   NaN   NaN   NaN   NaN   NaN   NaN   NaN   NaN   NaN   \n",
       "\n",
       "kohort_bulan    10    11  \n",
       "cohort                    \n",
       "2019-01       49.5  23.5  \n",
       "2019-02       11.2   NaN  \n",
       "2019-03        NaN   NaN  \n",
       "2019-04        NaN   NaN  \n",
       "2019-05        NaN   NaN  \n",
       "2019-06        NaN   NaN  \n",
       "2019-07        NaN   NaN  \n",
       "2019-08        NaN   NaN  \n",
       "2019-09        NaN   NaN  \n",
       "2019-10        NaN   NaN  \n",
       "2019-11        NaN   NaN  \n",
       "2019-12        NaN   NaN  "
      ]
     },
     "execution_count": 20,
     "metadata": {},
     "output_type": "execute_result"
    }
   ],
   "source": [
    "cohort_pecentage_customers = count_new_customers.iloc[:,0]\n",
    "retention = count_new_customers.divide(cohort_pecentage_customers, axis=0)\n",
    "# Coverting the retention rate into percentage and Rounding off.\n",
    "retention.round(3)*100"
   ]
  },
  {
   "cell_type": "code",
   "execution_count": 21,
   "id": "1bac7438-f078-44ca-87e6-cbd875733fdd",
   "metadata": {
    "tags": []
   },
   "outputs": [],
   "source": [
    "cohort_size = count_new_customers.iloc[:, 0]"
   ]
  },
  {
   "cell_type": "code",
   "execution_count": 22,
   "id": "ee614771-c633-497c-83bb-a31fc8242b5d",
   "metadata": {
    "tags": []
   },
   "outputs": [],
   "source": [
    "retention_matrix = count_new_customers.divide(cohort_size, axis=0)"
   ]
  },
  {
   "cell_type": "code",
   "execution_count": 23,
   "id": "78858295-7acf-4f53-bfb0-5197f616a5cb",
   "metadata": {
    "tags": []
   },
   "outputs": [
    {
     "data": {
      "image/png": "[encoded data removed]",
      "text/plain": [
       "<Figure size 1200x800 with 3 Axes>"
      ]
     },
     "metadata": {},
     "output_type": "display_data"
    }
   ],
   "source": [
    "with sns.axes_style(\"white\"):\n",
    "    fig, ax = plt.subplots(1, 2, figsize=(12, 8), sharey=True, gridspec_kw={'width_ratios': [1, 11]})\n",
    "    \n",
    "    # retention matrix\n",
    "    sns.heatmap(retention_matrix, \n",
    "                mask=retention_matrix.isnull(), \n",
    "                annot=True, \n",
    "                fmt='.0%', \n",
    "                cmap='RdYlGn', \n",
    "                ax=ax[1])\n",
    "    ax[1].set_title('Monthly Cohorts: User Retention', fontsize=16)\n",
    "    ax[1].set(xlabel='# of periods',\n",
    "              ylabel='')\n",
    "\n",
    "    # cohort size\n",
    "    cohort_size_df = pd.DataFrame(cohort_size).rename(columns={0: 'cohort_size'})\n",
    "    white_cmap = mcolors.ListedColormap(['white'])\n",
    "    sns.heatmap(cohort_size_df, \n",
    "                annot=True, \n",
    "                cbar=False, \n",
    "                fmt='g', \n",
    "                cmap=white_cmap, \n",
    "                ax=ax[0])\n",
    "\n",
    "    fig.tight_layout()"
   ]
  },
  {
   "cell_type": "markdown",
   "id": "d97347b8-524b-4dbe-9905-3041d687f13d",
   "metadata": {},
   "source": [
    "## Pertanyaan<a href=\"#Pertanyaan\" class=\"anchor-link\">¶</a>\n",
    "\n",
    "1.  Bagaimana karakteristik pertumbuhan customer baru? Apakah\n",
    "    pertumbuhan terus meningkat atau melambat?"
   ]
  },
  {
   "cell_type": "markdown",
   "id": "7b57e1e2-8570-485f-ba6c-e44f3937ab3d",
   "metadata": {},
   "source": [
    "Melambat.\n",
    "\n",
    "-Pada bulan Januari 2019 customer baru yang kembali melakukan transaksi bisa menyentuh  angka 49%. Namun dari bulan Febuari hingga Desember 2019, customer yang kembli melakukan transaksi mengalami penurunan dan pertumbuhannya tidak stabil, yakni kisaran di angka 10%-36%.\n",
    "\n",
    "-Jika dilihat secara keseluruhan, dari Januari hingga Desember 2019, peiode akhir customer kembali melakukan tansaksi sangat rendah dan sulit naik, hanya di kisaan 8%-23%."
   ]
  },
  {
   "cell_type": "markdown",
   "id": "1e8fa58c-3a36-4dc8-b700-cd5c799ead5c",
   "metadata": {},
   "source": [
    "2.  Setiap bulannya tim marketing menggunakan metode promosi campaign\n",
    "    yang berbeda-beda. Bulan mana yang menghasilkan retention paling\n",
    "    tinggi?"
   ]
  },
  {
   "cell_type": "markdown",
   "id": "01cc444e-384d-4a2c-8a90-7873a9aa35a4",
   "metadata": {},
   "source": [
    "Januari 2019"
   ]
  },
  {
   "cell_type": "markdown",
   "id": "4ed8ad4a-51ba-4255-aaa3-556c3e203d51",
   "metadata": {},
   "source": [
    "# Time Series Analysis<a href=\"#Time-Series-Analysis\" class=\"anchor-link\">¶</a>\n",
    "\n",
    "Time series analysis adalah analisis untuk melihat trend suatu fenomena\n",
    "berdasarkan waktu.\n",
    "\n",
    "## Pertanyaan<a href=\"#Pertanyaan\" class=\"anchor-link\">¶</a>\n",
    "\n",
    "Pertanyaan 1 :  \n",
    "Coba totalkan penjualan setiap barang per hari.  Bagaimana trend penjualan? Apakah ada mengalami kenaikan, penurunan,\n",
    "atau stagnant.\n",
    "\n",
    "-Secara keseluruhan mengalami penurunan\n",
    "\n",
    "-Penjualan produk tebanyak di tanggal 8, dan penjualan terendah di tanggal 26.\n",
    "\n",
    "-Pada tanggal 8 dan 17, produk terjual sangat banyak, namun setelah itu langsung turun drastis."
   ]
  },
  {
   "cell_type": "code",
   "execution_count": 115,
   "id": "348af509-771d-47c3-b0bb-2776546c161d",
   "metadata": {
    "tags": []
   },
   "outputs": [],
   "source": [
    "date_col = pd.DatetimeIndex(df_sales['Date'])\n",
    "df_sales['year'] = date_col.year \n",
    "df_sales['month'] = date_col.month \n",
    "df_sales['day'] = date_col.day \n",
    "df_sales['day_name'] = df_sales['Date'].dt.day_name()"
   ]
  },
  {
   "cell_type": "code",
   "execution_count": 25,
   "id": "fa731ea5-0d58-494e-97a6-13d990e48766",
   "metadata": {
    "tags": []
   },
   "outputs": [
    {
     "data": {
      "text/plain": [
       "day\n",
       "1     17056\n",
       "2     16302\n",
       "3     14101\n",
       "4     19155\n",
       "5     21612\n",
       "6     23399\n",
       "7     22390\n",
       "8     24013\n",
       "9     17681\n",
       "10    19328\n",
       "11    17929\n",
       "12    13680\n",
       "13    17934\n",
       "14    17552\n",
       "15    15337\n",
       "16    15304\n",
       "17    22403\n",
       "18    18530\n",
       "19    12782\n",
       "20    18754\n",
       "21    18630\n",
       "22    15800\n",
       "23    17380\n",
       "24    16382\n",
       "25    15875\n",
       "26    10245\n",
       "27    14581\n",
       "28    16733\n",
       "29    11708\n",
       "30    15090\n",
       "31    10099\n",
       "Name: Quantity, dtype: int64"
      ]
     },
     "execution_count": 25,
     "metadata": {},
     "output_type": "execute_result"
    }
   ],
   "source": [
    "# Product order per day\n",
    "df_total_product_order_per_day = df_sales.groupby('day')['Quantity'].count()\n",
    "df_total_product_order_per_day"
   ]
  },
  {
   "cell_type": "code",
   "execution_count": 26,
   "id": "5b5c1af7-de36-4009-a182-8309146c2f28",
   "metadata": {
    "tags": []
   },
   "outputs": [
    {
     "data": {
      "text/plain": [
       "<Axes: xlabel='day'>"
      ]
     },
     "execution_count": 26,
     "metadata": {},
     "output_type": "execute_result"
    },
    {
     "data": {
      "image/png": "[encoded data removed]",
      "text/plain": [
       "<Figure size 640x480 with 1 Axes>"
      ]
     },
     "metadata": {},
     "output_type": "display_data"
    }
   ],
   "source": [
    "df_total_product_order_per_day.plot(kind='line')"
   ]
  },
  {
   "cell_type": "markdown",
   "id": "3c99478e-d67b-47fe-ba69-7a2a1b6f0306",
   "metadata": {},
   "source": [
    "Pertanyaan 2 :  \n",
    "Lakukan analisis seasonality dengan melihat total order per harinya dari\n",
    "Senin hingga Minggu.\n",
    "\n",
    "-Order tertinggi terjadi pada hari minggu, dan order terendah di hari rabu"
   ]
  },
  {
   "cell_type": "code",
   "execution_count": 27,
   "id": "199a2b71-3c70-459d-976f-7ef22dc91f5c",
   "metadata": {
    "tags": []
   },
   "outputs": [
    {
     "data": {
      "text/plain": [
       "day_name\n",
       "Sunday       100509\n",
       "Friday        99115\n",
       "Thursday      92676\n",
       "Saturday      91889\n",
       "Monday        79834\n",
       "Wednesday     63742\n",
       "Name: Quantity, dtype: int64"
      ]
     },
     "execution_count": 27,
     "metadata": {},
     "output_type": "execute_result"
    }
   ],
   "source": [
    "# Product order weekly\n",
    "df_day_order = df_sales.groupby('day_name')['Quantity'].count().sort_values(ascending=False)\n",
    "df_day_order"
   ]
  },
  {
   "cell_type": "code",
   "execution_count": 28,
   "id": "fabb75ca-53d0-445d-87c1-587cc6d66b06",
   "metadata": {
    "tags": []
   },
   "outputs": [
    {
     "data": {
      "text/plain": [
       "<Axes: xlabel='day_name'>"
      ]
     },
     "execution_count": 28,
     "metadata": {},
     "output_type": "execute_result"
    },
    {
     "data": {
      "image/png": "[encoded data removed]",
      "text/plain": [
       "<Figure size 640x480 with 1 Axes>"
      ]
     },
     "metadata": {},
     "output_type": "display_data"
    }
   ],
   "source": [
    "df_day_order.plot(kind='line')"
   ]
  },
  {
   "cell_type": "markdown",
   "id": "b9ef70e9-e0c1-4e2b-958e-70471c77e1a4",
   "metadata": {
    "tags": []
   },
   "source": [
    "# Price Elasticity<a href=\"#Price-Elasticity\" class=\"anchor-link\">¶</a>\n",
    "\n",
    "Price sensitivity atau sensitifitas harga mengacu pada perubahan\n",
    "permintaan pelanggan akibat naik atau turunya harga suatu produk.\n",
    "\n",
    "Pada bagian ini anda akan diminta untuk melakukan analisis terhadap\n",
    "suatu produk yang penjualannya sangat dipengaruhi oleh harga.\n",
    "\n",
    "## Pertanyaan<a href=\"#Pertanyaan\" class=\"anchor-link\">¶</a>\n",
    "\n",
    "Pertanyaan 1 :  \n",
    "Produk apa yang paling sering mengalami perubahan harga?  \n",
    "Hitunglah banyaknya harga unik di setiap produk dan ambil daftar produk\n",
    "yang pernah terjual dengan setidaknya 10 variasi harga yang berbeda.\n",
    "\n",
    "Price Elasticity akan semakin baik dianalisis ketika lebih banyak\n",
    "variasi harga yang muncul."
   ]
  },
  {
   "cell_type": "code",
   "execution_count": 29,
   "id": "7e618817-7c3f-428c-a6cf-1464df9a8910",
   "metadata": {
    "tags": []
   },
   "outputs": [],
   "source": [
    "df_sales[\"% Change in Demand\"] = df_sales[\"Quantity\"].pct_change().round(2)\n",
    "df_sales[\"% Change in Price\"] = df_sales[\"Price\"].pct_change().round(2)\n",
    "df_sales[\"Price Elasticity\"] = df_sales[\"% Change in Demand\"] / df_sales[\"% Change in Price\"].sort_values(ascending=True).round(1)"
   ]
  },
  {
   "cell_type": "code",
   "execution_count": 85,
   "id": "eeb90ff4-c2d4-441c-93b9-356050504696",
   "metadata": {
    "tags": []
   },
   "outputs": [
    {
     "data": {
      "text/html": [
       "<div>\n",
       "<style scoped>\n",
       "    .dataframe tbody tr th:only-of-type {\n",
       "        vertical-align: middle;\n",
       "    }\n",
       "\n",
       "    .dataframe tbody tr th {\n",
       "        vertical-align: top;\n",
       "    }\n",
       "\n",
       "    .dataframe thead th {\n",
       "        text-align: right;\n",
       "    }\n",
       "</style>\n",
       "<table border=\"1\" class=\"dataframe\">\n",
       "  <thead>\n",
       "    <tr style=\"text-align: right;\">\n",
       "      <th></th>\n",
       "      <th>TransactionNo</th>\n",
       "      <th>Date</th>\n",
       "      <th>ProductNo</th>\n",
       "      <th>ProductName</th>\n",
       "      <th>Price</th>\n",
       "      <th>Quantity</th>\n",
       "      <th>CustomerNo</th>\n",
       "      <th>Country</th>\n",
       "      <th>total_revenue</th>\n",
       "      <th>quantity_category</th>\n",
       "      <th>total_revenue_category</th>\n",
       "      <th>final_segmentation</th>\n",
       "      <th>year</th>\n",
       "      <th>month</th>\n",
       "      <th>day</th>\n",
       "      <th>day_name</th>\n",
       "      <th>% Change in Demand</th>\n",
       "      <th>% Change in Price</th>\n",
       "      <th>Price Elasticity</th>\n",
       "      <th>customer_finish</th>\n",
       "    </tr>\n",
       "  </thead>\n",
       "  <tbody>\n",
       "    <tr>\n",
       "      <th>272961</th>\n",
       "      <td>560255</td>\n",
       "      <td>2019-07-17</td>\n",
       "      <td>48129</td>\n",
       "      <td>Doormat Topiary</td>\n",
       "      <td>18.40</td>\n",
       "      <td>1</td>\n",
       "      <td>16054.0</td>\n",
       "      <td>United Kingdom</td>\n",
       "      <td>18.40</td>\n",
       "      <td>Populer</td>\n",
       "      <td>Populer</td>\n",
       "      <td>Super Populer</td>\n",
       "      <td>2019</td>\n",
       "      <td>7</td>\n",
       "      <td>17</td>\n",
       "      <td>Wednesday</td>\n",
       "      <td>0.00</td>\n",
       "      <td>0.00</td>\n",
       "      <td>NaN</td>\n",
       "      <td>0.001146</td>\n",
       "    </tr>\n",
       "    <tr>\n",
       "      <th>131822</th>\n",
       "      <td>572081</td>\n",
       "      <td>2019-10-20</td>\n",
       "      <td>23378</td>\n",
       "      <td>Pack Of 12 50'S Christmas Tissues</td>\n",
       "      <td>10.65</td>\n",
       "      <td>24</td>\n",
       "      <td>16592.0</td>\n",
       "      <td>United Kingdom</td>\n",
       "      <td>255.60</td>\n",
       "      <td>Populer</td>\n",
       "      <td>Populer</td>\n",
       "      <td>Super Populer</td>\n",
       "      <td>2019</td>\n",
       "      <td>10</td>\n",
       "      <td>20</td>\n",
       "      <td>Sunday</td>\n",
       "      <td>1.00</td>\n",
       "      <td>-0.04</td>\n",
       "      <td>-inf</td>\n",
       "      <td>0.015405</td>\n",
       "    </tr>\n",
       "    <tr>\n",
       "      <th>169867</th>\n",
       "      <td>569026</td>\n",
       "      <td>2019-09-30</td>\n",
       "      <td>22745</td>\n",
       "      <td>Poppy's Playhouse Bedroom</td>\n",
       "      <td>12.40</td>\n",
       "      <td>6</td>\n",
       "      <td>16101.0</td>\n",
       "      <td>United Kingdom</td>\n",
       "      <td>74.40</td>\n",
       "      <td>Populer</td>\n",
       "      <td>Populer</td>\n",
       "      <td>Super Populer</td>\n",
       "      <td>2019</td>\n",
       "      <td>9</td>\n",
       "      <td>30</td>\n",
       "      <td>Monday</td>\n",
       "      <td>0.00</td>\n",
       "      <td>-0.07</td>\n",
       "      <td>-0.000000</td>\n",
       "      <td>0.004621</td>\n",
       "    </tr>\n",
       "    <tr>\n",
       "      <th>385367</th>\n",
       "      <td>549667</td>\n",
       "      <td>2019-04-11</td>\n",
       "      <td>21042</td>\n",
       "      <td>Red Retrospot Apron</td>\n",
       "      <td>16.35</td>\n",
       "      <td>3</td>\n",
       "      <td>14911.0</td>\n",
       "      <td>EIRE</td>\n",
       "      <td>49.05</td>\n",
       "      <td>Populer</td>\n",
       "      <td>Populer</td>\n",
       "      <td>Super Populer</td>\n",
       "      <td>2019</td>\n",
       "      <td>4</td>\n",
       "      <td>11</td>\n",
       "      <td>Thursday</td>\n",
       "      <td>-0.50</td>\n",
       "      <td>0.16</td>\n",
       "      <td>-2.500000</td>\n",
       "      <td>0.003290</td>\n",
       "    </tr>\n",
       "    <tr>\n",
       "      <th>86630</th>\n",
       "      <td>575689</td>\n",
       "      <td>2019-11-10</td>\n",
       "      <td>23344</td>\n",
       "      <td>Jumbo Bag 50'S Christmas</td>\n",
       "      <td>6.19</td>\n",
       "      <td>10</td>\n",
       "      <td>14829.0</td>\n",
       "      <td>United Kingdom</td>\n",
       "      <td>61.90</td>\n",
       "      <td>Populer</td>\n",
       "      <td>Populer</td>\n",
       "      <td>Super Populer</td>\n",
       "      <td>2019</td>\n",
       "      <td>11</td>\n",
       "      <td>10</td>\n",
       "      <td>Sunday</td>\n",
       "      <td>-0.17</td>\n",
       "      <td>-0.50</td>\n",
       "      <td>0.340000</td>\n",
       "      <td>0.004174</td>\n",
       "    </tr>\n",
       "    <tr>\n",
       "      <th>263191</th>\n",
       "      <td>561050</td>\n",
       "      <td>2019-07-24</td>\n",
       "      <td>23284</td>\n",
       "      <td>Doormat Keep Calm And Come In</td>\n",
       "      <td>18.40</td>\n",
       "      <td>2</td>\n",
       "      <td>16558.0</td>\n",
       "      <td>United Kingdom</td>\n",
       "      <td>36.80</td>\n",
       "      <td>Populer</td>\n",
       "      <td>Populer</td>\n",
       "      <td>Super Populer</td>\n",
       "      <td>2019</td>\n",
       "      <td>7</td>\n",
       "      <td>24</td>\n",
       "      <td>Wednesday</td>\n",
       "      <td>-0.92</td>\n",
       "      <td>0.66</td>\n",
       "      <td>-1.314286</td>\n",
       "      <td>0.002222</td>\n",
       "    </tr>\n",
       "    <tr>\n",
       "      <th>86753</th>\n",
       "      <td>575694</td>\n",
       "      <td>2019-11-10</td>\n",
       "      <td>23119</td>\n",
       "      <td>Pack Of 6 Large Fruit Straws</td>\n",
       "      <td>10.89</td>\n",
       "      <td>2</td>\n",
       "      <td>12748.0</td>\n",
       "      <td>United Kingdom</td>\n",
       "      <td>21.78</td>\n",
       "      <td>Populer</td>\n",
       "      <td>Populer</td>\n",
       "      <td>Super Populer</td>\n",
       "      <td>2019</td>\n",
       "      <td>11</td>\n",
       "      <td>10</td>\n",
       "      <td>Sunday</td>\n",
       "      <td>1.00</td>\n",
       "      <td>-0.18</td>\n",
       "      <td>-5.000000</td>\n",
       "      <td>0.001709</td>\n",
       "    </tr>\n",
       "    <tr>\n",
       "      <th>111671</th>\n",
       "      <td>573585</td>\n",
       "      <td>2019-10-31</td>\n",
       "      <td>21817</td>\n",
       "      <td>Glitter Christmas Tree</td>\n",
       "      <td>11.92</td>\n",
       "      <td>1</td>\n",
       "      <td>14585.0</td>\n",
       "      <td>United Kingdom</td>\n",
       "      <td>11.92</td>\n",
       "      <td>Populer</td>\n",
       "      <td>Rendah</td>\n",
       "      <td>Low</td>\n",
       "      <td>2019</td>\n",
       "      <td>10</td>\n",
       "      <td>31</td>\n",
       "      <td>Thursday</td>\n",
       "      <td>-0.96</td>\n",
       "      <td>-0.12</td>\n",
       "      <td>9.600000</td>\n",
       "      <td>0.000817</td>\n",
       "    </tr>\n",
       "    <tr>\n",
       "      <th>419345</th>\n",
       "      <td>546423</td>\n",
       "      <td>2019-03-13</td>\n",
       "      <td>21386</td>\n",
       "      <td>Ivory Hanging Decoration Egg</td>\n",
       "      <td>11.12</td>\n",
       "      <td>1</td>\n",
       "      <td>14502.0</td>\n",
       "      <td>United Kingdom</td>\n",
       "      <td>11.12</td>\n",
       "      <td>Populer</td>\n",
       "      <td>Rendah</td>\n",
       "      <td>Low</td>\n",
       "      <td>2019</td>\n",
       "      <td>3</td>\n",
       "      <td>13</td>\n",
       "      <td>Wednesday</td>\n",
       "      <td>-0.75</td>\n",
       "      <td>0.00</td>\n",
       "      <td>-inf</td>\n",
       "      <td>0.000767</td>\n",
       "    </tr>\n",
       "    <tr>\n",
       "      <th>317757</th>\n",
       "      <td>556204</td>\n",
       "      <td>2019-06-09</td>\n",
       "      <td>47590A</td>\n",
       "      <td>Blue Happy Birthday Bunting</td>\n",
       "      <td>15.84</td>\n",
       "      <td>3</td>\n",
       "      <td>17169.0</td>\n",
       "      <td>United Kingdom</td>\n",
       "      <td>47.52</td>\n",
       "      <td>Populer</td>\n",
       "      <td>Populer</td>\n",
       "      <td>Super Populer</td>\n",
       "      <td>2019</td>\n",
       "      <td>6</td>\n",
       "      <td>9</td>\n",
       "      <td>Sunday</td>\n",
       "      <td>-0.50</td>\n",
       "      <td>0.23</td>\n",
       "      <td>-2.500000</td>\n",
       "      <td>0.002768</td>\n",
       "    </tr>\n",
       "    <tr>\n",
       "      <th>80750</th>\n",
       "      <td>575739</td>\n",
       "      <td>2019-11-11</td>\n",
       "      <td>20829</td>\n",
       "      <td>Glitter Hanging Butterfly String</td>\n",
       "      <td>14.48</td>\n",
       "      <td>2</td>\n",
       "      <td>14739.0</td>\n",
       "      <td>United Kingdom</td>\n",
       "      <td>28.96</td>\n",
       "      <td>Populer</td>\n",
       "      <td>Populer</td>\n",
       "      <td>Super Populer</td>\n",
       "      <td>2019</td>\n",
       "      <td>11</td>\n",
       "      <td>11</td>\n",
       "      <td>Monday</td>\n",
       "      <td>-0.33</td>\n",
       "      <td>-0.06</td>\n",
       "      <td>3.300000</td>\n",
       "      <td>0.001965</td>\n",
       "    </tr>\n",
       "    <tr>\n",
       "      <th>29410</th>\n",
       "      <td>579297</td>\n",
       "      <td>2019-11-29</td>\n",
       "      <td>22739</td>\n",
       "      <td>Ribbon Reel Christmas Sock Bauble</td>\n",
       "      <td>6.13</td>\n",
       "      <td>1</td>\n",
       "      <td>15297.0</td>\n",
       "      <td>United Kingdom</td>\n",
       "      <td>6.13</td>\n",
       "      <td>Populer</td>\n",
       "      <td>Rendah</td>\n",
       "      <td>Low</td>\n",
       "      <td>2019</td>\n",
       "      <td>11</td>\n",
       "      <td>29</td>\n",
       "      <td>Friday</td>\n",
       "      <td>-0.67</td>\n",
       "      <td>0.00</td>\n",
       "      <td>-inf</td>\n",
       "      <td>0.000401</td>\n",
       "    </tr>\n",
       "    <tr>\n",
       "      <th>273198</th>\n",
       "      <td>560262</td>\n",
       "      <td>2019-07-17</td>\n",
       "      <td>23162</td>\n",
       "      <td>Regency Tea Strainer</td>\n",
       "      <td>14.09</td>\n",
       "      <td>8</td>\n",
       "      <td>14224.0</td>\n",
       "      <td>United Kingdom</td>\n",
       "      <td>112.72</td>\n",
       "      <td>Populer</td>\n",
       "      <td>Populer</td>\n",
       "      <td>Super Populer</td>\n",
       "      <td>2019</td>\n",
       "      <td>7</td>\n",
       "      <td>17</td>\n",
       "      <td>Wednesday</td>\n",
       "      <td>1.00</td>\n",
       "      <td>0.10</td>\n",
       "      <td>10.000000</td>\n",
       "      <td>0.007925</td>\n",
       "    </tr>\n",
       "    <tr>\n",
       "      <th>535055</th>\n",
       "      <td>536544</td>\n",
       "      <td>2018-12-01</td>\n",
       "      <td>21116</td>\n",
       "      <td>Owl Doorstop</td>\n",
       "      <td>18.93</td>\n",
       "      <td>1</td>\n",
       "      <td>17544.0</td>\n",
       "      <td>United Kingdom</td>\n",
       "      <td>18.93</td>\n",
       "      <td>Populer</td>\n",
       "      <td>Populer</td>\n",
       "      <td>Super Populer</td>\n",
       "      <td>2018</td>\n",
       "      <td>12</td>\n",
       "      <td>1</td>\n",
       "      <td>Saturday</td>\n",
       "      <td>-0.67</td>\n",
       "      <td>0.23</td>\n",
       "      <td>-3.350000</td>\n",
       "      <td>0.001079</td>\n",
       "    </tr>\n",
       "    <tr>\n",
       "      <th>484042</th>\n",
       "      <td>540821</td>\n",
       "      <td>2019-01-11</td>\n",
       "      <td>85034B</td>\n",
       "      <td>3 White Choc Morris Boxed Candles</td>\n",
       "      <td>13.69</td>\n",
       "      <td>1</td>\n",
       "      <td>16821.0</td>\n",
       "      <td>United Kingdom</td>\n",
       "      <td>13.69</td>\n",
       "      <td>Populer</td>\n",
       "      <td>Rendah</td>\n",
       "      <td>Low</td>\n",
       "      <td>2019</td>\n",
       "      <td>1</td>\n",
       "      <td>11</td>\n",
       "      <td>Friday</td>\n",
       "      <td>-0.80</td>\n",
       "      <td>0.15</td>\n",
       "      <td>-4.000000</td>\n",
       "      <td>0.000814</td>\n",
       "    </tr>\n",
       "    <tr>\n",
       "      <th>502459</th>\n",
       "      <td>539082</td>\n",
       "      <td>2018-12-16</td>\n",
       "      <td>84029G</td>\n",
       "      <td>Knitted Union Flag Hot Water Bottle</td>\n",
       "      <td>14.09</td>\n",
       "      <td>4</td>\n",
       "      <td>13317.0</td>\n",
       "      <td>United Kingdom</td>\n",
       "      <td>56.36</td>\n",
       "      <td>Populer</td>\n",
       "      <td>Populer</td>\n",
       "      <td>Super Populer</td>\n",
       "      <td>2018</td>\n",
       "      <td>12</td>\n",
       "      <td>16</td>\n",
       "      <td>Sunday</td>\n",
       "      <td>-0.20</td>\n",
       "      <td>-0.06</td>\n",
       "      <td>2.000000</td>\n",
       "      <td>0.004232</td>\n",
       "    </tr>\n",
       "    <tr>\n",
       "      <th>162654</th>\n",
       "      <td>569697</td>\n",
       "      <td>2019-10-05</td>\n",
       "      <td>22625</td>\n",
       "      <td>Red Kitchen Scales</td>\n",
       "      <td>18.96</td>\n",
       "      <td>2</td>\n",
       "      <td>17647.0</td>\n",
       "      <td>United Kingdom</td>\n",
       "      <td>37.92</td>\n",
       "      <td>Populer</td>\n",
       "      <td>Populer</td>\n",
       "      <td>Super Populer</td>\n",
       "      <td>2019</td>\n",
       "      <td>10</td>\n",
       "      <td>5</td>\n",
       "      <td>Saturday</td>\n",
       "      <td>-0.83</td>\n",
       "      <td>0.53</td>\n",
       "      <td>-1.660000</td>\n",
       "      <td>0.002149</td>\n",
       "    </tr>\n",
       "    <tr>\n",
       "      <th>5872</th>\n",
       "      <td>581439</td>\n",
       "      <td>2019-12-08</td>\n",
       "      <td>22701</td>\n",
       "      <td>Pink Dog Bowl</td>\n",
       "      <td>7.24</td>\n",
       "      <td>2</td>\n",
       "      <td>15439.0</td>\n",
       "      <td>United Kingdom</td>\n",
       "      <td>14.48</td>\n",
       "      <td>Populer</td>\n",
       "      <td>Populer</td>\n",
       "      <td>Super Populer</td>\n",
       "      <td>2019</td>\n",
       "      <td>12</td>\n",
       "      <td>8</td>\n",
       "      <td>Sunday</td>\n",
       "      <td>-0.67</td>\n",
       "      <td>0.00</td>\n",
       "      <td>-inf</td>\n",
       "      <td>0.000938</td>\n",
       "    </tr>\n",
       "    <tr>\n",
       "      <th>527636</th>\n",
       "      <td>537153</td>\n",
       "      <td>2018-12-05</td>\n",
       "      <td>22918</td>\n",
       "      <td>Herb Marker Parsley</td>\n",
       "      <td>10.92</td>\n",
       "      <td>12</td>\n",
       "      <td>16718.0</td>\n",
       "      <td>United Kingdom</td>\n",
       "      <td>131.04</td>\n",
       "      <td>Populer</td>\n",
       "      <td>Populer</td>\n",
       "      <td>Super Populer</td>\n",
       "      <td>2018</td>\n",
       "      <td>12</td>\n",
       "      <td>5</td>\n",
       "      <td>Wednesday</td>\n",
       "      <td>0.00</td>\n",
       "      <td>0.00</td>\n",
       "      <td>NaN</td>\n",
       "      <td>0.007838</td>\n",
       "    </tr>\n",
       "    <tr>\n",
       "      <th>510833</th>\n",
       "      <td>538508</td>\n",
       "      <td>2018-12-12</td>\n",
       "      <td>21755</td>\n",
       "      <td>Love Building Block Word</td>\n",
       "      <td>16.35</td>\n",
       "      <td>1</td>\n",
       "      <td>15998.0</td>\n",
       "      <td>United Kingdom</td>\n",
       "      <td>16.35</td>\n",
       "      <td>Populer</td>\n",
       "      <td>Populer</td>\n",
       "      <td>Super Populer</td>\n",
       "      <td>2018</td>\n",
       "      <td>12</td>\n",
       "      <td>12</td>\n",
       "      <td>Wednesday</td>\n",
       "      <td>0.00</td>\n",
       "      <td>0.00</td>\n",
       "      <td>NaN</td>\n",
       "      <td>0.001022</td>\n",
       "    </tr>\n",
       "  </tbody>\n",
       "</table>\n",
       "</div>"
      ],
      "text/plain": [
       "       TransactionNo       Date ProductNo  \\\n",
       "272961        560255 2019-07-17     48129   \n",
       "131822        572081 2019-10-20     23378   \n",
       "169867        569026 2019-09-30     22745   \n",
       "385367        549667 2019-04-11     21042   \n",
       "86630         575689 2019-11-10     23344   \n",
       "263191        561050 2019-07-24     23284   \n",
       "86753         575694 2019-11-10     23119   \n",
       "111671        573585 2019-10-31     21817   \n",
       "419345        546423 2019-03-13     21386   \n",
       "317757        556204 2019-06-09    47590A   \n",
       "80750         575739 2019-11-11     20829   \n",
       "29410         579297 2019-11-29     22739   \n",
       "273198        560262 2019-07-17     23162   \n",
       "535055        536544 2018-12-01     21116   \n",
       "484042        540821 2019-01-11    85034B   \n",
       "502459        539082 2018-12-16    84029G   \n",
       "162654        569697 2019-10-05     22625   \n",
       "5872          581439 2019-12-08     22701   \n",
       "527636        537153 2018-12-05     22918   \n",
       "510833        538508 2018-12-12     21755   \n",
       "\n",
       "                                ProductName  Price  Quantity  CustomerNo  \\\n",
       "272961                      Doormat Topiary  18.40         1     16054.0   \n",
       "131822    Pack Of 12 50'S Christmas Tissues  10.65        24     16592.0   \n",
       "169867            Poppy's Playhouse Bedroom  12.40         6     16101.0   \n",
       "385367                  Red Retrospot Apron  16.35         3     14911.0   \n",
       "86630              Jumbo Bag 50'S Christmas   6.19        10     14829.0   \n",
       "263191        Doormat Keep Calm And Come In  18.40         2     16558.0   \n",
       "86753          Pack Of 6 Large Fruit Straws  10.89         2     12748.0   \n",
       "111671               Glitter Christmas Tree  11.92         1     14585.0   \n",
       "419345         Ivory Hanging Decoration Egg  11.12         1     14502.0   \n",
       "317757          Blue Happy Birthday Bunting  15.84         3     17169.0   \n",
       "80750      Glitter Hanging Butterfly String  14.48         2     14739.0   \n",
       "29410     Ribbon Reel Christmas Sock Bauble   6.13         1     15297.0   \n",
       "273198                 Regency Tea Strainer  14.09         8     14224.0   \n",
       "535055                         Owl Doorstop  18.93         1     17544.0   \n",
       "484042    3 White Choc Morris Boxed Candles  13.69         1     16821.0   \n",
       "502459  Knitted Union Flag Hot Water Bottle  14.09         4     13317.0   \n",
       "162654                   Red Kitchen Scales  18.96         2     17647.0   \n",
       "5872                          Pink Dog Bowl   7.24         2     15439.0   \n",
       "527636                  Herb Marker Parsley  10.92        12     16718.0   \n",
       "510833             Love Building Block Word  16.35         1     15998.0   \n",
       "\n",
       "               Country  total_revenue quantity_category  \\\n",
       "272961  United Kingdom          18.40           Populer   \n",
       "131822  United Kingdom         255.60           Populer   \n",
       "169867  United Kingdom          74.40           Populer   \n",
       "385367            EIRE          49.05           Populer   \n",
       "86630   United Kingdom          61.90           Populer   \n",
       "263191  United Kingdom          36.80           Populer   \n",
       "86753   United Kingdom          21.78           Populer   \n",
       "111671  United Kingdom          11.92           Populer   \n",
       "419345  United Kingdom          11.12           Populer   \n",
       "317757  United Kingdom          47.52           Populer   \n",
       "80750   United Kingdom          28.96           Populer   \n",
       "29410   United Kingdom           6.13           Populer   \n",
       "273198  United Kingdom         112.72           Populer   \n",
       "535055  United Kingdom          18.93           Populer   \n",
       "484042  United Kingdom          13.69           Populer   \n",
       "502459  United Kingdom          56.36           Populer   \n",
       "162654  United Kingdom          37.92           Populer   \n",
       "5872    United Kingdom          14.48           Populer   \n",
       "527636  United Kingdom         131.04           Populer   \n",
       "510833  United Kingdom          16.35           Populer   \n",
       "\n",
       "       total_revenue_category final_segmentation  year  month  day   day_name  \\\n",
       "272961                Populer      Super Populer  2019      7   17  Wednesday   \n",
       "131822                Populer      Super Populer  2019     10   20     Sunday   \n",
       "169867                Populer      Super Populer  2019      9   30     Monday   \n",
       "385367                Populer      Super Populer  2019      4   11   Thursday   \n",
       "86630                 Populer      Super Populer  2019     11   10     Sunday   \n",
       "263191                Populer      Super Populer  2019      7   24  Wednesday   \n",
       "86753                 Populer      Super Populer  2019     11   10     Sunday   \n",
       "111671                 Rendah                Low  2019     10   31   Thursday   \n",
       "419345                 Rendah                Low  2019      3   13  Wednesday   \n",
       "317757                Populer      Super Populer  2019      6    9     Sunday   \n",
       "80750                 Populer      Super Populer  2019     11   11     Monday   \n",
       "29410                  Rendah                Low  2019     11   29     Friday   \n",
       "273198                Populer      Super Populer  2019      7   17  Wednesday   \n",
       "535055                Populer      Super Populer  2018     12    1   Saturday   \n",
       "484042                 Rendah                Low  2019      1   11     Friday   \n",
       "502459                Populer      Super Populer  2018     12   16     Sunday   \n",
       "162654                Populer      Super Populer  2019     10    5   Saturday   \n",
       "5872                  Populer      Super Populer  2019     12    8     Sunday   \n",
       "527636                Populer      Super Populer  2018     12    5  Wednesday   \n",
       "510833                Populer      Super Populer  2018     12   12  Wednesday   \n",
       "\n",
       "        % Change in Demand  % Change in Price  Price Elasticity  \\\n",
       "272961                0.00               0.00               NaN   \n",
       "131822                1.00              -0.04              -inf   \n",
       "169867                0.00              -0.07         -0.000000   \n",
       "385367               -0.50               0.16         -2.500000   \n",
       "86630                -0.17              -0.50          0.340000   \n",
       "263191               -0.92               0.66         -1.314286   \n",
       "86753                 1.00              -0.18         -5.000000   \n",
       "111671               -0.96              -0.12          9.600000   \n",
       "419345               -0.75               0.00              -inf   \n",
       "317757               -0.50               0.23         -2.500000   \n",
       "80750                -0.33              -0.06          3.300000   \n",
       "29410                -0.67               0.00              -inf   \n",
       "273198                1.00               0.10         10.000000   \n",
       "535055               -0.67               0.23         -3.350000   \n",
       "484042               -0.80               0.15         -4.000000   \n",
       "502459               -0.20              -0.06          2.000000   \n",
       "162654               -0.83               0.53         -1.660000   \n",
       "5872                 -0.67               0.00              -inf   \n",
       "527636                0.00               0.00               NaN   \n",
       "510833                0.00               0.00               NaN   \n",
       "\n",
       "        customer_finish  \n",
       "272961         0.001146  \n",
       "131822         0.015405  \n",
       "169867         0.004621  \n",
       "385367         0.003290  \n",
       "86630          0.004174  \n",
       "263191         0.002222  \n",
       "86753          0.001709  \n",
       "111671         0.000817  \n",
       "419345         0.000767  \n",
       "317757         0.002768  \n",
       "80750          0.001965  \n",
       "29410          0.000401  \n",
       "273198         0.007925  \n",
       "535055         0.001079  \n",
       "484042         0.000814  \n",
       "502459         0.004232  \n",
       "162654         0.002149  \n",
       "5872           0.000938  \n",
       "527636         0.007838  \n",
       "510833         0.001022  "
      ]
     },
     "execution_count": 85,
     "metadata": {},
     "output_type": "execute_result"
    }
   ],
   "source": [
    "df_20_sampel = df_sales.sample(20)\n",
    "df_20_sampel"
   ]
  },
  {
   "cell_type": "markdown",
   "id": "05db18e6-e811-4c13-9eb6-9d5274a4ec1b",
   "metadata": {},
   "source": [
    "Pertanyaan 2 :  \n",
    "Dari semua produk yang terambil dari step 1, hitung lah korelasi antara\n",
    "harga dengan quantity untuk setiap barang.  \n",
    "Barang manakah yang memiliki korelasi paling negatif?"
   ]
  },
  {
   "cell_type": "code",
   "execution_count": 79,
   "id": "19006143-61a2-4b92-808d-3d86086c450a",
   "metadata": {
    "tags": []
   },
   "outputs": [
    {
     "data": {
      "text/plain": [
       "-0.13"
      ]
     },
     "execution_count": 79,
     "metadata": {},
     "output_type": "execute_result"
    }
   ],
   "source": [
    "correlation = df_20_sampel['Price'].corr(df_20_sampel['Quantity']).round(2)\n",
    "correlation"
   ]
  },
  {
   "cell_type": "code",
   "execution_count": 80,
   "id": "84bc7f1f-a9ec-4d7e-8397-9b735bcb86f3",
   "metadata": {
    "tags": []
   },
   "outputs": [
    {
     "name": "stderr",
     "output_type": "stream",
     "text": [
      "C:\\Users\\User\\AppData\\Local\\Temp\\ipykernel_180\\3504037806.py:1: FutureWarning: The default value of numeric_only in DataFrame.corr is deprecated. In a future version, it will default to False. Select only valid columns or specify the value of numeric_only to silence this warning.\n",
      "  df_sales_matrix = df_20_sampel.corr().round(2)\n"
     ]
    },
    {
     "data": {
      "text/html": [
       "<div>\n",
       "<style scoped>\n",
       "    .dataframe tbody tr th:only-of-type {\n",
       "        vertical-align: middle;\n",
       "    }\n",
       "\n",
       "    .dataframe tbody tr th {\n",
       "        vertical-align: top;\n",
       "    }\n",
       "\n",
       "    .dataframe thead th {\n",
       "        text-align: right;\n",
       "    }\n",
       "</style>\n",
       "<table border=\"1\" class=\"dataframe\">\n",
       "  <thead>\n",
       "    <tr style=\"text-align: right;\">\n",
       "      <th></th>\n",
       "      <th>Price</th>\n",
       "      <th>Quantity</th>\n",
       "      <th>CustomerNo</th>\n",
       "      <th>total_revenue</th>\n",
       "      <th>year</th>\n",
       "      <th>month</th>\n",
       "      <th>day</th>\n",
       "      <th>% Change in Demand</th>\n",
       "      <th>% Change in Price</th>\n",
       "      <th>Price Elasticity</th>\n",
       "      <th>customer_finish</th>\n",
       "    </tr>\n",
       "  </thead>\n",
       "  <tbody>\n",
       "    <tr>\n",
       "      <th>Price</th>\n",
       "      <td>1.00</td>\n",
       "      <td>-0.13</td>\n",
       "      <td>-0.15</td>\n",
       "      <td>0.24</td>\n",
       "      <td>0.07</td>\n",
       "      <td>-0.44</td>\n",
       "      <td>-0.19</td>\n",
       "      <td>-0.20</td>\n",
       "      <td>0.42</td>\n",
       "      <td>0.19</td>\n",
       "      <td>0.26</td>\n",
       "    </tr>\n",
       "    <tr>\n",
       "      <th>Quantity</th>\n",
       "      <td>-0.13</td>\n",
       "      <td>1.00</td>\n",
       "      <td>0.03</td>\n",
       "      <td>0.89</td>\n",
       "      <td>0.12</td>\n",
       "      <td>0.10</td>\n",
       "      <td>0.05</td>\n",
       "      <td>0.78</td>\n",
       "      <td>0.45</td>\n",
       "      <td>-0.04</td>\n",
       "      <td>0.88</td>\n",
       "    </tr>\n",
       "    <tr>\n",
       "      <th>CustomerNo</th>\n",
       "      <td>-0.15</td>\n",
       "      <td>0.03</td>\n",
       "      <td>1.00</td>\n",
       "      <td>0.01</td>\n",
       "      <td>0.40</td>\n",
       "      <td>-0.04</td>\n",
       "      <td>0.17</td>\n",
       "      <td>-0.11</td>\n",
       "      <td>0.06</td>\n",
       "      <td>0.02</td>\n",
       "      <td>-0.13</td>\n",
       "    </tr>\n",
       "    <tr>\n",
       "      <th>total_revenue</th>\n",
       "      <td>0.24</td>\n",
       "      <td>0.89</td>\n",
       "      <td>0.01</td>\n",
       "      <td>1.00</td>\n",
       "      <td>0.13</td>\n",
       "      <td>0.02</td>\n",
       "      <td>0.02</td>\n",
       "      <td>0.69</td>\n",
       "      <td>0.71</td>\n",
       "      <td>0.14</td>\n",
       "      <td>0.99</td>\n",
       "    </tr>\n",
       "    <tr>\n",
       "      <th>year</th>\n",
       "      <td>0.07</td>\n",
       "      <td>0.12</td>\n",
       "      <td>0.40</td>\n",
       "      <td>0.13</td>\n",
       "      <td>1.00</td>\n",
       "      <td>-0.30</td>\n",
       "      <td>0.12</td>\n",
       "      <td>0.01</td>\n",
       "      <td>0.24</td>\n",
       "      <td>0.15</td>\n",
       "      <td>0.09</td>\n",
       "    </tr>\n",
       "    <tr>\n",
       "      <th>month</th>\n",
       "      <td>-0.44</td>\n",
       "      <td>0.10</td>\n",
       "      <td>-0.04</td>\n",
       "      <td>0.02</td>\n",
       "      <td>-0.30</td>\n",
       "      <td>1.00</td>\n",
       "      <td>0.12</td>\n",
       "      <td>0.18</td>\n",
       "      <td>-0.00</td>\n",
       "      <td>0.15</td>\n",
       "      <td>-0.02</td>\n",
       "    </tr>\n",
       "    <tr>\n",
       "      <th>day</th>\n",
       "      <td>-0.19</td>\n",
       "      <td>0.05</td>\n",
       "      <td>0.17</td>\n",
       "      <td>0.02</td>\n",
       "      <td>0.12</td>\n",
       "      <td>0.12</td>\n",
       "      <td>1.00</td>\n",
       "      <td>-0.19</td>\n",
       "      <td>-0.19</td>\n",
       "      <td>-0.29</td>\n",
       "      <td>-0.05</td>\n",
       "    </tr>\n",
       "    <tr>\n",
       "      <th>% Change in Demand</th>\n",
       "      <td>-0.20</td>\n",
       "      <td>0.78</td>\n",
       "      <td>-0.11</td>\n",
       "      <td>0.69</td>\n",
       "      <td>0.01</td>\n",
       "      <td>0.18</td>\n",
       "      <td>-0.19</td>\n",
       "      <td>1.00</td>\n",
       "      <td>0.56</td>\n",
       "      <td>0.34</td>\n",
       "      <td>0.72</td>\n",
       "    </tr>\n",
       "    <tr>\n",
       "      <th>% Change in Price</th>\n",
       "      <td>0.42</td>\n",
       "      <td>0.45</td>\n",
       "      <td>0.06</td>\n",
       "      <td>0.71</td>\n",
       "      <td>0.24</td>\n",
       "      <td>-0.00</td>\n",
       "      <td>-0.19</td>\n",
       "      <td>0.56</td>\n",
       "      <td>1.00</td>\n",
       "      <td>0.55</td>\n",
       "      <td>0.71</td>\n",
       "    </tr>\n",
       "    <tr>\n",
       "      <th>Price Elasticity</th>\n",
       "      <td>0.19</td>\n",
       "      <td>-0.04</td>\n",
       "      <td>0.02</td>\n",
       "      <td>0.14</td>\n",
       "      <td>0.15</td>\n",
       "      <td>0.15</td>\n",
       "      <td>-0.29</td>\n",
       "      <td>0.34</td>\n",
       "      <td>0.55</td>\n",
       "      <td>1.00</td>\n",
       "      <td>0.18</td>\n",
       "    </tr>\n",
       "    <tr>\n",
       "      <th>customer_finish</th>\n",
       "      <td>0.26</td>\n",
       "      <td>0.88</td>\n",
       "      <td>-0.13</td>\n",
       "      <td>0.99</td>\n",
       "      <td>0.09</td>\n",
       "      <td>-0.02</td>\n",
       "      <td>-0.05</td>\n",
       "      <td>0.72</td>\n",
       "      <td>0.71</td>\n",
       "      <td>0.18</td>\n",
       "      <td>1.00</td>\n",
       "    </tr>\n",
       "  </tbody>\n",
       "</table>\n",
       "</div>"
      ],
      "text/plain": [
       "                    Price  Quantity  CustomerNo  total_revenue  year  month  \\\n",
       "Price                1.00     -0.13       -0.15           0.24  0.07  -0.44   \n",
       "Quantity            -0.13      1.00        0.03           0.89  0.12   0.10   \n",
       "CustomerNo          -0.15      0.03        1.00           0.01  0.40  -0.04   \n",
       "total_revenue        0.24      0.89        0.01           1.00  0.13   0.02   \n",
       "year                 0.07      0.12        0.40           0.13  1.00  -0.30   \n",
       "month               -0.44      0.10       -0.04           0.02 -0.30   1.00   \n",
       "day                 -0.19      0.05        0.17           0.02  0.12   0.12   \n",
       "% Change in Demand  -0.20      0.78       -0.11           0.69  0.01   0.18   \n",
       "% Change in Price    0.42      0.45        0.06           0.71  0.24  -0.00   \n",
       "Price Elasticity     0.19     -0.04        0.02           0.14  0.15   0.15   \n",
       "customer_finish      0.26      0.88       -0.13           0.99  0.09  -0.02   \n",
       "\n",
       "                     day  % Change in Demand  % Change in Price  \\\n",
       "Price              -0.19               -0.20               0.42   \n",
       "Quantity            0.05                0.78               0.45   \n",
       "CustomerNo          0.17               -0.11               0.06   \n",
       "total_revenue       0.02                0.69               0.71   \n",
       "year                0.12                0.01               0.24   \n",
       "month               0.12                0.18              -0.00   \n",
       "day                 1.00               -0.19              -0.19   \n",
       "% Change in Demand -0.19                1.00               0.56   \n",
       "% Change in Price  -0.19                0.56               1.00   \n",
       "Price Elasticity   -0.29                0.34               0.55   \n",
       "customer_finish    -0.05                0.72               0.71   \n",
       "\n",
       "                    Price Elasticity  customer_finish  \n",
       "Price                           0.19             0.26  \n",
       "Quantity                       -0.04             0.88  \n",
       "CustomerNo                      0.02            -0.13  \n",
       "total_revenue                   0.14             0.99  \n",
       "year                            0.15             0.09  \n",
       "month                           0.15            -0.02  \n",
       "day                            -0.29            -0.05  \n",
       "% Change in Demand              0.34             0.72  \n",
       "% Change in Price               0.55             0.71  \n",
       "Price Elasticity                1.00             0.18  \n",
       "customer_finish                 0.18             1.00  "
      ]
     },
     "execution_count": 80,
     "metadata": {},
     "output_type": "execute_result"
    }
   ],
   "source": [
    "df_sales_matrix = df_20_sampel.corr().round(2)\n",
    "df_sales_matrix"
   ]
  },
  {
   "cell_type": "markdown",
   "id": "f90544e7-2a0e-4bd3-8e55-45ef565a5710",
   "metadata": {
    "jupyter": {
     "outputs_hidden": true
    },
    "tags": []
   },
   "source": [
    "Pertanyaan 3 : Buatlah scatter plot antara harga dan quantity untuk\n",
    "barang dari soal sebelumnya.  \n",
    "Apabila produk tersebut mengalami kenaikan harga, kira-kira apa yang\n",
    "akan terjadi dengan penjualan ? Jika harga naik, maka pembelian barang akan cenderung menurun."
   ]
  },
  {
   "cell_type": "code",
   "execution_count": 81,
   "id": "f014daf9-45f9-42cf-90cd-bcb2ed71e9cd",
   "metadata": {
    "tags": []
   },
   "outputs": [
    {
     "data": {
      "text/plain": [
       "<Axes: xlabel='Quantity', ylabel='Price'>"
      ]
     },
     "execution_count": 81,
     "metadata": {},
     "output_type": "execute_result"
    },
    {
     "data": {
      "image/png": "[encoded data removed]",
      "text/plain": [
       "<Figure size 640x480 with 1 Axes>"
      ]
     },
     "metadata": {},
     "output_type": "display_data"
    }
   ],
   "source": [
    "df_sales_matrix.plot(x='Quantity',y='Price',kind='scatter')"
   ]
  },
  {
   "cell_type": "markdown",
   "id": "8eeecfba-f987-4912-8e05-b70921d2e9fa",
   "metadata": {},
   "source": [
    "# Basket Size Analysis<a href=\"#Basket-Size-Analysis\" class=\"anchor-link\">¶</a>\n",
    "\n",
    "Ketika seorang pelanggan e-commerce menekan \"add to cart\", maka barang\n",
    "tersebut akan disimpan dalam sebuah \"basket\".  \n",
    "Ketika melakukan checkout, maka semua barang dalam basket tersebut akan\n",
    "diproses dan dikirimkan.  \n",
    "Ukuran dari basket dapat diukur melalui nilai GMV (Gross merchandise\n",
    "volume) yang merupakan total harga barang yang dibeli.  \n",
    "Contoh : Pada tanggal 1 januari 2012 Tuan A membeli 1 shampoo seharga\n",
    "15ribu dan 2 sabun seharga 20ribu masing-masing. Maka basket size tuan A\n",
    "adalah 55ribu rupiah. Nyonya B hanya membeli 1 cemilan seharga 20 ribu,\n",
    "maka basket size dari nyonya B adalah 20 ribu rupiah. Berarti total GMV\n",
    "ecommerce pada 1 januari 2012 adalah 75ribu rupiah, dengan rata-rata\n",
    "basket size sebesar 37.5 ribu rupiah per basket.\n",
    "\n",
    "## Pertanyaan<a href=\"#Pertanyaan\" class=\"anchor-link\">¶</a>\n",
    "\n",
    "1.  Hitung rata-rata basket size dari seluruh transaksi per harinya,\n",
    "    apakah konsisten atau ada perubahan ?\n",
    "    \n",
    "    Ada perubahan\n",
    "    \n",
    "    -Basket size tertinggi di tanggal 18 dan terendah di tanggal 31\n",
    "    \n",
    "    -Secara keseluruhan basket size dari tanggal 1 hingga  18 ada kenaikan, meskipun ada juga penurunan.\n",
    "    \n",
    "    -Namun setelah tanggal 18 basket size terus mengalami penurunan hingga tanggal 31."
   ]
  },
  {
   "cell_type": "code",
   "execution_count": 38,
   "id": "520247a9-2fb7-4d82-ab04-e38d2eba559e",
   "metadata": {
    "tags": []
   },
   "outputs": [],
   "source": [
    "df_sales['customer_finish'] = df_sales['total_revenue'] / df_sales['CustomerNo']"
   ]
  },
  {
   "cell_type": "code",
   "execution_count": 39,
   "id": "e883bd67-7abf-4410-9ce9-eb7b34d8ad05",
   "metadata": {
    "tags": []
   },
   "outputs": [
    {
     "data": {
      "text/plain": [
       "day\n",
       "1     130.0\n",
       "2     116.0\n",
       "3     125.0\n",
       "4     157.0\n",
       "5     163.0\n",
       "6     156.0\n",
       "7     172.0\n",
       "8     141.0\n",
       "9     198.0\n",
       "10    141.0\n",
       "11    169.0\n",
       "12    110.0\n",
       "13    131.0\n",
       "14    164.0\n",
       "15    140.0\n",
       "16    131.0\n",
       "17    165.0\n",
       "18    221.0\n",
       "19    123.0\n",
       "20    167.0\n",
       "21    156.0\n",
       "22    122.0\n",
       "23    108.0\n",
       "24    119.0\n",
       "25    114.0\n",
       "26     89.0\n",
       "27    108.0\n",
       "28    132.0\n",
       "29     81.0\n",
       "30     90.0\n",
       "31     77.0\n",
       "Name: customer_finish, dtype: float64"
      ]
     },
     "execution_count": 39,
     "metadata": {},
     "output_type": "execute_result"
    }
   ],
   "source": [
    "df_day_basket_size = df_sales.groupby('day')['customer_finish'].sum().round(0)\n",
    "df_day_basket_size"
   ]
  },
  {
   "cell_type": "code",
   "execution_count": 40,
   "id": "cc60befc-b725-4090-964a-a9fa97eff6d1",
   "metadata": {
    "tags": []
   },
   "outputs": [
    {
     "data": {
      "text/plain": [
       "<Axes: xlabel='day'>"
      ]
     },
     "execution_count": 40,
     "metadata": {},
     "output_type": "execute_result"
    },
    {
     "data": {
      "image/png": "[encoded data removed]",
      "text/plain": [
       "<Figure size 640x480 with 1 Axes>"
      ]
     },
     "metadata": {},
     "output_type": "display_data"
    }
   ],
   "source": [
    "df_day_basket_size.plot(kind='line')"
   ]
  },
  {
   "cell_type": "markdown",
   "id": "0fa8dc7d-591b-4338-a48a-9de167e941e4",
   "metadata": {},
   "source": [
    "2.  Apakah ada perbedaan ukuran basket dari negara yang berbeda ? \n",
    "Ada, basket size tertinggi ada di negara United Kingdom dan terendah ada di negara Saudi Arabia."
   ]
  },
  {
   "cell_type": "code",
   "execution_count": 41,
   "id": "b2bda807-958b-4d8c-9354-ba93a5e71e0d",
   "metadata": {
    "tags": []
   },
   "outputs": [
    {
     "data": {
      "text/plain": [
       "Country\n",
       "United Kingdom          3441.3\n",
       "Netherlands              147.3\n",
       "EIRE                     117.9\n",
       "Germany                  108.6\n",
       "France                   104.8\n",
       "Australia                 80.2\n",
       "Switzerland               28.7\n",
       "Sweden                    23.9\n",
       "Japan                     23.0\n",
       "Spain                     22.4\n",
       "Belgium                   21.8\n",
       "Norway                    15.1\n",
       "Portugal                  13.9\n",
       "Finland                    9.7\n",
       "Denmark                    8.1\n",
       "Channel Islands            6.4\n",
       "Italy                      6.1\n",
       "Austria                    5.5\n",
       "Cyprus                     5.0\n",
       "Singapore                  5.0\n",
       "Israel                     4.2\n",
       "Iceland                    3.1\n",
       "USA                        2.6\n",
       "Unspecified                2.2\n",
       "Canada                     1.8\n",
       "Hong Kong                  1.7\n",
       "Poland                     1.6\n",
       "Malta                      0.8\n",
       "United Arab Emirates       0.8\n",
       "Greece                     0.7\n",
       "Czech Republic             0.6\n",
       "Lithuania                  0.5\n",
       "European Community         0.4\n",
       "Lebanon                    0.4\n",
       "Brazil                     0.4\n",
       "RSA                        0.3\n",
       "Bahrain                    0.3\n",
       "Saudi Arabia               0.1\n",
       "Name: customer_finish, dtype: float64"
      ]
     },
     "execution_count": 41,
     "metadata": {},
     "output_type": "execute_result"
    }
   ],
   "source": [
    "df_day_basket_size = df_sales.groupby('Country')['customer_finish'].sum().round(1).sort_values(ascending=False)\n",
    "df_day_basket_size"
   ]
  },
  {
   "cell_type": "markdown",
   "id": "af1fddd5-1a5f-49b6-a249-abfb3f24f9a2",
   "metadata": {},
   "source": [
    "# Crucial Question<a href=\"#Crucial-Question\" class=\"anchor-link\">¶</a>\n",
    "\n",
    "Ini adalah 5 pertanyaan utama yang ditanyakan oleh pembuat dataset sales\n",
    "ini.  \n",
    "Anda dapat menggunakan analisis yang sudah dikerjakan pada bagian\n",
    "sebelumnya, ataupun melakukan analisis baru untuk menjawab pertanyaan\n",
    "dibawah."
   ]
  },
  {
   "cell_type": "markdown",
   "id": "24d7497a-72db-43aa-9807-e98c01814a3b",
   "metadata": {},
   "source": [
    "1. How was the sales trend over the months? \n",
    "\n",
    "-Terus mengalami kenaikan terutama dari bulan Agustus 2019 hingga November 2019.\n",
    "\n",
    "\n",
    "-Meskipun pada bulan sebelumnya, yaitu Januari hingga Juli 2019, penjualannya mengalami naik turun, namun penururnanya tidak begitu signifikan."
   ]
  },
  {
   "cell_type": "code",
   "execution_count": 42,
   "id": "cf93d0e0-06ad-4c4c-9baa-16c07da17516",
   "metadata": {
    "tags": []
   },
   "outputs": [
    {
     "data": {
      "text/plain": [
       "month\n",
       "1     34137\n",
       "2     26991\n",
       "3     35644\n",
       "4     28936\n",
       "5     36015\n",
       "6     35807\n",
       "7     38398\n",
       "8     34318\n",
       "9     49007\n",
       "10    59041\n",
       "11    83042\n",
       "12    66429\n",
       "Name: Quantity, dtype: int64"
      ]
     },
     "execution_count": 42,
     "metadata": {},
     "output_type": "execute_result"
    }
   ],
   "source": [
    "# Product order per day\n",
    "df_total_product_order_per_month = df_sales.groupby('month')['Quantity'].count()\n",
    "df_total_product_order_per_month"
   ]
  },
  {
   "cell_type": "code",
   "execution_count": 43,
   "id": "684d55ba-0446-4045-8064-6d1a55dce46d",
   "metadata": {
    "tags": []
   },
   "outputs": [
    {
     "data": {
      "text/plain": [
       "<Axes: xlabel='month'>"
      ]
     },
     "execution_count": 43,
     "metadata": {},
     "output_type": "execute_result"
    },
    {
     "data": {
      "image/png": "[encoded data removed]",
      "text/plain": [
       "<Figure size 640x480 with 1 Axes>"
      ]
     },
     "metadata": {},
     "output_type": "display_data"
    }
   ],
   "source": [
    "df_total_product_order_per_month.plot(kind='line')"
   ]
  },
  {
   "cell_type": "markdown",
   "id": "2439fe00-3ce1-4139-8d16-e280cd9fc34d",
   "metadata": {},
   "source": [
    "2. What are the most frequently purchased products? Cream Hanging Heart T-Light Holder "
   ]
  },
  {
   "cell_type": "code",
   "execution_count": 104,
   "id": "deaf0fb9-7545-4e65-99f5-7dd394703a35",
   "metadata": {
    "tags": []
   },
   "outputs": [
    {
     "data": {
      "text/plain": [
       "ProductNo\n",
       "85123A    2336\n",
       "85099B    2115\n",
       "22423     2019\n",
       "47566     1708\n",
       "20725     1597\n",
       "          ... \n",
       "20964        1\n",
       "85115B       1\n",
       "35004P       1\n",
       "21009        1\n",
       "90025B       1\n",
       "Name: Quantity, Length: 3753, dtype: int64"
      ]
     },
     "execution_count": 104,
     "metadata": {},
     "output_type": "execute_result"
    }
   ],
   "source": [
    "bestseller_product_2018_to_2019 = df_sales.groupby('ProductNo')['Quantity'].count().sort_values(ascending=False)\n",
    "bestseller_product_2018_to_2019"
   ]
  },
  {
   "cell_type": "markdown",
   "id": "7fabb66b-9d9a-4439-b854-3ccc2a4743b2",
   "metadata": {},
   "source": [
    "3. How many products does the customer purchase in each transaction? Maksimal 7835, dan minimal 1"
   ]
  },
  {
   "cell_type": "code",
   "execution_count": 45,
   "id": "6daf0410-2418-4adc-a809-1890290f006b",
   "metadata": {
    "tags": []
   },
   "outputs": [
    {
     "data": {
      "text/plain": [
       "CustomerNo\n",
       "17841.0    7835\n",
       "14911.0    5580\n",
       "14096.0    5093\n",
       "12748.0    4584\n",
       "14606.0    2692\n",
       "           ... \n",
       "15375.0       1\n",
       "13256.0       1\n",
       "16990.0       1\n",
       "18113.0       1\n",
       "13391.0       1\n",
       "Name: TransactionNo, Length: 4718, dtype: int64"
      ]
     },
     "execution_count": 45,
     "metadata": {},
     "output_type": "execute_result"
    }
   ],
   "source": [
    "purchase_per_customer = df_sales.groupby('CustomerNo')['TransactionNo'].count().sort_values(ascending=False)\n",
    "purchase_per_customer"
   ]
  },
  {
   "cell_type": "markdown",
   "id": "63d91cde-1ebf-494c-9d75-44b98b22344e",
   "metadata": {},
   "source": [
    "4. What are the most profitable segment customers?"
   ]
  },
  {
   "cell_type": "raw",
   "id": "ab9aaa1d-195c-4c77-a6d8-fdb68054156b",
   "metadata": {},
   "source": [
    "Super Populer, karena terdiri dari 423443 pelanggan, jika dibandingkan dengan kategori Low, hanya di angka 104322"
   ]
  },
  {
   "cell_type": "markdown",
   "id": "7ad19198-8dc1-426e-8af7-10b3915727c2",
   "metadata": {},
   "source": [
    "5. Based on your findings, what strategy could you recommend to the business to gain more profit?"
   ]
  },
  {
   "cell_type": "raw",
   "id": "977d755f-434b-41f2-a438-b5a78c91a00e",
   "metadata": {},
   "source": [
    "-Memfokuskan penjualan di 5 negara yang memiliki basket size paling banyak, seperti United Kingdom, Netherlands, EIRE, Germany, dan France\n",
    "-Penambahan harga produk, akan menurunkan jumlah penjualan produk, sehingga jika ingin menaikkan harga barang, disesuaikan dengan tujuan negaranya, karena daya beli dan pendapatan per kapita penduduk setiap negara berbeda."
   ]
  },
  {
   "cell_type": "code",
   "execution_count": null,
   "id": "f0fe9d19-327a-4ee0-9813-fc0faad216c3",
   "metadata": {},
   "outputs": [],
   "source": []
  }
 ],
 "metadata": {
  "kernelspec": {
   "display_name": "Python 3 (ipykernel)",
   "language": "python",
   "name": "python3"
  },
  "language_info": {
   "codemirror_mode": {
    "name": "ipython",
    "version": 3
   },
   "file_extension": ".py",
   "mimetype": "text/x-python",
   "name": "python",
   "nbconvert_exporter": "python",
   "pygments_lexer": "ipython3",
   "version": "3.11.3"
  }
 },
 "nbformat": 4,
 "nbformat_minor": 5
}
