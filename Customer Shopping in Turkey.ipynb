{
 "cells": [
  {
   "cell_type": "markdown",
   "id": "779df9cb-4046-4761-a3b0-9a3e4f742f27",
   "metadata": {},
   "source": [
    "# Dataset : https://www.kaggle.com/datasets/mehmettahiraslan/customer-shopping-dataset"
   ]
  },
  {
   "cell_type": "markdown",
   "id": "07b8fe8c-cee6-42a8-80bd-8ddda35b547e",
   "metadata": {},
   "source": [
    "# Customer Shopping Dataset 2021 - 2023 in  Istanbul, Turki"
   ]
  },
  {
   "cell_type": "markdown",
   "id": "d68d1364-2170-45dd-b97b-bc24a62496db",
   "metadata": {},
   "source": [
    "# Setting Up Dataset"
   ]
  },
  {
   "cell_type": "code",
   "execution_count": 1,
   "id": "238a45cc-fc42-49b5-9b4d-5392f301d6fb",
   "metadata": {
    "tags": []
   },
   "outputs": [],
   "source": [
    "#Import library processing\n",
    "import pandas as pd\n",
    "import numpy as np\n",
    "import datetime as dt\n",
    "from operator import attrgetter\n",
    "\n",
    "#Import library data visualization\n",
    "import matplotlib.pyplot as plt\n",
    "import seaborn as sns"
   ]
  },
  {
   "cell_type": "code",
   "execution_count": 2,
   "id": "094692a7-9d1f-4de4-9925-31827d1749c9",
   "metadata": {
    "tags": []
   },
   "outputs": [],
   "source": [
    "#Import dataset\n",
    "df_shopping = pd.read_csv('customer_shopping_data.csv')"
   ]
  },
  {
   "cell_type": "markdown",
   "id": "e7ca02b9-9145-4c27-b4b9-3b64a91dec27",
   "metadata": {},
   "source": [
    "# Data Cleansing"
   ]
  },
  {
   "cell_type": "code",
   "execution_count": 3,
   "id": "e5d9804c-55af-41dd-b480-d171281439b4",
   "metadata": {
    "tags": []
   },
   "outputs": [
    {
     "name": "stderr",
     "output_type": "stream",
     "text": [
      "C:\\Users\\User\\AppData\\Local\\Temp\\ipykernel_3900\\4275727187.py:2: UserWarning: Parsing dates in DD/MM/YYYY format when dayfirst=False (the default) was specified. This may lead to inconsistently parsed dates! Specify a format to ensure consistent parsing.\n",
      "  df_shopping['invoice_date']= pd.to_datetime(df_shopping['invoice_date'])\n"
     ]
    },
    {
     "data": {
      "text/html": [
       "<div>\n",
       "<style scoped>\n",
       "    .dataframe tbody tr th:only-of-type {\n",
       "        vertical-align: middle;\n",
       "    }\n",
       "\n",
       "    .dataframe tbody tr th {\n",
       "        vertical-align: top;\n",
       "    }\n",
       "\n",
       "    .dataframe thead th {\n",
       "        text-align: right;\n",
       "    }\n",
       "</style>\n",
       "<table border=\"1\" class=\"dataframe\">\n",
       "  <thead>\n",
       "    <tr style=\"text-align: right;\">\n",
       "      <th></th>\n",
       "      <th>invoice_no</th>\n",
       "      <th>customer_id</th>\n",
       "      <th>gender</th>\n",
       "      <th>age</th>\n",
       "      <th>category</th>\n",
       "      <th>quantity</th>\n",
       "      <th>price</th>\n",
       "      <th>payment_method</th>\n",
       "      <th>invoice_date</th>\n",
       "      <th>shopping_mall</th>\n",
       "    </tr>\n",
       "  </thead>\n",
       "  <tbody>\n",
       "  </tbody>\n",
       "</table>\n",
       "</div>"
      ],
      "text/plain": [
       "Empty DataFrame\n",
       "Columns: [invoice_no, customer_id, gender, age, category, quantity, price, payment_method, invoice_date, shopping_mall]\n",
       "Index: []"
      ]
     },
     "execution_count": 3,
     "metadata": {},
     "output_type": "execute_result"
    }
   ],
   "source": [
    "#Ubah kolom Date menjadi tipe datetime\n",
    "df_shopping['invoice_date']= pd.to_datetime(df_shopping['invoice_date'])\n",
    "\n",
    "#Check duplicate value\n",
    "df_shopping[df_shopping.duplicated(keep=False)]"
   ]
  },
  {
   "cell_type": "code",
   "execution_count": 6,
   "id": "c61b8904-22a7-4de1-8826-ffd29c18fe01",
   "metadata": {
    "tags": []
   },
   "outputs": [
    {
     "data": {
      "text/html": [
       "<div>\n",
       "<style scoped>\n",
       "    .dataframe tbody tr th:only-of-type {\n",
       "        vertical-align: middle;\n",
       "    }\n",
       "\n",
       "    .dataframe tbody tr th {\n",
       "        vertical-align: top;\n",
       "    }\n",
       "\n",
       "    .dataframe thead th {\n",
       "        text-align: right;\n",
       "    }\n",
       "</style>\n",
       "<table border=\"1\" class=\"dataframe\">\n",
       "  <thead>\n",
       "    <tr style=\"text-align: right;\">\n",
       "      <th></th>\n",
       "      <th>missing_values</th>\n",
       "      <th>percentage_missing_values</th>\n",
       "    </tr>\n",
       "  </thead>\n",
       "  <tbody>\n",
       "    <tr>\n",
       "      <th>invoice_no</th>\n",
       "      <td>0</td>\n",
       "      <td>0.0</td>\n",
       "    </tr>\n",
       "    <tr>\n",
       "      <th>customer_id</th>\n",
       "      <td>0</td>\n",
       "      <td>0.0</td>\n",
       "    </tr>\n",
       "    <tr>\n",
       "      <th>gender</th>\n",
       "      <td>0</td>\n",
       "      <td>0.0</td>\n",
       "    </tr>\n",
       "    <tr>\n",
       "      <th>age</th>\n",
       "      <td>0</td>\n",
       "      <td>0.0</td>\n",
       "    </tr>\n",
       "    <tr>\n",
       "      <th>category</th>\n",
       "      <td>0</td>\n",
       "      <td>0.0</td>\n",
       "    </tr>\n",
       "    <tr>\n",
       "      <th>quantity</th>\n",
       "      <td>0</td>\n",
       "      <td>0.0</td>\n",
       "    </tr>\n",
       "    <tr>\n",
       "      <th>price</th>\n",
       "      <td>0</td>\n",
       "      <td>0.0</td>\n",
       "    </tr>\n",
       "    <tr>\n",
       "      <th>payment_method</th>\n",
       "      <td>0</td>\n",
       "      <td>0.0</td>\n",
       "    </tr>\n",
       "    <tr>\n",
       "      <th>invoice_date</th>\n",
       "      <td>0</td>\n",
       "      <td>0.0</td>\n",
       "    </tr>\n",
       "    <tr>\n",
       "      <th>shopping_mall</th>\n",
       "      <td>0</td>\n",
       "      <td>0.0</td>\n",
       "    </tr>\n",
       "  </tbody>\n",
       "</table>\n",
       "</div>"
      ],
      "text/plain": [
       "                missing_values  percentage_missing_values\n",
       "invoice_no                   0                        0.0\n",
       "customer_id                  0                        0.0\n",
       "gender                       0                        0.0\n",
       "age                          0                        0.0\n",
       "category                     0                        0.0\n",
       "quantity                     0                        0.0\n",
       "price                        0                        0.0\n",
       "payment_method               0                        0.0\n",
       "invoice_date                 0                        0.0\n",
       "shopping_mall                0                        0.0"
      ]
     },
     "execution_count": 6,
     "metadata": {},
     "output_type": "execute_result"
    }
   ],
   "source": [
    "#Count missing value\n",
    "df_count_missing = df_shopping.isnull().sum()\n",
    "df_percentage_missing = 100*df_shopping.isnull().sum() / len(df_shopping)\n",
    "\n",
    "df_count_missing = pd.concat([df_count_missing,df_percentage_missing],axis=1)\n",
    "df_count_missing \n",
    "\n",
    "#rename column\n",
    "df_rename_missing_value = df_count_missing.rename(\n",
    "    columns = {0 : 'missing_values', 1 : 'percentage_missing_values'})\n",
    "\n",
    "df_rename_missing_value"
   ]
  },
  {
   "cell_type": "markdown",
   "id": "a4179047-ce1f-4d20-b15e-e194a10adff4",
   "metadata": {
    "tags": []
   },
   "source": [
    "# Top Contributing products"
   ]
  },
  {
   "cell_type": "markdown",
   "id": "e1235521-4689-4f59-bde2-936e6e75ac9e",
   "metadata": {},
   "source": [
    "1. total_revenue didefinisikan sebagai perkalian harga barang dengan banyaknya pembelian"
   ]
  },
  {
   "cell_type": "code",
   "execution_count": 14,
   "id": "0f2f86eb-b7d4-43c8-ad08-d310c4758a1a",
   "metadata": {
    "tags": []
   },
   "outputs": [],
   "source": [
    "df_shopping['total_revenue']= df_shopping['price'] * df_shopping['quantity'].sort_values(ascending = True)"
   ]
  },
  {
   "cell_type": "markdown",
   "id": "d378ffed-f7d6-4a5a-a677-0643bb82bb07",
   "metadata": {},
   "source": [
    "2.  20% produk dengan volume transaksi tertinggi masuk kategori \"Popular\". 20 - 80% Masuk kategori \"Normal\" dan sisanya masuk ke kategori \"Low\""
   ]
  },
  {
   "cell_type": "code",
   "execution_count": 6,
   "id": "e2dbed1d-0c61-4a46-8d41-904784b7d05e",
   "metadata": {
    "tags": []
   },
   "outputs": [
    {
     "data": {
      "text/plain": [
       "Populer    79690\n",
       "LoW        19767\n",
       "Name: quantity_category, dtype: int64"
      ]
     },
     "execution_count": 6,
     "metadata": {},
     "output_type": "execute_result"
    }
   ],
   "source": [
    "populer_quantity = df_shopping['quantity'].quantile(0.20)\n",
    "normal_quantity = df_shopping['quantity'].quantile(0.80)\n",
    "def categorize(revenue):\n",
    "    if revenue >= populer_quantity:\n",
    "        return 'Populer'\n",
    "    elif revenue >= normal_quantity:\n",
    "        return 'Normal'\n",
    "    else:\n",
    "        return 'LoW'\n",
    "\n",
    "df_shopping['quantity_category'] = df_shopping['quantity'].apply(categorize)\n",
    "df_shopping['quantity_category'].value_counts()"
   ]
  },
  {
   "cell_type": "markdown",
   "id": "b86ec1d7-3e24-4892-ba2b-423a6f4e69f0",
   "metadata": {},
   "source": [
    "3.  20% produk dengan total revenue tertinggi masuk kategori \"Popular\". 20 - 80% Masuk kategori \"Normal\" dan sisanya masuk ke kategori \"Low\""
   ]
  },
  {
   "cell_type": "code",
   "execution_count": 8,
   "id": "64427cf5-e0c6-47a2-b57c-d651760267db",
   "metadata": {
    "tags": []
   },
   "outputs": [
    {
     "data": {
      "text/plain": [
       "Populer    81567\n",
       "Low        17890\n",
       "Name: total_revenue_category, dtype: int64"
      ]
     },
     "execution_count": 8,
     "metadata": {},
     "output_type": "execute_result"
    }
   ],
   "source": [
    "populer_total_revenue = df_shopping['total_revenue'].quantile(0.20)\n",
    "normal_total_revenue = df_shopping['total_revenue'].quantile(0.80)\n",
    "def categorize(revenue):\n",
    "    if revenue >= populer_total_revenue:\n",
    "        return 'Populer'\n",
    "    elif revenue >= normal_total_revenue:\n",
    "        return 'Normal'\n",
    "    else:\n",
    "        return 'Low'\n",
    "\n",
    "df_shopping['total_revenue_category'] = df_shopping['total_revenue'].apply(categorize)\n",
    "df_shopping['total_revenue_category'].value_counts()"
   ]
  },
  {
   "cell_type": "markdown",
   "id": "47366b02-a0a3-4a95-8b22-e6707bf94264",
   "metadata": {},
   "source": [
    "4. Berdasarkan penggabungan segmentasi no.2 dan no.3, apabila suatu produk Popular dari segi volume transaksi dan total revenue, maka segmentasi final dari produk tersebut adalah \"Super Popular\". Apabila salah satu atribut populer sementara atribut lainnya normal, maka segmentasi finalnya adalah \"Popular\". Apabila kedua atributnya \"Low\", maka segmentasi finalnya adalah \"Low\". Semua kombinasi lain selain yang disebutkan masuk ke kategori \"Normal\""
   ]
  },
  {
   "cell_type": "code",
   "execution_count": 9,
   "id": "67d8c6a9-1fc2-4f7b-b6b6-8b6ce552e799",
   "metadata": {
    "tags": []
   },
   "outputs": [
    {
     "data": {
      "text/plain": [
       "Super Populer    71797\n",
       "Low              27660\n",
       "Name: final_segmentation, dtype: int64"
      ]
     },
     "execution_count": 9,
     "metadata": {},
     "output_type": "execute_result"
    }
   ],
   "source": [
    "def categorize(row):\n",
    "    if row['quantity_category'] == 'Populer' and row['total_revenue_category'] == 'Populer':\n",
    "        return 'Super Populer'\n",
    "    elif row['quantity_category'] == 'Populer' and row['total_revenue_category'] == 'Normal':\n",
    "        return 'Populer'\n",
    "    else:\n",
    "        return 'Low'\n",
    "df_shopping['final_segmentation'] = df_shopping.apply(categorize, axis=1)\n",
    "df_shopping['final_segmentation'].value_counts()"
   ]
  },
  {
   "cell_type": "markdown",
   "id": "480526d7-f333-4d8c-a2ac-d7a8cf689d6b",
   "metadata": {},
   "source": [
    "# Question"
   ]
  },
  {
   "cell_type": "code",
   "execution_count": 10,
   "id": "a80d0f58-89ad-4f33-997d-b6a591ed2422",
   "metadata": {
    "tags": []
   },
   "outputs": [],
   "source": [
    "date_col = pd.DatetimeIndex(df_shopping['invoice_date'])\n",
    "df_shopping['year'] = date_col.year \n",
    "df_shopping['month'] = date_col.month \n",
    "df_shopping['day'] = date_col.day \n",
    "df_shopping['day_name'] = df_shopping['invoice_date'].dt.day_name()"
   ]
  },
  {
   "cell_type": "markdown",
   "id": "e7c93e27-3bf9-47a7-9d49-dac1de11a100",
   "metadata": {},
   "source": [
    "1. Kategori apa saja yang yang masuk daftar low pada Juni 2022?"
   ]
  },
  {
   "cell_type": "code",
   "execution_count": 12,
   "id": "de9c7d0d-9fd5-495d-9f62-1ac87780d295",
   "metadata": {
    "tags": []
   },
   "outputs": [
    {
     "data": {
      "text/plain": [
       "category\n",
       "Food & Beverage    2014\n",
       "Clothing           1579\n",
       "Cosmetics           698\n",
       "Books               473\n",
       "Toys                447\n",
       "Souvenir            434\n",
       "Shoes               411\n",
       "Technology          242\n",
       "Name: invoice_no, dtype: int64"
      ]
     },
     "execution_count": 12,
     "metadata": {},
     "output_type": "execute_result"
    }
   ],
   "source": [
    "df_date = df_shopping[(df_shopping['invoice_date'] > '2022-06-01') & (df_shopping['invoice_date'] <= '2022-11-30')]\n",
    "df_segmentation = df_date[df_date['final_segmentation']=='Low']\n",
    "df_low_juni_2022 = df_segmentation.groupby('category')['invoice_no'].count().sort_values(ascending=False)\n",
    "df_low_juni_2022"
   ]
  },
  {
   "cell_type": "markdown",
   "id": "4646fcd1-a721-4435-9df3-2f8410770d0a",
   "metadata": {},
   "source": [
    "2.  Apakah barang yang super populer di Agustus 2021 sama dengan barang yang\n",
    "    populer di Mei 2021?\n",
    "    \n",
    "    Berbeda"
   ]
  },
  {
   "cell_type": "code",
   "execution_count": 13,
   "id": "f20d8dde-ccb8-4e76-9575-a81e58b64c45",
   "metadata": {
    "tags": []
   },
   "outputs": [
    {
     "data": {
      "text/plain": [
       "category\n",
       "Clothing           955\n",
       "Cosmetics          426\n",
       "Shoes              296\n",
       "Toys               269\n",
       "Food & Beverage    243\n",
       "Technology         140\n",
       "Souvenir           110\n",
       "Books              103\n",
       "Name: invoice_no, dtype: int64"
      ]
     },
     "execution_count": 13,
     "metadata": {},
     "output_type": "execute_result"
    }
   ],
   "source": [
    "#super populer Agustus 2021\n",
    "df_date = df_shopping[(df_shopping['invoice_date'] > '2021-08-01') & (df_shopping['invoice_date'] <= '2021-08-30')]\n",
    "df_segmentation = df_date[df_date['final_segmentation']=='Super Populer']\n",
    "df_super_populer_agustus_2021 = df_segmentation.groupby('category')['invoice_no'].count().sort_values(ascending=False)\n",
    "df_super_populer_agustus_2021"
   ]
  },
  {
   "cell_type": "code",
   "execution_count": 14,
   "id": "642fbf05-9011-4bce-871d-af1a94d7dda3",
   "metadata": {
    "tags": []
   },
   "outputs": [
    {
     "data": {
      "text/plain": [
       "category\n",
       "Clothing           1012\n",
       "Cosmetics           429\n",
       "Shoes               335\n",
       "Toys                310\n",
       "Food & Beverage     211\n",
       "Technology          127\n",
       "Souvenir            121\n",
       "Books               104\n",
       "Name: invoice_no, dtype: int64"
      ]
     },
     "execution_count": 14,
     "metadata": {},
     "output_type": "execute_result"
    }
   ],
   "source": [
    "#super populer Mei 2021\n",
    "df_date = df_shopping[(df_shopping['invoice_date'] > '2021-05-01') & (df_shopping['invoice_date'] <= '2021-05-30')]\n",
    "df_segmentation = df_date[df_date['final_segmentation']=='Super Populer']\n",
    "df_super_populer_mei_2021 = df_segmentation.groupby('category')['invoice_no'].count().sort_values(ascending=False)\n",
    "df_super_populer_mei_2021"
   ]
  },
  {
   "cell_type": "markdown",
   "id": "e44b1b28-c936-48b1-a4ca-fe4e1899290f",
   "metadata": {},
   "source": [
    "3. Kategori apa saja yang low pada januari 2021 dan febuari 2021?"
   ]
  },
  {
   "cell_type": "code",
   "execution_count": 15,
   "id": "0438399f-405c-4267-898c-f5ff3c7fe4fc",
   "metadata": {
    "tags": []
   },
   "outputs": [
    {
     "data": {
      "text/plain": [
       "category\n",
       "Food & Beverage    333\n",
       "Clothing           270\n",
       "Cosmetics           96\n",
       "Toys                81\n",
       "Books               78\n",
       "Souvenir            75\n",
       "Shoes               73\n",
       "Technology          42\n",
       "Name: invoice_no, dtype: int64"
      ]
     },
     "execution_count": 15,
     "metadata": {},
     "output_type": "execute_result"
    }
   ],
   "source": [
    "df_date = df_shopping[df_shopping['invoice_date'].dt.strftime('%Y-%m') == '2021-01']\n",
    "df_segmentation = df_date[df_date['final_segmentation']=='Low']\n",
    "df_low_januari_2021 = df_segmentation.groupby('category')['invoice_no'].count().sort_values(ascending=False)\n",
    "df_low_januari_2021"
   ]
  },
  {
   "cell_type": "code",
   "execution_count": 16,
   "id": "6e901bad-7754-46d0-be5e-ba3e56b7e97e",
   "metadata": {
    "tags": []
   },
   "outputs": [
    {
     "data": {
      "text/plain": [
       "category\n",
       "Food & Beverage    300\n",
       "Clothing           240\n",
       "Cosmetics           92\n",
       "Toys                80\n",
       "Souvenir            72\n",
       "Shoes               71\n",
       "Books               65\n",
       "Technology          28\n",
       "Name: invoice_no, dtype: int64"
      ]
     },
     "execution_count": 16,
     "metadata": {},
     "output_type": "execute_result"
    }
   ],
   "source": [
    "df_date = df_shopping[df_shopping['invoice_date'].dt.strftime('%Y-%m') == '2021-02']\n",
    "df_segmentation = df_date[df_date['final_segmentation']=='Low']\n",
    "df_low_febuari_2021 = df_segmentation.groupby('category')['invoice_no'].count().sort_values(ascending=False)\n",
    "df_low_febuari_2021"
   ]
  },
  {
   "cell_type": "markdown",
   "id": "c4afef97-b62f-4fc0-81e4-a87fb2873cae",
   "metadata": {},
   "source": [
    "# Retention Cohort Analysis"
   ]
  },
  {
   "cell_type": "markdown",
   "id": "5c27166c-bd42-4195-8a6d-3feda0e1ee0e",
   "metadata": {},
   "source": [
    "1. Hitung tanggal berapa transaksi pertama customer?"
   ]
  },
  {
   "cell_type": "code",
   "execution_count": 17,
   "id": "5f493225-7b63-46e6-a1c3-95f71470c0d4",
   "metadata": {
    "tags": []
   },
   "outputs": [
    {
     "data": {
      "text/html": [
       "<div>\n",
       "<style scoped>\n",
       "    .dataframe tbody tr th:only-of-type {\n",
       "        vertical-align: middle;\n",
       "    }\n",
       "\n",
       "    .dataframe tbody tr th {\n",
       "        vertical-align: top;\n",
       "    }\n",
       "\n",
       "    .dataframe thead th {\n",
       "        text-align: right;\n",
       "    }\n",
       "</style>\n",
       "<table border=\"1\" class=\"dataframe\">\n",
       "  <thead>\n",
       "    <tr style=\"text-align: right;\">\n",
       "      <th></th>\n",
       "      <th>invoice_no</th>\n",
       "      <th>customer_id</th>\n",
       "      <th>gender</th>\n",
       "      <th>age</th>\n",
       "      <th>category</th>\n",
       "      <th>quantity</th>\n",
       "      <th>price</th>\n",
       "      <th>payment_method</th>\n",
       "      <th>invoice_date</th>\n",
       "      <th>shopping_mall</th>\n",
       "      <th>total_revenue</th>\n",
       "      <th>quantity_category</th>\n",
       "      <th>total_revenue_category</th>\n",
       "      <th>final_segmentation</th>\n",
       "      <th>year</th>\n",
       "      <th>month</th>\n",
       "      <th>day</th>\n",
       "      <th>day_name</th>\n",
       "      <th>transaction_date</th>\n",
       "      <th>CohortMonth</th>\n",
       "    </tr>\n",
       "  </thead>\n",
       "  <tbody>\n",
       "    <tr>\n",
       "      <th>99456</th>\n",
       "      <td>I232867</td>\n",
       "      <td>C273973</td>\n",
       "      <td>Female</td>\n",
       "      <td>36</td>\n",
       "      <td>Souvenir</td>\n",
       "      <td>3</td>\n",
       "      <td>35.19</td>\n",
       "      <td>Credit Card</td>\n",
       "      <td>2022-10-15</td>\n",
       "      <td>Mall of Istanbul</td>\n",
       "      <td>105.57</td>\n",
       "      <td>Populer</td>\n",
       "      <td>Populer</td>\n",
       "      <td>Super Populer</td>\n",
       "      <td>2022</td>\n",
       "      <td>10</td>\n",
       "      <td>15</td>\n",
       "      <td>Saturday</td>\n",
       "      <td>2022-10-01</td>\n",
       "      <td>2022-10-15</td>\n",
       "    </tr>\n",
       "  </tbody>\n",
       "</table>\n",
       "</div>"
      ],
      "text/plain": [
       "      invoice_no customer_id  gender  age  category  quantity  price  \\\n",
       "99456    I232867     C273973  Female   36  Souvenir         3  35.19   \n",
       "\n",
       "      payment_method invoice_date     shopping_mall  total_revenue  \\\n",
       "99456    Credit Card   2022-10-15  Mall of Istanbul         105.57   \n",
       "\n",
       "      quantity_category total_revenue_category final_segmentation  year  \\\n",
       "99456           Populer                Populer      Super Populer  2022   \n",
       "\n",
       "       month  day  day_name transaction_date CohortMonth  \n",
       "99456     10   15  Saturday       2022-10-01  2022-10-15  "
      ]
     },
     "execution_count": 17,
     "metadata": {},
     "output_type": "execute_result"
    }
   ],
   "source": [
    "# A function that will parse the date Time based cohort:  1 day of month\n",
    "def get_month(x): return dt.datetime(x.year, x.month, 1) \n",
    "\n",
    "# Create transaction_date column based on month and store in TransactionMonth\n",
    "df_shopping['transaction_date'] = df_shopping['invoice_date'].apply(get_month) \n",
    "\n",
    "# Grouping by customer_id and select the InvoiceMonth value\n",
    "grouping = df_shopping.groupby('customer_id')['invoice_date'] \n",
    "\n",
    "# Assigning a minimum InvoiceMonth value to the dataset\n",
    "df_shopping['CohortMonth'] = grouping.transform('min')\n",
    "\n",
    "# printing\n",
    "df_shopping.tail(1)"
   ]
  },
  {
   "cell_type": "markdown",
   "id": "b1943129-01ca-4ac8-a54b-3b1cd034555d",
   "metadata": {},
   "source": [
    "2. Lakukan iterasi untuk setiap bulan. Ambil berapa banyak customer yang mendaftar dan berapa banyak customer yang sama yang melakukan transaksi di bulan bulan berikutnya, yang terjadi pada tahun 2021 hingga 2023."
   ]
  },
  {
   "cell_type": "code",
   "execution_count": 18,
   "id": "69085fd7-a72b-4cb6-aace-4048af08c332",
   "metadata": {
    "tags": []
   },
   "outputs": [],
   "source": [
    "df_customer = df_shopping[(df_shopping['quantity'] > 0) & (df_shopping['price'] > 0)]"
   ]
  },
  {
   "cell_type": "code",
   "execution_count": 19,
   "id": "48e648ea-69a9-49c3-b1fc-c26bbd9454ad",
   "metadata": {
    "tags": []
   },
   "outputs": [],
   "source": [
    "df_customer['invoice_date'] = pd.to_datetime(df_customer['invoice_date'], format='%m/%d/%Y %H:%M')"
   ]
  },
  {
   "cell_type": "code",
   "execution_count": 20,
   "id": "e4264055-c294-43d2-bae7-5fb3fc30f519",
   "metadata": {
    "tags": []
   },
   "outputs": [],
   "source": [
    "df_customer['order_month'] = df_customer['invoice_date'].dt.to_period('M')"
   ]
  },
  {
   "cell_type": "code",
   "execution_count": 21,
   "id": "9cdcc281-7215-495f-91fe-1bc82ad014b7",
   "metadata": {
    "tags": []
   },
   "outputs": [],
   "source": [
    "df_customer['cohort'] = df_customer.groupby('invoice_no')['invoice_date'].transform('min').dt.to_period('M')"
   ]
  },
  {
   "cell_type": "code",
   "execution_count": 22,
   "id": "5c962a48-2d17-46dd-9f07-67e328fca797",
   "metadata": {
    "tags": []
   },
   "outputs": [],
   "source": [
    "df_cohort = df_customer.groupby(['cohort', 'order_month']).agg(n_customers=('invoice_no', 'nunique')).reset_index(drop=False)"
   ]
  },
  {
   "cell_type": "code",
   "execution_count": 23,
   "id": "a62ac9e4-007b-459f-89bd-e5912b0e1b17",
   "metadata": {
    "tags": []
   },
   "outputs": [],
   "source": [
    "df_cohort['kohort_bulan'] = (df_cohort.order_month - df_cohort.cohort).apply(attrgetter('n'))"
   ]
  },
  {
   "cell_type": "code",
   "execution_count": 24,
   "id": "d84519ca-884f-4891-9d8b-bbe3a5799361",
   "metadata": {
    "tags": []
   },
   "outputs": [
    {
     "data": {
      "text/html": [
       "<div>\n",
       "<style scoped>\n",
       "    .dataframe tbody tr th:only-of-type {\n",
       "        vertical-align: middle;\n",
       "    }\n",
       "\n",
       "    .dataframe tbody tr th {\n",
       "        vertical-align: top;\n",
       "    }\n",
       "\n",
       "    .dataframe thead th {\n",
       "        text-align: right;\n",
       "    }\n",
       "</style>\n",
       "<table border=\"1\" class=\"dataframe\">\n",
       "  <thead>\n",
       "    <tr style=\"text-align: right;\">\n",
       "      <th>kohort_bulan</th>\n",
       "      <th>0</th>\n",
       "    </tr>\n",
       "    <tr>\n",
       "      <th>cohort</th>\n",
       "      <th></th>\n",
       "    </tr>\n",
       "  </thead>\n",
       "  <tbody>\n",
       "    <tr>\n",
       "      <th>2021-01</th>\n",
       "      <td>3771</td>\n",
       "    </tr>\n",
       "    <tr>\n",
       "      <th>2021-02</th>\n",
       "      <td>3402</td>\n",
       "    </tr>\n",
       "    <tr>\n",
       "      <th>2021-03</th>\n",
       "      <td>3918</td>\n",
       "    </tr>\n",
       "    <tr>\n",
       "      <th>2021-04</th>\n",
       "      <td>3770</td>\n",
       "    </tr>\n",
       "    <tr>\n",
       "      <th>2021-05</th>\n",
       "      <td>3864</td>\n",
       "    </tr>\n",
       "    <tr>\n",
       "      <th>2021-06</th>\n",
       "      <td>3761</td>\n",
       "    </tr>\n",
       "    <tr>\n",
       "      <th>2021-07</th>\n",
       "      <td>4014</td>\n",
       "    </tr>\n",
       "    <tr>\n",
       "      <th>2021-08</th>\n",
       "      <td>3750</td>\n",
       "    </tr>\n",
       "    <tr>\n",
       "      <th>2021-09</th>\n",
       "      <td>3619</td>\n",
       "    </tr>\n",
       "    <tr>\n",
       "      <th>2021-10</th>\n",
       "      <td>3873</td>\n",
       "    </tr>\n",
       "    <tr>\n",
       "      <th>2021-11</th>\n",
       "      <td>3744</td>\n",
       "    </tr>\n",
       "    <tr>\n",
       "      <th>2021-12</th>\n",
       "      <td>3896</td>\n",
       "    </tr>\n",
       "    <tr>\n",
       "      <th>2022-01</th>\n",
       "      <td>3842</td>\n",
       "    </tr>\n",
       "    <tr>\n",
       "      <th>2022-02</th>\n",
       "      <td>3445</td>\n",
       "    </tr>\n",
       "    <tr>\n",
       "      <th>2022-03</th>\n",
       "      <td>3927</td>\n",
       "    </tr>\n",
       "    <tr>\n",
       "      <th>2022-04</th>\n",
       "      <td>3738</td>\n",
       "    </tr>\n",
       "    <tr>\n",
       "      <th>2022-05</th>\n",
       "      <td>3852</td>\n",
       "    </tr>\n",
       "    <tr>\n",
       "      <th>2022-06</th>\n",
       "      <td>3788</td>\n",
       "    </tr>\n",
       "    <tr>\n",
       "      <th>2022-07</th>\n",
       "      <td>3870</td>\n",
       "    </tr>\n",
       "    <tr>\n",
       "      <th>2022-08</th>\n",
       "      <td>3881</td>\n",
       "    </tr>\n",
       "    <tr>\n",
       "      <th>2022-09</th>\n",
       "      <td>3752</td>\n",
       "    </tr>\n",
       "    <tr>\n",
       "      <th>2022-10</th>\n",
       "      <td>3917</td>\n",
       "    </tr>\n",
       "    <tr>\n",
       "      <th>2022-11</th>\n",
       "      <td>3722</td>\n",
       "    </tr>\n",
       "    <tr>\n",
       "      <th>2022-12</th>\n",
       "      <td>3817</td>\n",
       "    </tr>\n",
       "    <tr>\n",
       "      <th>2023-01</th>\n",
       "      <td>2745</td>\n",
       "    </tr>\n",
       "    <tr>\n",
       "      <th>2023-02</th>\n",
       "      <td>2488</td>\n",
       "    </tr>\n",
       "    <tr>\n",
       "      <th>2023-03</th>\n",
       "      <td>372</td>\n",
       "    </tr>\n",
       "    <tr>\n",
       "      <th>2023-04</th>\n",
       "      <td>395</td>\n",
       "    </tr>\n",
       "    <tr>\n",
       "      <th>2023-05</th>\n",
       "      <td>396</td>\n",
       "    </tr>\n",
       "    <tr>\n",
       "      <th>2023-06</th>\n",
       "      <td>389</td>\n",
       "    </tr>\n",
       "    <tr>\n",
       "      <th>2023-07</th>\n",
       "      <td>383</td>\n",
       "    </tr>\n",
       "    <tr>\n",
       "      <th>2023-08</th>\n",
       "      <td>370</td>\n",
       "    </tr>\n",
       "    <tr>\n",
       "      <th>2023-09</th>\n",
       "      <td>263</td>\n",
       "    </tr>\n",
       "    <tr>\n",
       "      <th>2023-10</th>\n",
       "      <td>240</td>\n",
       "    </tr>\n",
       "    <tr>\n",
       "      <th>2023-11</th>\n",
       "      <td>233</td>\n",
       "    </tr>\n",
       "    <tr>\n",
       "      <th>2023-12</th>\n",
       "      <td>250</td>\n",
       "    </tr>\n",
       "  </tbody>\n",
       "</table>\n",
       "</div>"
      ],
      "text/plain": [
       "kohort_bulan     0\n",
       "cohort            \n",
       "2021-01       3771\n",
       "2021-02       3402\n",
       "2021-03       3918\n",
       "2021-04       3770\n",
       "2021-05       3864\n",
       "2021-06       3761\n",
       "2021-07       4014\n",
       "2021-08       3750\n",
       "2021-09       3619\n",
       "2021-10       3873\n",
       "2021-11       3744\n",
       "2021-12       3896\n",
       "2022-01       3842\n",
       "2022-02       3445\n",
       "2022-03       3927\n",
       "2022-04       3738\n",
       "2022-05       3852\n",
       "2022-06       3788\n",
       "2022-07       3870\n",
       "2022-08       3881\n",
       "2022-09       3752\n",
       "2022-10       3917\n",
       "2022-11       3722\n",
       "2022-12       3817\n",
       "2023-01       2745\n",
       "2023-02       2488\n",
       "2023-03        372\n",
       "2023-04        395\n",
       "2023-05        396\n",
       "2023-06        389\n",
       "2023-07        383\n",
       "2023-08        370\n",
       "2023-09        263\n",
       "2023-10        240\n",
       "2023-11        233\n",
       "2023-12        250"
      ]
     },
     "execution_count": 24,
     "metadata": {},
     "output_type": "execute_result"
    }
   ],
   "source": [
    "count_new_customers = df_cohort.pivot_table(index='cohort', columns='kohort_bulan', values='n_customers')\n",
    "count_new_customers"
   ]
  },
  {
   "cell_type": "code",
   "execution_count": 25,
   "id": "af5adeaf-764c-4156-abfe-c0ce74cb6ec5",
   "metadata": {
    "tags": []
   },
   "outputs": [
    {
     "data": {
      "text/plain": [
       "<Axes: xlabel='cohort'>"
      ]
     },
     "execution_count": 25,
     "metadata": {},
     "output_type": "execute_result"
    },
    {
     "data": {
      "image/png": "[encoded data removed]",
      "text/plain": [
       "<Figure size 640x480 with 1 Axes>"
      ]
     },
     "metadata": {},
     "output_type": "display_data"
    }
   ],
   "source": [
    "count_new_customers.plot(kind='line')"
   ]
  },
  {
   "cell_type": "markdown",
   "id": "030ae002-7e21-4447-a36b-96acc401d527",
   "metadata": {},
   "source": [
    "### Pertanyaan"
   ]
  },
  {
   "cell_type": "markdown",
   "id": "ea363378-88cb-4a12-8b92-9bd7e73eaf66",
   "metadata": {},
   "source": [
    "1. Bagaimana karakteristik pertumbuhan customer di setiap bulannya? \n",
    "\n",
    "Pada tahun 2021 hingga 2022, pertumbuhannya melambat, dan di tahun 2023 pertumbuhan customer cenderung menurun."
   ]
  },
  {
   "cell_type": "markdown",
   "id": "756c2cf7-0953-45de-aa90-dcd118d8aff9",
   "metadata": {},
   "source": [
    "# Time Series Analysis"
   ]
  },
  {
   "cell_type": "markdown",
   "id": "4854b899-f7c5-49b0-915a-afaa462dbfad",
   "metadata": {},
   "source": [
    "1. Coba totalkan penjualan setiap barang per hari. Bagaimana trend penjualan? Apakah ada mengalami kenaikan, penurunan, atau stagnant.\n",
    "\n",
    "-Terjadi puncak penjualan pada tanggal 1, dan memasuki tanggal 2 hingga 28, penjualan stagnan di angka 3000an, dan menurun pada tanggal 29-31 hingga angka 1000an."
   ]
  },
  {
   "cell_type": "code",
   "execution_count": 26,
   "id": "0ded5328-f12c-447b-bf6d-21f700dc1306",
   "metadata": {
    "tags": []
   },
   "outputs": [
    {
     "data": {
      "text/plain": [
       "day\n",
       "1     4557\n",
       "2     4440\n",
       "3     3939\n",
       "4     3006\n",
       "5     3004\n",
       "6     3039\n",
       "7     3011\n",
       "8     2967\n",
       "9     2929\n",
       "10    3015\n",
       "11    3098\n",
       "12    3024\n",
       "13    3165\n",
       "14    3299\n",
       "15    3204\n",
       "16    3190\n",
       "17    3178\n",
       "18    3183\n",
       "19    3318\n",
       "20    3241\n",
       "21    3344\n",
       "22    3238\n",
       "23    3296\n",
       "24    3326\n",
       "25    3353\n",
       "26    3179\n",
       "27    3137\n",
       "28    3252\n",
       "29    2798\n",
       "30    2871\n",
       "31    1856\n",
       "Name: quantity, dtype: int64"
      ]
     },
     "execution_count": 26,
     "metadata": {},
     "output_type": "execute_result"
    }
   ],
   "source": [
    "# Product order per day\n",
    "df_total_product_order_per_day = df_shopping.groupby('day')['quantity'].count()\n",
    "df_total_product_order_per_day"
   ]
  },
  {
   "cell_type": "code",
   "execution_count": 27,
   "id": "7ad1e206-7f0e-487c-84b4-a7d4b1aedabe",
   "metadata": {
    "tags": []
   },
   "outputs": [
    {
     "data": {
      "text/plain": [
       "<Axes: xlabel='day'>"
      ]
     },
     "execution_count": 27,
     "metadata": {},
     "output_type": "execute_result"
    },
    {
     "data": {
      "image/png": "[encoded data removed]",
      "text/plain": [
       "<Figure size 640x480 with 1 Axes>"
      ]
     },
     "metadata": {},
     "output_type": "display_data"
    }
   ],
   "source": [
    "df_total_product_order_per_day.plot(kind='line')"
   ]
  },
  {
   "cell_type": "markdown",
   "id": "4f1beccd-c3b4-4293-a9a3-19d910a47d98",
   "metadata": {},
   "source": [
    "2. Lakukan analisis seasonality dengan melihat total order per harinya dari Senin hingga Minggu.\n",
    "\n",
    "Order tertinggi terjadi pada hari senin, dan order terendah di hari minggu."
   ]
  },
  {
   "cell_type": "code",
   "execution_count": 28,
   "id": "71f4205b-76d5-4205-a80f-a1b5a057d122",
   "metadata": {
    "tags": []
   },
   "outputs": [
    {
     "data": {
      "text/plain": [
       "day_name\n",
       "Monday       14486\n",
       "Saturday     14419\n",
       "Friday       14358\n",
       "Tuesday      14198\n",
       "Thursday     14160\n",
       "Wednesday    13935\n",
       "Sunday       13901\n",
       "Name: quantity, dtype: int64"
      ]
     },
     "execution_count": 28,
     "metadata": {},
     "output_type": "execute_result"
    }
   ],
   "source": [
    "# Product order weekly\n",
    "df_weekly_order = df_shopping.groupby('day_name')['quantity'].count().sort_values(ascending=False)\n",
    "df_weekly_order"
   ]
  },
  {
   "cell_type": "code",
   "execution_count": 29,
   "id": "e1ba7be4-536c-49c5-a3f1-4064217a5fa1",
   "metadata": {
    "tags": []
   },
   "outputs": [
    {
     "data": {
      "text/plain": [
       "<Axes: xlabel='day_name'>"
      ]
     },
     "execution_count": 29,
     "metadata": {},
     "output_type": "execute_result"
    },
    {
     "data": {
      "image/png": "[encoded data removed]",
      "text/plain": [
       "<Figure size 640x480 with 1 Axes>"
      ]
     },
     "metadata": {},
     "output_type": "display_data"
    }
   ],
   "source": [
    "df_weekly_order.plot(kind='line')"
   ]
  },
  {
   "cell_type": "markdown",
   "id": "40383389-2dab-4ddd-992a-b22b7d177e4b",
   "metadata": {},
   "source": [
    "# Price Elasticity"
   ]
  },
  {
   "cell_type": "markdown",
   "id": "21f6b7b8-05c3-4f6d-aa11-18d2c4cd8408",
   "metadata": {},
   "source": [
    "Pertanyaan 1 :\n",
    "Produk apa yang paling sering mengalami perubahan harga?\n",
    "Hitunglah banyaknya harga unik di setiap produk dan ambil daftar produk yang pernah terjual dengan setidaknya 10 variasi harga yang berbeda.\n",
    "\n",
    "Price Elasticity akan semakin baik dianalisis ketika lebih banyak variasi harga yang muncul."
   ]
  },
  {
   "cell_type": "code",
   "execution_count": 30,
   "id": "369ef65e-0945-451d-9109-8f914fd2491b",
   "metadata": {
    "tags": []
   },
   "outputs": [],
   "source": [
    "df_shopping[\"% Change in Demand\"] = df_shopping[\"quantity\"].pct_change()\n",
    "df_shopping[\"% Change in Price\"] = df_shopping[\"price\"].pct_change()\n",
    "df_shopping[\"Price Elasticity\"] = df_shopping[\"% Change in Demand\"] / df_shopping[\"% Change in Price\"].sort_values(ascending=True).round(1)"
   ]
  },
  {
   "cell_type": "code",
   "execution_count": 31,
   "id": "86ac5855-2b16-4308-8b14-708ab95860bb",
   "metadata": {
    "tags": []
   },
   "outputs": [
    {
     "data": {
      "text/html": [
       "<div>\n",
       "<style scoped>\n",
       "    .dataframe tbody tr th:only-of-type {\n",
       "        vertical-align: middle;\n",
       "    }\n",
       "\n",
       "    .dataframe tbody tr th {\n",
       "        vertical-align: top;\n",
       "    }\n",
       "\n",
       "    .dataframe thead th {\n",
       "        text-align: right;\n",
       "    }\n",
       "</style>\n",
       "<table border=\"1\" class=\"dataframe\">\n",
       "  <thead>\n",
       "    <tr style=\"text-align: right;\">\n",
       "      <th></th>\n",
       "      <th>invoice_no</th>\n",
       "      <th>customer_id</th>\n",
       "      <th>gender</th>\n",
       "      <th>age</th>\n",
       "      <th>category</th>\n",
       "      <th>quantity</th>\n",
       "      <th>price</th>\n",
       "      <th>payment_method</th>\n",
       "      <th>invoice_date</th>\n",
       "      <th>shopping_mall</th>\n",
       "      <th>...</th>\n",
       "      <th>final_segmentation</th>\n",
       "      <th>year</th>\n",
       "      <th>month</th>\n",
       "      <th>day</th>\n",
       "      <th>day_name</th>\n",
       "      <th>transaction_date</th>\n",
       "      <th>CohortMonth</th>\n",
       "      <th>% Change in Demand</th>\n",
       "      <th>% Change in Price</th>\n",
       "      <th>Price Elasticity</th>\n",
       "    </tr>\n",
       "  </thead>\n",
       "  <tbody>\n",
       "    <tr>\n",
       "      <th>95992</th>\n",
       "      <td>I304902</td>\n",
       "      <td>C936510</td>\n",
       "      <td>Male</td>\n",
       "      <td>20</td>\n",
       "      <td>Food &amp; Beverage</td>\n",
       "      <td>2</td>\n",
       "      <td>10.46</td>\n",
       "      <td>Cash</td>\n",
       "      <td>2022-12-08</td>\n",
       "      <td>Metrocity</td>\n",
       "      <td>...</td>\n",
       "      <td>Low</td>\n",
       "      <td>2022</td>\n",
       "      <td>12</td>\n",
       "      <td>8</td>\n",
       "      <td>Thursday</td>\n",
       "      <td>2022-12-01</td>\n",
       "      <td>2022-12-08</td>\n",
       "      <td>-0.333333</td>\n",
       "      <td>-0.994191</td>\n",
       "      <td>0.333333</td>\n",
       "    </tr>\n",
       "    <tr>\n",
       "      <th>86806</th>\n",
       "      <td>I144919</td>\n",
       "      <td>C284496</td>\n",
       "      <td>Female</td>\n",
       "      <td>48</td>\n",
       "      <td>Shoes</td>\n",
       "      <td>3</td>\n",
       "      <td>1800.51</td>\n",
       "      <td>Debit Card</td>\n",
       "      <td>2022-03-01</td>\n",
       "      <td>Kanyon</td>\n",
       "      <td>...</td>\n",
       "      <td>Super Populer</td>\n",
       "      <td>2022</td>\n",
       "      <td>3</td>\n",
       "      <td>1</td>\n",
       "      <td>Tuesday</td>\n",
       "      <td>2022-03-01</td>\n",
       "      <td>2022-03-01</td>\n",
       "      <td>0.000000</td>\n",
       "      <td>1.000033</td>\n",
       "      <td>0.000000</td>\n",
       "    </tr>\n",
       "    <tr>\n",
       "      <th>49422</th>\n",
       "      <td>I522643</td>\n",
       "      <td>C294914</td>\n",
       "      <td>Male</td>\n",
       "      <td>46</td>\n",
       "      <td>Clothing</td>\n",
       "      <td>3</td>\n",
       "      <td>900.24</td>\n",
       "      <td>Credit Card</td>\n",
       "      <td>2021-10-17</td>\n",
       "      <td>Metropol AVM</td>\n",
       "      <td>...</td>\n",
       "      <td>Super Populer</td>\n",
       "      <td>2021</td>\n",
       "      <td>10</td>\n",
       "      <td>17</td>\n",
       "      <td>Sunday</td>\n",
       "      <td>2021-10-01</td>\n",
       "      <td>2021-10-17</td>\n",
       "      <td>2.000000</td>\n",
       "      <td>2.000000</td>\n",
       "      <td>1.000000</td>\n",
       "    </tr>\n",
       "    <tr>\n",
       "      <th>43320</th>\n",
       "      <td>I153150</td>\n",
       "      <td>C760266</td>\n",
       "      <td>Female</td>\n",
       "      <td>33</td>\n",
       "      <td>Clothing</td>\n",
       "      <td>3</td>\n",
       "      <td>900.24</td>\n",
       "      <td>Credit Card</td>\n",
       "      <td>2022-09-02</td>\n",
       "      <td>Kanyon</td>\n",
       "      <td>...</td>\n",
       "      <td>Super Populer</td>\n",
       "      <td>2022</td>\n",
       "      <td>9</td>\n",
       "      <td>2</td>\n",
       "      <td>Friday</td>\n",
       "      <td>2022-09-01</td>\n",
       "      <td>2022-09-02</td>\n",
       "      <td>0.500000</td>\n",
       "      <td>85.065010</td>\n",
       "      <td>0.005875</td>\n",
       "    </tr>\n",
       "    <tr>\n",
       "      <th>8394</th>\n",
       "      <td>I141822</td>\n",
       "      <td>C316196</td>\n",
       "      <td>Female</td>\n",
       "      <td>67</td>\n",
       "      <td>Toys</td>\n",
       "      <td>5</td>\n",
       "      <td>179.20</td>\n",
       "      <td>Debit Card</td>\n",
       "      <td>2021-04-20</td>\n",
       "      <td>Metrocity</td>\n",
       "      <td>...</td>\n",
       "      <td>Super Populer</td>\n",
       "      <td>2021</td>\n",
       "      <td>4</td>\n",
       "      <td>20</td>\n",
       "      <td>Tuesday</td>\n",
       "      <td>2021-04-01</td>\n",
       "      <td>2021-04-20</td>\n",
       "      <td>0.666667</td>\n",
       "      <td>0.666667</td>\n",
       "      <td>0.952381</td>\n",
       "    </tr>\n",
       "    <tr>\n",
       "      <th>66065</th>\n",
       "      <td>I266125</td>\n",
       "      <td>C569655</td>\n",
       "      <td>Female</td>\n",
       "      <td>69</td>\n",
       "      <td>Clothing</td>\n",
       "      <td>3</td>\n",
       "      <td>900.24</td>\n",
       "      <td>Credit Card</td>\n",
       "      <td>2021-12-02</td>\n",
       "      <td>Kanyon</td>\n",
       "      <td>...</td>\n",
       "      <td>Super Populer</td>\n",
       "      <td>2021</td>\n",
       "      <td>12</td>\n",
       "      <td>2</td>\n",
       "      <td>Thursday</td>\n",
       "      <td>2021-12-01</td>\n",
       "      <td>2021-12-02</td>\n",
       "      <td>-0.250000</td>\n",
       "      <td>42.032505</td>\n",
       "      <td>-0.005952</td>\n",
       "    </tr>\n",
       "    <tr>\n",
       "      <th>75193</th>\n",
       "      <td>I287834</td>\n",
       "      <td>C302827</td>\n",
       "      <td>Female</td>\n",
       "      <td>37</td>\n",
       "      <td>Shoes</td>\n",
       "      <td>2</td>\n",
       "      <td>1200.34</td>\n",
       "      <td>Debit Card</td>\n",
       "      <td>2022-11-09</td>\n",
       "      <td>Mall of Istanbul</td>\n",
       "      <td>...</td>\n",
       "      <td>Super Populer</td>\n",
       "      <td>2022</td>\n",
       "      <td>11</td>\n",
       "      <td>9</td>\n",
       "      <td>Wednesday</td>\n",
       "      <td>2022-11-01</td>\n",
       "      <td>2022-11-09</td>\n",
       "      <td>0.000000</td>\n",
       "      <td>0.000000</td>\n",
       "      <td>NaN</td>\n",
       "    </tr>\n",
       "    <tr>\n",
       "      <th>2934</th>\n",
       "      <td>I131433</td>\n",
       "      <td>C200286</td>\n",
       "      <td>Female</td>\n",
       "      <td>30</td>\n",
       "      <td>Cosmetics</td>\n",
       "      <td>5</td>\n",
       "      <td>203.30</td>\n",
       "      <td>Cash</td>\n",
       "      <td>2022-03-25</td>\n",
       "      <td>Mall of Istanbul</td>\n",
       "      <td>...</td>\n",
       "      <td>Super Populer</td>\n",
       "      <td>2022</td>\n",
       "      <td>3</td>\n",
       "      <td>25</td>\n",
       "      <td>Friday</td>\n",
       "      <td>2022-03-01</td>\n",
       "      <td>2022-03-25</td>\n",
       "      <td>4.000000</td>\n",
       "      <td>4.000000</td>\n",
       "      <td>1.000000</td>\n",
       "    </tr>\n",
       "    <tr>\n",
       "      <th>50307</th>\n",
       "      <td>I276449</td>\n",
       "      <td>C897578</td>\n",
       "      <td>Female</td>\n",
       "      <td>19</td>\n",
       "      <td>Food &amp; Beverage</td>\n",
       "      <td>2</td>\n",
       "      <td>10.46</td>\n",
       "      <td>Cash</td>\n",
       "      <td>2021-03-03</td>\n",
       "      <td>Metrocity</td>\n",
       "      <td>...</td>\n",
       "      <td>Low</td>\n",
       "      <td>2021</td>\n",
       "      <td>3</td>\n",
       "      <td>3</td>\n",
       "      <td>Wednesday</td>\n",
       "      <td>2021-03-01</td>\n",
       "      <td>2021-03-03</td>\n",
       "      <td>-0.600000</td>\n",
       "      <td>-0.861914</td>\n",
       "      <td>0.666667</td>\n",
       "    </tr>\n",
       "    <tr>\n",
       "      <th>33441</th>\n",
       "      <td>I264744</td>\n",
       "      <td>C688839</td>\n",
       "      <td>Male</td>\n",
       "      <td>68</td>\n",
       "      <td>Toys</td>\n",
       "      <td>2</td>\n",
       "      <td>71.68</td>\n",
       "      <td>Credit Card</td>\n",
       "      <td>2021-12-31</td>\n",
       "      <td>Mall of Istanbul</td>\n",
       "      <td>...</td>\n",
       "      <td>Super Populer</td>\n",
       "      <td>2021</td>\n",
       "      <td>12</td>\n",
       "      <td>31</td>\n",
       "      <td>Friday</td>\n",
       "      <td>2021-12-01</td>\n",
       "      <td>2021-12-31</td>\n",
       "      <td>-0.333333</td>\n",
       "      <td>-0.920377</td>\n",
       "      <td>0.370370</td>\n",
       "    </tr>\n",
       "    <tr>\n",
       "      <th>36884</th>\n",
       "      <td>I644438</td>\n",
       "      <td>C927814</td>\n",
       "      <td>Female</td>\n",
       "      <td>43</td>\n",
       "      <td>Clothing</td>\n",
       "      <td>2</td>\n",
       "      <td>600.16</td>\n",
       "      <td>Cash</td>\n",
       "      <td>2022-10-08</td>\n",
       "      <td>Mall of Istanbul</td>\n",
       "      <td>...</td>\n",
       "      <td>Super Populer</td>\n",
       "      <td>2022</td>\n",
       "      <td>10</td>\n",
       "      <td>8</td>\n",
       "      <td>Saturday</td>\n",
       "      <td>2022-10-01</td>\n",
       "      <td>2022-10-08</td>\n",
       "      <td>1.000000</td>\n",
       "      <td>13.760453</td>\n",
       "      <td>0.072464</td>\n",
       "    </tr>\n",
       "    <tr>\n",
       "      <th>70507</th>\n",
       "      <td>I322590</td>\n",
       "      <td>C142478</td>\n",
       "      <td>Female</td>\n",
       "      <td>41</td>\n",
       "      <td>Clothing</td>\n",
       "      <td>2</td>\n",
       "      <td>600.16</td>\n",
       "      <td>Cash</td>\n",
       "      <td>2023-01-23</td>\n",
       "      <td>Forum Istanbul</td>\n",
       "      <td>...</td>\n",
       "      <td>Super Populer</td>\n",
       "      <td>2023</td>\n",
       "      <td>1</td>\n",
       "      <td>23</td>\n",
       "      <td>Monday</td>\n",
       "      <td>2023-01-01</td>\n",
       "      <td>2023-01-23</td>\n",
       "      <td>-0.333333</td>\n",
       "      <td>4.581845</td>\n",
       "      <td>-0.072464</td>\n",
       "    </tr>\n",
       "    <tr>\n",
       "      <th>55082</th>\n",
       "      <td>I191001</td>\n",
       "      <td>C333281</td>\n",
       "      <td>Female</td>\n",
       "      <td>25</td>\n",
       "      <td>Books</td>\n",
       "      <td>5</td>\n",
       "      <td>75.75</td>\n",
       "      <td>Cash</td>\n",
       "      <td>2022-02-05</td>\n",
       "      <td>Zorlu Center</td>\n",
       "      <td>...</td>\n",
       "      <td>Super Populer</td>\n",
       "      <td>2022</td>\n",
       "      <td>2</td>\n",
       "      <td>5</td>\n",
       "      <td>Saturday</td>\n",
       "      <td>2022-02-01</td>\n",
       "      <td>2022-02-05</td>\n",
       "      <td>4.000000</td>\n",
       "      <td>-0.747567</td>\n",
       "      <td>-5.714286</td>\n",
       "    </tr>\n",
       "    <tr>\n",
       "      <th>43603</th>\n",
       "      <td>I324356</td>\n",
       "      <td>C100176</td>\n",
       "      <td>Male</td>\n",
       "      <td>54</td>\n",
       "      <td>Clothing</td>\n",
       "      <td>3</td>\n",
       "      <td>900.24</td>\n",
       "      <td>Credit Card</td>\n",
       "      <td>2021-12-07</td>\n",
       "      <td>Kanyon</td>\n",
       "      <td>...</td>\n",
       "      <td>Super Populer</td>\n",
       "      <td>2021</td>\n",
       "      <td>12</td>\n",
       "      <td>7</td>\n",
       "      <td>Tuesday</td>\n",
       "      <td>2021-12-01</td>\n",
       "      <td>2021-12-07</td>\n",
       "      <td>-0.400000</td>\n",
       "      <td>4.023661</td>\n",
       "      <td>-0.100000</td>\n",
       "    </tr>\n",
       "    <tr>\n",
       "      <th>87303</th>\n",
       "      <td>I134712</td>\n",
       "      <td>C215417</td>\n",
       "      <td>Male</td>\n",
       "      <td>47</td>\n",
       "      <td>Books</td>\n",
       "      <td>4</td>\n",
       "      <td>60.60</td>\n",
       "      <td>Debit Card</td>\n",
       "      <td>2021-10-16</td>\n",
       "      <td>Kanyon</td>\n",
       "      <td>...</td>\n",
       "      <td>Super Populer</td>\n",
       "      <td>2021</td>\n",
       "      <td>10</td>\n",
       "      <td>16</td>\n",
       "      <td>Saturday</td>\n",
       "      <td>2021-10-01</td>\n",
       "      <td>2021-10-16</td>\n",
       "      <td>-0.200000</td>\n",
       "      <td>-0.661830</td>\n",
       "      <td>0.285714</td>\n",
       "    </tr>\n",
       "    <tr>\n",
       "      <th>89831</th>\n",
       "      <td>I521564</td>\n",
       "      <td>C752895</td>\n",
       "      <td>Female</td>\n",
       "      <td>62</td>\n",
       "      <td>Shoes</td>\n",
       "      <td>2</td>\n",
       "      <td>1200.34</td>\n",
       "      <td>Credit Card</td>\n",
       "      <td>2021-11-04</td>\n",
       "      <td>Mall of Istanbul</td>\n",
       "      <td>...</td>\n",
       "      <td>Super Populer</td>\n",
       "      <td>2021</td>\n",
       "      <td>11</td>\n",
       "      <td>4</td>\n",
       "      <td>Thursday</td>\n",
       "      <td>2021-11-01</td>\n",
       "      <td>2021-11-04</td>\n",
       "      <td>1.000000</td>\n",
       "      <td>3.000067</td>\n",
       "      <td>0.333333</td>\n",
       "    </tr>\n",
       "    <tr>\n",
       "      <th>93425</th>\n",
       "      <td>I100627</td>\n",
       "      <td>C132581</td>\n",
       "      <td>Male</td>\n",
       "      <td>54</td>\n",
       "      <td>Books</td>\n",
       "      <td>3</td>\n",
       "      <td>45.45</td>\n",
       "      <td>Debit Card</td>\n",
       "      <td>2022-10-12</td>\n",
       "      <td>Metrocity</td>\n",
       "      <td>...</td>\n",
       "      <td>Super Populer</td>\n",
       "      <td>2022</td>\n",
       "      <td>10</td>\n",
       "      <td>12</td>\n",
       "      <td>Wednesday</td>\n",
       "      <td>2022-10-01</td>\n",
       "      <td>2022-10-12</td>\n",
       "      <td>2.000000</td>\n",
       "      <td>0.117806</td>\n",
       "      <td>20.000000</td>\n",
       "    </tr>\n",
       "    <tr>\n",
       "      <th>30865</th>\n",
       "      <td>I300824</td>\n",
       "      <td>C289354</td>\n",
       "      <td>Female</td>\n",
       "      <td>19</td>\n",
       "      <td>Shoes</td>\n",
       "      <td>1</td>\n",
       "      <td>600.17</td>\n",
       "      <td>Cash</td>\n",
       "      <td>2022-11-05</td>\n",
       "      <td>Mall of Istanbul</td>\n",
       "      <td>...</td>\n",
       "      <td>Low</td>\n",
       "      <td>2022</td>\n",
       "      <td>11</td>\n",
       "      <td>5</td>\n",
       "      <td>Saturday</td>\n",
       "      <td>2022-11-01</td>\n",
       "      <td>2022-11-05</td>\n",
       "      <td>-0.750000</td>\n",
       "      <td>8.903795</td>\n",
       "      <td>-0.084270</td>\n",
       "    </tr>\n",
       "    <tr>\n",
       "      <th>95835</th>\n",
       "      <td>I954096</td>\n",
       "      <td>C293701</td>\n",
       "      <td>Male</td>\n",
       "      <td>33</td>\n",
       "      <td>Toys</td>\n",
       "      <td>2</td>\n",
       "      <td>71.68</td>\n",
       "      <td>Cash</td>\n",
       "      <td>2021-10-20</td>\n",
       "      <td>Forum Istanbul</td>\n",
       "      <td>...</td>\n",
       "      <td>Super Populer</td>\n",
       "      <td>2021</td>\n",
       "      <td>10</td>\n",
       "      <td>20</td>\n",
       "      <td>Wednesday</td>\n",
       "      <td>2021-10-01</td>\n",
       "      <td>2021-10-20</td>\n",
       "      <td>-0.600000</td>\n",
       "      <td>-0.952226</td>\n",
       "      <td>0.600000</td>\n",
       "    </tr>\n",
       "    <tr>\n",
       "      <th>32268</th>\n",
       "      <td>I289231</td>\n",
       "      <td>C102146</td>\n",
       "      <td>Female</td>\n",
       "      <td>68</td>\n",
       "      <td>Food &amp; Beverage</td>\n",
       "      <td>1</td>\n",
       "      <td>5.23</td>\n",
       "      <td>Cash</td>\n",
       "      <td>2022-06-29</td>\n",
       "      <td>Metropol AVM</td>\n",
       "      <td>...</td>\n",
       "      <td>Low</td>\n",
       "      <td>2022</td>\n",
       "      <td>6</td>\n",
       "      <td>29</td>\n",
       "      <td>Wednesday</td>\n",
       "      <td>2022-06-01</td>\n",
       "      <td>2022-06-29</td>\n",
       "      <td>-0.750000</td>\n",
       "      <td>-0.963518</td>\n",
       "      <td>0.750000</td>\n",
       "    </tr>\n",
       "  </tbody>\n",
       "</table>\n",
       "<p>20 rows × 23 columns</p>\n",
       "</div>"
      ],
      "text/plain": [
       "      invoice_no customer_id  gender  age         category  quantity    price  \\\n",
       "95992    I304902     C936510    Male   20  Food & Beverage         2    10.46   \n",
       "86806    I144919     C284496  Female   48            Shoes         3  1800.51   \n",
       "49422    I522643     C294914    Male   46         Clothing         3   900.24   \n",
       "43320    I153150     C760266  Female   33         Clothing         3   900.24   \n",
       "8394     I141822     C316196  Female   67             Toys         5   179.20   \n",
       "66065    I266125     C569655  Female   69         Clothing         3   900.24   \n",
       "75193    I287834     C302827  Female   37            Shoes         2  1200.34   \n",
       "2934     I131433     C200286  Female   30        Cosmetics         5   203.30   \n",
       "50307    I276449     C897578  Female   19  Food & Beverage         2    10.46   \n",
       "33441    I264744     C688839    Male   68             Toys         2    71.68   \n",
       "36884    I644438     C927814  Female   43         Clothing         2   600.16   \n",
       "70507    I322590     C142478  Female   41         Clothing         2   600.16   \n",
       "55082    I191001     C333281  Female   25            Books         5    75.75   \n",
       "43603    I324356     C100176    Male   54         Clothing         3   900.24   \n",
       "87303    I134712     C215417    Male   47            Books         4    60.60   \n",
       "89831    I521564     C752895  Female   62            Shoes         2  1200.34   \n",
       "93425    I100627     C132581    Male   54            Books         3    45.45   \n",
       "30865    I300824     C289354  Female   19            Shoes         1   600.17   \n",
       "95835    I954096     C293701    Male   33             Toys         2    71.68   \n",
       "32268    I289231     C102146  Female   68  Food & Beverage         1     5.23   \n",
       "\n",
       "      payment_method invoice_date     shopping_mall  ...  final_segmentation  \\\n",
       "95992           Cash   2022-12-08         Metrocity  ...                 Low   \n",
       "86806     Debit Card   2022-03-01            Kanyon  ...       Super Populer   \n",
       "49422    Credit Card   2021-10-17      Metropol AVM  ...       Super Populer   \n",
       "43320    Credit Card   2022-09-02            Kanyon  ...       Super Populer   \n",
       "8394      Debit Card   2021-04-20         Metrocity  ...       Super Populer   \n",
       "66065    Credit Card   2021-12-02            Kanyon  ...       Super Populer   \n",
       "75193     Debit Card   2022-11-09  Mall of Istanbul  ...       Super Populer   \n",
       "2934            Cash   2022-03-25  Mall of Istanbul  ...       Super Populer   \n",
       "50307           Cash   2021-03-03         Metrocity  ...                 Low   \n",
       "33441    Credit Card   2021-12-31  Mall of Istanbul  ...       Super Populer   \n",
       "36884           Cash   2022-10-08  Mall of Istanbul  ...       Super Populer   \n",
       "70507           Cash   2023-01-23    Forum Istanbul  ...       Super Populer   \n",
       "55082           Cash   2022-02-05      Zorlu Center  ...       Super Populer   \n",
       "43603    Credit Card   2021-12-07            Kanyon  ...       Super Populer   \n",
       "87303     Debit Card   2021-10-16            Kanyon  ...       Super Populer   \n",
       "89831    Credit Card   2021-11-04  Mall of Istanbul  ...       Super Populer   \n",
       "93425     Debit Card   2022-10-12         Metrocity  ...       Super Populer   \n",
       "30865           Cash   2022-11-05  Mall of Istanbul  ...                 Low   \n",
       "95835           Cash   2021-10-20    Forum Istanbul  ...       Super Populer   \n",
       "32268           Cash   2022-06-29      Metropol AVM  ...                 Low   \n",
       "\n",
       "       year month day   day_name  transaction_date  CohortMonth  \\\n",
       "95992  2022    12   8   Thursday        2022-12-01   2022-12-08   \n",
       "86806  2022     3   1    Tuesday        2022-03-01   2022-03-01   \n",
       "49422  2021    10  17     Sunday        2021-10-01   2021-10-17   \n",
       "43320  2022     9   2     Friday        2022-09-01   2022-09-02   \n",
       "8394   2021     4  20    Tuesday        2021-04-01   2021-04-20   \n",
       "66065  2021    12   2   Thursday        2021-12-01   2021-12-02   \n",
       "75193  2022    11   9  Wednesday        2022-11-01   2022-11-09   \n",
       "2934   2022     3  25     Friday        2022-03-01   2022-03-25   \n",
       "50307  2021     3   3  Wednesday        2021-03-01   2021-03-03   \n",
       "33441  2021    12  31     Friday        2021-12-01   2021-12-31   \n",
       "36884  2022    10   8   Saturday        2022-10-01   2022-10-08   \n",
       "70507  2023     1  23     Monday        2023-01-01   2023-01-23   \n",
       "55082  2022     2   5   Saturday        2022-02-01   2022-02-05   \n",
       "43603  2021    12   7    Tuesday        2021-12-01   2021-12-07   \n",
       "87303  2021    10  16   Saturday        2021-10-01   2021-10-16   \n",
       "89831  2021    11   4   Thursday        2021-11-01   2021-11-04   \n",
       "93425  2022    10  12  Wednesday        2022-10-01   2022-10-12   \n",
       "30865  2022    11   5   Saturday        2022-11-01   2022-11-05   \n",
       "95835  2021    10  20  Wednesday        2021-10-01   2021-10-20   \n",
       "32268  2022     6  29  Wednesday        2022-06-01   2022-06-29   \n",
       "\n",
       "      % Change in Demand % Change in Price Price Elasticity  \n",
       "95992          -0.333333         -0.994191         0.333333  \n",
       "86806           0.000000          1.000033         0.000000  \n",
       "49422           2.000000          2.000000         1.000000  \n",
       "43320           0.500000         85.065010         0.005875  \n",
       "8394            0.666667          0.666667         0.952381  \n",
       "66065          -0.250000         42.032505        -0.005952  \n",
       "75193           0.000000          0.000000              NaN  \n",
       "2934            4.000000          4.000000         1.000000  \n",
       "50307          -0.600000         -0.861914         0.666667  \n",
       "33441          -0.333333         -0.920377         0.370370  \n",
       "36884           1.000000         13.760453         0.072464  \n",
       "70507          -0.333333          4.581845        -0.072464  \n",
       "55082           4.000000         -0.747567        -5.714286  \n",
       "43603          -0.400000          4.023661        -0.100000  \n",
       "87303          -0.200000         -0.661830         0.285714  \n",
       "89831           1.000000          3.000067         0.333333  \n",
       "93425           2.000000          0.117806        20.000000  \n",
       "30865          -0.750000          8.903795        -0.084270  \n",
       "95835          -0.600000         -0.952226         0.600000  \n",
       "32268          -0.750000         -0.963518         0.750000  \n",
       "\n",
       "[20 rows x 23 columns]"
      ]
     },
     "execution_count": 31,
     "metadata": {},
     "output_type": "execute_result"
    }
   ],
   "source": [
    "df_20_sampel = df_shopping.sample(20)\n",
    "df_20_sampel"
   ]
  },
  {
   "cell_type": "markdown",
   "id": "b9f034c4-3348-4fe3-a136-62adb1cd2a10",
   "metadata": {},
   "source": [
    "Pertanyaan 2 :\n",
    "Dari semua produk yang terambil dari step 1, hitung lah korelasi antara harga dengan quantity untuk setiap barang.\n",
    "Barang manakah yang memiliki korelasi paling negatif?"
   ]
  },
  {
   "cell_type": "code",
   "execution_count": 32,
   "id": "504b9718-243c-4eca-9b81-67a2949d87d9",
   "metadata": {
    "tags": []
   },
   "outputs": [
    {
     "data": {
      "text/plain": [
       "-0.12"
      ]
     },
     "execution_count": 32,
     "metadata": {},
     "output_type": "execute_result"
    }
   ],
   "source": [
    "correlation = df_20_sampel['price'].corr(df_20_sampel['quantity']).round(2)\n",
    "correlation"
   ]
  },
  {
   "cell_type": "code",
   "execution_count": 33,
   "id": "49d2cdb7-bf75-4087-84f8-463af420a0e4",
   "metadata": {
    "tags": []
   },
   "outputs": [
    {
     "name": "stderr",
     "output_type": "stream",
     "text": [
      "C:\\Users\\User\\AppData\\Local\\Temp\\ipykernel_2444\\3504037806.py:1: FutureWarning: The default value of numeric_only in DataFrame.corr is deprecated. In a future version, it will default to False. Select only valid columns or specify the value of numeric_only to silence this warning.\n",
      "  df_sales_matrix = df_20_sampel.corr().round(2)\n"
     ]
    },
    {
     "data": {
      "text/html": [
       "<div>\n",
       "<style scoped>\n",
       "    .dataframe tbody tr th:only-of-type {\n",
       "        vertical-align: middle;\n",
       "    }\n",
       "\n",
       "    .dataframe tbody tr th {\n",
       "        vertical-align: top;\n",
       "    }\n",
       "\n",
       "    .dataframe thead th {\n",
       "        text-align: right;\n",
       "    }\n",
       "</style>\n",
       "<table border=\"1\" class=\"dataframe\">\n",
       "  <thead>\n",
       "    <tr style=\"text-align: right;\">\n",
       "      <th></th>\n",
       "      <th>age</th>\n",
       "      <th>quantity</th>\n",
       "      <th>price</th>\n",
       "      <th>total_revenue</th>\n",
       "      <th>year</th>\n",
       "      <th>month</th>\n",
       "      <th>day</th>\n",
       "      <th>% Change in Demand</th>\n",
       "      <th>% Change in Price</th>\n",
       "      <th>Price Elasticity</th>\n",
       "    </tr>\n",
       "  </thead>\n",
       "  <tbody>\n",
       "    <tr>\n",
       "      <th>age</th>\n",
       "      <td>1.00</td>\n",
       "      <td>0.04</td>\n",
       "      <td>0.15</td>\n",
       "      <td>0.21</td>\n",
       "      <td>-0.36</td>\n",
       "      <td>0.21</td>\n",
       "      <td>0.34</td>\n",
       "      <td>-0.15</td>\n",
       "      <td>-0.01</td>\n",
       "      <td>0.21</td>\n",
       "    </tr>\n",
       "    <tr>\n",
       "      <th>quantity</th>\n",
       "      <td>0.04</td>\n",
       "      <td>1.00</td>\n",
       "      <td>-0.12</td>\n",
       "      <td>0.09</td>\n",
       "      <td>-0.15</td>\n",
       "      <td>-0.39</td>\n",
       "      <td>0.02</td>\n",
       "      <td>0.69</td>\n",
       "      <td>0.03</td>\n",
       "      <td>-0.06</td>\n",
       "    </tr>\n",
       "    <tr>\n",
       "      <th>price</th>\n",
       "      <td>0.15</td>\n",
       "      <td>-0.12</td>\n",
       "      <td>1.00</td>\n",
       "      <td>0.95</td>\n",
       "      <td>0.07</td>\n",
       "      <td>0.11</td>\n",
       "      <td>-0.52</td>\n",
       "      <td>-0.10</td>\n",
       "      <td>0.28</td>\n",
       "      <td>-0.17</td>\n",
       "    </tr>\n",
       "    <tr>\n",
       "      <th>total_revenue</th>\n",
       "      <td>0.21</td>\n",
       "      <td>0.09</td>\n",
       "      <td>0.95</td>\n",
       "      <td>1.00</td>\n",
       "      <td>0.00</td>\n",
       "      <td>0.01</td>\n",
       "      <td>-0.47</td>\n",
       "      <td>-0.01</td>\n",
       "      <td>0.33</td>\n",
       "      <td>-0.16</td>\n",
       "    </tr>\n",
       "    <tr>\n",
       "      <th>year</th>\n",
       "      <td>-0.36</td>\n",
       "      <td>-0.15</td>\n",
       "      <td>0.07</td>\n",
       "      <td>0.00</td>\n",
       "      <td>1.00</td>\n",
       "      <td>-0.41</td>\n",
       "      <td>0.02</td>\n",
       "      <td>0.16</td>\n",
       "      <td>0.09</td>\n",
       "      <td>0.08</td>\n",
       "    </tr>\n",
       "    <tr>\n",
       "      <th>month</th>\n",
       "      <td>0.21</td>\n",
       "      <td>-0.39</td>\n",
       "      <td>0.11</td>\n",
       "      <td>0.01</td>\n",
       "      <td>-0.41</td>\n",
       "      <td>1.00</td>\n",
       "      <td>-0.15</td>\n",
       "      <td>-0.34</td>\n",
       "      <td>0.17</td>\n",
       "      <td>0.20</td>\n",
       "    </tr>\n",
       "    <tr>\n",
       "      <th>day</th>\n",
       "      <td>0.34</td>\n",
       "      <td>0.02</td>\n",
       "      <td>-0.52</td>\n",
       "      <td>-0.47</td>\n",
       "      <td>0.02</td>\n",
       "      <td>-0.15</td>\n",
       "      <td>1.00</td>\n",
       "      <td>0.03</td>\n",
       "      <td>-0.38</td>\n",
       "      <td>0.08</td>\n",
       "    </tr>\n",
       "    <tr>\n",
       "      <th>% Change in Demand</th>\n",
       "      <td>-0.15</td>\n",
       "      <td>0.69</td>\n",
       "      <td>-0.10</td>\n",
       "      <td>-0.01</td>\n",
       "      <td>0.16</td>\n",
       "      <td>-0.34</td>\n",
       "      <td>0.03</td>\n",
       "      <td>1.00</td>\n",
       "      <td>-0.05</td>\n",
       "      <td>0.09</td>\n",
       "    </tr>\n",
       "    <tr>\n",
       "      <th>% Change in Price</th>\n",
       "      <td>-0.01</td>\n",
       "      <td>0.03</td>\n",
       "      <td>0.28</td>\n",
       "      <td>0.33</td>\n",
       "      <td>0.09</td>\n",
       "      <td>0.17</td>\n",
       "      <td>-0.38</td>\n",
       "      <td>-0.05</td>\n",
       "      <td>1.00</td>\n",
       "      <td>-0.09</td>\n",
       "    </tr>\n",
       "    <tr>\n",
       "      <th>Price Elasticity</th>\n",
       "      <td>0.21</td>\n",
       "      <td>-0.06</td>\n",
       "      <td>-0.17</td>\n",
       "      <td>-0.16</td>\n",
       "      <td>0.08</td>\n",
       "      <td>0.20</td>\n",
       "      <td>0.08</td>\n",
       "      <td>0.09</td>\n",
       "      <td>-0.09</td>\n",
       "      <td>1.00</td>\n",
       "    </tr>\n",
       "  </tbody>\n",
       "</table>\n",
       "</div>"
      ],
      "text/plain": [
       "                     age  quantity  price  total_revenue  year  month   day  \\\n",
       "age                 1.00      0.04   0.15           0.21 -0.36   0.21  0.34   \n",
       "quantity            0.04      1.00  -0.12           0.09 -0.15  -0.39  0.02   \n",
       "price               0.15     -0.12   1.00           0.95  0.07   0.11 -0.52   \n",
       "total_revenue       0.21      0.09   0.95           1.00  0.00   0.01 -0.47   \n",
       "year               -0.36     -0.15   0.07           0.00  1.00  -0.41  0.02   \n",
       "month               0.21     -0.39   0.11           0.01 -0.41   1.00 -0.15   \n",
       "day                 0.34      0.02  -0.52          -0.47  0.02  -0.15  1.00   \n",
       "% Change in Demand -0.15      0.69  -0.10          -0.01  0.16  -0.34  0.03   \n",
       "% Change in Price  -0.01      0.03   0.28           0.33  0.09   0.17 -0.38   \n",
       "Price Elasticity    0.21     -0.06  -0.17          -0.16  0.08   0.20  0.08   \n",
       "\n",
       "                    % Change in Demand  % Change in Price  Price Elasticity  \n",
       "age                              -0.15              -0.01              0.21  \n",
       "quantity                          0.69               0.03             -0.06  \n",
       "price                            -0.10               0.28             -0.17  \n",
       "total_revenue                    -0.01               0.33             -0.16  \n",
       "year                              0.16               0.09              0.08  \n",
       "month                            -0.34               0.17              0.20  \n",
       "day                               0.03              -0.38              0.08  \n",
       "% Change in Demand                1.00              -0.05              0.09  \n",
       "% Change in Price                -0.05               1.00             -0.09  \n",
       "Price Elasticity                  0.09              -0.09              1.00  "
      ]
     },
     "execution_count": 33,
     "metadata": {},
     "output_type": "execute_result"
    }
   ],
   "source": [
    "df_sales_matrix = df_20_sampel.corr().round(2)\n",
    "df_sales_matrix"
   ]
  },
  {
   "cell_type": "code",
   "execution_count": 57,
   "id": "567b4fc2-1168-41bf-9adf-4565dd990f7f",
   "metadata": {
    "tags": []
   },
   "outputs": [
    {
     "name": "stderr",
     "output_type": "stream",
     "text": [
      "C:\\Users\\User\\AppData\\Local\\Temp\\ipykernel_2812\\3369759314.py:1: FutureWarning: The default value of numeric_only in DataFrame.corr is deprecated. In a future version, it will default to False. Select only valid columns or specify the value of numeric_only to silence this warning.\n",
      "  df_sales_matrix = df_shopping.corr().round(2)\n"
     ]
    },
    {
     "data": {
      "text/html": [
       "<div>\n",
       "<style scoped>\n",
       "    .dataframe tbody tr th:only-of-type {\n",
       "        vertical-align: middle;\n",
       "    }\n",
       "\n",
       "    .dataframe tbody tr th {\n",
       "        vertical-align: top;\n",
       "    }\n",
       "\n",
       "    .dataframe thead th {\n",
       "        text-align: right;\n",
       "    }\n",
       "</style>\n",
       "<table border=\"1\" class=\"dataframe\">\n",
       "  <thead>\n",
       "    <tr style=\"text-align: right;\">\n",
       "      <th></th>\n",
       "      <th>age</th>\n",
       "      <th>quantity</th>\n",
       "      <th>price</th>\n",
       "      <th>total_revenue</th>\n",
       "      <th>year</th>\n",
       "      <th>month</th>\n",
       "      <th>day</th>\n",
       "      <th>% Change in Demand</th>\n",
       "      <th>% Change in Price</th>\n",
       "      <th>Price Elasticity</th>\n",
       "      <th>price_change</th>\n",
       "    </tr>\n",
       "  </thead>\n",
       "  <tbody>\n",
       "    <tr>\n",
       "      <th>age</th>\n",
       "      <td>1.00</td>\n",
       "      <td>0.00</td>\n",
       "      <td>0.00</td>\n",
       "      <td>0.00</td>\n",
       "      <td>-0.00</td>\n",
       "      <td>0.01</td>\n",
       "      <td>0.01</td>\n",
       "      <td>0.00</td>\n",
       "      <td>-0.00</td>\n",
       "      <td>0.00</td>\n",
       "      <td>-0.00</td>\n",
       "    </tr>\n",
       "    <tr>\n",
       "      <th>quantity</th>\n",
       "      <td>0.00</td>\n",
       "      <td>1.00</td>\n",
       "      <td>0.34</td>\n",
       "      <td>0.46</td>\n",
       "      <td>0.00</td>\n",
       "      <td>0.01</td>\n",
       "      <td>-0.00</td>\n",
       "      <td>0.56</td>\n",
       "      <td>0.13</td>\n",
       "      <td>-0.13</td>\n",
       "      <td>0.13</td>\n",
       "    </tr>\n",
       "    <tr>\n",
       "      <th>price</th>\n",
       "      <td>0.00</td>\n",
       "      <td>0.34</td>\n",
       "      <td>1.00</td>\n",
       "      <td>0.96</td>\n",
       "      <td>-0.00</td>\n",
       "      <td>-0.00</td>\n",
       "      <td>0.00</td>\n",
       "      <td>0.19</td>\n",
       "      <td>0.39</td>\n",
       "      <td>0.07</td>\n",
       "      <td>0.39</td>\n",
       "    </tr>\n",
       "    <tr>\n",
       "      <th>total_revenue</th>\n",
       "      <td>0.00</td>\n",
       "      <td>0.46</td>\n",
       "      <td>0.96</td>\n",
       "      <td>1.00</td>\n",
       "      <td>0.00</td>\n",
       "      <td>-0.00</td>\n",
       "      <td>0.00</td>\n",
       "      <td>0.26</td>\n",
       "      <td>0.38</td>\n",
       "      <td>0.06</td>\n",
       "      <td>0.38</td>\n",
       "    </tr>\n",
       "    <tr>\n",
       "      <th>year</th>\n",
       "      <td>-0.00</td>\n",
       "      <td>0.00</td>\n",
       "      <td>-0.00</td>\n",
       "      <td>0.00</td>\n",
       "      <td>1.00</td>\n",
       "      <td>-0.15</td>\n",
       "      <td>-0.08</td>\n",
       "      <td>-0.00</td>\n",
       "      <td>0.01</td>\n",
       "      <td>-0.00</td>\n",
       "      <td>0.01</td>\n",
       "    </tr>\n",
       "    <tr>\n",
       "      <th>month</th>\n",
       "      <td>0.01</td>\n",
       "      <td>0.01</td>\n",
       "      <td>-0.00</td>\n",
       "      <td>-0.00</td>\n",
       "      <td>-0.15</td>\n",
       "      <td>1.00</td>\n",
       "      <td>-0.03</td>\n",
       "      <td>0.00</td>\n",
       "      <td>-0.01</td>\n",
       "      <td>-0.00</td>\n",
       "      <td>-0.01</td>\n",
       "    </tr>\n",
       "    <tr>\n",
       "      <th>day</th>\n",
       "      <td>0.01</td>\n",
       "      <td>-0.00</td>\n",
       "      <td>0.00</td>\n",
       "      <td>0.00</td>\n",
       "      <td>-0.08</td>\n",
       "      <td>-0.03</td>\n",
       "      <td>1.00</td>\n",
       "      <td>-0.00</td>\n",
       "      <td>-0.00</td>\n",
       "      <td>-0.00</td>\n",
       "      <td>-0.00</td>\n",
       "    </tr>\n",
       "    <tr>\n",
       "      <th>% Change in Demand</th>\n",
       "      <td>0.00</td>\n",
       "      <td>0.56</td>\n",
       "      <td>0.19</td>\n",
       "      <td>0.26</td>\n",
       "      <td>-0.00</td>\n",
       "      <td>0.00</td>\n",
       "      <td>-0.00</td>\n",
       "      <td>1.00</td>\n",
       "      <td>0.25</td>\n",
       "      <td>-0.20</td>\n",
       "      <td>0.25</td>\n",
       "    </tr>\n",
       "    <tr>\n",
       "      <th>% Change in Price</th>\n",
       "      <td>-0.00</td>\n",
       "      <td>0.13</td>\n",
       "      <td>0.39</td>\n",
       "      <td>0.38</td>\n",
       "      <td>0.01</td>\n",
       "      <td>-0.01</td>\n",
       "      <td>-0.00</td>\n",
       "      <td>0.25</td>\n",
       "      <td>1.00</td>\n",
       "      <td>-0.00</td>\n",
       "      <td>1.00</td>\n",
       "    </tr>\n",
       "    <tr>\n",
       "      <th>Price Elasticity</th>\n",
       "      <td>0.00</td>\n",
       "      <td>-0.13</td>\n",
       "      <td>0.07</td>\n",
       "      <td>0.06</td>\n",
       "      <td>-0.00</td>\n",
       "      <td>-0.00</td>\n",
       "      <td>-0.00</td>\n",
       "      <td>-0.20</td>\n",
       "      <td>-0.00</td>\n",
       "      <td>1.00</td>\n",
       "      <td>-0.00</td>\n",
       "    </tr>\n",
       "    <tr>\n",
       "      <th>price_change</th>\n",
       "      <td>-0.00</td>\n",
       "      <td>0.13</td>\n",
       "      <td>0.39</td>\n",
       "      <td>0.38</td>\n",
       "      <td>0.01</td>\n",
       "      <td>-0.01</td>\n",
       "      <td>-0.00</td>\n",
       "      <td>0.25</td>\n",
       "      <td>1.00</td>\n",
       "      <td>-0.00</td>\n",
       "      <td>1.00</td>\n",
       "    </tr>\n",
       "  </tbody>\n",
       "</table>\n",
       "</div>"
      ],
      "text/plain": [
       "                     age  quantity  price  total_revenue  year  month   day  \\\n",
       "age                 1.00      0.00   0.00           0.00 -0.00   0.01  0.01   \n",
       "quantity            0.00      1.00   0.34           0.46  0.00   0.01 -0.00   \n",
       "price               0.00      0.34   1.00           0.96 -0.00  -0.00  0.00   \n",
       "total_revenue       0.00      0.46   0.96           1.00  0.00  -0.00  0.00   \n",
       "year               -0.00      0.00  -0.00           0.00  1.00  -0.15 -0.08   \n",
       "month               0.01      0.01  -0.00          -0.00 -0.15   1.00 -0.03   \n",
       "day                 0.01     -0.00   0.00           0.00 -0.08  -0.03  1.00   \n",
       "% Change in Demand  0.00      0.56   0.19           0.26 -0.00   0.00 -0.00   \n",
       "% Change in Price  -0.00      0.13   0.39           0.38  0.01  -0.01 -0.00   \n",
       "Price Elasticity    0.00     -0.13   0.07           0.06 -0.00  -0.00 -0.00   \n",
       "price_change       -0.00      0.13   0.39           0.38  0.01  -0.01 -0.00   \n",
       "\n",
       "                    % Change in Demand  % Change in Price  Price Elasticity  \\\n",
       "age                               0.00              -0.00              0.00   \n",
       "quantity                          0.56               0.13             -0.13   \n",
       "price                             0.19               0.39              0.07   \n",
       "total_revenue                     0.26               0.38              0.06   \n",
       "year                             -0.00               0.01             -0.00   \n",
       "month                             0.00              -0.01             -0.00   \n",
       "day                              -0.00              -0.00             -0.00   \n",
       "% Change in Demand                1.00               0.25             -0.20   \n",
       "% Change in Price                 0.25               1.00             -0.00   \n",
       "Price Elasticity                 -0.20              -0.00              1.00   \n",
       "price_change                      0.25               1.00             -0.00   \n",
       "\n",
       "                    price_change  \n",
       "age                        -0.00  \n",
       "quantity                    0.13  \n",
       "price                       0.39  \n",
       "total_revenue               0.38  \n",
       "year                        0.01  \n",
       "month                      -0.01  \n",
       "day                        -0.00  \n",
       "% Change in Demand          0.25  \n",
       "% Change in Price           1.00  \n",
       "Price Elasticity           -0.00  \n",
       "price_change                1.00  "
      ]
     },
     "execution_count": 57,
     "metadata": {},
     "output_type": "execute_result"
    }
   ],
   "source": [
    "df_sales_matrix = df_shopping.corr().round(2)\n",
    "df_sales_matrix"
   ]
  },
  {
   "cell_type": "markdown",
   "id": "77105cd1-0f1c-440c-8ad4-88224c72b403",
   "metadata": {
    "jupyter": {
     "outputs_hidden": true
    },
    "tags": []
   },
   "source": [
    "Pertanyaan 3 : Buatlah scatter plot antara harga dan quantity untuk\n",
    "barang dari soal sebelumnya.  \n",
    "Apabila produk tersebut mengalami kenaikan harga, kira-kira apa yang\n",
    "akan terjadi dengan penjualan ? Jumlah pembelian barang menurun"
   ]
  },
  {
   "cell_type": "code",
   "execution_count": 34,
   "id": "8e19f1a4-3bea-43b2-bb2e-bbbffe1376a8",
   "metadata": {
    "tags": []
   },
   "outputs": [
    {
     "data": {
      "text/plain": [
       "<Axes: xlabel='quantity', ylabel='price'>"
      ]
     },
     "execution_count": 34,
     "metadata": {},
     "output_type": "execute_result"
    },
    {
     "data": {
      "image/png": "[encoded data removed]",
      "text/plain": [
       "<Figure size 640x480 with 1 Axes>"
      ]
     },
     "metadata": {},
     "output_type": "display_data"
    }
   ],
   "source": [
    "df_sales_matrix.plot(x='quantity',y='price',kind='scatter')"
   ]
  },
  {
   "cell_type": "markdown",
   "id": "ea21a89b-5985-4520-81b5-f0e491932310",
   "metadata": {},
   "source": [
    "# Crucial Question"
   ]
  },
  {
   "cell_type": "markdown",
   "id": "6e656006-4468-4ffa-a5ba-6a8b2c87518b",
   "metadata": {},
   "source": [
    "1. Berapa jumlah penjualan produk setiap kategorinya?"
   ]
  },
  {
   "cell_type": "code",
   "execution_count": 35,
   "id": "239534ff-8dff-4e54-8af5-9c9cac30f86d",
   "metadata": {
    "tags": []
   },
   "outputs": [
    {
     "data": {
      "text/html": [
       "<div>\n",
       "<style scoped>\n",
       "    .dataframe tbody tr th:only-of-type {\n",
       "        vertical-align: middle;\n",
       "    }\n",
       "\n",
       "    .dataframe tbody tr th {\n",
       "        vertical-align: top;\n",
       "    }\n",
       "\n",
       "    .dataframe thead th {\n",
       "        text-align: right;\n",
       "    }\n",
       "</style>\n",
       "<table border=\"1\" class=\"dataframe\">\n",
       "  <thead>\n",
       "    <tr style=\"text-align: right;\">\n",
       "      <th></th>\n",
       "      <th>category</th>\n",
       "      <th>invoice_no</th>\n",
       "    </tr>\n",
       "  </thead>\n",
       "  <tbody>\n",
       "    <tr>\n",
       "      <th>1</th>\n",
       "      <td>Clothing</td>\n",
       "      <td>34487</td>\n",
       "    </tr>\n",
       "    <tr>\n",
       "      <th>2</th>\n",
       "      <td>Cosmetics</td>\n",
       "      <td>15097</td>\n",
       "    </tr>\n",
       "    <tr>\n",
       "      <th>3</th>\n",
       "      <td>Food &amp; Beverage</td>\n",
       "      <td>14776</td>\n",
       "    </tr>\n",
       "    <tr>\n",
       "      <th>7</th>\n",
       "      <td>Toys</td>\n",
       "      <td>10087</td>\n",
       "    </tr>\n",
       "    <tr>\n",
       "      <th>4</th>\n",
       "      <td>Shoes</td>\n",
       "      <td>10034</td>\n",
       "    </tr>\n",
       "    <tr>\n",
       "      <th>5</th>\n",
       "      <td>Souvenir</td>\n",
       "      <td>4999</td>\n",
       "    </tr>\n",
       "    <tr>\n",
       "      <th>6</th>\n",
       "      <td>Technology</td>\n",
       "      <td>4996</td>\n",
       "    </tr>\n",
       "    <tr>\n",
       "      <th>0</th>\n",
       "      <td>Books</td>\n",
       "      <td>4981</td>\n",
       "    </tr>\n",
       "  </tbody>\n",
       "</table>\n",
       "</div>"
      ],
      "text/plain": [
       "          category  invoice_no\n",
       "1         Clothing       34487\n",
       "2        Cosmetics       15097\n",
       "3  Food & Beverage       14776\n",
       "7             Toys       10087\n",
       "4            Shoes       10034\n",
       "5         Souvenir        4999\n",
       "6       Technology        4996\n",
       "0            Books        4981"
      ]
     },
     "execution_count": 35,
     "metadata": {},
     "output_type": "execute_result"
    }
   ],
   "source": [
    "df_category_count = df_shopping.groupby('category')['invoice_no'].count().reset_index()\n",
    "df_category_count.sort_values(by='invoice_no', ascending=False)"
   ]
  },
  {
   "cell_type": "markdown",
   "id": "7c41dafd-1b61-460b-8f94-a0b36df6d407",
   "metadata": {},
   "source": [
    "2. Metode pembayaran apa yang digunakan setiap kategori produknya?"
   ]
  },
  {
   "cell_type": "code",
   "execution_count": 36,
   "id": "004a8771-7e7e-417f-a09d-f4d87c85c0f2",
   "metadata": {
    "tags": []
   },
   "outputs": [
    {
     "data": {
      "text/html": [
       "<style type=\"text/css\">\n",
       "#T_ccbc8_row0_col0, #T_ccbc8_row0_col1, #T_ccbc8_row0_col2, #T_ccbc8_row0_col3, #T_ccbc8_row0_col4, #T_ccbc8_row0_col5, #T_ccbc8_row0_col6, #T_ccbc8_row0_col7 {\n",
       "  background-color: #67001f;\n",
       "  color: #f1f1f1;\n",
       "}\n",
       "#T_ccbc8_row1_col0 {\n",
       "  background-color: #f9ebe3;\n",
       "  color: #000000;\n",
       "}\n",
       "#T_ccbc8_row1_col1 {\n",
       "  background-color: #fddcc9;\n",
       "  color: #000000;\n",
       "}\n",
       "#T_ccbc8_row1_col2, #T_ccbc8_row1_col4 {\n",
       "  background-color: #fbccb4;\n",
       "  color: #000000;\n",
       "}\n",
       "#T_ccbc8_row1_col3 {\n",
       "  background-color: #fac8af;\n",
       "  color: #000000;\n",
       "}\n",
       "#T_ccbc8_row1_col5 {\n",
       "  background-color: #facab1;\n",
       "  color: #000000;\n",
       "}\n",
       "#T_ccbc8_row1_col6 {\n",
       "  background-color: #fcd7c2;\n",
       "  color: #000000;\n",
       "}\n",
       "#T_ccbc8_row1_col7 {\n",
       "  background-color: #fcd5bf;\n",
       "  color: #000000;\n",
       "}\n",
       "#T_ccbc8_row2_col0, #T_ccbc8_row2_col1, #T_ccbc8_row2_col2, #T_ccbc8_row2_col3, #T_ccbc8_row2_col4, #T_ccbc8_row2_col5, #T_ccbc8_row2_col6, #T_ccbc8_row2_col7 {\n",
       "  background-color: #053061;\n",
       "  color: #f1f1f1;\n",
       "}\n",
       "</style>\n",
       "<table id=\"T_ccbc8\">\n",
       "  <thead>\n",
       "    <tr>\n",
       "      <th class=\"index_name level0\" >category</th>\n",
       "      <th id=\"T_ccbc8_level0_col0\" class=\"col_heading level0 col0\" >Books</th>\n",
       "      <th id=\"T_ccbc8_level0_col1\" class=\"col_heading level0 col1\" >Clothing</th>\n",
       "      <th id=\"T_ccbc8_level0_col2\" class=\"col_heading level0 col2\" >Cosmetics</th>\n",
       "      <th id=\"T_ccbc8_level0_col3\" class=\"col_heading level0 col3\" >Food & Beverage</th>\n",
       "      <th id=\"T_ccbc8_level0_col4\" class=\"col_heading level0 col4\" >Shoes</th>\n",
       "      <th id=\"T_ccbc8_level0_col5\" class=\"col_heading level0 col5\" >Souvenir</th>\n",
       "      <th id=\"T_ccbc8_level0_col6\" class=\"col_heading level0 col6\" >Technology</th>\n",
       "      <th id=\"T_ccbc8_level0_col7\" class=\"col_heading level0 col7\" >Toys</th>\n",
       "    </tr>\n",
       "    <tr>\n",
       "      <th class=\"index_name level0\" >payment_method</th>\n",
       "      <th class=\"blank col0\" >&nbsp;</th>\n",
       "      <th class=\"blank col1\" >&nbsp;</th>\n",
       "      <th class=\"blank col2\" >&nbsp;</th>\n",
       "      <th class=\"blank col3\" >&nbsp;</th>\n",
       "      <th class=\"blank col4\" >&nbsp;</th>\n",
       "      <th class=\"blank col5\" >&nbsp;</th>\n",
       "      <th class=\"blank col6\" >&nbsp;</th>\n",
       "      <th class=\"blank col7\" >&nbsp;</th>\n",
       "    </tr>\n",
       "  </thead>\n",
       "  <tbody>\n",
       "    <tr>\n",
       "      <th id=\"T_ccbc8_level0_row0\" class=\"row_heading level0 row0\" >Cash</th>\n",
       "      <td id=\"T_ccbc8_row0_col0\" class=\"data row0 col0\" >2268</td>\n",
       "      <td id=\"T_ccbc8_row0_col1\" class=\"data row0 col1\" >15456</td>\n",
       "      <td id=\"T_ccbc8_row0_col2\" class=\"data row0 col2\" >6674</td>\n",
       "      <td id=\"T_ccbc8_row0_col3\" class=\"data row0 col3\" >6587</td>\n",
       "      <td id=\"T_ccbc8_row0_col4\" class=\"data row0 col4\" >4474</td>\n",
       "      <td id=\"T_ccbc8_row0_col5\" class=\"data row0 col5\" >2211</td>\n",
       "      <td id=\"T_ccbc8_row0_col6\" class=\"data row0 col6\" >2235</td>\n",
       "      <td id=\"T_ccbc8_row0_col7\" class=\"data row0 col7\" >4542</td>\n",
       "    </tr>\n",
       "    <tr>\n",
       "      <th id=\"T_ccbc8_level0_row1\" class=\"row_heading level0 row1\" >Credit Card</th>\n",
       "      <td id=\"T_ccbc8_row1_col0\" class=\"data row1 col0\" >1696</td>\n",
       "      <td id=\"T_ccbc8_row1_col1\" class=\"data row1 col1\" >12025</td>\n",
       "      <td id=\"T_ccbc8_row1_col2\" class=\"data row1 col2\" >5336</td>\n",
       "      <td id=\"T_ccbc8_row1_col3\" class=\"data row1 col3\" >5250</td>\n",
       "      <td id=\"T_ccbc8_row1_col4\" class=\"data row1 col4\" >3553</td>\n",
       "      <td id=\"T_ccbc8_row1_col5\" class=\"data row1 col5\" >1770</td>\n",
       "      <td id=\"T_ccbc8_row1_col6\" class=\"data row1 col6\" >1753</td>\n",
       "      <td id=\"T_ccbc8_row1_col7\" class=\"data row1 col7\" >3548</td>\n",
       "    </tr>\n",
       "    <tr>\n",
       "      <th id=\"T_ccbc8_level0_row2\" class=\"row_heading level0 row2\" >Debit Card</th>\n",
       "      <td id=\"T_ccbc8_row2_col0\" class=\"data row2 col0\" >1017</td>\n",
       "      <td id=\"T_ccbc8_row2_col1\" class=\"data row2 col1\" >7006</td>\n",
       "      <td id=\"T_ccbc8_row2_col2\" class=\"data row2 col2\" >3087</td>\n",
       "      <td id=\"T_ccbc8_row2_col3\" class=\"data row2 col3\" >2939</td>\n",
       "      <td id=\"T_ccbc8_row2_col4\" class=\"data row2 col4\" >2007</td>\n",
       "      <td id=\"T_ccbc8_row2_col5\" class=\"data row2 col5\" >1018</td>\n",
       "      <td id=\"T_ccbc8_row2_col6\" class=\"data row2 col6\" >1008</td>\n",
       "      <td id=\"T_ccbc8_row2_col7\" class=\"data row2 col7\" >1997</td>\n",
       "    </tr>\n",
       "  </tbody>\n",
       "</table>\n"
      ],
      "text/plain": [
       "<pandas.io.formats.style.Styler at 0xe135d5e810>"
      ]
     },
     "execution_count": 36,
     "metadata": {},
     "output_type": "execute_result"
    }
   ],
   "source": [
    "df_shopping.groupby('payment_method')['category'].value_counts() \\\n",
    ".sort_index() \\\n",
    ".unstack()\\\n",
    ".style.background_gradient(axis=0,cmap='RdBu_r')"
   ]
  },
  {
   "cell_type": "markdown",
   "id": "98f758d9-d2d9-463a-a7a4-df5da333d515",
   "metadata": {},
   "source": [
    "3. Berapa jumlah kategori yang terjual di setiap lokasi pusat perbelanjaan?"
   ]
  },
  {
   "cell_type": "code",
   "execution_count": 37,
   "id": "4515b924-c8ea-4626-8325-022c694df852",
   "metadata": {
    "tags": []
   },
   "outputs": [
    {
     "data": {
      "text/html": [
       "<style type=\"text/css\">\n",
       "#T_cfbf1_row0_col0, #T_cfbf1_row0_col6, #T_cfbf1_row8_col6 {\n",
       "  background-color: #0d3f76;\n",
       "  color: #f1f1f1;\n",
       "}\n",
       "#T_cfbf1_row0_col1, #T_cfbf1_row1_col2, #T_cfbf1_row2_col1, #T_cfbf1_row8_col0, #T_cfbf1_row9_col2 {\n",
       "  background-color: #08366a;\n",
       "  color: #f1f1f1;\n",
       "}\n",
       "#T_cfbf1_row0_col2, #T_cfbf1_row1_col0, #T_cfbf1_row1_col1, #T_cfbf1_row1_col3, #T_cfbf1_row1_col7, #T_cfbf1_row2_col4, #T_cfbf1_row2_col6, #T_cfbf1_row8_col2, #T_cfbf1_row8_col5 {\n",
       "  background-color: #053061;\n",
       "  color: #f1f1f1;\n",
       "}\n",
       "#T_cfbf1_row0_col3, #T_cfbf1_row1_col6, #T_cfbf1_row9_col4 {\n",
       "  background-color: #0f437b;\n",
       "  color: #f1f1f1;\n",
       "}\n",
       "#T_cfbf1_row0_col4, #T_cfbf1_row2_col0, #T_cfbf1_row9_col1, #T_cfbf1_row9_col6 {\n",
       "  background-color: #0a3b70;\n",
       "  color: #f1f1f1;\n",
       "}\n",
       "#T_cfbf1_row0_col5, #T_cfbf1_row2_col2, #T_cfbf1_row8_col3 {\n",
       "  background-color: #09386d;\n",
       "  color: #f1f1f1;\n",
       "}\n",
       "#T_cfbf1_row0_col7, #T_cfbf1_row8_col7, #T_cfbf1_row9_col0, #T_cfbf1_row9_col7 {\n",
       "  background-color: #0e4179;\n",
       "  color: #f1f1f1;\n",
       "}\n",
       "#T_cfbf1_row1_col4, #T_cfbf1_row1_col5, #T_cfbf1_row8_col4, #T_cfbf1_row9_col3 {\n",
       "  background-color: #0c3d73;\n",
       "  color: #f1f1f1;\n",
       "}\n",
       "#T_cfbf1_row2_col3, #T_cfbf1_row8_col1 {\n",
       "  background-color: #073467;\n",
       "  color: #f1f1f1;\n",
       "}\n",
       "#T_cfbf1_row2_col5, #T_cfbf1_row2_col7 {\n",
       "  background-color: #114781;\n",
       "  color: #f1f1f1;\n",
       "}\n",
       "#T_cfbf1_row3_col0 {\n",
       "  background-color: #87beda;\n",
       "  color: #000000;\n",
       "}\n",
       "#T_cfbf1_row3_col1, #T_cfbf1_row3_col6 {\n",
       "  background-color: #a0cce2;\n",
       "  color: #000000;\n",
       "}\n",
       "#T_cfbf1_row3_col2 {\n",
       "  background-color: #9bc9e0;\n",
       "  color: #000000;\n",
       "}\n",
       "#T_cfbf1_row3_col3, #T_cfbf1_row7_col1 {\n",
       "  background-color: #b3d6e8;\n",
       "  color: #000000;\n",
       "}\n",
       "#T_cfbf1_row3_col4 {\n",
       "  background-color: #aed3e6;\n",
       "  color: #000000;\n",
       "}\n",
       "#T_cfbf1_row3_col5, #T_cfbf1_row3_col7 {\n",
       "  background-color: #b6d7e8;\n",
       "  color: #000000;\n",
       "}\n",
       "#T_cfbf1_row4_col0 {\n",
       "  background-color: #700320;\n",
       "  color: #f1f1f1;\n",
       "}\n",
       "#T_cfbf1_row4_col1 {\n",
       "  background-color: #730421;\n",
       "  color: #f1f1f1;\n",
       "}\n",
       "#T_cfbf1_row4_col2, #T_cfbf1_row4_col7 {\n",
       "  background-color: #6d0220;\n",
       "  color: #f1f1f1;\n",
       "}\n",
       "#T_cfbf1_row4_col3 {\n",
       "  background-color: #760521;\n",
       "  color: #f1f1f1;\n",
       "}\n",
       "#T_cfbf1_row4_col4, #T_cfbf1_row4_col5, #T_cfbf1_row5_col0, #T_cfbf1_row5_col1, #T_cfbf1_row5_col2, #T_cfbf1_row5_col3, #T_cfbf1_row5_col4, #T_cfbf1_row5_col6, #T_cfbf1_row5_col7 {\n",
       "  background-color: #67001f;\n",
       "  color: #f1f1f1;\n",
       "}\n",
       "#T_cfbf1_row4_col6 {\n",
       "  background-color: #790622;\n",
       "  color: #f1f1f1;\n",
       "}\n",
       "#T_cfbf1_row5_col5 {\n",
       "  background-color: #b61f2e;\n",
       "  color: #f1f1f1;\n",
       "}\n",
       "#T_cfbf1_row6_col0 {\n",
       "  background-color: #f8bda1;\n",
       "  color: #000000;\n",
       "}\n",
       "#T_cfbf1_row6_col1, #T_cfbf1_row6_col3, #T_cfbf1_row6_col6, #T_cfbf1_row6_col7 {\n",
       "  background-color: #f5ac8b;\n",
       "  color: #000000;\n",
       "}\n",
       "#T_cfbf1_row6_col2 {\n",
       "  background-color: #f7b99c;\n",
       "  color: #000000;\n",
       "}\n",
       "#T_cfbf1_row6_col4 {\n",
       "  background-color: #f9c6ac;\n",
       "  color: #000000;\n",
       "}\n",
       "#T_cfbf1_row6_col5 {\n",
       "  background-color: #facab1;\n",
       "  color: #000000;\n",
       "}\n",
       "#T_cfbf1_row7_col0 {\n",
       "  background-color: #93c6de;\n",
       "  color: #000000;\n",
       "}\n",
       "#T_cfbf1_row7_col2 {\n",
       "  background-color: #b1d5e7;\n",
       "  color: #000000;\n",
       "}\n",
       "#T_cfbf1_row7_col3 {\n",
       "  background-color: #bbdaea;\n",
       "  color: #000000;\n",
       "}\n",
       "#T_cfbf1_row7_col4 {\n",
       "  background-color: #cce2ef;\n",
       "  color: #000000;\n",
       "}\n",
       "#T_cfbf1_row7_col5 {\n",
       "  background-color: #c2ddec;\n",
       "  color: #000000;\n",
       "}\n",
       "#T_cfbf1_row7_col6 {\n",
       "  background-color: #8dc2dc;\n",
       "  color: #000000;\n",
       "}\n",
       "#T_cfbf1_row7_col7 {\n",
       "  background-color: #bddbea;\n",
       "  color: #000000;\n",
       "}\n",
       "#T_cfbf1_row9_col5 {\n",
       "  background-color: #10457e;\n",
       "  color: #f1f1f1;\n",
       "}\n",
       "</style>\n",
       "<table id=\"T_cfbf1\">\n",
       "  <thead>\n",
       "    <tr>\n",
       "      <th class=\"index_name level0\" >category</th>\n",
       "      <th id=\"T_cfbf1_level0_col0\" class=\"col_heading level0 col0\" >Books</th>\n",
       "      <th id=\"T_cfbf1_level0_col1\" class=\"col_heading level0 col1\" >Clothing</th>\n",
       "      <th id=\"T_cfbf1_level0_col2\" class=\"col_heading level0 col2\" >Cosmetics</th>\n",
       "      <th id=\"T_cfbf1_level0_col3\" class=\"col_heading level0 col3\" >Food & Beverage</th>\n",
       "      <th id=\"T_cfbf1_level0_col4\" class=\"col_heading level0 col4\" >Shoes</th>\n",
       "      <th id=\"T_cfbf1_level0_col5\" class=\"col_heading level0 col5\" >Souvenir</th>\n",
       "      <th id=\"T_cfbf1_level0_col6\" class=\"col_heading level0 col6\" >Technology</th>\n",
       "      <th id=\"T_cfbf1_level0_col7\" class=\"col_heading level0 col7\" >Toys</th>\n",
       "    </tr>\n",
       "    <tr>\n",
       "      <th class=\"index_name level0\" >shopping_mall</th>\n",
       "      <th class=\"blank col0\" >&nbsp;</th>\n",
       "      <th class=\"blank col1\" >&nbsp;</th>\n",
       "      <th class=\"blank col2\" >&nbsp;</th>\n",
       "      <th class=\"blank col3\" >&nbsp;</th>\n",
       "      <th class=\"blank col4\" >&nbsp;</th>\n",
       "      <th class=\"blank col5\" >&nbsp;</th>\n",
       "      <th class=\"blank col6\" >&nbsp;</th>\n",
       "      <th class=\"blank col7\" >&nbsp;</th>\n",
       "    </tr>\n",
       "  </thead>\n",
       "  <tbody>\n",
       "    <tr>\n",
       "      <th id=\"T_cfbf1_level0_row0\" class=\"row_heading level0 row0\" >Cevahir AVM</th>\n",
       "      <td id=\"T_cfbf1_row0_col0\" class=\"data row0 col0\" >258</td>\n",
       "      <td id=\"T_cfbf1_row0_col1\" class=\"data row0 col1\" >1729</td>\n",
       "      <td id=\"T_cfbf1_row0_col2\" class=\"data row0 col2\" >732</td>\n",
       "      <td id=\"T_cfbf1_row0_col3\" class=\"data row0 col3\" >772</td>\n",
       "      <td id=\"T_cfbf1_row0_col4\" class=\"data row0 col4\" >490</td>\n",
       "      <td id=\"T_cfbf1_row0_col5\" class=\"data row0 col5\" >240</td>\n",
       "      <td id=\"T_cfbf1_row0_col6\" class=\"data row0 col6\" >256</td>\n",
       "      <td id=\"T_cfbf1_row0_col7\" class=\"data row0 col7\" >514</td>\n",
       "    </tr>\n",
       "    <tr>\n",
       "      <th id=\"T_cfbf1_level0_row1\" class=\"row_heading level0 row1\" >Emaar Square Mall</th>\n",
       "      <td id=\"T_cfbf1_row1_col0\" class=\"data row1 col0\" >236</td>\n",
       "      <td id=\"T_cfbf1_row1_col1\" class=\"data row1 col1\" >1651</td>\n",
       "      <td id=\"T_cfbf1_row1_col2\" class=\"data row1 col2\" >760</td>\n",
       "      <td id=\"T_cfbf1_row1_col3\" class=\"data row1 col3\" >692</td>\n",
       "      <td id=\"T_cfbf1_row1_col4\" class=\"data row1 col4\" >498</td>\n",
       "      <td id=\"T_cfbf1_row1_col5\" class=\"data row1 col5\" >247</td>\n",
       "      <td id=\"T_cfbf1_row1_col6\" class=\"data row1 col6\" >263</td>\n",
       "      <td id=\"T_cfbf1_row1_col7\" class=\"data row1 col7\" >464</td>\n",
       "    </tr>\n",
       "    <tr>\n",
       "      <th id=\"T_cfbf1_level0_row2\" class=\"row_heading level0 row2\" >Forum Istanbul</th>\n",
       "      <td id=\"T_cfbf1_row2_col0\" class=\"data row2 col0\" >252</td>\n",
       "      <td id=\"T_cfbf1_row2_col1\" class=\"data row2 col1\" >1729</td>\n",
       "      <td id=\"T_cfbf1_row2_col2\" class=\"data row2 col2\" >770</td>\n",
       "      <td id=\"T_cfbf1_row2_col3\" class=\"data row2 col3\" >712</td>\n",
       "      <td id=\"T_cfbf1_row2_col4\" class=\"data row2 col4\" >458</td>\n",
       "      <td id=\"T_cfbf1_row2_col5\" class=\"data row2 col5\" >261</td>\n",
       "      <td id=\"T_cfbf1_row2_col6\" class=\"data row2 col6\" >234</td>\n",
       "      <td id=\"T_cfbf1_row2_col7\" class=\"data row2 col7\" >531</td>\n",
       "    </tr>\n",
       "    <tr>\n",
       "      <th id=\"T_cfbf1_level0_row3\" class=\"row_heading level0 row3\" >Istinye Park</th>\n",
       "      <td id=\"T_cfbf1_row3_col0\" class=\"data row3 col0\" >462</td>\n",
       "      <td id=\"T_cfbf1_row3_col1\" class=\"data row3 col1\" >3353</td>\n",
       "      <td id=\"T_cfbf1_row3_col2\" class=\"data row3 col2\" >1458</td>\n",
       "      <td id=\"T_cfbf1_row3_col3\" class=\"data row3 col3\" >1490</td>\n",
       "      <td id=\"T_cfbf1_row3_col4\" class=\"data row3 col4\" >1001</td>\n",
       "      <td id=\"T_cfbf1_row3_col5\" class=\"data row3 col5\" >515</td>\n",
       "      <td id=\"T_cfbf1_row3_col6\" class=\"data row3 col6\" >487</td>\n",
       "      <td id=\"T_cfbf1_row3_col7\" class=\"data row3 col7\" >1015</td>\n",
       "    </tr>\n",
       "    <tr>\n",
       "      <th id=\"T_cfbf1_level0_row4\" class=\"row_heading level0 row4\" >Kanyon</th>\n",
       "      <td id=\"T_cfbf1_row4_col0\" class=\"data row4 col0\" >1013</td>\n",
       "      <td id=\"T_cfbf1_row4_col1\" class=\"data row4 col1\" >6840</td>\n",
       "      <td id=\"T_cfbf1_row4_col2\" class=\"data row4 col2\" >3023</td>\n",
       "      <td id=\"T_cfbf1_row4_col3\" class=\"data row4 col3\" >2909</td>\n",
       "      <td id=\"T_cfbf1_row4_col4\" class=\"data row4 col4\" >2017</td>\n",
       "      <td id=\"T_cfbf1_row4_col5\" class=\"data row4 col5\" >1037</td>\n",
       "      <td id=\"T_cfbf1_row4_col6\" class=\"data row4 col6\" >997</td>\n",
       "      <td id=\"T_cfbf1_row4_col7\" class=\"data row4 col7\" >1987</td>\n",
       "    </tr>\n",
       "    <tr>\n",
       "      <th id=\"T_cfbf1_level0_row5\" class=\"row_heading level0 row5\" >Mall of Istanbul</th>\n",
       "      <td id=\"T_cfbf1_row5_col0\" class=\"data row5 col0\" >1025</td>\n",
       "      <td id=\"T_cfbf1_row5_col1\" class=\"data row5 col1\" >6923</td>\n",
       "      <td id=\"T_cfbf1_row5_col2\" class=\"data row5 col2\" >3050</td>\n",
       "      <td id=\"T_cfbf1_row5_col3\" class=\"data row5 col3\" >2957</td>\n",
       "      <td id=\"T_cfbf1_row5_col4\" class=\"data row5 col4\" >2023</td>\n",
       "      <td id=\"T_cfbf1_row5_col5\" class=\"data row5 col5\" >948</td>\n",
       "      <td id=\"T_cfbf1_row5_col6\" class=\"data row5 col6\" >1017</td>\n",
       "      <td id=\"T_cfbf1_row5_col7\" class=\"data row5 col7\" >2000</td>\n",
       "    </tr>\n",
       "    <tr>\n",
       "      <th id=\"T_cfbf1_level0_row6\" class=\"row_heading level0 row6\" >Metrocity</th>\n",
       "      <td id=\"T_cfbf1_row6_col0\" class=\"data row6 col0\" >752</td>\n",
       "      <td id=\"T_cfbf1_row6_col1\" class=\"data row6 col1\" >5268</td>\n",
       "      <td id=\"T_cfbf1_row6_col2\" class=\"data row6 col2\" >2265</td>\n",
       "      <td id=\"T_cfbf1_row6_col3\" class=\"data row6 col3\" >2244</td>\n",
       "      <td id=\"T_cfbf1_row6_col4\" class=\"data row6 col4\" >1457</td>\n",
       "      <td id=\"T_cfbf1_row6_col5\" class=\"data row6 col5\" >738</td>\n",
       "      <td id=\"T_cfbf1_row6_col6\" class=\"data row6 col6\" >772</td>\n",
       "      <td id=\"T_cfbf1_row6_col7\" class=\"data row6 col7\" >1515</td>\n",
       "    </tr>\n",
       "    <tr>\n",
       "      <th id=\"T_cfbf1_level0_row7\" class=\"row_heading level0 row7\" >Metropol AVM</th>\n",
       "      <td id=\"T_cfbf1_row7_col0\" class=\"data row7 col0\" >476</td>\n",
       "      <td id=\"T_cfbf1_row7_col1\" class=\"data row7 col1\" >3525</td>\n",
       "      <td id=\"T_cfbf1_row7_col2\" class=\"data row7 col2\" >1541</td>\n",
       "      <td id=\"T_cfbf1_row7_col3\" class=\"data row7 col3\" >1517</td>\n",
       "      <td id=\"T_cfbf1_row7_col4\" class=\"data row7 col4\" >1074</td>\n",
       "      <td id=\"T_cfbf1_row7_col5\" class=\"data row7 col5\" >531</td>\n",
       "      <td id=\"T_cfbf1_row7_col6\" class=\"data row7 col6\" >464</td>\n",
       "      <td id=\"T_cfbf1_row7_col7\" class=\"data row7 col7\" >1033</td>\n",
       "    </tr>\n",
       "    <tr>\n",
       "      <th id=\"T_cfbf1_level0_row8\" class=\"row_heading level0 row8\" >Viaport Outlet</th>\n",
       "      <td id=\"T_cfbf1_row8_col0\" class=\"data row8 col0\" >246</td>\n",
       "      <td id=\"T_cfbf1_row8_col1\" class=\"data row8 col1\" >1708</td>\n",
       "      <td id=\"T_cfbf1_row8_col2\" class=\"data row8 col2\" >734</td>\n",
       "      <td id=\"T_cfbf1_row8_col3\" class=\"data row8 col3\" >733</td>\n",
       "      <td id=\"T_cfbf1_row8_col4\" class=\"data row8 col4\" >497</td>\n",
       "      <td id=\"T_cfbf1_row8_col5\" class=\"data row8 col5\" >225</td>\n",
       "      <td id=\"T_cfbf1_row8_col6\" class=\"data row8 col6\" >256</td>\n",
       "      <td id=\"T_cfbf1_row8_col7\" class=\"data row8 col7\" >515</td>\n",
       "    </tr>\n",
       "    <tr>\n",
       "      <th id=\"T_cfbf1_level0_row9\" class=\"row_heading level0 row9\" >Zorlu Center</th>\n",
       "      <td id=\"T_cfbf1_row9_col0\" class=\"data row9 col0\" >261</td>\n",
       "      <td id=\"T_cfbf1_row9_col1\" class=\"data row9 col1\" >1761</td>\n",
       "      <td id=\"T_cfbf1_row9_col2\" class=\"data row9 col2\" >764</td>\n",
       "      <td id=\"T_cfbf1_row9_col3\" class=\"data row9 col3\" >750</td>\n",
       "      <td id=\"T_cfbf1_row9_col4\" class=\"data row9 col4\" >519</td>\n",
       "      <td id=\"T_cfbf1_row9_col5\" class=\"data row9 col5\" >257</td>\n",
       "      <td id=\"T_cfbf1_row9_col6\" class=\"data row9 col6\" >250</td>\n",
       "      <td id=\"T_cfbf1_row9_col7\" class=\"data row9 col7\" >513</td>\n",
       "    </tr>\n",
       "  </tbody>\n",
       "</table>\n"
      ],
      "text/plain": [
       "<pandas.io.formats.style.Styler at 0xe12d3f3710>"
      ]
     },
     "execution_count": 37,
     "metadata": {},
     "output_type": "execute_result"
    }
   ],
   "source": [
    "df_shopping.groupby('shopping_mall')['category'].value_counts() \\\n",
    ".sort_index() \\\n",
    ".unstack()\\\n",
    ".style.background_gradient(axis=0,cmap='RdBu_r')"
   ]
  },
  {
   "cell_type": "markdown",
   "id": "4e1ced8c-ba76-4a6d-abdd-9d59bbe9dd72",
   "metadata": {},
   "source": [
    "4. Berapa jumlah pembeli berdasarkan jenis kelamin per kategori produknya?"
   ]
  },
  {
   "cell_type": "code",
   "execution_count": 38,
   "id": "84a75943-5407-4222-a34f-bfd3a725cc2d",
   "metadata": {
    "tags": []
   },
   "outputs": [
    {
     "data": {
      "text/html": [
       "<style type=\"text/css\">\n",
       "#T_9c10c_row0_col0, #T_9c10c_row0_col1, #T_9c10c_row0_col2, #T_9c10c_row0_col3, #T_9c10c_row0_col4, #T_9c10c_row0_col5, #T_9c10c_row0_col6, #T_9c10c_row0_col7 {\n",
       "  background-color: #67001f;\n",
       "  color: #f1f1f1;\n",
       "}\n",
       "#T_9c10c_row1_col0, #T_9c10c_row1_col1, #T_9c10c_row1_col2, #T_9c10c_row1_col3, #T_9c10c_row1_col4, #T_9c10c_row1_col5, #T_9c10c_row1_col6, #T_9c10c_row1_col7 {\n",
       "  background-color: #053061;\n",
       "  color: #f1f1f1;\n",
       "}\n",
       "</style>\n",
       "<table id=\"T_9c10c\">\n",
       "  <thead>\n",
       "    <tr>\n",
       "      <th class=\"index_name level0\" >category</th>\n",
       "      <th id=\"T_9c10c_level0_col0\" class=\"col_heading level0 col0\" >Books</th>\n",
       "      <th id=\"T_9c10c_level0_col1\" class=\"col_heading level0 col1\" >Clothing</th>\n",
       "      <th id=\"T_9c10c_level0_col2\" class=\"col_heading level0 col2\" >Cosmetics</th>\n",
       "      <th id=\"T_9c10c_level0_col3\" class=\"col_heading level0 col3\" >Food & Beverage</th>\n",
       "      <th id=\"T_9c10c_level0_col4\" class=\"col_heading level0 col4\" >Shoes</th>\n",
       "      <th id=\"T_9c10c_level0_col5\" class=\"col_heading level0 col5\" >Souvenir</th>\n",
       "      <th id=\"T_9c10c_level0_col6\" class=\"col_heading level0 col6\" >Technology</th>\n",
       "      <th id=\"T_9c10c_level0_col7\" class=\"col_heading level0 col7\" >Toys</th>\n",
       "    </tr>\n",
       "    <tr>\n",
       "      <th class=\"index_name level0\" >gender</th>\n",
       "      <th class=\"blank col0\" >&nbsp;</th>\n",
       "      <th class=\"blank col1\" >&nbsp;</th>\n",
       "      <th class=\"blank col2\" >&nbsp;</th>\n",
       "      <th class=\"blank col3\" >&nbsp;</th>\n",
       "      <th class=\"blank col4\" >&nbsp;</th>\n",
       "      <th class=\"blank col5\" >&nbsp;</th>\n",
       "      <th class=\"blank col6\" >&nbsp;</th>\n",
       "      <th class=\"blank col7\" >&nbsp;</th>\n",
       "    </tr>\n",
       "  </thead>\n",
       "  <tbody>\n",
       "    <tr>\n",
       "      <th id=\"T_9c10c_level0_row0\" class=\"row_heading level0 row0\" >Female</th>\n",
       "      <td id=\"T_9c10c_row0_col0\" class=\"data row0 col0\" >2906</td>\n",
       "      <td id=\"T_9c10c_row0_col1\" class=\"data row0 col1\" >20652</td>\n",
       "      <td id=\"T_9c10c_row0_col2\" class=\"data row0 col2\" >9070</td>\n",
       "      <td id=\"T_9c10c_row0_col3\" class=\"data row0 col3\" >8804</td>\n",
       "      <td id=\"T_9c10c_row0_col4\" class=\"data row0 col4\" >5967</td>\n",
       "      <td id=\"T_9c10c_row0_col5\" class=\"data row0 col5\" >3017</td>\n",
       "      <td id=\"T_9c10c_row0_col6\" class=\"data row0 col6\" >2981</td>\n",
       "      <td id=\"T_9c10c_row0_col7\" class=\"data row0 col7\" >6085</td>\n",
       "    </tr>\n",
       "    <tr>\n",
       "      <th id=\"T_9c10c_level0_row1\" class=\"row_heading level0 row1\" >Male</th>\n",
       "      <td id=\"T_9c10c_row1_col0\" class=\"data row1 col0\" >2075</td>\n",
       "      <td id=\"T_9c10c_row1_col1\" class=\"data row1 col1\" >13835</td>\n",
       "      <td id=\"T_9c10c_row1_col2\" class=\"data row1 col2\" >6027</td>\n",
       "      <td id=\"T_9c10c_row1_col3\" class=\"data row1 col3\" >5972</td>\n",
       "      <td id=\"T_9c10c_row1_col4\" class=\"data row1 col4\" >4067</td>\n",
       "      <td id=\"T_9c10c_row1_col5\" class=\"data row1 col5\" >1982</td>\n",
       "      <td id=\"T_9c10c_row1_col6\" class=\"data row1 col6\" >2015</td>\n",
       "      <td id=\"T_9c10c_row1_col7\" class=\"data row1 col7\" >4002</td>\n",
       "    </tr>\n",
       "  </tbody>\n",
       "</table>\n"
      ],
      "text/plain": [
       "<pandas.io.formats.style.Styler at 0xe135d9f550>"
      ]
     },
     "execution_count": 38,
     "metadata": {},
     "output_type": "execute_result"
    }
   ],
   "source": [
    "df_shopping.groupby('gender')['category'].value_counts() \\\n",
    ".sort_index() \\\n",
    ".unstack()\\\n",
    ".style.background_gradient(axis=0,cmap='RdBu_r')"
   ]
  },
  {
   "cell_type": "markdown",
   "id": "3d2232ca-12a0-4533-8899-ff03cff47a07",
   "metadata": {},
   "source": [
    "5. Pusat perbelanjaan mana yang paling diminati pembeli?"
   ]
  },
  {
   "cell_type": "code",
   "execution_count": 39,
   "id": "aadf0121-ce6c-4464-9e1b-fc0161ea296f",
   "metadata": {
    "tags": []
   },
   "outputs": [
    {
     "data": {
      "image/png": "[encoded data removed]",
      "text/plain": [
       "<Figure size 800x800 with 1 Axes>"
      ]
     },
     "metadata": {},
     "output_type": "display_data"
    },
    {
     "data": {
      "text/plain": [
       "Mall of Istanbul     19943\n",
       "Kanyon               19823\n",
       "Metrocity            15011\n",
       "Metropol AVM         10161\n",
       "Istinye Park          9781\n",
       "Zorlu Center          5075\n",
       "Cevahir AVM           4991\n",
       "Forum Istanbul        4947\n",
       "Viaport Outlet        4914\n",
       "Emaar Square Mall     4811\n",
       "Name: shopping_mall, dtype: int64"
      ]
     },
     "execution_count": 39,
     "metadata": {},
     "output_type": "execute_result"
    }
   ],
   "source": [
    "df_shopping['shopping_mall'].value_counts().plot(kind='pie', subplots=True, autopct='%1.2f', figsize=(8,8), title='The most visited shopping malls')\n",
    "plt.show()\n",
    "\n",
    "df_shopping['shopping_mall'].value_counts()"
   ]
  },
  {
   "cell_type": "markdown",
   "id": "15e06707-05cf-48be-a6f6-344bcc360498",
   "metadata": {},
   "source": [
    "6. Berapa revenue yang didapatkan setiap tahunnya?"
   ]
  },
  {
   "cell_type": "code",
   "execution_count": 27,
   "id": "fc205691-6575-4d2e-bbd2-2cbbaba2d893",
   "metadata": {
    "tags": []
   },
   "outputs": [
    {
     "data": {
      "text/plain": [
       "<Axes: xlabel='year'>"
      ]
     },
     "execution_count": 27,
     "metadata": {},
     "output_type": "execute_result"
    },
    {
     "data": {
      "image/png": "[encoded data removed]",
      "text/plain": [
       "<Figure size 640x480 with 1 Axes>"
      ]
     },
     "metadata": {},
     "output_type": "display_data"
    }
   ],
   "source": [
    "df_clothing_sales = df_shopping.groupby('year')['total_revenue'].count()\n",
    "df_clothing_sales.plot(kind='bar')"
   ]
  },
  {
   "cell_type": "markdown",
   "id": "0d937a91-8eb5-4a8c-9a72-7db6bb8bfe3e",
   "metadata": {},
   "source": [
    "7. Pembeli dengan order terbanyak"
   ]
  },
  {
   "cell_type": "code",
   "execution_count": 15,
   "id": "d75cd38a-1e73-4dc2-ab3e-f41e5a187502",
   "metadata": {},
   "outputs": [
    {
     "data": {
      "text/plain": [
       "customer_id\n",
       "C100004    5\n",
       "C211342    5\n",
       "C154312    5\n",
       "C324260    5\n",
       "C211345    5\n",
       "Name: quantity, dtype: int64"
      ]
     },
     "execution_count": 15,
     "metadata": {},
     "output_type": "execute_result"
    }
   ],
   "source": [
    "purchase_per_customer = df_shopping.groupby('customer_id')['quantity'].sum().sort_values(ascending=False).nlargest(5)\n",
    "purchase_per_customer"
   ]
  },
  {
   "cell_type": "code",
   "execution_count": null,
   "id": "8363ccb7-51df-4bb5-b1d2-96cfbe9a219b",
   "metadata": {},
   "outputs": [],
   "source": []
  }
 ],
 "metadata": {
  "kernelspec": {
   "display_name": "Python 3 (ipykernel)",
   "language": "python",
   "name": "python3"
  },
  "language_info": {
   "codemirror_mode": {
    "name": "ipython",
    "version": 3
   },
   "file_extension": ".py",
   "mimetype": "text/x-python",
   "name": "python",
   "nbconvert_exporter": "python",
   "pygments_lexer": "ipython3",
   "version": "3.11.3"
  }
 },
 "nbformat": 4,
 "nbformat_minor": 5
}
