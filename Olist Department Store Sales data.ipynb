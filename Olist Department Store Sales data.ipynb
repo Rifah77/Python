{
 "cells": [
  {
   "cell_type": "markdown",
   "id": "7cf9562f-05e5-4f70-8669-54c78662a451",
   "metadata": {},
   "source": [
    "# STEP 1 & 2 \n",
    "-Import dataset by sql query file to your local computer and create connection between your sql and  python  \n",
    "-Import library needed ( pandas, matplotlib, and seaborn)"
   ]
  },
  {
   "cell_type": "code",
   "execution_count": 50,
   "id": "09ce30be-8df0-45ba-9cfc-4f1267a47845",
   "metadata": {
    "tags": []
   },
   "outputs": [],
   "source": [
    "import pandas as pd\n",
    "from datetime import datetime\n",
    "import matplotlib.pyplot as plt\n",
    "import seaborn as sns\n",
    "import numpy as np"
   ]
  },
  {
   "cell_type": "code",
   "execution_count": 51,
   "id": "b63414d8-a7c9-43b0-aea7-b46d0675ff4a",
   "metadata": {
    "tags": []
   },
   "outputs": [],
   "source": [
    "df_products = pd.read_csv('olist_products.csv')\n",
    "df_order_items = pd.read_csv('olist_order_items.csv')\n",
    "df_sellers = pd.read_csv('olist_sellers.csv')\n",
    "df_order_customers = pd.read_csv('olist_customers.csv')\n",
    "df_orders_dataset = pd.read_csv('olist_orders.csv')\n",
    "df_order_reviews = pd.read_csv('olist_order_reviews.csv')\n",
    "df_order_payments = pd.read_csv('olist_order_payments.csv') \n",
    "df_geolocation = pd.read_csv('olist_geolocation.csv') \n",
    "df_product_category_name_translation = pd.read_csv('product_category_name_translation.csv') "
   ]
  },
  {
   "cell_type": "markdown",
   "id": "15303707-430a-43a5-9dc4-51c8625d5de1",
   "metadata": {},
   "source": [
    "### Catatan"
   ]
  },
  {
   "cell_type": "raw",
   "id": "9df204d7-0c83-42e8-a4ff-d583f2eba80b",
   "metadata": {},
   "source": [
    "Step 1 dan 2 harusnya file tipe. db dan di sambungkan ke python, namun kemaren sudah saya coba tetapi jumlah missing valuenya berbeda dengan import libraray menggunakan file csv. Jika menggunakan csv jumlah missing value ada 12 kolom, tapi pakai file .db hanya 3 kolom saja, dan menurut saya itu aneh karena saat tabelnya di tampilkan, jumlah missing valuenya lebih dari 3, sehingga saya memakai alternatif import dataset menggunakan csv. Berikut query yang saya gunakan untuk mengkoneksikan file .db ke python.\n",
    "import sqlite3\n",
    "conn = sqlite3.connect('olist.db')\n",
    "df = pd.read_sql(\"SELECT name FROM sqlite_master WHERE type='table';\", conn)\n",
    "\n",
    "#Read tabel\n",
    "df_customers = pd.read_sql_query(\"SELECT * FROM olist_customer_dataset\", conn) --> Contoh 1 tabel\n",
    "\n",
    "#Merge tabel jadi 1\n",
    "orders_customers = pd.merge(df_orders, df_customers, on='customer_id') --> Contoh 1 tabel\n",
    "\n",
    "Sehingga portofolio yang saya kerjakan saat ini, import olist.db ke sql dbeaver lalu saya export masing-masing tabelnya ke csv, dan file csv saya import ke python."
   ]
  },
  {
   "cell_type": "markdown",
   "id": "fb72a833-bcf1-4eda-827f-b46eaf5acfdb",
   "metadata": {},
   "source": [
    "# STEP 3: Merge the dataset using their key connection based on dataset framework above"
   ]
  },
  {
   "cell_type": "code",
   "execution_count": 52,
   "id": "aed5ea66-f9af-4c80-bb55-de941217aa1c",
   "metadata": {
    "tags": []
   },
   "outputs": [
    {
     "data": {
      "text/plain": [
       "(117329, 39)"
      ]
     },
     "execution_count": 52,
     "metadata": {},
     "output_type": "execute_result"
    }
   ],
   "source": [
    "# Merge dataset\n",
    "df_order_items_and_products = pd.merge(df_order_items, df_products,  on='product_id')\n",
    "df_order_items_products_seller = pd.merge(df_order_items_and_products, df_sellers,  on='seller_id')\n",
    "df_order_items_products_seller_orders_dataset = pd.merge(df_order_items_products_seller, df_orders_dataset,  on='order_id')\n",
    "df_order_items_products_seller_orders_dataset_customer = pd.merge(df_order_items_products_seller_orders_dataset, df_order_customers, on='customer_id')\n",
    "df_order_items_products_seller_orders_dataset_customer_review = pd.merge(df_order_items_products_seller_orders_dataset_customer, df_order_reviews,  on='order_id')\n",
    "df_olist = pd.merge(df_order_items_products_seller_orders_dataset_customer_review, df_order_payments, on='order_id')\n",
    "df_olist.shape"
   ]
  },
  {
   "cell_type": "code",
   "execution_count": 53,
   "id": "cd78e3c5-00e1-42ea-b3d6-8f094863e673",
   "metadata": {
    "tags": []
   },
   "outputs": [
    {
     "data": {
      "text/plain": [
       "order_id                                 object\n",
       "order_item_id                             int64\n",
       "product_id                               object\n",
       "seller_id                                object\n",
       "shipping_limit_date              datetime64[ns]\n",
       "price                                   float64\n",
       "freight_value                           float64\n",
       "product_category_name                    object\n",
       "product_name_lenght                     float64\n",
       "product_description_lenght              float64\n",
       "product_photos_qty                      float64\n",
       "product_weight_g                        float64\n",
       "product_length_cm                       float64\n",
       "product_height_cm                       float64\n",
       "product_width_cm                        float64\n",
       "seller_zip_code_prefix                    int64\n",
       "seller_city                              object\n",
       "seller_state                             object\n",
       "customer_id                              object\n",
       "order_status                             object\n",
       "order_purchase_timestamp         datetime64[ns]\n",
       "order_approved_at                datetime64[ns]\n",
       "order_delivered_carrier_date     datetime64[ns]\n",
       "order_delivered_customer_date    datetime64[ns]\n",
       "order_estimated_delivery_date    datetime64[ns]\n",
       "customer_unique_id                       object\n",
       "customer_zip_code_prefix                  int64\n",
       "customer_city                            object\n",
       "customer_state                           object\n",
       "review_id                                object\n",
       "review_score                              int64\n",
       "review_comment_title                     object\n",
       "review_comment_message                   object\n",
       "review_creation_date             datetime64[ns]\n",
       "review_answer_timestamp          datetime64[ns]\n",
       "payment_sequential                        int64\n",
       "payment_type                             object\n",
       "payment_installments                      int64\n",
       "payment_value                           float64\n",
       "dtype: object"
      ]
     },
     "execution_count": 53,
     "metadata": {},
     "output_type": "execute_result"
    }
   ],
   "source": [
    "# Convert date type (object) to datetime\n",
    "df_olist['order_purchase_timestamp'] = pd.to_datetime(df_olist['order_purchase_timestamp'])\n",
    "df_olist['order_approved_at'] = pd.to_datetime(df_olist['order_approved_at'])\n",
    "df_olist['order_delivered_carrier_date'] = pd.to_datetime(df_olist['order_delivered_carrier_date'])\n",
    "df_olist['order_delivered_customer_date'] = pd.to_datetime(df_olist['order_delivered_customer_date'])\n",
    "df_olist['order_estimated_delivery_date'] = pd.to_datetime(df_olist['order_estimated_delivery_date'])\n",
    "df_olist['review_creation_date'] = pd.to_datetime(df_olist['review_creation_date'])\n",
    "df_olist['review_answer_timestamp'] = pd.to_datetime(df_olist['review_answer_timestamp'])\n",
    "df_olist['shipping_limit_date'] = pd.to_datetime(df_olist['shipping_limit_date'])\n",
    "df_olist.dtypes"
   ]
  },
  {
   "cell_type": "markdown",
   "id": "e7196613-a18e-4d10-b5ca-493fca200c1d",
   "metadata": {},
   "source": [
    "# STEP 4: Deal Null Values"
   ]
  },
  {
   "cell_type": "raw",
   "id": "af45a501-05aa-4855-a147-b2f84a5918ec",
   "metadata": {},
   "source": [
    "1.Null Value Identification"
   ]
  },
  {
   "cell_type": "code",
   "execution_count": 54,
   "id": "58424f29-8b28-4bb3-b10c-42ad0b6b89fb",
   "metadata": {
    "tags": []
   },
   "outputs": [
    {
     "data": {
      "text/html": [
       "<div>\n",
       "<style scoped>\n",
       "    .dataframe tbody tr th:only-of-type {\n",
       "        vertical-align: middle;\n",
       "    }\n",
       "\n",
       "    .dataframe tbody tr th {\n",
       "        vertical-align: top;\n",
       "    }\n",
       "\n",
       "    .dataframe thead th {\n",
       "        text-align: right;\n",
       "    }\n",
       "</style>\n",
       "<table border=\"1\" class=\"dataframe\">\n",
       "  <thead>\n",
       "    <tr style=\"text-align: right;\">\n",
       "      <th></th>\n",
       "      <th>missing_values</th>\n",
       "      <th>percentage_missing_values</th>\n",
       "    </tr>\n",
       "  </thead>\n",
       "  <tbody>\n",
       "    <tr>\n",
       "      <th>order_id</th>\n",
       "      <td>0</td>\n",
       "      <td>0.000000</td>\n",
       "    </tr>\n",
       "    <tr>\n",
       "      <th>order_item_id</th>\n",
       "      <td>0</td>\n",
       "      <td>0.000000</td>\n",
       "    </tr>\n",
       "    <tr>\n",
       "      <th>product_id</th>\n",
       "      <td>0</td>\n",
       "      <td>0.000000</td>\n",
       "    </tr>\n",
       "    <tr>\n",
       "      <th>seller_id</th>\n",
       "      <td>0</td>\n",
       "      <td>0.000000</td>\n",
       "    </tr>\n",
       "    <tr>\n",
       "      <th>shipping_limit_date</th>\n",
       "      <td>0</td>\n",
       "      <td>0.000000</td>\n",
       "    </tr>\n",
       "    <tr>\n",
       "      <th>price</th>\n",
       "      <td>0</td>\n",
       "      <td>0.000000</td>\n",
       "    </tr>\n",
       "    <tr>\n",
       "      <th>freight_value</th>\n",
       "      <td>0</td>\n",
       "      <td>0.000000</td>\n",
       "    </tr>\n",
       "    <tr>\n",
       "      <th>product_category_name</th>\n",
       "      <td>1695</td>\n",
       "      <td>1.444656</td>\n",
       "    </tr>\n",
       "    <tr>\n",
       "      <th>product_name_lenght</th>\n",
       "      <td>1695</td>\n",
       "      <td>1.444656</td>\n",
       "    </tr>\n",
       "    <tr>\n",
       "      <th>product_description_lenght</th>\n",
       "      <td>1695</td>\n",
       "      <td>1.444656</td>\n",
       "    </tr>\n",
       "    <tr>\n",
       "      <th>product_photos_qty</th>\n",
       "      <td>1695</td>\n",
       "      <td>1.444656</td>\n",
       "    </tr>\n",
       "    <tr>\n",
       "      <th>product_weight_g</th>\n",
       "      <td>20</td>\n",
       "      <td>0.017046</td>\n",
       "    </tr>\n",
       "    <tr>\n",
       "      <th>product_length_cm</th>\n",
       "      <td>20</td>\n",
       "      <td>0.017046</td>\n",
       "    </tr>\n",
       "    <tr>\n",
       "      <th>product_height_cm</th>\n",
       "      <td>20</td>\n",
       "      <td>0.017046</td>\n",
       "    </tr>\n",
       "    <tr>\n",
       "      <th>product_width_cm</th>\n",
       "      <td>20</td>\n",
       "      <td>0.017046</td>\n",
       "    </tr>\n",
       "    <tr>\n",
       "      <th>seller_zip_code_prefix</th>\n",
       "      <td>0</td>\n",
       "      <td>0.000000</td>\n",
       "    </tr>\n",
       "    <tr>\n",
       "      <th>seller_city</th>\n",
       "      <td>0</td>\n",
       "      <td>0.000000</td>\n",
       "    </tr>\n",
       "    <tr>\n",
       "      <th>seller_state</th>\n",
       "      <td>0</td>\n",
       "      <td>0.000000</td>\n",
       "    </tr>\n",
       "    <tr>\n",
       "      <th>customer_id</th>\n",
       "      <td>0</td>\n",
       "      <td>0.000000</td>\n",
       "    </tr>\n",
       "    <tr>\n",
       "      <th>order_status</th>\n",
       "      <td>0</td>\n",
       "      <td>0.000000</td>\n",
       "    </tr>\n",
       "    <tr>\n",
       "      <th>order_purchase_timestamp</th>\n",
       "      <td>0</td>\n",
       "      <td>0.000000</td>\n",
       "    </tr>\n",
       "    <tr>\n",
       "      <th>order_approved_at</th>\n",
       "      <td>15</td>\n",
       "      <td>0.012785</td>\n",
       "    </tr>\n",
       "    <tr>\n",
       "      <th>order_delivered_carrier_date</th>\n",
       "      <td>1235</td>\n",
       "      <td>1.052596</td>\n",
       "    </tr>\n",
       "    <tr>\n",
       "      <th>order_delivered_customer_date</th>\n",
       "      <td>2471</td>\n",
       "      <td>2.106044</td>\n",
       "    </tr>\n",
       "    <tr>\n",
       "      <th>order_estimated_delivery_date</th>\n",
       "      <td>0</td>\n",
       "      <td>0.000000</td>\n",
       "    </tr>\n",
       "    <tr>\n",
       "      <th>customer_unique_id</th>\n",
       "      <td>0</td>\n",
       "      <td>0.000000</td>\n",
       "    </tr>\n",
       "    <tr>\n",
       "      <th>customer_zip_code_prefix</th>\n",
       "      <td>0</td>\n",
       "      <td>0.000000</td>\n",
       "    </tr>\n",
       "    <tr>\n",
       "      <th>customer_city</th>\n",
       "      <td>0</td>\n",
       "      <td>0.000000</td>\n",
       "    </tr>\n",
       "    <tr>\n",
       "      <th>customer_state</th>\n",
       "      <td>0</td>\n",
       "      <td>0.000000</td>\n",
       "    </tr>\n",
       "    <tr>\n",
       "      <th>review_id</th>\n",
       "      <td>0</td>\n",
       "      <td>0.000000</td>\n",
       "    </tr>\n",
       "    <tr>\n",
       "      <th>review_score</th>\n",
       "      <td>0</td>\n",
       "      <td>0.000000</td>\n",
       "    </tr>\n",
       "    <tr>\n",
       "      <th>review_comment_title</th>\n",
       "      <td>103437</td>\n",
       "      <td>88.159790</td>\n",
       "    </tr>\n",
       "    <tr>\n",
       "      <th>review_comment_message</th>\n",
       "      <td>67650</td>\n",
       "      <td>57.658379</td>\n",
       "    </tr>\n",
       "    <tr>\n",
       "      <th>review_creation_date</th>\n",
       "      <td>0</td>\n",
       "      <td>0.000000</td>\n",
       "    </tr>\n",
       "    <tr>\n",
       "      <th>review_answer_timestamp</th>\n",
       "      <td>0</td>\n",
       "      <td>0.000000</td>\n",
       "    </tr>\n",
       "    <tr>\n",
       "      <th>payment_sequential</th>\n",
       "      <td>0</td>\n",
       "      <td>0.000000</td>\n",
       "    </tr>\n",
       "    <tr>\n",
       "      <th>payment_type</th>\n",
       "      <td>0</td>\n",
       "      <td>0.000000</td>\n",
       "    </tr>\n",
       "    <tr>\n",
       "      <th>payment_installments</th>\n",
       "      <td>0</td>\n",
       "      <td>0.000000</td>\n",
       "    </tr>\n",
       "    <tr>\n",
       "      <th>payment_value</th>\n",
       "      <td>0</td>\n",
       "      <td>0.000000</td>\n",
       "    </tr>\n",
       "  </tbody>\n",
       "</table>\n",
       "</div>"
      ],
      "text/plain": [
       "                               missing_values  percentage_missing_values\n",
       "order_id                                    0                   0.000000\n",
       "order_item_id                               0                   0.000000\n",
       "product_id                                  0                   0.000000\n",
       "seller_id                                   0                   0.000000\n",
       "shipping_limit_date                         0                   0.000000\n",
       "price                                       0                   0.000000\n",
       "freight_value                               0                   0.000000\n",
       "product_category_name                    1695                   1.444656\n",
       "product_name_lenght                      1695                   1.444656\n",
       "product_description_lenght               1695                   1.444656\n",
       "product_photos_qty                       1695                   1.444656\n",
       "product_weight_g                           20                   0.017046\n",
       "product_length_cm                          20                   0.017046\n",
       "product_height_cm                          20                   0.017046\n",
       "product_width_cm                           20                   0.017046\n",
       "seller_zip_code_prefix                      0                   0.000000\n",
       "seller_city                                 0                   0.000000\n",
       "seller_state                                0                   0.000000\n",
       "customer_id                                 0                   0.000000\n",
       "order_status                                0                   0.000000\n",
       "order_purchase_timestamp                    0                   0.000000\n",
       "order_approved_at                          15                   0.012785\n",
       "order_delivered_carrier_date             1235                   1.052596\n",
       "order_delivered_customer_date            2471                   2.106044\n",
       "order_estimated_delivery_date               0                   0.000000\n",
       "customer_unique_id                          0                   0.000000\n",
       "customer_zip_code_prefix                    0                   0.000000\n",
       "customer_city                               0                   0.000000\n",
       "customer_state                              0                   0.000000\n",
       "review_id                                   0                   0.000000\n",
       "review_score                                0                   0.000000\n",
       "review_comment_title                   103437                  88.159790\n",
       "review_comment_message                  67650                  57.658379\n",
       "review_creation_date                        0                   0.000000\n",
       "review_answer_timestamp                     0                   0.000000\n",
       "payment_sequential                          0                   0.000000\n",
       "payment_type                                0                   0.000000\n",
       "payment_installments                        0                   0.000000\n",
       "payment_value                               0                   0.000000"
      ]
     },
     "execution_count": 54,
     "metadata": {},
     "output_type": "execute_result"
    }
   ],
   "source": [
    "#Count missing value\n",
    "df_count_missing = df_olist.isnull().sum()\n",
    "df_percentage_missing = 100*df_olist.isnull().sum() / len(df_olist)\n",
    "\n",
    "df_count_missing = pd.concat([df_count_missing,df_percentage_missing],axis=1)\n",
    "df_count_missing \n",
    "\n",
    "#rename column\n",
    "rename_df_count_missing = df_count_missing.rename(\n",
    "    columns = {0 : 'missing_values', 1 : 'percentage_missing_values'})\n",
    "\n",
    "rename_df_count_missing"
   ]
  },
  {
   "cell_type": "code",
   "execution_count": 55,
   "id": "f565ad94-13be-4be4-89a4-779da8424f09",
   "metadata": {
    "tags": []
   },
   "outputs": [
    {
     "data": {
      "text/html": [
       "<div>\n",
       "<style scoped>\n",
       "    .dataframe tbody tr th:only-of-type {\n",
       "        vertical-align: middle;\n",
       "    }\n",
       "\n",
       "    .dataframe tbody tr th {\n",
       "        vertical-align: top;\n",
       "    }\n",
       "\n",
       "    .dataframe thead th {\n",
       "        text-align: right;\n",
       "    }\n",
       "</style>\n",
       "<table border=\"1\" class=\"dataframe\">\n",
       "  <thead>\n",
       "    <tr style=\"text-align: right;\">\n",
       "      <th></th>\n",
       "      <th>order_id</th>\n",
       "      <th>order_item_id</th>\n",
       "      <th>product_id</th>\n",
       "      <th>seller_id</th>\n",
       "      <th>shipping_limit_date</th>\n",
       "      <th>price</th>\n",
       "      <th>freight_value</th>\n",
       "      <th>product_category_name</th>\n",
       "      <th>product_name_lenght</th>\n",
       "      <th>product_description_lenght</th>\n",
       "      <th>...</th>\n",
       "      <th>review_id</th>\n",
       "      <th>review_score</th>\n",
       "      <th>review_comment_title</th>\n",
       "      <th>review_comment_message</th>\n",
       "      <th>review_creation_date</th>\n",
       "      <th>review_answer_timestamp</th>\n",
       "      <th>payment_sequential</th>\n",
       "      <th>payment_type</th>\n",
       "      <th>payment_installments</th>\n",
       "      <th>payment_value</th>\n",
       "    </tr>\n",
       "  </thead>\n",
       "  <tbody>\n",
       "  </tbody>\n",
       "</table>\n",
       "<p>0 rows × 39 columns</p>\n",
       "</div>"
      ],
      "text/plain": [
       "Empty DataFrame\n",
       "Columns: [order_id, order_item_id, product_id, seller_id, shipping_limit_date, price, freight_value, product_category_name, product_name_lenght, product_description_lenght, product_photos_qty, product_weight_g, product_length_cm, product_height_cm, product_width_cm, seller_zip_code_prefix, seller_city, seller_state, customer_id, order_status, order_purchase_timestamp, order_approved_at, order_delivered_carrier_date, order_delivered_customer_date, order_estimated_delivery_date, customer_unique_id, customer_zip_code_prefix, customer_city, customer_state, review_id, review_score, review_comment_title, review_comment_message, review_creation_date, review_answer_timestamp, payment_sequential, payment_type, payment_installments, payment_value]\n",
       "Index: []\n",
       "\n",
       "[0 rows x 39 columns]"
      ]
     },
     "execution_count": 55,
     "metadata": {},
     "output_type": "execute_result"
    }
   ],
   "source": [
    "#Check Duplicated Value\n",
    "duplicated_value = df_olist[df_olist.duplicated(keep=False)]\n",
    "duplicated_value"
   ]
  },
  {
   "cell_type": "raw",
   "id": "d479de95-05b7-4cfe-a286-80dfa3e5af9e",
   "metadata": {},
   "source": [
    "2. Would you please describe to us, why null values happen?\n",
    "Missing value bisa diartikan tidak ada data atau kosong, pada tabel di atas terdapat beberapa missing value seperti,\n",
    "-review_comment_title dan review_comment_message (salah satu penyebabnya, bisa jadi customer tidak mengisi/memberikan ulasan produk)\n",
    "-Lalu untuk kolom missing yang lain, memang tidak ada datanya"
   ]
  },
  {
   "cell_type": "raw",
   "id": "db8c882d-09bc-4ca5-9331-4d14e9949c81",
   "metadata": {},
   "source": [
    "3. How to deal with our null value?\n",
    "-Menghapus kolom yang missing value jika sedikit dan kolomnya tidak penting atau\n",
    "-Menggantikan dengan nilai 0 atau\n",
    "-Menggantikan nilai missing value dengan nilai rata-rata, modus, atau median dari kolom tersebut atau\n",
    "-Membiarkan data kosong\n",
    "-Pada kasus kali ini, saya membiarkan data kosong(missing value) dan tidak menghapus, atau menggantikan dengan nilai 0 atau rata-rata, karena dengan pertimbangan, data yang ada sudah cukup dan bisa untuk dilakukan analisis, sehingga nantinya tidak mempengaruhi tingkat keakuratan data."
   ]
  },
  {
   "cell_type": "markdown",
   "id": "fec36089-851c-40b0-9812-ec825da8837b",
   "metadata": {},
   "source": [
    "# STEP 5: Add columns "
   ]
  },
  {
   "cell_type": "raw",
   "id": "a6a78ea6-d6e7-4ae0-abd9-34bc5979cd16",
   "metadata": {},
   "source": [
    "1. Add columns based on the time period from the order purchase timestamp column\n",
    "2. Add columns by year\n",
    "3. Add columns by month\n",
    "4. Add columns by name of the day\n",
    "5. Add columns by hour"
   ]
  },
  {
   "cell_type": "code",
   "execution_count": 56,
   "id": "2bfb49c9-d8f9-47d5-8792-a613d997febf",
   "metadata": {
    "tags": []
   },
   "outputs": [
    {
     "data": {
      "text/html": [
       "<div>\n",
       "<style scoped>\n",
       "    .dataframe tbody tr th:only-of-type {\n",
       "        vertical-align: middle;\n",
       "    }\n",
       "\n",
       "    .dataframe tbody tr th {\n",
       "        vertical-align: top;\n",
       "    }\n",
       "\n",
       "    .dataframe thead th {\n",
       "        text-align: right;\n",
       "    }\n",
       "</style>\n",
       "<table border=\"1\" class=\"dataframe\">\n",
       "  <thead>\n",
       "    <tr style=\"text-align: right;\">\n",
       "      <th></th>\n",
       "      <th>order_id</th>\n",
       "      <th>order_item_id</th>\n",
       "      <th>product_id</th>\n",
       "      <th>seller_id</th>\n",
       "      <th>shipping_limit_date</th>\n",
       "      <th>price</th>\n",
       "      <th>freight_value</th>\n",
       "      <th>product_category_name</th>\n",
       "      <th>product_name_lenght</th>\n",
       "      <th>product_description_lenght</th>\n",
       "      <th>...</th>\n",
       "      <th>review_creation_date</th>\n",
       "      <th>review_answer_timestamp</th>\n",
       "      <th>payment_sequential</th>\n",
       "      <th>payment_type</th>\n",
       "      <th>payment_installments</th>\n",
       "      <th>payment_value</th>\n",
       "      <th>year</th>\n",
       "      <th>month</th>\n",
       "      <th>day</th>\n",
       "      <th>hour</th>\n",
       "    </tr>\n",
       "  </thead>\n",
       "  <tbody>\n",
       "    <tr>\n",
       "      <th>0</th>\n",
       "      <td>00010242fe8c5a6d1ba2dd792cb16214</td>\n",
       "      <td>1</td>\n",
       "      <td>4244733e06e7ecb4970a6e2683c13e61</td>\n",
       "      <td>48436dade18ac8b2bce089ec2a041202</td>\n",
       "      <td>2017-09-19 09:45:35</td>\n",
       "      <td>58.9</td>\n",
       "      <td>13.29</td>\n",
       "      <td>cool_stuff</td>\n",
       "      <td>58.0</td>\n",
       "      <td>598.0</td>\n",
       "      <td>...</td>\n",
       "      <td>2017-09-21</td>\n",
       "      <td>2017-09-22 10:57:03</td>\n",
       "      <td>1</td>\n",
       "      <td>credit_card</td>\n",
       "      <td>2</td>\n",
       "      <td>72.19</td>\n",
       "      <td>2017</td>\n",
       "      <td>9</td>\n",
       "      <td>13</td>\n",
       "      <td>8</td>\n",
       "    </tr>\n",
       "    <tr>\n",
       "      <th>1</th>\n",
       "      <td>130898c0987d1801452a8ed92a670612</td>\n",
       "      <td>1</td>\n",
       "      <td>4244733e06e7ecb4970a6e2683c13e61</td>\n",
       "      <td>48436dade18ac8b2bce089ec2a041202</td>\n",
       "      <td>2017-07-05 02:44:11</td>\n",
       "      <td>55.9</td>\n",
       "      <td>17.96</td>\n",
       "      <td>cool_stuff</td>\n",
       "      <td>58.0</td>\n",
       "      <td>598.0</td>\n",
       "      <td>...</td>\n",
       "      <td>2017-07-14</td>\n",
       "      <td>2017-07-17 12:50:07</td>\n",
       "      <td>1</td>\n",
       "      <td>boleto</td>\n",
       "      <td>1</td>\n",
       "      <td>73.86</td>\n",
       "      <td>2017</td>\n",
       "      <td>6</td>\n",
       "      <td>28</td>\n",
       "      <td>11</td>\n",
       "    </tr>\n",
       "    <tr>\n",
       "      <th>2</th>\n",
       "      <td>532ed5e14e24ae1f0d735b91524b98b9</td>\n",
       "      <td>1</td>\n",
       "      <td>4244733e06e7ecb4970a6e2683c13e61</td>\n",
       "      <td>48436dade18ac8b2bce089ec2a041202</td>\n",
       "      <td>2018-05-23 10:56:25</td>\n",
       "      <td>64.9</td>\n",
       "      <td>18.33</td>\n",
       "      <td>cool_stuff</td>\n",
       "      <td>58.0</td>\n",
       "      <td>598.0</td>\n",
       "      <td>...</td>\n",
       "      <td>2018-06-05</td>\n",
       "      <td>2018-06-06 21:41:12</td>\n",
       "      <td>1</td>\n",
       "      <td>credit_card</td>\n",
       "      <td>2</td>\n",
       "      <td>83.23</td>\n",
       "      <td>2018</td>\n",
       "      <td>5</td>\n",
       "      <td>18</td>\n",
       "      <td>10</td>\n",
       "    </tr>\n",
       "    <tr>\n",
       "      <th>3</th>\n",
       "      <td>6f8c31653edb8c83e1a739408b5ff750</td>\n",
       "      <td>1</td>\n",
       "      <td>4244733e06e7ecb4970a6e2683c13e61</td>\n",
       "      <td>48436dade18ac8b2bce089ec2a041202</td>\n",
       "      <td>2017-08-07 18:55:08</td>\n",
       "      <td>58.9</td>\n",
       "      <td>16.17</td>\n",
       "      <td>cool_stuff</td>\n",
       "      <td>58.0</td>\n",
       "      <td>598.0</td>\n",
       "      <td>...</td>\n",
       "      <td>2017-08-10</td>\n",
       "      <td>2017-08-13 03:35:17</td>\n",
       "      <td>1</td>\n",
       "      <td>credit_card</td>\n",
       "      <td>3</td>\n",
       "      <td>75.07</td>\n",
       "      <td>2017</td>\n",
       "      <td>8</td>\n",
       "      <td>1</td>\n",
       "      <td>18</td>\n",
       "    </tr>\n",
       "    <tr>\n",
       "      <th>4</th>\n",
       "      <td>7d19f4ef4d04461989632411b7e588b9</td>\n",
       "      <td>1</td>\n",
       "      <td>4244733e06e7ecb4970a6e2683c13e61</td>\n",
       "      <td>48436dade18ac8b2bce089ec2a041202</td>\n",
       "      <td>2017-08-16 22:05:11</td>\n",
       "      <td>58.9</td>\n",
       "      <td>13.29</td>\n",
       "      <td>cool_stuff</td>\n",
       "      <td>58.0</td>\n",
       "      <td>598.0</td>\n",
       "      <td>...</td>\n",
       "      <td>2017-08-25</td>\n",
       "      <td>2017-08-28 00:51:18</td>\n",
       "      <td>1</td>\n",
       "      <td>credit_card</td>\n",
       "      <td>4</td>\n",
       "      <td>72.19</td>\n",
       "      <td>2017</td>\n",
       "      <td>8</td>\n",
       "      <td>10</td>\n",
       "      <td>21</td>\n",
       "    </tr>\n",
       "  </tbody>\n",
       "</table>\n",
       "<p>5 rows × 43 columns</p>\n",
       "</div>"
      ],
      "text/plain": [
       "                           order_id  order_item_id  \\\n",
       "0  00010242fe8c5a6d1ba2dd792cb16214              1   \n",
       "1  130898c0987d1801452a8ed92a670612              1   \n",
       "2  532ed5e14e24ae1f0d735b91524b98b9              1   \n",
       "3  6f8c31653edb8c83e1a739408b5ff750              1   \n",
       "4  7d19f4ef4d04461989632411b7e588b9              1   \n",
       "\n",
       "                         product_id                         seller_id  \\\n",
       "0  4244733e06e7ecb4970a6e2683c13e61  48436dade18ac8b2bce089ec2a041202   \n",
       "1  4244733e06e7ecb4970a6e2683c13e61  48436dade18ac8b2bce089ec2a041202   \n",
       "2  4244733e06e7ecb4970a6e2683c13e61  48436dade18ac8b2bce089ec2a041202   \n",
       "3  4244733e06e7ecb4970a6e2683c13e61  48436dade18ac8b2bce089ec2a041202   \n",
       "4  4244733e06e7ecb4970a6e2683c13e61  48436dade18ac8b2bce089ec2a041202   \n",
       "\n",
       "  shipping_limit_date  price  freight_value product_category_name  \\\n",
       "0 2017-09-19 09:45:35   58.9          13.29            cool_stuff   \n",
       "1 2017-07-05 02:44:11   55.9          17.96            cool_stuff   \n",
       "2 2018-05-23 10:56:25   64.9          18.33            cool_stuff   \n",
       "3 2017-08-07 18:55:08   58.9          16.17            cool_stuff   \n",
       "4 2017-08-16 22:05:11   58.9          13.29            cool_stuff   \n",
       "\n",
       "   product_name_lenght  product_description_lenght  ...  review_creation_date  \\\n",
       "0                 58.0                       598.0  ...            2017-09-21   \n",
       "1                 58.0                       598.0  ...            2017-07-14   \n",
       "2                 58.0                       598.0  ...            2018-06-05   \n",
       "3                 58.0                       598.0  ...            2017-08-10   \n",
       "4                 58.0                       598.0  ...            2017-08-25   \n",
       "\n",
       "   review_answer_timestamp  payment_sequential  payment_type  \\\n",
       "0      2017-09-22 10:57:03                   1   credit_card   \n",
       "1      2017-07-17 12:50:07                   1        boleto   \n",
       "2      2018-06-06 21:41:12                   1   credit_card   \n",
       "3      2017-08-13 03:35:17                   1   credit_card   \n",
       "4      2017-08-28 00:51:18                   1   credit_card   \n",
       "\n",
       "   payment_installments  payment_value  year month day hour  \n",
       "0                     2          72.19  2017     9  13    8  \n",
       "1                     1          73.86  2017     6  28   11  \n",
       "2                     2          83.23  2018     5  18   10  \n",
       "3                     3          75.07  2017     8   1   18  \n",
       "4                     4          72.19  2017     8  10   21  \n",
       "\n",
       "[5 rows x 43 columns]"
      ]
     },
     "execution_count": 56,
     "metadata": {},
     "output_type": "execute_result"
    }
   ],
   "source": [
    "date_col = pd.DatetimeIndex(df_olist['order_purchase_timestamp'])\n",
    "df_olist['year'] = date_col.year \n",
    "df_olist['month'] = date_col.month \n",
    "df_olist['day'] = date_col.day \n",
    "df_olist['hour'] = date_col.hour\n",
    "\n",
    "df_olist.head()"
   ]
  },
  {
   "cell_type": "raw",
   "id": "a541f358-ee89-4182-b4e7-c3012e53fe2d",
   "metadata": {},
   "source": [
    "6. Add columns based on the actual price the customer purchased"
   ]
  },
  {
   "cell_type": "code",
   "execution_count": 57,
   "id": "69ff1e6d-92ef-4da3-8f0c-de7144c2841c",
   "metadata": {
    "tags": []
   },
   "outputs": [
    {
     "data": {
      "text/plain": [
       "88790     13440.00\n",
       "88789     11760.00\n",
       "88788     10080.00\n",
       "88787      8400.00\n",
       "88797      7160.00\n",
       "            ...   \n",
       "115544        2.20\n",
       "24555         1.70\n",
       "43092         1.20\n",
       "102949        0.85\n",
       "102950        0.85\n",
       "Name: total_price_value, Length: 117329, dtype: float64"
      ]
     },
     "execution_count": 57,
     "metadata": {},
     "output_type": "execute_result"
    }
   ],
   "source": [
    "#a. Total price value\n",
    "df_olist['total_price_value'] = df_olist['price'] * df_olist['order_item_id']\n",
    "df_olist['total_price_value'].sort_values(ascending = False)"
   ]
  },
  {
   "cell_type": "code",
   "execution_count": 58,
   "id": "7f5e1d5c-cf70-46fe-a764-65555641d5ce",
   "metadata": {
    "tags": []
   },
   "outputs": [
    {
     "data": {
      "text/plain": [
       "48894    1794.96\n",
       "48893    1495.80\n",
       "48892    1196.64\n",
       "93352    1002.30\n",
       "48891     897.48\n",
       "          ...   \n",
       "30718       0.00\n",
       "22905       0.00\n",
       "6903        0.00\n",
       "22907       0.00\n",
       "6842        0.00\n",
       "Name: total_freight_value, Length: 117329, dtype: float64"
      ]
     },
     "execution_count": 58,
     "metadata": {},
     "output_type": "execute_result"
    }
   ],
   "source": [
    "#b. Total freight value\n",
    "df_olist['total_freight_value'] = df_olist['freight_value'] * df_olist['order_item_id']\n",
    "df_olist['total_freight_value'].sort_values(ascending = False)"
   ]
  },
  {
   "cell_type": "code",
   "execution_count": 59,
   "id": "e65b99a4-4b97-4346-88a8-60852784843e",
   "metadata": {
    "tags": []
   },
   "outputs": [
    {
     "data": {
      "text/plain": [
       "88790     13664.08\n",
       "88789     11956.07\n",
       "88788     10248.06\n",
       "88787      8540.05\n",
       "88797      7274.88\n",
       "            ...   \n",
       "115544        9.59\n",
       "57075         9.56\n",
       "43092         9.09\n",
       "57062         7.28\n",
       "8293          6.08\n",
       "Name: total_order_value, Length: 117329, dtype: float64"
      ]
     },
     "execution_count": 59,
     "metadata": {},
     "output_type": "execute_result"
    }
   ],
   "source": [
    "#c. Total order value (total price + total freight)\n",
    "df_olist['total_order_value'] = df_olist['total_price_value'] + df_olist['total_freight_value']\n",
    "df_olist['total_order_value'].sort_values(ascending = False)"
   ]
  },
  {
   "cell_type": "markdown",
   "id": "0670b8f7-3079-4249-808f-0fc477755e40",
   "metadata": {},
   "source": [
    "# STEP 6: Customer Demographic"
   ]
  },
  {
   "cell_type": "raw",
   "id": "56b56855-4f6b-4c35-a4ed-87ebb6c587d5",
   "metadata": {},
   "source": [
    "1. Change the name of the state and city columns to address static and address city then do a grouping to calculate the total unique customer id based on the state address and it’s visualization : \n",
    "state → address_static\n",
    "city → address_city"
   ]
  },
  {
   "cell_type": "code",
   "execution_count": 60,
   "id": "a650b7b7-40bd-43f2-b7e5-722cdd7eb537",
   "metadata": {
    "tags": []
   },
   "outputs": [
    {
     "name": "stdout",
     "output_type": "stream",
     "text": [
      "<class 'pandas.core.frame.DataFrame'>\n",
      "Int64Index: 117329 entries, 0 to 117328\n",
      "Data columns (total 46 columns):\n",
      " #   Column                         Non-Null Count   Dtype         \n",
      "---  ------                         --------------   -----         \n",
      " 0   order_id                       117329 non-null  object        \n",
      " 1   order_item_id                  117329 non-null  int64         \n",
      " 2   product_id                     117329 non-null  object        \n",
      " 3   seller_id                      117329 non-null  object        \n",
      " 4   shipping_limit_date            117329 non-null  datetime64[ns]\n",
      " 5   price                          117329 non-null  float64       \n",
      " 6   freight_value                  117329 non-null  float64       \n",
      " 7   product_category_name          115634 non-null  object        \n",
      " 8   product_name_lenght            115634 non-null  float64       \n",
      " 9   product_description_lenght     115634 non-null  float64       \n",
      " 10  product_photos_qty             115634 non-null  float64       \n",
      " 11  product_weight_g               117309 non-null  float64       \n",
      " 12  product_length_cm              117309 non-null  float64       \n",
      " 13  product_height_cm              117309 non-null  float64       \n",
      " 14  product_width_cm               117309 non-null  float64       \n",
      " 15  seller_zip_code_prefix         117329 non-null  int64         \n",
      " 16  seller_city                    117329 non-null  object        \n",
      " 17  seller_state                   117329 non-null  object        \n",
      " 18  customer_id                    117329 non-null  object        \n",
      " 19  order_status                   117329 non-null  object        \n",
      " 20  order_purchase_timestamp       117329 non-null  datetime64[ns]\n",
      " 21  order_approved_at              117314 non-null  datetime64[ns]\n",
      " 22  order_delivered_carrier_date   116094 non-null  datetime64[ns]\n",
      " 23  order_delivered_customer_date  114858 non-null  datetime64[ns]\n",
      " 24  order_estimated_delivery_date  117329 non-null  datetime64[ns]\n",
      " 25  customer_unique_id             117329 non-null  object        \n",
      " 26  customer_zip_code_prefix       117329 non-null  int64         \n",
      " 27  customer_adress_city           117329 non-null  object        \n",
      " 28  customer_adress_static         117329 non-null  object        \n",
      " 29  review_id                      117329 non-null  object        \n",
      " 30  review_score                   117329 non-null  int64         \n",
      " 31  review_comment_title           13892 non-null   object        \n",
      " 32  review_comment_message         49679 non-null   object        \n",
      " 33  review_creation_date           117329 non-null  datetime64[ns]\n",
      " 34  review_answer_timestamp        117329 non-null  datetime64[ns]\n",
      " 35  payment_sequential             117329 non-null  int64         \n",
      " 36  payment_type                   117329 non-null  object        \n",
      " 37  payment_installments           117329 non-null  int64         \n",
      " 38  payment_value                  117329 non-null  float64       \n",
      " 39  year                           117329 non-null  int64         \n",
      " 40  month                          117329 non-null  int64         \n",
      " 41  day                            117329 non-null  int64         \n",
      " 42  hour                           117329 non-null  int64         \n",
      " 43  total_price_value              117329 non-null  float64       \n",
      " 44  total_freight_value            117329 non-null  float64       \n",
      " 45  total_order_value              117329 non-null  float64       \n",
      "dtypes: datetime64[ns](8), float64(13), int64(10), object(15)\n",
      "memory usage: 42.1+ MB\n"
     ]
    }
   ],
   "source": [
    "#rename column\n",
    "df_olist.rename(columns={\n",
    "    'customer_state' : 'customer_adress_static',\n",
    "    'customer_city' : 'customer_adress_city',\n",
    "},inplace=True)\n",
    "\n",
    "#check name column\n",
    "df_olist.info()"
   ]
  },
  {
   "cell_type": "raw",
   "id": "ca81ed3d-3c4e-4458-a8d1-20b8aaded750",
   "metadata": {},
   "source": [
    "2. Create a grouping to calculate the total unique customer id based on the address city and its visualization"
   ]
  },
  {
   "cell_type": "code",
   "execution_count": 64,
   "id": "01fb7c56-d550-4ee9-b6fc-3456d54446c8",
   "metadata": {
    "tags": []
   },
   "outputs": [
    {
     "data": {
      "text/plain": [
       "customer_adress_city\n",
       "sao paulo         14759\n",
       "rio de janeiro     6500\n",
       "belo horizonte     2637\n",
       "brasilia           2046\n",
       "curitiba           1447\n",
       "Name: customer_unique_id, dtype: int64"
      ]
     },
     "execution_count": 64,
     "metadata": {},
     "output_type": "execute_result"
    }
   ],
   "source": [
    "#Grouping to calculate top most 5\n",
    "df_uniqe_customer = df_olist.groupby(['customer_adress_city'])['customer_unique_id'].nunique().nlargest(5).sort_values(ascending = False)\n",
    "df_uniqe_customer"
   ]
  },
  {
   "cell_type": "code",
   "execution_count": 65,
   "id": "9db2e84d-3eb3-489f-b984-85e6df2d1090",
   "metadata": {
    "tags": []
   },
   "outputs": [
    {
     "data": {
      "text/plain": [
       "<Axes: xlabel='customer_adress_city'>"
      ]
     },
     "execution_count": 65,
     "metadata": {},
     "output_type": "execute_result"
    },
    {
     "data": {
      "image/png": "[encoded data removed]",
      "text/plain": [
       "<Figure size 640x480 with 1 Axes>"
      ]
     },
     "metadata": {},
     "output_type": "display_data"
    }
   ],
   "source": [
    "#visualization\n",
    "df_uniqe_customer.plot(kind='bar')"
   ]
  },
  {
   "cell_type": "raw",
   "id": "5008c0d0-f127-4261-be21-1786110cef1b",
   "metadata": {},
   "source": [
    "3. Make a table regarding the total orders for each customer, then create a column that describes the frequency of orders for each customer (assuming = if below equals 5 it is called a little, otherwise it is a lot)"
   ]
  },
  {
   "cell_type": "code",
   "execution_count": 66,
   "id": "64ba63a7-6b11-4c99-990b-bc65116cb88a",
   "metadata": {
    "tags": []
   },
   "outputs": [
    {
     "data": {
      "text/html": [
       "<div>\n",
       "<style scoped>\n",
       "    .dataframe tbody tr th:only-of-type {\n",
       "        vertical-align: middle;\n",
       "    }\n",
       "\n",
       "    .dataframe tbody tr th {\n",
       "        vertical-align: top;\n",
       "    }\n",
       "\n",
       "    .dataframe thead th {\n",
       "        text-align: right;\n",
       "    }\n",
       "</style>\n",
       "<table border=\"1\" class=\"dataframe\">\n",
       "  <thead>\n",
       "    <tr style=\"text-align: right;\">\n",
       "      <th></th>\n",
       "      <th>order_id</th>\n",
       "    </tr>\n",
       "    <tr>\n",
       "      <th>customer_id</th>\n",
       "      <th></th>\n",
       "    </tr>\n",
       "  </thead>\n",
       "  <tbody>\n",
       "    <tr>\n",
       "      <th>00012a2ce6f8dcda20d059ce98491703</th>\n",
       "      <td>1</td>\n",
       "    </tr>\n",
       "    <tr>\n",
       "      <th>000161a058600d5901f007fab4c27140</th>\n",
       "      <td>1</td>\n",
       "    </tr>\n",
       "    <tr>\n",
       "      <th>0001fd6190edaaf884bcaf3d49edf079</th>\n",
       "      <td>1</td>\n",
       "    </tr>\n",
       "    <tr>\n",
       "      <th>0002414f95344307404f0ace7a26f1d5</th>\n",
       "      <td>1</td>\n",
       "    </tr>\n",
       "    <tr>\n",
       "      <th>000379cdec625522490c315e70c7a9fb</th>\n",
       "      <td>1</td>\n",
       "    </tr>\n",
       "    <tr>\n",
       "      <th>...</th>\n",
       "      <td>...</td>\n",
       "    </tr>\n",
       "    <tr>\n",
       "      <th>fffcb937e9dd47a13f05ecb8290f4d3e</th>\n",
       "      <td>1</td>\n",
       "    </tr>\n",
       "    <tr>\n",
       "      <th>fffecc9f79fd8c764f843e9951b11341</th>\n",
       "      <td>1</td>\n",
       "    </tr>\n",
       "    <tr>\n",
       "      <th>fffeda5b6d849fbd39689bb92087f431</th>\n",
       "      <td>1</td>\n",
       "    </tr>\n",
       "    <tr>\n",
       "      <th>ffff42319e9b2d713724ae527742af25</th>\n",
       "      <td>1</td>\n",
       "    </tr>\n",
       "    <tr>\n",
       "      <th>ffffa3172527f765de70084a7e53aae8</th>\n",
       "      <td>1</td>\n",
       "    </tr>\n",
       "  </tbody>\n",
       "</table>\n",
       "<p>97916 rows × 1 columns</p>\n",
       "</div>"
      ],
      "text/plain": [
       "                                  order_id\n",
       "customer_id                               \n",
       "00012a2ce6f8dcda20d059ce98491703         1\n",
       "000161a058600d5901f007fab4c27140         1\n",
       "0001fd6190edaaf884bcaf3d49edf079         1\n",
       "0002414f95344307404f0ace7a26f1d5         1\n",
       "000379cdec625522490c315e70c7a9fb         1\n",
       "...                                    ...\n",
       "fffcb937e9dd47a13f05ecb8290f4d3e         1\n",
       "fffecc9f79fd8c764f843e9951b11341         1\n",
       "fffeda5b6d849fbd39689bb92087f431         1\n",
       "ffff42319e9b2d713724ae527742af25         1\n",
       "ffffa3172527f765de70084a7e53aae8         1\n",
       "\n",
       "[97916 rows x 1 columns]"
      ]
     },
     "execution_count": 66,
     "metadata": {},
     "output_type": "execute_result"
    }
   ],
   "source": [
    "#Count order id each \n",
    "df_frequency = df_olist.groupby('customer_id').agg({'order_id':'nunique'})\n",
    "df_frequency"
   ]
  },
  {
   "cell_type": "code",
   "execution_count": 67,
   "id": "cce86219-f0ba-4188-837e-8aa4828015cd",
   "metadata": {
    "tags": []
   },
   "outputs": [
    {
     "data": {
      "text/plain": [
       "little    97916\n",
       "lot           0\n",
       "Name: F_score, dtype: int64"
      ]
     },
     "execution_count": 67,
     "metadata": {},
     "output_type": "execute_result"
    }
   ],
   "source": [
    "#Total order per category\n",
    "df_frequency['F_score'] = pd.cut(df_frequency['order_id'],bins=[0,5,np.Inf],labels=['little','lot'],right=True)\n",
    "df_frequency['F_score'].value_counts()"
   ]
  },
  {
   "cell_type": "code",
   "execution_count": 68,
   "id": "5f548572-b57e-4c5e-91b7-235017064214",
   "metadata": {
    "tags": []
   },
   "outputs": [
    {
     "data": {
      "text/html": [
       "<div>\n",
       "<style scoped>\n",
       "    .dataframe tbody tr th:only-of-type {\n",
       "        vertical-align: middle;\n",
       "    }\n",
       "\n",
       "    .dataframe tbody tr th {\n",
       "        vertical-align: top;\n",
       "    }\n",
       "\n",
       "    .dataframe thead tr th {\n",
       "        text-align: left;\n",
       "    }\n",
       "\n",
       "    .dataframe thead tr:last-of-type th {\n",
       "        text-align: right;\n",
       "    }\n",
       "</style>\n",
       "<table border=\"1\" class=\"dataframe\">\n",
       "  <thead>\n",
       "    <tr>\n",
       "      <th></th>\n",
       "      <th colspan=\"5\" halign=\"left\">order_id</th>\n",
       "    </tr>\n",
       "    <tr>\n",
       "      <th></th>\n",
       "      <th>min</th>\n",
       "      <th>max</th>\n",
       "      <th>mean</th>\n",
       "      <th>median</th>\n",
       "      <th>count</th>\n",
       "    </tr>\n",
       "    <tr>\n",
       "      <th>F_score</th>\n",
       "      <th></th>\n",
       "      <th></th>\n",
       "      <th></th>\n",
       "      <th></th>\n",
       "      <th></th>\n",
       "    </tr>\n",
       "  </thead>\n",
       "  <tbody>\n",
       "    <tr>\n",
       "      <th>little</th>\n",
       "      <td>1.0</td>\n",
       "      <td>1.0</td>\n",
       "      <td>1.0</td>\n",
       "      <td>1.0</td>\n",
       "      <td>97916</td>\n",
       "    </tr>\n",
       "    <tr>\n",
       "      <th>lot</th>\n",
       "      <td>NaN</td>\n",
       "      <td>NaN</td>\n",
       "      <td>NaN</td>\n",
       "      <td>NaN</td>\n",
       "      <td>0</td>\n",
       "    </tr>\n",
       "  </tbody>\n",
       "</table>\n",
       "</div>"
      ],
      "text/plain": [
       "        order_id                        \n",
       "             min  max mean median  count\n",
       "F_score                                 \n",
       "little       1.0  1.0  1.0    1.0  97916\n",
       "lot          NaN  NaN  NaN    NaN      0"
      ]
     },
     "execution_count": 68,
     "metadata": {},
     "output_type": "execute_result"
    }
   ],
   "source": [
    "#Minimum and maximum order per category\n",
    "df_min_max = df_frequency.groupby('F_score').agg({'order_id':['min','max','mean','median','count']})\n",
    "df_min_max"
   ]
  },
  {
   "cell_type": "code",
   "execution_count": 69,
   "id": "52923953-078d-4ee0-8276-6bdb290ba4d0",
   "metadata": {
    "tags": []
   },
   "outputs": [
    {
     "data": {
      "text/html": [
       "<div>\n",
       "<style scoped>\n",
       "    .dataframe tbody tr th:only-of-type {\n",
       "        vertical-align: middle;\n",
       "    }\n",
       "\n",
       "    .dataframe tbody tr th {\n",
       "        vertical-align: top;\n",
       "    }\n",
       "\n",
       "    .dataframe thead th {\n",
       "        text-align: right;\n",
       "    }\n",
       "</style>\n",
       "<table border=\"1\" class=\"dataframe\">\n",
       "  <thead>\n",
       "    <tr style=\"text-align: right;\">\n",
       "      <th></th>\n",
       "      <th>order_id</th>\n",
       "      <th>F_score</th>\n",
       "    </tr>\n",
       "    <tr>\n",
       "      <th>customer_id</th>\n",
       "      <th></th>\n",
       "      <th></th>\n",
       "    </tr>\n",
       "  </thead>\n",
       "  <tbody>\n",
       "    <tr>\n",
       "      <th>00012a2ce6f8dcda20d059ce98491703</th>\n",
       "      <td>1</td>\n",
       "      <td>little</td>\n",
       "    </tr>\n",
       "    <tr>\n",
       "      <th>000161a058600d5901f007fab4c27140</th>\n",
       "      <td>1</td>\n",
       "      <td>little</td>\n",
       "    </tr>\n",
       "    <tr>\n",
       "      <th>0001fd6190edaaf884bcaf3d49edf079</th>\n",
       "      <td>1</td>\n",
       "      <td>little</td>\n",
       "    </tr>\n",
       "    <tr>\n",
       "      <th>0002414f95344307404f0ace7a26f1d5</th>\n",
       "      <td>1</td>\n",
       "      <td>little</td>\n",
       "    </tr>\n",
       "    <tr>\n",
       "      <th>000379cdec625522490c315e70c7a9fb</th>\n",
       "      <td>1</td>\n",
       "      <td>little</td>\n",
       "    </tr>\n",
       "    <tr>\n",
       "      <th>...</th>\n",
       "      <td>...</td>\n",
       "      <td>...</td>\n",
       "    </tr>\n",
       "    <tr>\n",
       "      <th>fffcb937e9dd47a13f05ecb8290f4d3e</th>\n",
       "      <td>1</td>\n",
       "      <td>little</td>\n",
       "    </tr>\n",
       "    <tr>\n",
       "      <th>fffecc9f79fd8c764f843e9951b11341</th>\n",
       "      <td>1</td>\n",
       "      <td>little</td>\n",
       "    </tr>\n",
       "    <tr>\n",
       "      <th>fffeda5b6d849fbd39689bb92087f431</th>\n",
       "      <td>1</td>\n",
       "      <td>little</td>\n",
       "    </tr>\n",
       "    <tr>\n",
       "      <th>ffff42319e9b2d713724ae527742af25</th>\n",
       "      <td>1</td>\n",
       "      <td>little</td>\n",
       "    </tr>\n",
       "    <tr>\n",
       "      <th>ffffa3172527f765de70084a7e53aae8</th>\n",
       "      <td>1</td>\n",
       "      <td>little</td>\n",
       "    </tr>\n",
       "  </tbody>\n",
       "</table>\n",
       "<p>97916 rows × 2 columns</p>\n",
       "</div>"
      ],
      "text/plain": [
       "                                  order_id F_score\n",
       "customer_id                                       \n",
       "00012a2ce6f8dcda20d059ce98491703         1  little\n",
       "000161a058600d5901f007fab4c27140         1  little\n",
       "0001fd6190edaaf884bcaf3d49edf079         1  little\n",
       "0002414f95344307404f0ace7a26f1d5         1  little\n",
       "000379cdec625522490c315e70c7a9fb         1  little\n",
       "...                                    ...     ...\n",
       "fffcb937e9dd47a13f05ecb8290f4d3e         1  little\n",
       "fffecc9f79fd8c764f843e9951b11341         1  little\n",
       "fffeda5b6d849fbd39689bb92087f431         1  little\n",
       "ffff42319e9b2d713724ae527742af25         1  little\n",
       "ffffa3172527f765de70084a7e53aae8         1  little\n",
       "\n",
       "[97916 rows x 2 columns]"
      ]
     },
     "execution_count": 69,
     "metadata": {},
     "output_type": "execute_result"
    }
   ],
   "source": [
    "df_customers_category = pd.concat([df_frequency],axis=1)\n",
    "df_customers_category"
   ]
  },
  {
   "cell_type": "raw",
   "id": "3fa692a4-1d06-474b-aff9-fdb0d35648ff",
   "metadata": {},
   "source": [
    "4.Create a table that lists the first and last purchase dates for each customer, then combine the first purchase, last purchase, and total order tables to generate the difference total order between the last purchase date and the first purchase date"
   ]
  },
  {
   "cell_type": "code",
   "execution_count": 70,
   "id": "f7955473-b10a-43b3-bb91-71bc1f82fd10",
   "metadata": {
    "tags": []
   },
   "outputs": [
    {
     "data": {
      "text/html": [
       "<div>\n",
       "<style scoped>\n",
       "    .dataframe tbody tr th:only-of-type {\n",
       "        vertical-align: middle;\n",
       "    }\n",
       "\n",
       "    .dataframe tbody tr th {\n",
       "        vertical-align: top;\n",
       "    }\n",
       "\n",
       "    .dataframe thead th {\n",
       "        text-align: right;\n",
       "    }\n",
       "</style>\n",
       "<table border=\"1\" class=\"dataframe\">\n",
       "  <thead>\n",
       "    <tr style=\"text-align: right;\">\n",
       "      <th></th>\n",
       "      <th>first_purchase_date</th>\n",
       "      <th>last_purchase_date</th>\n",
       "    </tr>\n",
       "    <tr>\n",
       "      <th>customer_id</th>\n",
       "      <th></th>\n",
       "      <th></th>\n",
       "    </tr>\n",
       "  </thead>\n",
       "  <tbody>\n",
       "    <tr>\n",
       "      <th>00012a2ce6f8dcda20d059ce98491703</th>\n",
       "      <td>2017-11-14 16:08:26</td>\n",
       "      <td>2017-11-14 16:08:26</td>\n",
       "    </tr>\n",
       "    <tr>\n",
       "      <th>000161a058600d5901f007fab4c27140</th>\n",
       "      <td>2017-07-16 09:40:32</td>\n",
       "      <td>2017-07-16 09:40:32</td>\n",
       "    </tr>\n",
       "    <tr>\n",
       "      <th>0001fd6190edaaf884bcaf3d49edf079</th>\n",
       "      <td>2017-02-28 11:06:43</td>\n",
       "      <td>2017-02-28 11:06:43</td>\n",
       "    </tr>\n",
       "    <tr>\n",
       "      <th>0002414f95344307404f0ace7a26f1d5</th>\n",
       "      <td>2017-08-16 13:09:20</td>\n",
       "      <td>2017-08-16 13:09:20</td>\n",
       "    </tr>\n",
       "    <tr>\n",
       "      <th>000379cdec625522490c315e70c7a9fb</th>\n",
       "      <td>2018-04-02 13:42:17</td>\n",
       "      <td>2018-04-02 13:42:17</td>\n",
       "    </tr>\n",
       "    <tr>\n",
       "      <th>...</th>\n",
       "      <td>...</td>\n",
       "      <td>...</td>\n",
       "    </tr>\n",
       "    <tr>\n",
       "      <th>fffcb937e9dd47a13f05ecb8290f4d3e</th>\n",
       "      <td>2018-03-17 00:55:27</td>\n",
       "      <td>2018-03-17 00:55:27</td>\n",
       "    </tr>\n",
       "    <tr>\n",
       "      <th>fffecc9f79fd8c764f843e9951b11341</th>\n",
       "      <td>2018-03-29 16:59:26</td>\n",
       "      <td>2018-03-29 16:59:26</td>\n",
       "    </tr>\n",
       "    <tr>\n",
       "      <th>fffeda5b6d849fbd39689bb92087f431</th>\n",
       "      <td>2018-05-22 13:36:02</td>\n",
       "      <td>2018-05-22 13:36:02</td>\n",
       "    </tr>\n",
       "    <tr>\n",
       "      <th>ffff42319e9b2d713724ae527742af25</th>\n",
       "      <td>2018-06-13 16:57:05</td>\n",
       "      <td>2018-06-13 16:57:05</td>\n",
       "    </tr>\n",
       "    <tr>\n",
       "      <th>ffffa3172527f765de70084a7e53aae8</th>\n",
       "      <td>2017-09-02 11:53:32</td>\n",
       "      <td>2017-09-02 11:53:32</td>\n",
       "    </tr>\n",
       "  </tbody>\n",
       "</table>\n",
       "<p>97916 rows × 2 columns</p>\n",
       "</div>"
      ],
      "text/plain": [
       "                                 first_purchase_date  last_purchase_date\n",
       "customer_id                                                             \n",
       "00012a2ce6f8dcda20d059ce98491703 2017-11-14 16:08:26 2017-11-14 16:08:26\n",
       "000161a058600d5901f007fab4c27140 2017-07-16 09:40:32 2017-07-16 09:40:32\n",
       "0001fd6190edaaf884bcaf3d49edf079 2017-02-28 11:06:43 2017-02-28 11:06:43\n",
       "0002414f95344307404f0ace7a26f1d5 2017-08-16 13:09:20 2017-08-16 13:09:20\n",
       "000379cdec625522490c315e70c7a9fb 2018-04-02 13:42:17 2018-04-02 13:42:17\n",
       "...                                              ...                 ...\n",
       "fffcb937e9dd47a13f05ecb8290f4d3e 2018-03-17 00:55:27 2018-03-17 00:55:27\n",
       "fffecc9f79fd8c764f843e9951b11341 2018-03-29 16:59:26 2018-03-29 16:59:26\n",
       "fffeda5b6d849fbd39689bb92087f431 2018-05-22 13:36:02 2018-05-22 13:36:02\n",
       "ffff42319e9b2d713724ae527742af25 2018-06-13 16:57:05 2018-06-13 16:57:05\n",
       "ffffa3172527f765de70084a7e53aae8 2017-09-02 11:53:32 2017-09-02 11:53:32\n",
       "\n",
       "[97916 rows x 2 columns]"
      ]
     },
     "execution_count": 70,
     "metadata": {},
     "output_type": "execute_result"
    }
   ],
   "source": [
    "#First and last purchase date\n",
    "pd.to_datetime(df_olist['order_purchase_timestamp'])\n",
    "date_transaction = df_olist.sort_values('order_purchase_timestamp').groupby('customer_id')['order_purchase_timestamp'].agg(['first','last']).rename(columns={'first':'first_purchase_date', 'last':'last_purchase_date'})\n",
    "date_transaction"
   ]
  },
  {
   "cell_type": "code",
   "execution_count": 71,
   "id": "bd4b653f-8cea-4f90-9586-da8ef769515b",
   "metadata": {
    "tags": []
   },
   "outputs": [
    {
     "data": {
      "text/html": [
       "<div>\n",
       "<style scoped>\n",
       "    .dataframe tbody tr th:only-of-type {\n",
       "        vertical-align: middle;\n",
       "    }\n",
       "\n",
       "    .dataframe tbody tr th {\n",
       "        vertical-align: top;\n",
       "    }\n",
       "\n",
       "    .dataframe thead th {\n",
       "        text-align: right;\n",
       "    }\n",
       "</style>\n",
       "<table border=\"1\" class=\"dataframe\">\n",
       "  <thead>\n",
       "    <tr style=\"text-align: right;\">\n",
       "      <th></th>\n",
       "      <th>first_purchase_order</th>\n",
       "      <th>last_purchase_order</th>\n",
       "    </tr>\n",
       "    <tr>\n",
       "      <th>customer_id</th>\n",
       "      <th></th>\n",
       "      <th></th>\n",
       "    </tr>\n",
       "  </thead>\n",
       "  <tbody>\n",
       "    <tr>\n",
       "      <th>00012a2ce6f8dcda20d059ce98491703</th>\n",
       "      <td>1</td>\n",
       "      <td>1</td>\n",
       "    </tr>\n",
       "    <tr>\n",
       "      <th>000161a058600d5901f007fab4c27140</th>\n",
       "      <td>1</td>\n",
       "      <td>1</td>\n",
       "    </tr>\n",
       "    <tr>\n",
       "      <th>0001fd6190edaaf884bcaf3d49edf079</th>\n",
       "      <td>1</td>\n",
       "      <td>1</td>\n",
       "    </tr>\n",
       "    <tr>\n",
       "      <th>0002414f95344307404f0ace7a26f1d5</th>\n",
       "      <td>1</td>\n",
       "      <td>1</td>\n",
       "    </tr>\n",
       "    <tr>\n",
       "      <th>000379cdec625522490c315e70c7a9fb</th>\n",
       "      <td>1</td>\n",
       "      <td>1</td>\n",
       "    </tr>\n",
       "    <tr>\n",
       "      <th>...</th>\n",
       "      <td>...</td>\n",
       "      <td>...</td>\n",
       "    </tr>\n",
       "    <tr>\n",
       "      <th>fffcb937e9dd47a13f05ecb8290f4d3e</th>\n",
       "      <td>1</td>\n",
       "      <td>1</td>\n",
       "    </tr>\n",
       "    <tr>\n",
       "      <th>fffecc9f79fd8c764f843e9951b11341</th>\n",
       "      <td>1</td>\n",
       "      <td>1</td>\n",
       "    </tr>\n",
       "    <tr>\n",
       "      <th>fffeda5b6d849fbd39689bb92087f431</th>\n",
       "      <td>1</td>\n",
       "      <td>1</td>\n",
       "    </tr>\n",
       "    <tr>\n",
       "      <th>ffff42319e9b2d713724ae527742af25</th>\n",
       "      <td>1</td>\n",
       "      <td>1</td>\n",
       "    </tr>\n",
       "    <tr>\n",
       "      <th>ffffa3172527f765de70084a7e53aae8</th>\n",
       "      <td>1</td>\n",
       "      <td>2</td>\n",
       "    </tr>\n",
       "  </tbody>\n",
       "</table>\n",
       "<p>97916 rows × 2 columns</p>\n",
       "</div>"
      ],
      "text/plain": [
       "                                  first_purchase_order  last_purchase_order\n",
       "customer_id                                                                \n",
       "00012a2ce6f8dcda20d059ce98491703                     1                    1\n",
       "000161a058600d5901f007fab4c27140                     1                    1\n",
       "0001fd6190edaaf884bcaf3d49edf079                     1                    1\n",
       "0002414f95344307404f0ace7a26f1d5                     1                    1\n",
       "000379cdec625522490c315e70c7a9fb                     1                    1\n",
       "...                                                ...                  ...\n",
       "fffcb937e9dd47a13f05ecb8290f4d3e                     1                    1\n",
       "fffecc9f79fd8c764f843e9951b11341                     1                    1\n",
       "fffeda5b6d849fbd39689bb92087f431                     1                    1\n",
       "ffff42319e9b2d713724ae527742af25                     1                    1\n",
       "ffffa3172527f765de70084a7e53aae8                     1                    2\n",
       "\n",
       "[97916 rows x 2 columns]"
      ]
     },
     "execution_count": 71,
     "metadata": {},
     "output_type": "execute_result"
    }
   ],
   "source": [
    "#First and last purchase order\n",
    "order_time = df_olist.sort_values('order_item_id').groupby('customer_id')['order_item_id'].agg(['first','last']).rename(columns={'first':'first_purchase_order', 'last':'last_purchase_order'})\n",
    "order_time "
   ]
  },
  {
   "cell_type": "code",
   "execution_count": 72,
   "id": "63f7089d-a3a2-4a38-83fb-21a3b5dd97d2",
   "metadata": {
    "tags": []
   },
   "outputs": [
    {
     "data": {
      "text/plain": [
       "customer_id\n",
       "00012a2ce6f8dcda20d059ce98491703    2\n",
       "000161a058600d5901f007fab4c27140    2\n",
       "0001fd6190edaaf884bcaf3d49edf079    2\n",
       "0002414f95344307404f0ace7a26f1d5    2\n",
       "000379cdec625522490c315e70c7a9fb    2\n",
       "                                   ..\n",
       "fffcb937e9dd47a13f05ecb8290f4d3e    2\n",
       "fffecc9f79fd8c764f843e9951b11341    2\n",
       "fffeda5b6d849fbd39689bb92087f431    2\n",
       "ffff42319e9b2d713724ae527742af25    2\n",
       "ffffa3172527f765de70084a7e53aae8    3\n",
       "Length: 97916, dtype: int64"
      ]
     },
     "execution_count": 72,
     "metadata": {},
     "output_type": "execute_result"
    }
   ],
   "source": [
    "total_order = order_time['first_purchase_order'] + order_time['last_purchase_order']\n",
    "total_order"
   ]
  },
  {
   "cell_type": "code",
   "execution_count": 73,
   "id": "35e26be0-cab7-4f4c-ae2d-b58d40e927c2",
   "metadata": {
    "tags": []
   },
   "outputs": [
    {
     "data": {
      "text/html": [
       "<div>\n",
       "<style scoped>\n",
       "    .dataframe tbody tr th:only-of-type {\n",
       "        vertical-align: middle;\n",
       "    }\n",
       "\n",
       "    .dataframe tbody tr th {\n",
       "        vertical-align: top;\n",
       "    }\n",
       "\n",
       "    .dataframe thead th {\n",
       "        text-align: right;\n",
       "    }\n",
       "</style>\n",
       "<table border=\"1\" class=\"dataframe\">\n",
       "  <thead>\n",
       "    <tr style=\"text-align: right;\">\n",
       "      <th></th>\n",
       "      <th>first_purchase_date</th>\n",
       "      <th>last_purchase_date</th>\n",
       "      <th>first_purchase_order</th>\n",
       "      <th>last_purchase_order</th>\n",
       "      <th>total_order</th>\n",
       "    </tr>\n",
       "    <tr>\n",
       "      <th>customer_id</th>\n",
       "      <th></th>\n",
       "      <th></th>\n",
       "      <th></th>\n",
       "      <th></th>\n",
       "      <th></th>\n",
       "    </tr>\n",
       "  </thead>\n",
       "  <tbody>\n",
       "    <tr>\n",
       "      <th>00012a2ce6f8dcda20d059ce98491703</th>\n",
       "      <td>2017-11-14 16:08:26</td>\n",
       "      <td>2017-11-14 16:08:26</td>\n",
       "      <td>1</td>\n",
       "      <td>1</td>\n",
       "      <td>2</td>\n",
       "    </tr>\n",
       "    <tr>\n",
       "      <th>000161a058600d5901f007fab4c27140</th>\n",
       "      <td>2017-07-16 09:40:32</td>\n",
       "      <td>2017-07-16 09:40:32</td>\n",
       "      <td>1</td>\n",
       "      <td>1</td>\n",
       "      <td>2</td>\n",
       "    </tr>\n",
       "    <tr>\n",
       "      <th>0001fd6190edaaf884bcaf3d49edf079</th>\n",
       "      <td>2017-02-28 11:06:43</td>\n",
       "      <td>2017-02-28 11:06:43</td>\n",
       "      <td>1</td>\n",
       "      <td>1</td>\n",
       "      <td>2</td>\n",
       "    </tr>\n",
       "    <tr>\n",
       "      <th>0002414f95344307404f0ace7a26f1d5</th>\n",
       "      <td>2017-08-16 13:09:20</td>\n",
       "      <td>2017-08-16 13:09:20</td>\n",
       "      <td>1</td>\n",
       "      <td>1</td>\n",
       "      <td>2</td>\n",
       "    </tr>\n",
       "    <tr>\n",
       "      <th>000379cdec625522490c315e70c7a9fb</th>\n",
       "      <td>2018-04-02 13:42:17</td>\n",
       "      <td>2018-04-02 13:42:17</td>\n",
       "      <td>1</td>\n",
       "      <td>1</td>\n",
       "      <td>2</td>\n",
       "    </tr>\n",
       "    <tr>\n",
       "      <th>...</th>\n",
       "      <td>...</td>\n",
       "      <td>...</td>\n",
       "      <td>...</td>\n",
       "      <td>...</td>\n",
       "      <td>...</td>\n",
       "    </tr>\n",
       "    <tr>\n",
       "      <th>fffcb937e9dd47a13f05ecb8290f4d3e</th>\n",
       "      <td>2018-03-17 00:55:27</td>\n",
       "      <td>2018-03-17 00:55:27</td>\n",
       "      <td>1</td>\n",
       "      <td>1</td>\n",
       "      <td>2</td>\n",
       "    </tr>\n",
       "    <tr>\n",
       "      <th>fffecc9f79fd8c764f843e9951b11341</th>\n",
       "      <td>2018-03-29 16:59:26</td>\n",
       "      <td>2018-03-29 16:59:26</td>\n",
       "      <td>1</td>\n",
       "      <td>1</td>\n",
       "      <td>2</td>\n",
       "    </tr>\n",
       "    <tr>\n",
       "      <th>fffeda5b6d849fbd39689bb92087f431</th>\n",
       "      <td>2018-05-22 13:36:02</td>\n",
       "      <td>2018-05-22 13:36:02</td>\n",
       "      <td>1</td>\n",
       "      <td>1</td>\n",
       "      <td>2</td>\n",
       "    </tr>\n",
       "    <tr>\n",
       "      <th>ffff42319e9b2d713724ae527742af25</th>\n",
       "      <td>2018-06-13 16:57:05</td>\n",
       "      <td>2018-06-13 16:57:05</td>\n",
       "      <td>1</td>\n",
       "      <td>1</td>\n",
       "      <td>2</td>\n",
       "    </tr>\n",
       "    <tr>\n",
       "      <th>ffffa3172527f765de70084a7e53aae8</th>\n",
       "      <td>2017-09-02 11:53:32</td>\n",
       "      <td>2017-09-02 11:53:32</td>\n",
       "      <td>1</td>\n",
       "      <td>2</td>\n",
       "      <td>3</td>\n",
       "    </tr>\n",
       "  </tbody>\n",
       "</table>\n",
       "<p>97916 rows × 5 columns</p>\n",
       "</div>"
      ],
      "text/plain": [
       "                                 first_purchase_date  last_purchase_date  \\\n",
       "customer_id                                                                \n",
       "00012a2ce6f8dcda20d059ce98491703 2017-11-14 16:08:26 2017-11-14 16:08:26   \n",
       "000161a058600d5901f007fab4c27140 2017-07-16 09:40:32 2017-07-16 09:40:32   \n",
       "0001fd6190edaaf884bcaf3d49edf079 2017-02-28 11:06:43 2017-02-28 11:06:43   \n",
       "0002414f95344307404f0ace7a26f1d5 2017-08-16 13:09:20 2017-08-16 13:09:20   \n",
       "000379cdec625522490c315e70c7a9fb 2018-04-02 13:42:17 2018-04-02 13:42:17   \n",
       "...                                              ...                 ...   \n",
       "fffcb937e9dd47a13f05ecb8290f4d3e 2018-03-17 00:55:27 2018-03-17 00:55:27   \n",
       "fffecc9f79fd8c764f843e9951b11341 2018-03-29 16:59:26 2018-03-29 16:59:26   \n",
       "fffeda5b6d849fbd39689bb92087f431 2018-05-22 13:36:02 2018-05-22 13:36:02   \n",
       "ffff42319e9b2d713724ae527742af25 2018-06-13 16:57:05 2018-06-13 16:57:05   \n",
       "ffffa3172527f765de70084a7e53aae8 2017-09-02 11:53:32 2017-09-02 11:53:32   \n",
       "\n",
       "                                  first_purchase_order  last_purchase_order  \\\n",
       "customer_id                                                                   \n",
       "00012a2ce6f8dcda20d059ce98491703                     1                    1   \n",
       "000161a058600d5901f007fab4c27140                     1                    1   \n",
       "0001fd6190edaaf884bcaf3d49edf079                     1                    1   \n",
       "0002414f95344307404f0ace7a26f1d5                     1                    1   \n",
       "000379cdec625522490c315e70c7a9fb                     1                    1   \n",
       "...                                                ...                  ...   \n",
       "fffcb937e9dd47a13f05ecb8290f4d3e                     1                    1   \n",
       "fffecc9f79fd8c764f843e9951b11341                     1                    1   \n",
       "fffeda5b6d849fbd39689bb92087f431                     1                    1   \n",
       "ffff42319e9b2d713724ae527742af25                     1                    1   \n",
       "ffffa3172527f765de70084a7e53aae8                     1                    2   \n",
       "\n",
       "                                  total_order  \n",
       "customer_id                                    \n",
       "00012a2ce6f8dcda20d059ce98491703            2  \n",
       "000161a058600d5901f007fab4c27140            2  \n",
       "0001fd6190edaaf884bcaf3d49edf079            2  \n",
       "0002414f95344307404f0ace7a26f1d5            2  \n",
       "000379cdec625522490c315e70c7a9fb            2  \n",
       "...                                       ...  \n",
       "fffcb937e9dd47a13f05ecb8290f4d3e            2  \n",
       "fffecc9f79fd8c764f843e9951b11341            2  \n",
       "fffeda5b6d849fbd39689bb92087f431            2  \n",
       "ffff42319e9b2d713724ae527742af25            2  \n",
       "ffffa3172527f765de70084a7e53aae8            3  \n",
       "\n",
       "[97916 rows x 5 columns]"
      ]
     },
     "execution_count": 73,
     "metadata": {},
     "output_type": "execute_result"
    }
   ],
   "source": [
    "df_purchase_total = pd.concat([date_transaction,order_time,total_order],axis=1)\n",
    "df_purchase_total.rename(columns={df_purchase_total.columns[4]: 'total_order'},inplace=True)\n",
    "df_purchase_total"
   ]
  },
  {
   "cell_type": "raw",
   "id": "4475ebe2-302c-40d7-9c96-a62edde7030c",
   "metadata": {
    "tags": []
   },
   "source": [
    "5. What are conclusions from your exploratory?\n",
    "Order terbanyak adalah customer dari sao paulo city, namun customer pada analisis ini masuk dalam kategori kecil(litle), bisa diartikan jumlah pembeliannya sedikit."
   ]
  },
  {
   "cell_type": "markdown",
   "id": "0ea21e96-5f3d-4575-824c-f4017afb807f",
   "metadata": {},
   "source": [
    "# STEP 7: Order Behaviour "
   ]
  },
  {
   "cell_type": "raw",
   "id": "49f054cf-3e91-454a-bab3-7e8ad85ca59d",
   "metadata": {},
   "source": [
    "1. Create a grouping table that calculates the average number of items ordered each based on total customers (customer_unique_id), then create a column that describes the frequency of orders for each customer (assuming = if below equals 5 it is called a little, otherwise it is a lot)"
   ]
  },
  {
   "cell_type": "code",
   "execution_count": 74,
   "id": "77b6660c-f1fe-480c-b18a-dbabc03ce1eb",
   "metadata": {
    "tags": []
   },
   "outputs": [
    {
     "data": {
      "text/html": [
       "<div>\n",
       "<style scoped>\n",
       "    .dataframe tbody tr th:only-of-type {\n",
       "        vertical-align: middle;\n",
       "    }\n",
       "\n",
       "    .dataframe tbody tr th {\n",
       "        vertical-align: top;\n",
       "    }\n",
       "\n",
       "    .dataframe thead th {\n",
       "        text-align: right;\n",
       "    }\n",
       "</style>\n",
       "<table border=\"1\" class=\"dataframe\">\n",
       "  <thead>\n",
       "    <tr style=\"text-align: right;\">\n",
       "      <th></th>\n",
       "      <th>order_id</th>\n",
       "    </tr>\n",
       "    <tr>\n",
       "      <th>customer_unique_id</th>\n",
       "      <th></th>\n",
       "    </tr>\n",
       "  </thead>\n",
       "  <tbody>\n",
       "    <tr>\n",
       "      <th>0000366f3b9a7992bf8c76cfdf3221e2</th>\n",
       "      <td>1</td>\n",
       "    </tr>\n",
       "    <tr>\n",
       "      <th>0000b849f77a49e4a4ce2b2a4ca5be3f</th>\n",
       "      <td>1</td>\n",
       "    </tr>\n",
       "    <tr>\n",
       "      <th>0000f46a3911fa3c0805444483337064</th>\n",
       "      <td>1</td>\n",
       "    </tr>\n",
       "    <tr>\n",
       "      <th>0000f6ccb0745a6a4b88665a16c9f078</th>\n",
       "      <td>1</td>\n",
       "    </tr>\n",
       "    <tr>\n",
       "      <th>0004aac84e0df4da2b147fca70cf8255</th>\n",
       "      <td>1</td>\n",
       "    </tr>\n",
       "    <tr>\n",
       "      <th>...</th>\n",
       "      <td>...</td>\n",
       "    </tr>\n",
       "    <tr>\n",
       "      <th>fffcf5a5ff07b0908bd4e2dbc735a684</th>\n",
       "      <td>1</td>\n",
       "    </tr>\n",
       "    <tr>\n",
       "      <th>fffea47cd6d3cc0a88bd621562a9d061</th>\n",
       "      <td>1</td>\n",
       "    </tr>\n",
       "    <tr>\n",
       "      <th>ffff371b4d645b6ecea244b27531430a</th>\n",
       "      <td>1</td>\n",
       "    </tr>\n",
       "    <tr>\n",
       "      <th>ffff5962728ec6157033ef9805bacc48</th>\n",
       "      <td>1</td>\n",
       "    </tr>\n",
       "    <tr>\n",
       "      <th>ffffd2657e2aad2907e67c3e9daecbeb</th>\n",
       "      <td>1</td>\n",
       "    </tr>\n",
       "  </tbody>\n",
       "</table>\n",
       "<p>94720 rows × 1 columns</p>\n",
       "</div>"
      ],
      "text/plain": [
       "                                  order_id\n",
       "customer_unique_id                        \n",
       "0000366f3b9a7992bf8c76cfdf3221e2         1\n",
       "0000b849f77a49e4a4ce2b2a4ca5be3f         1\n",
       "0000f46a3911fa3c0805444483337064         1\n",
       "0000f6ccb0745a6a4b88665a16c9f078         1\n",
       "0004aac84e0df4da2b147fca70cf8255         1\n",
       "...                                    ...\n",
       "fffcf5a5ff07b0908bd4e2dbc735a684         1\n",
       "fffea47cd6d3cc0a88bd621562a9d061         1\n",
       "ffff371b4d645b6ecea244b27531430a         1\n",
       "ffff5962728ec6157033ef9805bacc48         1\n",
       "ffffd2657e2aad2907e67c3e9daecbeb         1\n",
       "\n",
       "[94720 rows x 1 columns]"
      ]
     },
     "execution_count": 74,
     "metadata": {},
     "output_type": "execute_result"
    }
   ],
   "source": [
    "#Count each customer uniqe\n",
    "count_customer_unique = df_olist.groupby('customer_unique_id').agg({'order_id':'nunique'})\n",
    "count_customer_unique"
   ]
  },
  {
   "cell_type": "code",
   "execution_count": 75,
   "id": "570d132a-74dd-41dc-ba43-6225282fe147",
   "metadata": {
    "tags": []
   },
   "outputs": [
    {
     "data": {
      "text/plain": [
       "little    94710\n",
       "lot          10\n",
       "Name: F_score, dtype: int64"
      ]
     },
     "execution_count": 75,
     "metadata": {},
     "output_type": "execute_result"
    }
   ],
   "source": [
    "#Count total customer uniqe\n",
    "count_customer_unique['F_score'] = pd.cut(count_customer_unique['order_id'],bins=[0,5,np.Inf],labels=['little','lot'],right=True)\n",
    "count_customer_unique['F_score'].value_counts()"
   ]
  },
  {
   "cell_type": "code",
   "execution_count": 76,
   "id": "937298e8-ef06-4402-98ec-289797752c4f",
   "metadata": {
    "tags": []
   },
   "outputs": [
    {
     "data": {
      "text/html": [
       "<div>\n",
       "<style scoped>\n",
       "    .dataframe tbody tr th:only-of-type {\n",
       "        vertical-align: middle;\n",
       "    }\n",
       "\n",
       "    .dataframe tbody tr th {\n",
       "        vertical-align: top;\n",
       "    }\n",
       "\n",
       "    .dataframe thead tr th {\n",
       "        text-align: left;\n",
       "    }\n",
       "\n",
       "    .dataframe thead tr:last-of-type th {\n",
       "        text-align: right;\n",
       "    }\n",
       "</style>\n",
       "<table border=\"1\" class=\"dataframe\">\n",
       "  <thead>\n",
       "    <tr>\n",
       "      <th></th>\n",
       "      <th colspan=\"5\" halign=\"left\">order_id</th>\n",
       "    </tr>\n",
       "    <tr>\n",
       "      <th></th>\n",
       "      <th>min</th>\n",
       "      <th>max</th>\n",
       "      <th>mean</th>\n",
       "      <th>median</th>\n",
       "      <th>count</th>\n",
       "    </tr>\n",
       "    <tr>\n",
       "      <th>F_score</th>\n",
       "      <th></th>\n",
       "      <th></th>\n",
       "      <th></th>\n",
       "      <th></th>\n",
       "      <th></th>\n",
       "    </tr>\n",
       "  </thead>\n",
       "  <tbody>\n",
       "    <tr>\n",
       "      <th>little</th>\n",
       "      <td>1</td>\n",
       "      <td>5</td>\n",
       "      <td>1.033048</td>\n",
       "      <td>1.0</td>\n",
       "      <td>94710</td>\n",
       "    </tr>\n",
       "    <tr>\n",
       "      <th>lot</th>\n",
       "      <td>6</td>\n",
       "      <td>16</td>\n",
       "      <td>7.600000</td>\n",
       "      <td>6.5</td>\n",
       "      <td>10</td>\n",
       "    </tr>\n",
       "  </tbody>\n",
       "</table>\n",
       "</div>"
      ],
      "text/plain": [
       "        order_id                            \n",
       "             min max      mean median  count\n",
       "F_score                                     \n",
       "little         1   5  1.033048    1.0  94710\n",
       "lot            6  16  7.600000    6.5     10"
      ]
     },
     "execution_count": 76,
     "metadata": {},
     "output_type": "execute_result"
    }
   ],
   "source": [
    "#Order min and max customer uniqe\n",
    "df_count_each_customer = count_customer_unique.groupby('F_score').agg({'order_id':['min','max','mean','median','count']})\n",
    "df_count_each_customer"
   ]
  },
  {
   "cell_type": "code",
   "execution_count": 77,
   "id": "962ff5eb-14c4-4fa6-a512-51fd689bac61",
   "metadata": {
    "tags": []
   },
   "outputs": [
    {
     "data": {
      "text/html": [
       "<div>\n",
       "<style scoped>\n",
       "    .dataframe tbody tr th:only-of-type {\n",
       "        vertical-align: middle;\n",
       "    }\n",
       "\n",
       "    .dataframe tbody tr th {\n",
       "        vertical-align: top;\n",
       "    }\n",
       "\n",
       "    .dataframe thead th {\n",
       "        text-align: right;\n",
       "    }\n",
       "</style>\n",
       "<table border=\"1\" class=\"dataframe\">\n",
       "  <thead>\n",
       "    <tr style=\"text-align: right;\">\n",
       "      <th></th>\n",
       "      <th>order_id</th>\n",
       "      <th>F_score</th>\n",
       "    </tr>\n",
       "    <tr>\n",
       "      <th>customer_unique_id</th>\n",
       "      <th></th>\n",
       "      <th></th>\n",
       "    </tr>\n",
       "  </thead>\n",
       "  <tbody>\n",
       "    <tr>\n",
       "      <th>0000366f3b9a7992bf8c76cfdf3221e2</th>\n",
       "      <td>1</td>\n",
       "      <td>little</td>\n",
       "    </tr>\n",
       "    <tr>\n",
       "      <th>0000b849f77a49e4a4ce2b2a4ca5be3f</th>\n",
       "      <td>1</td>\n",
       "      <td>little</td>\n",
       "    </tr>\n",
       "    <tr>\n",
       "      <th>0000f46a3911fa3c0805444483337064</th>\n",
       "      <td>1</td>\n",
       "      <td>little</td>\n",
       "    </tr>\n",
       "    <tr>\n",
       "      <th>0000f6ccb0745a6a4b88665a16c9f078</th>\n",
       "      <td>1</td>\n",
       "      <td>little</td>\n",
       "    </tr>\n",
       "    <tr>\n",
       "      <th>0004aac84e0df4da2b147fca70cf8255</th>\n",
       "      <td>1</td>\n",
       "      <td>little</td>\n",
       "    </tr>\n",
       "    <tr>\n",
       "      <th>...</th>\n",
       "      <td>...</td>\n",
       "      <td>...</td>\n",
       "    </tr>\n",
       "    <tr>\n",
       "      <th>fffcf5a5ff07b0908bd4e2dbc735a684</th>\n",
       "      <td>1</td>\n",
       "      <td>little</td>\n",
       "    </tr>\n",
       "    <tr>\n",
       "      <th>fffea47cd6d3cc0a88bd621562a9d061</th>\n",
       "      <td>1</td>\n",
       "      <td>little</td>\n",
       "    </tr>\n",
       "    <tr>\n",
       "      <th>ffff371b4d645b6ecea244b27531430a</th>\n",
       "      <td>1</td>\n",
       "      <td>little</td>\n",
       "    </tr>\n",
       "    <tr>\n",
       "      <th>ffff5962728ec6157033ef9805bacc48</th>\n",
       "      <td>1</td>\n",
       "      <td>little</td>\n",
       "    </tr>\n",
       "    <tr>\n",
       "      <th>ffffd2657e2aad2907e67c3e9daecbeb</th>\n",
       "      <td>1</td>\n",
       "      <td>little</td>\n",
       "    </tr>\n",
       "  </tbody>\n",
       "</table>\n",
       "<p>94720 rows × 2 columns</p>\n",
       "</div>"
      ],
      "text/plain": [
       "                                  order_id F_score\n",
       "customer_unique_id                                \n",
       "0000366f3b9a7992bf8c76cfdf3221e2         1  little\n",
       "0000b849f77a49e4a4ce2b2a4ca5be3f         1  little\n",
       "0000f46a3911fa3c0805444483337064         1  little\n",
       "0000f6ccb0745a6a4b88665a16c9f078         1  little\n",
       "0004aac84e0df4da2b147fca70cf8255         1  little\n",
       "...                                    ...     ...\n",
       "fffcf5a5ff07b0908bd4e2dbc735a684         1  little\n",
       "fffea47cd6d3cc0a88bd621562a9d061         1  little\n",
       "ffff371b4d645b6ecea244b27531430a         1  little\n",
       "ffff5962728ec6157033ef9805bacc48         1  little\n",
       "ffffd2657e2aad2907e67c3e9daecbeb         1  little\n",
       "\n",
       "[94720 rows x 2 columns]"
      ]
     },
     "execution_count": 77,
     "metadata": {},
     "output_type": "execute_result"
    }
   ],
   "source": [
    "#Category per customer uniqe\n",
    "df_category_customer_unique = pd.concat([count_customer_unique],axis=1)\n",
    "df_category_customer_unique"
   ]
  },
  {
   "cell_type": "raw",
   "id": "175d5d1a-eb3f-4db3-bf93-b506a6bbbf5f",
   "metadata": {},
   "source": [
    "2. Create a grouping table that calculates average item weight and standard deviation of item weight"
   ]
  },
  {
   "cell_type": "code",
   "execution_count": 78,
   "id": "6325eee4-752d-4a7b-b58e-f5efdb5958dc",
   "metadata": {
    "tags": []
   },
   "outputs": [
    {
     "data": {
      "text/plain": [
       "2110.7630616576735"
      ]
     },
     "execution_count": 78,
     "metadata": {},
     "output_type": "execute_result"
    }
   ],
   "source": [
    "#Mean product weight\n",
    "mean_product_weight_g = df_olist['product_weight_g'].mean()\n",
    "mean_product_weight_g"
   ]
  },
  {
   "cell_type": "code",
   "execution_count": 79,
   "id": "91e2f3e5-2f37-4fd3-a623-8f6c1ba03c3e",
   "metadata": {
    "tags": []
   },
   "outputs": [
    {
     "name": "stdout",
     "output_type": "stream",
     "text": [
      "3785.112797662112\n"
     ]
    }
   ],
   "source": [
    "#Standard deviation\n",
    "df_standard_deviation = print(np.std(df_olist['product_weight_g']))\n",
    "df_standard_deviation"
   ]
  },
  {
   "cell_type": "raw",
   "id": "3b53a3ed-2526-4dde-9a11-efb450617538",
   "metadata": {},
   "source": [
    "3. Create a grouping table that calculates the most frequent order times by month and day, and its time (morning, evening, or night)"
   ]
  },
  {
   "cell_type": "code",
   "execution_count": 82,
   "id": "647a5c67-11c1-44fd-8cfa-2cd37d5368e9",
   "metadata": {
    "tags": []
   },
   "outputs": [
    {
     "data": {
      "text/plain": [
       "month\n",
       "1      9534\n",
       "2     10002\n",
       "3     11692\n",
       "4     11043\n",
       "5     12585\n",
       "6     11149\n",
       "7     12148\n",
       "8     12597\n",
       "9      5100\n",
       "10     5943\n",
       "11     9014\n",
       "12     6522\n",
       "Name: order_id, dtype: int64"
      ]
     },
     "execution_count": 82,
     "metadata": {},
     "output_type": "execute_result"
    }
   ],
   "source": [
    "#Calculation order based on month\n",
    "df_order_month = df_olist.groupby('month')['order_id'].count()\n",
    "df_order_month"
   ]
  },
  {
   "cell_type": "code",
   "execution_count": 83,
   "id": "7e1c4d02-5cc9-49c4-9504-0c330e893a86",
   "metadata": {
    "tags": []
   },
   "outputs": [
    {
     "data": {
      "text/plain": [
       "day\n",
       "1     3662\n",
       "2     3800\n",
       "3     3770\n",
       "4     4000\n",
       "5     4104\n",
       "6     4062\n",
       "7     3965\n",
       "8     3957\n",
       "9     3815\n",
       "10    3679\n",
       "11    3854\n",
       "12    3797\n",
       "13    3875\n",
       "14    3933\n",
       "15    4136\n",
       "16    4253\n",
       "17    3771\n",
       "18    4067\n",
       "19    4010\n",
       "20    3888\n",
       "21    3626\n",
       "22    3822\n",
       "23    3745\n",
       "24    4559\n",
       "25    3931\n",
       "26    3960\n",
       "27    3776\n",
       "28    3525\n",
       "29    3059\n",
       "30    2968\n",
       "31    1960\n",
       "Name: order_id, dtype: int64"
      ]
     },
     "execution_count": 83,
     "metadata": {},
     "output_type": "execute_result"
    }
   ],
   "source": [
    "#Calculation order based on day\n",
    "df_order_day= df_olist.groupby('day')['order_id'].count()\n",
    "df_order_day"
   ]
  },
  {
   "cell_type": "code",
   "execution_count": 84,
   "id": "cf0709a9-d644-486d-970d-207ff62965bc",
   "metadata": {
    "tags": []
   },
   "outputs": [
    {
     "data": {
      "text/plain": [
       "hour\n",
       "0     2882\n",
       "1     1333\n",
       "2      605\n",
       "3      316\n",
       "4      254\n",
       "5      224\n",
       "6      569\n",
       "7     1416\n",
       "8     3507\n",
       "9     5613\n",
       "10    7318\n",
       "11    7757\n",
       "12    7165\n",
       "13    7674\n",
       "14    7894\n",
       "15    7592\n",
       "16    7954\n",
       "17    7249\n",
       "18    6848\n",
       "19    6949\n",
       "20    7206\n",
       "21    7225\n",
       "22    6917\n",
       "23    4862\n",
       "Name: order_id, dtype: int64"
      ]
     },
     "execution_count": 84,
     "metadata": {},
     "output_type": "execute_result"
    }
   ],
   "source": [
    "#Calculation order based on hour\n",
    "df_order_hour = df_olist.groupby('hour')['order_id'].count()\n",
    "df_order_hour"
   ]
  },
  {
   "cell_type": "code",
   "execution_count": 81,
   "id": "55599d60-e668-4ac6-b6ac-37d30bf3de0d",
   "metadata": {
    "tags": []
   },
   "outputs": [
    {
     "data": {
      "image/png": "[encoded data removed]",
      "text/plain": [
       "<Figure size 1000x500 with 6 Axes>"
      ]
     },
     "metadata": {},
     "output_type": "display_data"
    }
   ],
   "source": [
    "#Visualization calculation order based on month, day, and hour\n",
    "\n",
    "fig,ax_subplot = plt.subplots(2,3,figsize=(10,5))\n",
    "\n",
    "df_order_month.plot(x='month',y='order_id',kind='bar',ax=ax_subplot[0,0])\n",
    "df_order_day.plot(x='day',y='order_id',kind='line',ax=ax_subplot[0,1])\n",
    "df_order_hour.plot(x='hour',y='order_id',kind='line',ax=ax_subplot[0,2])\n",
    "\n",
    "#MAdd description\n",
    "ax_subplot[0,0].set_title('Calculation order based on month')\n",
    "ax_subplot[0,1].set_title('Calculation order based on day')\n",
    "ax_subplot[0,2].set_title('Calculation order based on hour')\n",
    "\n",
    "#Agar tidak saling menempel teksnya\n",
    "plt.tight_layout()"
   ]
  },
  {
   "cell_type": "raw",
   "id": "45a26568-beb0-48e3-addc-be2d67cd23ed",
   "metadata": {},
   "source": [
    "Conclusion / month\n",
    "-Order tertinggi terjadi pada bulan Agustus\n",
    "-Dari bulan Januari hingga Agustus pertumbuhan jumlah order rata-rata semakin naik, namun di bulan September hingga Desember jumlah order menurun drastis bahkan bisa menurun >50%\n",
    "\n",
    "Conclusion /day\n",
    "-Order terbanyak ada di tanggal 24\n",
    "-Setiap harinya dari tanggal 1-29 jumlah order produk hampir sama yakni di akngka 2000an atau 3000an, namun pada akhir bulan yakni tanggal 30 dan 31 terjadi penurunan jumlah order hingga angka 1000an.\n",
    "\n",
    "Conclusion hour\n",
    "Customer melakukan order produk rata-rata di jam 09.00 - 23.00"
   ]
  },
  {
   "cell_type": "raw",
   "id": "75a3fcd0-e019-4487-8a1f-2c0664e2d4dc",
   "metadata": {},
   "source": [
    "4. Create a grouping table that calculates the average total order value per order and classifies the average order price for each customer with the assumption that prices above 2500 are called expensive, prices between 1000 - 2500 are called normal, prices below 1000 are called cheap"
   ]
  },
  {
   "cell_type": "code",
   "execution_count": 85,
   "id": "2f50498e-4d86-43f2-a931-2d42dbdde738",
   "metadata": {
    "tags": []
   },
   "outputs": [
    {
     "data": {
      "text/html": [
       "<div>\n",
       "<style scoped>\n",
       "    .dataframe tbody tr th:only-of-type {\n",
       "        vertical-align: middle;\n",
       "    }\n",
       "\n",
       "    .dataframe tbody tr th {\n",
       "        vertical-align: top;\n",
       "    }\n",
       "\n",
       "    .dataframe thead th {\n",
       "        text-align: right;\n",
       "    }\n",
       "</style>\n",
       "<table border=\"1\" class=\"dataframe\">\n",
       "  <thead>\n",
       "    <tr style=\"text-align: right;\">\n",
       "      <th></th>\n",
       "      <th>total_order_value</th>\n",
       "    </tr>\n",
       "    <tr>\n",
       "      <th>customer_id</th>\n",
       "      <th></th>\n",
       "    </tr>\n",
       "  </thead>\n",
       "  <tbody>\n",
       "    <tr>\n",
       "      <th>00012a2ce6f8dcda20d059ce98491703</th>\n",
       "      <td>114.74</td>\n",
       "    </tr>\n",
       "    <tr>\n",
       "      <th>000161a058600d5901f007fab4c27140</th>\n",
       "      <td>67.41</td>\n",
       "    </tr>\n",
       "    <tr>\n",
       "      <th>0001fd6190edaaf884bcaf3d49edf079</th>\n",
       "      <td>195.42</td>\n",
       "    </tr>\n",
       "    <tr>\n",
       "      <th>0002414f95344307404f0ace7a26f1d5</th>\n",
       "      <td>179.35</td>\n",
       "    </tr>\n",
       "    <tr>\n",
       "      <th>000379cdec625522490c315e70c7a9fb</th>\n",
       "      <td>107.01</td>\n",
       "    </tr>\n",
       "    <tr>\n",
       "      <th>...</th>\n",
       "      <td>...</td>\n",
       "    </tr>\n",
       "    <tr>\n",
       "      <th>fffcb937e9dd47a13f05ecb8290f4d3e</th>\n",
       "      <td>91.91</td>\n",
       "    </tr>\n",
       "    <tr>\n",
       "      <th>fffecc9f79fd8c764f843e9951b11341</th>\n",
       "      <td>244.08</td>\n",
       "    </tr>\n",
       "    <tr>\n",
       "      <th>fffeda5b6d849fbd39689bb92087f431</th>\n",
       "      <td>63.13</td>\n",
       "    </tr>\n",
       "    <tr>\n",
       "      <th>ffff42319e9b2d713724ae527742af25</th>\n",
       "      <td>214.13</td>\n",
       "    </tr>\n",
       "    <tr>\n",
       "      <th>ffffa3172527f765de70084a7e53aae8</th>\n",
       "      <td>68.25</td>\n",
       "    </tr>\n",
       "  </tbody>\n",
       "</table>\n",
       "<p>97916 rows × 1 columns</p>\n",
       "</div>"
      ],
      "text/plain": [
       "                                  total_order_value\n",
       "customer_id                                        \n",
       "00012a2ce6f8dcda20d059ce98491703             114.74\n",
       "000161a058600d5901f007fab4c27140              67.41\n",
       "0001fd6190edaaf884bcaf3d49edf079             195.42\n",
       "0002414f95344307404f0ace7a26f1d5             179.35\n",
       "000379cdec625522490c315e70c7a9fb             107.01\n",
       "...                                             ...\n",
       "fffcb937e9dd47a13f05ecb8290f4d3e              91.91\n",
       "fffecc9f79fd8c764f843e9951b11341             244.08\n",
       "fffeda5b6d849fbd39689bb92087f431              63.13\n",
       "ffff42319e9b2d713724ae527742af25             214.13\n",
       "ffffa3172527f765de70084a7e53aae8              68.25\n",
       "\n",
       "[97916 rows x 1 columns]"
      ]
     },
     "execution_count": 85,
     "metadata": {},
     "output_type": "execute_result"
    }
   ],
   "source": [
    "#Total order value each customers\n",
    "df_volume_price = df_olist.groupby('customer_id').agg({'total_order_value':'sum'})\n",
    "df_volume_price"
   ]
  },
  {
   "cell_type": "code",
   "execution_count": 86,
   "id": "5c560d68-e888-4203-bd29-df43e3725adb",
   "metadata": {
    "tags": []
   },
   "outputs": [
    {
     "data": {
      "text/plain": [
       "cheap        96010\n",
       "normal        1607\n",
       "expensive      299\n",
       "Name: V_score, dtype: int64"
      ]
     },
     "execution_count": 86,
     "metadata": {},
     "output_type": "execute_result"
    }
   ],
   "source": [
    "#Total order value all customers per category\n",
    "df_volume_price['V_score'] = pd.cut(df_volume_price['total_order_value'],bins=[0,1000,2500,np.Inf],labels=['cheap','normal','expensive'],right=True)\n",
    "df_volume_price['V_score'].value_counts()"
   ]
  },
  {
   "cell_type": "code",
   "execution_count": 87,
   "id": "8c569d1f-e5c0-4c54-b8e5-f3f12e9ea5f6",
   "metadata": {
    "tags": []
   },
   "outputs": [
    {
     "data": {
      "text/html": [
       "<div>\n",
       "<style scoped>\n",
       "    .dataframe tbody tr th:only-of-type {\n",
       "        vertical-align: middle;\n",
       "    }\n",
       "\n",
       "    .dataframe tbody tr th {\n",
       "        vertical-align: top;\n",
       "    }\n",
       "\n",
       "    .dataframe thead tr th {\n",
       "        text-align: left;\n",
       "    }\n",
       "\n",
       "    .dataframe thead tr:last-of-type th {\n",
       "        text-align: right;\n",
       "    }\n",
       "</style>\n",
       "<table border=\"1\" class=\"dataframe\">\n",
       "  <thead>\n",
       "    <tr>\n",
       "      <th></th>\n",
       "      <th colspan=\"5\" halign=\"left\">total_order_value</th>\n",
       "    </tr>\n",
       "    <tr>\n",
       "      <th></th>\n",
       "      <th>min</th>\n",
       "      <th>max</th>\n",
       "      <th>mean</th>\n",
       "      <th>median</th>\n",
       "      <th>count</th>\n",
       "    </tr>\n",
       "    <tr>\n",
       "      <th>V_score</th>\n",
       "      <th></th>\n",
       "      <th></th>\n",
       "      <th></th>\n",
       "      <th></th>\n",
       "      <th></th>\n",
       "    </tr>\n",
       "  </thead>\n",
       "  <tbody>\n",
       "    <tr>\n",
       "      <th>cheap</th>\n",
       "      <td>10.07</td>\n",
       "      <td>998.58</td>\n",
       "      <td>156.317935</td>\n",
       "      <td>108.625</td>\n",
       "      <td>96010</td>\n",
       "    </tr>\n",
       "    <tr>\n",
       "      <th>normal</th>\n",
       "      <td>1000.08</td>\n",
       "      <td>2499.20</td>\n",
       "      <td>1464.344026</td>\n",
       "      <td>1351.480</td>\n",
       "      <td>1607</td>\n",
       "    </tr>\n",
       "    <tr>\n",
       "      <th>expensive</th>\n",
       "      <td>2501.62</td>\n",
       "      <td>61488.36</td>\n",
       "      <td>4669.022308</td>\n",
       "      <td>3495.800</td>\n",
       "      <td>299</td>\n",
       "    </tr>\n",
       "  </tbody>\n",
       "</table>\n",
       "</div>"
      ],
      "text/plain": [
       "          total_order_value                                        \n",
       "                        min       max         mean    median  count\n",
       "V_score                                                            \n",
       "cheap                 10.07    998.58   156.317935   108.625  96010\n",
       "normal              1000.08   2499.20  1464.344026  1351.480   1607\n",
       "expensive           2501.62  61488.36  4669.022308  3495.800    299"
      ]
     },
     "execution_count": 87,
     "metadata": {},
     "output_type": "execute_result"
    }
   ],
   "source": [
    "#Minimum and maximum order per category\n",
    "df_volume_price.groupby('V_score').agg({'total_order_value':['min','max','mean','median','count']})"
   ]
  },
  {
   "cell_type": "code",
   "execution_count": 88,
   "id": "e8e51e2c-532d-4f09-9d4b-67c87ad0686d",
   "metadata": {
    "tags": []
   },
   "outputs": [
    {
     "data": {
      "text/html": [
       "<div>\n",
       "<style scoped>\n",
       "    .dataframe tbody tr th:only-of-type {\n",
       "        vertical-align: middle;\n",
       "    }\n",
       "\n",
       "    .dataframe tbody tr th {\n",
       "        vertical-align: top;\n",
       "    }\n",
       "\n",
       "    .dataframe thead th {\n",
       "        text-align: right;\n",
       "    }\n",
       "</style>\n",
       "<table border=\"1\" class=\"dataframe\">\n",
       "  <thead>\n",
       "    <tr style=\"text-align: right;\">\n",
       "      <th></th>\n",
       "      <th>V_score</th>\n",
       "    </tr>\n",
       "    <tr>\n",
       "      <th>customer_id</th>\n",
       "      <th></th>\n",
       "    </tr>\n",
       "  </thead>\n",
       "  <tbody>\n",
       "    <tr>\n",
       "      <th>00012a2ce6f8dcda20d059ce98491703</th>\n",
       "      <td>cheap</td>\n",
       "    </tr>\n",
       "    <tr>\n",
       "      <th>000161a058600d5901f007fab4c27140</th>\n",
       "      <td>cheap</td>\n",
       "    </tr>\n",
       "    <tr>\n",
       "      <th>0001fd6190edaaf884bcaf3d49edf079</th>\n",
       "      <td>cheap</td>\n",
       "    </tr>\n",
       "    <tr>\n",
       "      <th>0002414f95344307404f0ace7a26f1d5</th>\n",
       "      <td>cheap</td>\n",
       "    </tr>\n",
       "    <tr>\n",
       "      <th>000379cdec625522490c315e70c7a9fb</th>\n",
       "      <td>cheap</td>\n",
       "    </tr>\n",
       "    <tr>\n",
       "      <th>...</th>\n",
       "      <td>...</td>\n",
       "    </tr>\n",
       "    <tr>\n",
       "      <th>fffcb937e9dd47a13f05ecb8290f4d3e</th>\n",
       "      <td>cheap</td>\n",
       "    </tr>\n",
       "    <tr>\n",
       "      <th>fffecc9f79fd8c764f843e9951b11341</th>\n",
       "      <td>cheap</td>\n",
       "    </tr>\n",
       "    <tr>\n",
       "      <th>fffeda5b6d849fbd39689bb92087f431</th>\n",
       "      <td>cheap</td>\n",
       "    </tr>\n",
       "    <tr>\n",
       "      <th>ffff42319e9b2d713724ae527742af25</th>\n",
       "      <td>cheap</td>\n",
       "    </tr>\n",
       "    <tr>\n",
       "      <th>ffffa3172527f765de70084a7e53aae8</th>\n",
       "      <td>cheap</td>\n",
       "    </tr>\n",
       "  </tbody>\n",
       "</table>\n",
       "<p>97916 rows × 1 columns</p>\n",
       "</div>"
      ],
      "text/plain": [
       "                                 V_score\n",
       "customer_id                             \n",
       "00012a2ce6f8dcda20d059ce98491703   cheap\n",
       "000161a058600d5901f007fab4c27140   cheap\n",
       "0001fd6190edaaf884bcaf3d49edf079   cheap\n",
       "0002414f95344307404f0ace7a26f1d5   cheap\n",
       "000379cdec625522490c315e70c7a9fb   cheap\n",
       "...                                  ...\n",
       "fffcb937e9dd47a13f05ecb8290f4d3e   cheap\n",
       "fffecc9f79fd8c764f843e9951b11341   cheap\n",
       "fffeda5b6d849fbd39689bb92087f431   cheap\n",
       "ffff42319e9b2d713724ae527742af25   cheap\n",
       "ffffa3172527f765de70084a7e53aae8   cheap\n",
       "\n",
       "[97916 rows x 1 columns]"
      ]
     },
     "execution_count": 88,
     "metadata": {},
     "output_type": "execute_result"
    }
   ],
   "source": [
    "#Category each customers \n",
    "score_customer = pd.concat([df_volume_price['V_score']],axis=1)\n",
    "score_customer"
   ]
  },
  {
   "cell_type": "raw",
   "id": "270395d7-0493-4a5c-80d7-50a633b0efd8",
   "metadata": {},
   "source": [
    "5. Create a grouping table that calculates the most popular payment methods and the preference of each customer's product category"
   ]
  },
  {
   "cell_type": "code",
   "execution_count": 95,
   "id": "b391bddd-e61f-4611-ba65-4976d5d1e483",
   "metadata": {
    "tags": []
   },
   "outputs": [
    {
     "data": {
      "text/plain": [
       "credit_card    86520\n",
       "boleto         22835\n",
       "voucher         6282\n",
       "debit_card      1692\n",
       "Name: payment_type, dtype: int64"
      ]
     },
     "execution_count": 95,
     "metadata": {},
     "output_type": "execute_result"
    }
   ],
   "source": [
    "#Total payment popular methods\n",
    "populer_payment = df_olist.payment_type.value_counts()\n",
    "populer_payment"
   ]
  },
  {
   "cell_type": "code",
   "execution_count": 112,
   "id": "f9d5efa0-327c-43d2-9adf-13bd4ed3dad4",
   "metadata": {
    "tags": []
   },
   "outputs": [
    {
     "data": {
      "text/plain": [
       "credit_card    0.74\n",
       "boleto         0.19\n",
       "voucher        0.05\n",
       "debit_card     0.01\n",
       "Name: payment_type, dtype: float64"
      ]
     },
     "execution_count": 112,
     "metadata": {},
     "output_type": "execute_result"
    }
   ],
   "source": [
    "#Count percentage review score customer\n",
    "count_percentage_populer_payment = df_olist['payment_type'].value_counts(normalize=True).round(2)\n",
    "count_percentage_populer_payment"
   ]
  },
  {
   "cell_type": "code",
   "execution_count": 93,
   "id": "5f4a7714-59f4-49ff-8c76-50746968cf88",
   "metadata": {
    "tags": []
   },
   "outputs": [
    {
     "data": {
      "text/plain": [
       "cama_mesa_banho           11847\n",
       "beleza_saude               9944\n",
       "esporte_lazer              8942\n",
       "moveis_decoracao           8743\n",
       "informatica_acessorios     8105\n",
       "Name: product_category_name, dtype: int64"
      ]
     },
     "execution_count": 93,
     "metadata": {},
     "output_type": "execute_result"
    }
   ],
   "source": [
    "#Total product category most top 5\n",
    "total_product_category = df_olist[\"product_category_name\"].value_counts().sort_values(ascending=False).nlargest(5)\n",
    "total_product_category"
   ]
  },
  {
   "cell_type": "code",
   "execution_count": 92,
   "id": "fb84d266-5b0d-4918-ad68-b876cf78c951",
   "metadata": {
    "tags": []
   },
   "outputs": [
    {
     "data": {
      "text/plain": [
       "seguros_e_servicos                                   2\n",
       "fashion_roupa_infanto_juvenil                        8\n",
       "pc_gamer                                            10\n",
       "cds_dvds_musicais                                   14\n",
       "portateis_cozinha_e_preparadores_de_alimentos       15\n",
       "                                                 ...  \n",
       "informatica_acessorios                            8105\n",
       "moveis_decoracao                                  8743\n",
       "esporte_lazer                                     8942\n",
       "beleza_saude                                      9944\n",
       "cama_mesa_banho                                  11847\n",
       "Name: product_category_name, Length: 73, dtype: int64"
      ]
     },
     "execution_count": 92,
     "metadata": {},
     "output_type": "execute_result"
    }
   ],
   "source": [
    "#Total product category lowest\n",
    "total_product_category = df_olist[\"product_category_name\"].value_counts().sort_values(ascending=True)\n",
    "total_product_category"
   ]
  },
  {
   "cell_type": "code",
   "execution_count": 96,
   "id": "1e40ae78-9d53-4d47-a7c0-e9c53d9f0e3b",
   "metadata": {
    "tags": []
   },
   "outputs": [
    {
     "data": {
      "text/plain": [
       "customer_id                       product_category_name \n",
       "270c23a11d024a44c896d1894b261a83  cama_mesa_banho           42\n",
       "13aa59158da63ba0e93ec6ac2c07aacb  moveis_escritorio         38\n",
       "9af2372a1e49340278e7c1ef8d749f34  ferramentas_jardim        29\n",
       "92cd3ec6e2d643d4ebd0e3d6238f69e2  cama_mesa_banho           26\n",
       "2ba91e12e5e4c9f56b82b86d9031d329  perfumaria                24\n",
       "                                                            ..\n",
       "5b3b4e44b50bdde1b3454ac5d970205a  livros_interesse_geral     1\n",
       "5b3b036e81719243b67c993b4fc7ef37  alimentos                  1\n",
       "5b39c82ffd108c049f679ceed482f7e2  moveis_decoracao           1\n",
       "                                  cama_mesa_banho            1\n",
       "7ff9db4f2c30ad9517c3540905c3203f  papelaria                  1\n",
       "Name: product_category_name, Length: 97275, dtype: int64"
      ]
     },
     "execution_count": 96,
     "metadata": {},
     "output_type": "execute_result"
    }
   ],
   "source": [
    "#Preference of each customers product category\n",
    "df_preference_product = df_olist.groupby([\"customer_id\", \"product_category_name\"])[\"product_category_name\"].count().sort_values(ascending=False)\n",
    "df_preference_product"
   ]
  },
  {
   "cell_type": "raw",
   "id": "bd4ac284-2cfb-4321-a406-89d5b66eb99a",
   "metadata": {},
   "source": [
    "6. What are the most ordered categories each year and how are the categories developing each year?"
   ]
  },
  {
   "cell_type": "code",
   "execution_count": 97,
   "id": "03cdcfc3-2517-4ac7-905c-b0d23e54dbcc",
   "metadata": {
    "tags": []
   },
   "outputs": [],
   "source": [
    "# 1. most category product 2016\n",
    "df_most_category_2016 = df_olist[df_olist['year']==2016]\n",
    "df_most_category_2016 = df_most_category_2016.groupby('product_category_name')['customer_id'].count().sort_values(ascending=False).nlargest(5)\n",
    "\n",
    "# 2. most category product 2017\n",
    "df_most_category_2017 = df_olist[df_olist['year']==2017]\n",
    "df_most_category_2017 = df_most_category_2017.groupby('product_category_name')['customer_id'].count().sort_values(ascending=False).nlargest(5)\n",
    "\n",
    "# 3. most category product  2018\n",
    "df_most_category_2018 = df_olist[df_olist['year']==2018]\n",
    "df_most_category_2018 = df_most_category_2018.groupby('product_category_name')['customer_id'].count().sort_values(ascending=False).nlargest(5)"
   ]
  },
  {
   "cell_type": "code",
   "execution_count": 98,
   "id": "73b51cae-0aae-44f9-9aee-320aa7fcd711",
   "metadata": {
    "tags": []
   },
   "outputs": [
    {
     "data": {
      "image/png": "[encoded data removed]",
      "text/plain": [
       "<Figure size 1000x500 with 6 Axes>"
      ]
     },
     "metadata": {},
     "output_type": "display_data"
    }
   ],
   "source": [
    "#Visualization  most category product 2016, 2017, and 2018\n",
    "\n",
    "fig,ax_subplot = plt.subplots(2,3,figsize=(10,5))\n",
    "\n",
    "df_most_category_2016.plot(x='product_category_name',y='customer_id',kind='bar',ax=ax_subplot[0,0])\n",
    "df_most_category_2017.plot(x='product_category_name',y='customer_id',kind='bar',ax=ax_subplot[0,1])\n",
    "df_most_category_2018.plot(x='product_category_name',y='customer_id',kind='bar',ax=ax_subplot[0,2])\n",
    "#df_top_cagar_alam.plot(x='city',y='user_id',kind='bar',ax=ax_subplot[1,1])\n",
    "#df_top_tempat_ibadah.plot(x='city',y='user_id',kind='bar',ax=ax_subplot[1,2])\n",
    "\n",
    "#MAdd description\n",
    "ax_subplot[0,0].set_title('Most Category Product 2016')\n",
    "ax_subplot[0,1].set_title('Most Category Product 2017')\n",
    "ax_subplot[0,2].set_title('Most Category Product 2018')\n",
    "\n",
    "#Agar tidak saling menempel teksnya\n",
    "plt.tight_layout()"
   ]
  },
  {
   "cell_type": "markdown",
   "id": "e573aa3e-b0f9-403d-a141-ac0b4564a6d5",
   "metadata": {},
   "source": [
    "# STEP 8: Review Customer"
   ]
  },
  {
   "cell_type": "raw",
   "id": "289c0229-3b2b-4963-a1e2-c79c59cd1d6a",
   "metadata": {},
   "source": [
    "1. What is the average review score for each customer and create a column for the satisfaction level of each customer assuming a score of 4 & 5 is satisfied, otherwise not satisfied"
   ]
  },
  {
   "cell_type": "code",
   "execution_count": 99,
   "id": "97606293-3bef-45f6-b365-6b83154bdd2a",
   "metadata": {
    "tags": []
   },
   "outputs": [
    {
     "data": {
      "text/plain": [
       "4.0"
      ]
     },
     "execution_count": 99,
     "metadata": {},
     "output_type": "execute_result"
    }
   ],
   "source": [
    "#Average all customer review score\n",
    "average_total_review_score = df_olist[\"review_score\"].mean().round(1)\n",
    "average_total_review_score"
   ]
  },
  {
   "cell_type": "code",
   "execution_count": 100,
   "id": "edff6d03-b20b-4331-99f1-881ee60dfd3e",
   "metadata": {
    "tags": []
   },
   "outputs": [
    {
     "data": {
      "text/html": [
       "<div>\n",
       "<style scoped>\n",
       "    .dataframe tbody tr th:only-of-type {\n",
       "        vertical-align: middle;\n",
       "    }\n",
       "\n",
       "    .dataframe tbody tr th {\n",
       "        vertical-align: top;\n",
       "    }\n",
       "\n",
       "    .dataframe thead th {\n",
       "        text-align: right;\n",
       "    }\n",
       "</style>\n",
       "<table border=\"1\" class=\"dataframe\">\n",
       "  <thead>\n",
       "    <tr style=\"text-align: right;\">\n",
       "      <th></th>\n",
       "      <th>category</th>\n",
       "      <th>category</th>\n",
       "    </tr>\n",
       "  </thead>\n",
       "  <tbody>\n",
       "    <tr>\n",
       "      <th>puas</th>\n",
       "      <td>88550</td>\n",
       "      <td>0.754715</td>\n",
       "    </tr>\n",
       "    <tr>\n",
       "      <th>tidak_puas</th>\n",
       "      <td>28779</td>\n",
       "      <td>0.245285</td>\n",
       "    </tr>\n",
       "  </tbody>\n",
       "</table>\n",
       "</div>"
      ],
      "text/plain": [
       "            category  category\n",
       "puas           88550  0.754715\n",
       "tidak_puas     28779  0.245285"
      ]
     },
     "execution_count": 100,
     "metadata": {},
     "output_type": "execute_result"
    }
   ],
   "source": [
    "#Count number review score customer\n",
    "df_olist.loc[df_olist['review_score'] < 4, 'category'] = 'tidak_puas'\n",
    "df_olist.loc[df_olist['review_score'] >= 4, 'category'] = 'puas'\n",
    "count_review_score_customer = df_olist['category'].value_counts()\n",
    "\n",
    "#Count percentage review score customer\n",
    "count_percentage_review_score = df_olist['category'].value_counts(normalize=True)\n",
    "\n",
    "review_score = pd.concat([count_review_score_customer,count_percentage_review_score],axis=1)\n",
    "review_score"
   ]
  },
  {
   "cell_type": "raw",
   "id": "12b9c480-e1f3-4d63-b75c-813ec6c2ef69",
   "metadata": {},
   "source": [
    "2. Select a customer who fills in the title and message review, then create a table to calculate the total reviews for each customer and combine it with the total order table to find information on the review ratio per transaction for each customer"
   ]
  },
  {
   "cell_type": "code",
   "execution_count": 101,
   "id": "6a563530-6b56-432e-9bb0-4cb65a925a82",
   "metadata": {
    "tags": []
   },
   "outputs": [
    {
     "name": "stderr",
     "output_type": "stream",
     "text": [
      "C:\\Users\\User\\AppData\\Local\\Temp\\ipykernel_3768\\4030352658.py:2: FutureWarning: Indexing with multiple keys (implicitly converted to a tuple of keys) will be deprecated, use a list instead.\n",
      "  df_fills_review_title_message = df_olist.groupby('customer_id')['review_comment_title','review_comment_message'].count()\n"
     ]
    },
    {
     "data": {
      "text/html": [
       "<div>\n",
       "<style scoped>\n",
       "    .dataframe tbody tr th:only-of-type {\n",
       "        vertical-align: middle;\n",
       "    }\n",
       "\n",
       "    .dataframe tbody tr th {\n",
       "        vertical-align: top;\n",
       "    }\n",
       "\n",
       "    .dataframe thead th {\n",
       "        text-align: right;\n",
       "    }\n",
       "</style>\n",
       "<table border=\"1\" class=\"dataframe\">\n",
       "  <thead>\n",
       "    <tr style=\"text-align: right;\">\n",
       "      <th></th>\n",
       "      <th>review_comment_title</th>\n",
       "      <th>review_comment_message</th>\n",
       "    </tr>\n",
       "    <tr>\n",
       "      <th>customer_id</th>\n",
       "      <th></th>\n",
       "      <th></th>\n",
       "    </tr>\n",
       "  </thead>\n",
       "  <tbody>\n",
       "    <tr>\n",
       "      <th>00012a2ce6f8dcda20d059ce98491703</th>\n",
       "      <td>0</td>\n",
       "      <td>1</td>\n",
       "    </tr>\n",
       "    <tr>\n",
       "      <th>000161a058600d5901f007fab4c27140</th>\n",
       "      <td>0</td>\n",
       "      <td>0</td>\n",
       "    </tr>\n",
       "    <tr>\n",
       "      <th>0001fd6190edaaf884bcaf3d49edf079</th>\n",
       "      <td>0</td>\n",
       "      <td>1</td>\n",
       "    </tr>\n",
       "    <tr>\n",
       "      <th>0002414f95344307404f0ace7a26f1d5</th>\n",
       "      <td>0</td>\n",
       "      <td>0</td>\n",
       "    </tr>\n",
       "    <tr>\n",
       "      <th>000379cdec625522490c315e70c7a9fb</th>\n",
       "      <td>0</td>\n",
       "      <td>0</td>\n",
       "    </tr>\n",
       "    <tr>\n",
       "      <th>...</th>\n",
       "      <td>...</td>\n",
       "      <td>...</td>\n",
       "    </tr>\n",
       "    <tr>\n",
       "      <th>fffcb937e9dd47a13f05ecb8290f4d3e</th>\n",
       "      <td>0</td>\n",
       "      <td>1</td>\n",
       "    </tr>\n",
       "    <tr>\n",
       "      <th>fffecc9f79fd8c764f843e9951b11341</th>\n",
       "      <td>0</td>\n",
       "      <td>0</td>\n",
       "    </tr>\n",
       "    <tr>\n",
       "      <th>fffeda5b6d849fbd39689bb92087f431</th>\n",
       "      <td>0</td>\n",
       "      <td>0</td>\n",
       "    </tr>\n",
       "    <tr>\n",
       "      <th>ffff42319e9b2d713724ae527742af25</th>\n",
       "      <td>1</td>\n",
       "      <td>1</td>\n",
       "    </tr>\n",
       "    <tr>\n",
       "      <th>ffffa3172527f765de70084a7e53aae8</th>\n",
       "      <td>0</td>\n",
       "      <td>0</td>\n",
       "    </tr>\n",
       "  </tbody>\n",
       "</table>\n",
       "<p>97916 rows × 2 columns</p>\n",
       "</div>"
      ],
      "text/plain": [
       "                                  review_comment_title  review_comment_message\n",
       "customer_id                                                                   \n",
       "00012a2ce6f8dcda20d059ce98491703                     0                       1\n",
       "000161a058600d5901f007fab4c27140                     0                       0\n",
       "0001fd6190edaaf884bcaf3d49edf079                     0                       1\n",
       "0002414f95344307404f0ace7a26f1d5                     0                       0\n",
       "000379cdec625522490c315e70c7a9fb                     0                       0\n",
       "...                                                ...                     ...\n",
       "fffcb937e9dd47a13f05ecb8290f4d3e                     0                       1\n",
       "fffecc9f79fd8c764f843e9951b11341                     0                       0\n",
       "fffeda5b6d849fbd39689bb92087f431                     0                       0\n",
       "ffff42319e9b2d713724ae527742af25                     1                       1\n",
       "ffffa3172527f765de70084a7e53aae8                     0                       0\n",
       "\n",
       "[97916 rows x 2 columns]"
      ]
     },
     "execution_count": 101,
     "metadata": {},
     "output_type": "execute_result"
    }
   ],
   "source": [
    "#Count customer fill review\n",
    "df_fills_review_title_message = df_olist.groupby('customer_id')['review_comment_title','review_comment_message'].count()\n",
    "df_fills_review_title_message"
   ]
  },
  {
   "cell_type": "code",
   "execution_count": 103,
   "id": "623a44a5-bef3-49d4-811c-2d17b887b5f0",
   "metadata": {
    "tags": []
   },
   "outputs": [
    {
     "data": {
      "text/plain": [
       "customer_id\n",
       "00012a2ce6f8dcda20d059ce98491703    1\n",
       "000161a058600d5901f007fab4c27140    0\n",
       "0001fd6190edaaf884bcaf3d49edf079    1\n",
       "0002414f95344307404f0ace7a26f1d5    0\n",
       "000379cdec625522490c315e70c7a9fb    0\n",
       "                                   ..\n",
       "fffcb937e9dd47a13f05ecb8290f4d3e    1\n",
       "fffecc9f79fd8c764f843e9951b11341    0\n",
       "fffeda5b6d849fbd39689bb92087f431    0\n",
       "ffff42319e9b2d713724ae527742af25    2\n",
       "ffffa3172527f765de70084a7e53aae8    0\n",
       "Length: 97916, dtype: int64"
      ]
     },
     "execution_count": 103,
     "metadata": {},
     "output_type": "execute_result"
    }
   ],
   "source": [
    "#Total customer fill review\n",
    "df_total_review = df_fills_review_title_message['review_comment_title'] + df_fills_review_title_message['review_comment_message']\n",
    "df_total_review"
   ]
  },
  {
   "cell_type": "code",
   "execution_count": 104,
   "id": "7ed43023-d143-4345-9183-40cda69723e6",
   "metadata": {
    "tags": []
   },
   "outputs": [
    {
     "data": {
      "text/html": [
       "<div>\n",
       "<style scoped>\n",
       "    .dataframe tbody tr th:only-of-type {\n",
       "        vertical-align: middle;\n",
       "    }\n",
       "\n",
       "    .dataframe tbody tr th {\n",
       "        vertical-align: top;\n",
       "    }\n",
       "\n",
       "    .dataframe thead th {\n",
       "        text-align: right;\n",
       "    }\n",
       "</style>\n",
       "<table border=\"1\" class=\"dataframe\">\n",
       "  <thead>\n",
       "    <tr style=\"text-align: right;\">\n",
       "      <th></th>\n",
       "      <th>review_comment_title</th>\n",
       "      <th>review_comment_message</th>\n",
       "      <th>total_review</th>\n",
       "    </tr>\n",
       "    <tr>\n",
       "      <th>customer_id</th>\n",
       "      <th></th>\n",
       "      <th></th>\n",
       "      <th></th>\n",
       "    </tr>\n",
       "  </thead>\n",
       "  <tbody>\n",
       "    <tr>\n",
       "      <th>00012a2ce6f8dcda20d059ce98491703</th>\n",
       "      <td>0</td>\n",
       "      <td>1</td>\n",
       "      <td>1</td>\n",
       "    </tr>\n",
       "    <tr>\n",
       "      <th>000161a058600d5901f007fab4c27140</th>\n",
       "      <td>0</td>\n",
       "      <td>0</td>\n",
       "      <td>0</td>\n",
       "    </tr>\n",
       "    <tr>\n",
       "      <th>0001fd6190edaaf884bcaf3d49edf079</th>\n",
       "      <td>0</td>\n",
       "      <td>1</td>\n",
       "      <td>1</td>\n",
       "    </tr>\n",
       "    <tr>\n",
       "      <th>0002414f95344307404f0ace7a26f1d5</th>\n",
       "      <td>0</td>\n",
       "      <td>0</td>\n",
       "      <td>0</td>\n",
       "    </tr>\n",
       "    <tr>\n",
       "      <th>000379cdec625522490c315e70c7a9fb</th>\n",
       "      <td>0</td>\n",
       "      <td>0</td>\n",
       "      <td>0</td>\n",
       "    </tr>\n",
       "    <tr>\n",
       "      <th>...</th>\n",
       "      <td>...</td>\n",
       "      <td>...</td>\n",
       "      <td>...</td>\n",
       "    </tr>\n",
       "    <tr>\n",
       "      <th>fffcb937e9dd47a13f05ecb8290f4d3e</th>\n",
       "      <td>0</td>\n",
       "      <td>1</td>\n",
       "      <td>1</td>\n",
       "    </tr>\n",
       "    <tr>\n",
       "      <th>fffecc9f79fd8c764f843e9951b11341</th>\n",
       "      <td>0</td>\n",
       "      <td>0</td>\n",
       "      <td>0</td>\n",
       "    </tr>\n",
       "    <tr>\n",
       "      <th>fffeda5b6d849fbd39689bb92087f431</th>\n",
       "      <td>0</td>\n",
       "      <td>0</td>\n",
       "      <td>0</td>\n",
       "    </tr>\n",
       "    <tr>\n",
       "      <th>ffff42319e9b2d713724ae527742af25</th>\n",
       "      <td>1</td>\n",
       "      <td>1</td>\n",
       "      <td>2</td>\n",
       "    </tr>\n",
       "    <tr>\n",
       "      <th>ffffa3172527f765de70084a7e53aae8</th>\n",
       "      <td>0</td>\n",
       "      <td>0</td>\n",
       "      <td>0</td>\n",
       "    </tr>\n",
       "  </tbody>\n",
       "</table>\n",
       "<p>97916 rows × 3 columns</p>\n",
       "</div>"
      ],
      "text/plain": [
       "                                  review_comment_title  \\\n",
       "customer_id                                              \n",
       "00012a2ce6f8dcda20d059ce98491703                     0   \n",
       "000161a058600d5901f007fab4c27140                     0   \n",
       "0001fd6190edaaf884bcaf3d49edf079                     0   \n",
       "0002414f95344307404f0ace7a26f1d5                     0   \n",
       "000379cdec625522490c315e70c7a9fb                     0   \n",
       "...                                                ...   \n",
       "fffcb937e9dd47a13f05ecb8290f4d3e                     0   \n",
       "fffecc9f79fd8c764f843e9951b11341                     0   \n",
       "fffeda5b6d849fbd39689bb92087f431                     0   \n",
       "ffff42319e9b2d713724ae527742af25                     1   \n",
       "ffffa3172527f765de70084a7e53aae8                     0   \n",
       "\n",
       "                                  review_comment_message  total_review  \n",
       "customer_id                                                             \n",
       "00012a2ce6f8dcda20d059ce98491703                       1             1  \n",
       "000161a058600d5901f007fab4c27140                       0             0  \n",
       "0001fd6190edaaf884bcaf3d49edf079                       1             1  \n",
       "0002414f95344307404f0ace7a26f1d5                       0             0  \n",
       "000379cdec625522490c315e70c7a9fb                       0             0  \n",
       "...                                                  ...           ...  \n",
       "fffcb937e9dd47a13f05ecb8290f4d3e                       1             1  \n",
       "fffecc9f79fd8c764f843e9951b11341                       0             0  \n",
       "fffeda5b6d849fbd39689bb92087f431                       0             0  \n",
       "ffff42319e9b2d713724ae527742af25                       1             2  \n",
       "ffffa3172527f765de70084a7e53aae8                       0             0  \n",
       "\n",
       "[97916 rows x 3 columns]"
      ]
     },
     "execution_count": 104,
     "metadata": {},
     "output_type": "execute_result"
    }
   ],
   "source": [
    "#Table concat review\n",
    "df_review_customer_comment = pd.concat([df_fills_review_title_message,df_total_review],axis=1)\n",
    "df_review_customer_comment.rename(columns={df_review_customer_comment.columns[2]: 'total_review'},inplace=True)\n",
    "df_review_customer_comment"
   ]
  },
  {
   "cell_type": "code",
   "execution_count": 105,
   "id": "61943183-3281-4204-9fbb-2b3bf564a7c0",
   "metadata": {
    "tags": []
   },
   "outputs": [
    {
     "data": {
      "text/plain": [
       "customer_id\n",
       "00012a2ce6f8dcda20d059ce98491703    1\n",
       "000161a058600d5901f007fab4c27140    1\n",
       "0001fd6190edaaf884bcaf3d49edf079    1\n",
       "0002414f95344307404f0ace7a26f1d5    1\n",
       "000379cdec625522490c315e70c7a9fb    1\n",
       "                                   ..\n",
       "fffcb937e9dd47a13f05ecb8290f4d3e    1\n",
       "fffecc9f79fd8c764f843e9951b11341    3\n",
       "fffeda5b6d849fbd39689bb92087f431    1\n",
       "ffff42319e9b2d713724ae527742af25    1\n",
       "ffffa3172527f765de70084a7e53aae8    2\n",
       "Name: order_id, Length: 97916, dtype: int64"
      ]
     },
     "execution_count": 105,
     "metadata": {},
     "output_type": "execute_result"
    }
   ],
   "source": [
    "#Total order each customers\n",
    "total_order_each_customer = df_olist.groupby('customer_id')['order_id'].count()\n",
    "total_order_each_customer"
   ]
  },
  {
   "cell_type": "code",
   "execution_count": 106,
   "id": "1c53c8eb-cc47-47b8-9402-60870bb7d373",
   "metadata": {
    "tags": []
   },
   "outputs": [
    {
     "data": {
      "text/html": [
       "<div>\n",
       "<style scoped>\n",
       "    .dataframe tbody tr th:only-of-type {\n",
       "        vertical-align: middle;\n",
       "    }\n",
       "\n",
       "    .dataframe tbody tr th {\n",
       "        vertical-align: top;\n",
       "    }\n",
       "\n",
       "    .dataframe thead th {\n",
       "        text-align: right;\n",
       "    }\n",
       "</style>\n",
       "<table border=\"1\" class=\"dataframe\">\n",
       "  <thead>\n",
       "    <tr style=\"text-align: right;\">\n",
       "      <th></th>\n",
       "      <th>review_comment_title</th>\n",
       "      <th>review_comment_message</th>\n",
       "      <th>total_review</th>\n",
       "      <th>total_order</th>\n",
       "    </tr>\n",
       "    <tr>\n",
       "      <th>customer_id</th>\n",
       "      <th></th>\n",
       "      <th></th>\n",
       "      <th></th>\n",
       "      <th></th>\n",
       "    </tr>\n",
       "  </thead>\n",
       "  <tbody>\n",
       "    <tr>\n",
       "      <th>00012a2ce6f8dcda20d059ce98491703</th>\n",
       "      <td>0</td>\n",
       "      <td>1</td>\n",
       "      <td>1</td>\n",
       "      <td>1</td>\n",
       "    </tr>\n",
       "    <tr>\n",
       "      <th>000161a058600d5901f007fab4c27140</th>\n",
       "      <td>0</td>\n",
       "      <td>0</td>\n",
       "      <td>0</td>\n",
       "      <td>1</td>\n",
       "    </tr>\n",
       "    <tr>\n",
       "      <th>0001fd6190edaaf884bcaf3d49edf079</th>\n",
       "      <td>0</td>\n",
       "      <td>1</td>\n",
       "      <td>1</td>\n",
       "      <td>1</td>\n",
       "    </tr>\n",
       "    <tr>\n",
       "      <th>0002414f95344307404f0ace7a26f1d5</th>\n",
       "      <td>0</td>\n",
       "      <td>0</td>\n",
       "      <td>0</td>\n",
       "      <td>1</td>\n",
       "    </tr>\n",
       "    <tr>\n",
       "      <th>000379cdec625522490c315e70c7a9fb</th>\n",
       "      <td>0</td>\n",
       "      <td>0</td>\n",
       "      <td>0</td>\n",
       "      <td>1</td>\n",
       "    </tr>\n",
       "    <tr>\n",
       "      <th>...</th>\n",
       "      <td>...</td>\n",
       "      <td>...</td>\n",
       "      <td>...</td>\n",
       "      <td>...</td>\n",
       "    </tr>\n",
       "    <tr>\n",
       "      <th>fffcb937e9dd47a13f05ecb8290f4d3e</th>\n",
       "      <td>0</td>\n",
       "      <td>1</td>\n",
       "      <td>1</td>\n",
       "      <td>1</td>\n",
       "    </tr>\n",
       "    <tr>\n",
       "      <th>fffecc9f79fd8c764f843e9951b11341</th>\n",
       "      <td>0</td>\n",
       "      <td>0</td>\n",
       "      <td>0</td>\n",
       "      <td>3</td>\n",
       "    </tr>\n",
       "    <tr>\n",
       "      <th>fffeda5b6d849fbd39689bb92087f431</th>\n",
       "      <td>0</td>\n",
       "      <td>0</td>\n",
       "      <td>0</td>\n",
       "      <td>1</td>\n",
       "    </tr>\n",
       "    <tr>\n",
       "      <th>ffff42319e9b2d713724ae527742af25</th>\n",
       "      <td>1</td>\n",
       "      <td>1</td>\n",
       "      <td>2</td>\n",
       "      <td>1</td>\n",
       "    </tr>\n",
       "    <tr>\n",
       "      <th>ffffa3172527f765de70084a7e53aae8</th>\n",
       "      <td>0</td>\n",
       "      <td>0</td>\n",
       "      <td>0</td>\n",
       "      <td>2</td>\n",
       "    </tr>\n",
       "  </tbody>\n",
       "</table>\n",
       "<p>97916 rows × 4 columns</p>\n",
       "</div>"
      ],
      "text/plain": [
       "                                  review_comment_title  \\\n",
       "customer_id                                              \n",
       "00012a2ce6f8dcda20d059ce98491703                     0   \n",
       "000161a058600d5901f007fab4c27140                     0   \n",
       "0001fd6190edaaf884bcaf3d49edf079                     0   \n",
       "0002414f95344307404f0ace7a26f1d5                     0   \n",
       "000379cdec625522490c315e70c7a9fb                     0   \n",
       "...                                                ...   \n",
       "fffcb937e9dd47a13f05ecb8290f4d3e                     0   \n",
       "fffecc9f79fd8c764f843e9951b11341                     0   \n",
       "fffeda5b6d849fbd39689bb92087f431                     0   \n",
       "ffff42319e9b2d713724ae527742af25                     1   \n",
       "ffffa3172527f765de70084a7e53aae8                     0   \n",
       "\n",
       "                                  review_comment_message  total_review  \\\n",
       "customer_id                                                              \n",
       "00012a2ce6f8dcda20d059ce98491703                       1             1   \n",
       "000161a058600d5901f007fab4c27140                       0             0   \n",
       "0001fd6190edaaf884bcaf3d49edf079                       1             1   \n",
       "0002414f95344307404f0ace7a26f1d5                       0             0   \n",
       "000379cdec625522490c315e70c7a9fb                       0             0   \n",
       "...                                                  ...           ...   \n",
       "fffcb937e9dd47a13f05ecb8290f4d3e                       1             1   \n",
       "fffecc9f79fd8c764f843e9951b11341                       0             0   \n",
       "fffeda5b6d849fbd39689bb92087f431                       0             0   \n",
       "ffff42319e9b2d713724ae527742af25                       1             2   \n",
       "ffffa3172527f765de70084a7e53aae8                       0             0   \n",
       "\n",
       "                                  total_order  \n",
       "customer_id                                    \n",
       "00012a2ce6f8dcda20d059ce98491703            1  \n",
       "000161a058600d5901f007fab4c27140            1  \n",
       "0001fd6190edaaf884bcaf3d49edf079            1  \n",
       "0002414f95344307404f0ace7a26f1d5            1  \n",
       "000379cdec625522490c315e70c7a9fb            1  \n",
       "...                                       ...  \n",
       "fffcb937e9dd47a13f05ecb8290f4d3e            1  \n",
       "fffecc9f79fd8c764f843e9951b11341            3  \n",
       "fffeda5b6d849fbd39689bb92087f431            1  \n",
       "ffff42319e9b2d713724ae527742af25            1  \n",
       "ffffa3172527f765de70084a7e53aae8            2  \n",
       "\n",
       "[97916 rows x 4 columns]"
      ]
     },
     "execution_count": 106,
     "metadata": {},
     "output_type": "execute_result"
    }
   ],
   "source": [
    "#Rasio review and order each customers\n",
    "df_rasio = pd.concat([df_review_customer_comment,total_order_each_customer],axis=1)\n",
    "df_rasio.rename(columns={df_rasio.columns[3]: 'total_order'},inplace=True)\n",
    "df_rasio"
   ]
  },
  {
   "cell_type": "markdown",
   "id": "bfd74d6f-6730-43d2-b5b1-752c2af2e6c2",
   "metadata": {},
   "source": [
    "# 9: Time Series Analysis"
   ]
  },
  {
   "cell_type": "raw",
   "id": "49d35dcb-d0fa-457c-a633-27c46880e862",
   "metadata": {},
   "source": [
    "1. Time series analysis is an analysis to see the trend of a phenomenon based on time. Try totaling the sales of each item per day. What are the sales trends? Is there an increase, decrease, or stagnant. What should business do?"
   ]
  },
  {
   "cell_type": "code",
   "execution_count": 107,
   "id": "3c70cb7b-f136-4025-bf2a-c7b1291f067f",
   "metadata": {
    "tags": []
   },
   "outputs": [
    {
     "data": {
      "text/plain": [
       "order_purchase_timestamp\n",
       "2016-09-04 21:15:19    3\n",
       "2016-09-05 00:15:34    1\n",
       "2016-10-02 22:07:52    1\n",
       "2016-10-03 09:44:50    1\n",
       "2016-10-03 16:56:50    1\n",
       "                      ..\n",
       "2018-08-29 14:18:23    3\n",
       "2018-08-29 14:18:28    1\n",
       "2018-08-29 14:52:00    1\n",
       "2018-08-29 15:00:37    1\n",
       "2018-09-03 09:06:57    1\n",
       "Name: order_item_id, Length: 97370, dtype: int64"
      ]
     },
     "execution_count": 107,
     "metadata": {},
     "output_type": "execute_result"
    }
   ],
   "source": [
    "#Totaling the sales of each item per day\n",
    "df_total_sales_item_per_day = df_olist.groupby([\"order_purchase_timestamp\"])[\"order_item_id\"].sum()\n",
    "df_total_sales_item_per_day"
   ]
  },
  {
   "cell_type": "code",
   "execution_count": 108,
   "id": "304b56b4-a678-44d0-a08e-566095359458",
   "metadata": {
    "tags": []
   },
   "outputs": [
    {
     "data": {
      "text/plain": [
       "<Axes: xlabel='order_purchase_timestamp'>"
      ]
     },
     "execution_count": 108,
     "metadata": {},
     "output_type": "execute_result"
    },
    {
     "data": {
      "image/png": "[encoded data removed]",
      "text/plain": [
       "<Figure size 1500x700 with 1 Axes>"
      ]
     },
     "metadata": {},
     "output_type": "display_data"
    }
   ],
   "source": [
    "#Visualization\n",
    "df_total_sales_item_per_day.plot(figsize=(15,7))"
   ]
  },
  {
   "cell_type": "raw",
   "id": "d9242384-af8d-415d-b2cf-05ec67855c53",
   "metadata": {},
   "source": [
    "conclusion :\n",
    "-Pembelian tertinggi terjadi pada bulan Agustus 2017\n",
    "-Dari tahun 2016 ke tahun 2017 pembelian barang mengalami peningkatan\n",
    "-Tahun 2018 awal, pembelian produk tinggi, tetapi menjelang akhir tahun justru mengalami penurunan"
   ]
  },
  {
   "cell_type": "raw",
   "id": "798a4d63-078d-461f-990d-cbcbbb98f9dc",
   "metadata": {},
   "source": [
    "2. Perform a seasonality analysis by looking at the total orders per day from Monday to Sunday."
   ]
  },
  {
   "cell_type": "code",
   "execution_count": 109,
   "id": "8174d571-d386-4adb-abbb-3ecf792afa9b",
   "metadata": {
    "tags": []
   },
   "outputs": [],
   "source": [
    "#Orders per day monday to sunday\n",
    "df_olist['day_name'] = df_olist['order_purchase_timestamp'].dt.day_name()\n",
    "df_day_order = df_olist.groupby('day_name')['order_id'].count().sort_values(ascending=False)"
   ]
  },
  {
   "cell_type": "code",
   "execution_count": 203,
   "id": "c3c07760-84a5-481e-858e-da1de57fdf1e",
   "metadata": {
    "tags": []
   },
   "outputs": [
    {
     "data": {
      "text/plain": [
       "<Axes: xlabel='day_name'>"
      ]
     },
     "execution_count": 203,
     "metadata": {},
     "output_type": "execute_result"
    },
    {
     "data": {
      "image/png": "[encoded data removed]",
      "text/plain": [
       "<Figure size 640x480 with 1 Axes>"
      ]
     },
     "metadata": {},
     "output_type": "display_data"
    }
   ],
   "source": [
    "df_day_order.plot(kind='line')"
   ]
  },
  {
   "cell_type": "markdown",
   "id": "f88e76af-16fc-48cb-adb1-90e4800a2a30",
   "metadata": {},
   "source": [
    "#Conclusion\n",
    "-Pada hari selasa user banyak melakukan pembelian produk\n",
    "-Dan pada hari sabtu sangat sedikit sekali user yang membeli produk (terendah)"
   ]
  }
 ],
 "metadata": {
  "kernelspec": {
   "display_name": "Python 3 (ipykernel)",
   "language": "python",
   "name": "python3"
  },
  "language_info": {
   "codemirror_mode": {
    "name": "ipython",
    "version": 3
   },
   "file_extension": ".py",
   "mimetype": "text/x-python",
   "name": "python",
   "nbconvert_exporter": "python",
   "pygments_lexer": "ipython3",
   "version": "3.11.3"
  }
 },
 "nbformat": 4,
 "nbformat_minor": 5
}
